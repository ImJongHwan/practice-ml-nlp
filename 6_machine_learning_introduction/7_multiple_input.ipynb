{
  "nbformat": 4,
  "nbformat_minor": 0,
  "metadata": {
    "colab": {
      "name": "7_multiple_input.ipynb",
      "provenance": [],
      "authorship_tag": "ABX9TyNcEdzb7C3R0f3YxPpSOUDL",
      "include_colab_link": true
    },
    "kernelspec": {
      "name": "python3",
      "display_name": "Python 3"
    },
    "language_info": {
      "name": "python"
    }
  },
  "cells": [
    {
      "cell_type": "markdown",
      "metadata": {
        "id": "view-in-github",
        "colab_type": "text"
      },
      "source": [
        "<a href=\"https://colab.research.google.com/github/ImJongHwan/practice-ml-nlp/blob/main/6_machine_learning_introduction/7_multiple_input.ipynb\" target=\"_parent\"><img src=\"https://colab.research.google.com/assets/colab-badge.svg\" alt=\"Open In Colab\"/></a>"
      ]
    },
    {
      "cell_type": "markdown",
      "source": [
        "# 다중 입력에 대한 실습"
      ],
      "metadata": {
        "id": "_Lx0t1PSU_Xj"
      }
    },
    {
      "cell_type": "markdown",
      "source": [
        "## 다중 선형 회귀"
      ],
      "metadata": {
        "id": "5Y4eJA5xVDRq"
      }
    },
    {
      "cell_type": "code",
      "execution_count": 1,
      "metadata": {
        "id": "vqiWSwFtU5ZQ"
      },
      "outputs": [],
      "source": [
        "import numpy as np\n",
        "from tensorflow.keras.models import Sequential\n",
        "from tensorflow.keras.layers import Dense\n",
        "from tensorflow.keras import optimizers"
      ]
    },
    {
      "cell_type": "code",
      "source": [
        "# 중간 고사, 기말 고사, 가산점 점수\n",
        "X = np.array([[70,85,11], [71,89,18], [50,80,20], [99,20,10], [50,10,10]]) \n",
        "y = np.array([73, 82 ,72, 57, 34]) # 최종 성적\n",
        "\n",
        "model = Sequential()\n",
        "model.add(Dense(1, input_dim=3, activation='linear'))\n",
        "\n",
        "sgd = optimizers.SGD(lr=0.0001)\n",
        "model.compile(optimizer=sgd, loss='mse', metrics=['mse'])\n",
        "model.fit(X, y, epochs=2000)"
      ],
      "metadata": {
        "id": "IP2pS5QpW6ux"
      },
      "execution_count": null,
      "outputs": []
    },
    {
      "cell_type": "code",
      "source": [
        "print(model.predict(X))"
      ],
      "metadata": {
        "colab": {
          "base_uri": "https://localhost:8080/"
        },
        "id": "as0cbkw2W95v",
        "outputId": "91b907e6-a098-4656-e8cb-5242d39b03ac"
      },
      "execution_count": 4,
      "outputs": [
        {
          "output_type": "stream",
          "name": "stdout",
          "text": [
            "[[72.94584 ]\n",
            " [81.97156 ]\n",
            " [72.08531 ]\n",
            " [57.11345 ]\n",
            " [33.806618]]\n"
          ]
        }
      ]
    },
    {
      "cell_type": "code",
      "source": [
        "X_test = np.array([[20,99,10], [40,50,20]])\n",
        "print(model.predict(X_test))"
      ],
      "metadata": {
        "colab": {
          "base_uri": "https://localhost:8080/"
        },
        "id": "rWW4B5n2Xhny",
        "outputId": "fed8e080-a1e7-4495-f5bc-1b9fa1d6287c"
      },
      "execution_count": 5,
      "outputs": [
        {
          "output_type": "stream",
          "name": "stdout",
          "text": [
            "[[57.929893]\n",
            " [56.044094]]\n"
          ]
        }
      ]
    },
    {
      "cell_type": "code",
      "source": [
        "X = np.array([[0, 0], [0, 1], [1, 0], [0, 2], [1, 1], [2, 0]])\n",
        "y = np.array([0, 0, 0, 1, 1, 1])\n",
        "\n",
        "model = Sequential()\n",
        "model.add(Dense(1, input_dim=2, activation='sigmoid'))\n",
        "model.compile(optimizer='sgd', loss='binary_crossentropy', metrics=['binary_accuracy'])\n",
        "\n",
        "model.fit(X, y, epochs=2000)"
      ],
      "metadata": {
        "id": "tp2vT-MfXmby"
      },
      "execution_count": null,
      "outputs": []
    },
    {
      "cell_type": "code",
      "source": [
        "print(model.predict(X))"
      ],
      "metadata": {
        "colab": {
          "base_uri": "https://localhost:8080/"
        },
        "id": "2_HH6MH9YE99",
        "outputId": "db59da6d-8fa0-4e9c-c297-5a37e968abb0"
      },
      "execution_count": 7,
      "outputs": [
        {
          "output_type": "stream",
          "name": "stdout",
          "text": [
            "[[0.12570024]\n",
            " [0.42192435]\n",
            " [0.4212951 ]\n",
            " [0.7874739 ]\n",
            " [0.7870418 ]\n",
            " [0.78660893]]\n"
          ]
        }
      ]
    }
  ]
}