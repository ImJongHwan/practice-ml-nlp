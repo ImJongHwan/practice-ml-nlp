{
  "nbformat": 4,
  "nbformat_minor": 0,
  "metadata": {
    "colab": {
      "name": "8_vector_metrix.ipynb",
      "provenance": [],
      "authorship_tag": "ABX9TyO+UFtBjLoDM2i5szqvmSOM",
      "include_colab_link": true
    },
    "kernelspec": {
      "name": "python3",
      "display_name": "Python 3"
    },
    "language_info": {
      "name": "python"
    }
  },
  "cells": [
    {
      "cell_type": "markdown",
      "metadata": {
        "id": "view-in-github",
        "colab_type": "text"
      },
      "source": [
        "<a href=\"https://colab.research.google.com/github/ImJongHwan/practice-ml-nlp/blob/main/6_machine_learning_introduction/8_vector_metrix.ipynb\" target=\"_parent\"><img src=\"https://colab.research.google.com/assets/colab-badge.svg\" alt=\"Open In Colab\"/></a>"
      ]
    },
    {
      "cell_type": "markdown",
      "source": [
        "# 벡터와 행렬 연산\n",
        "\n",
        "https://wikidocs.net/37001"
      ],
      "metadata": {
        "id": "OQoP-VqlZ6Q0"
      }
    },
    {
      "cell_type": "markdown",
      "source": [
        "## 텐서"
      ],
      "metadata": {
        "id": "66UbiXnLaBRN"
      }
    },
    {
      "cell_type": "code",
      "execution_count": 1,
      "metadata": {
        "id": "zhrK6tcbZ4_X"
      },
      "outputs": [],
      "source": [
        "import numpy as np"
      ]
    },
    {
      "cell_type": "code",
      "source": [
        "# 0차원 텐서(스칼라)\n",
        "\n",
        "d = np.array(5)\n",
        "print('텐서의 차원 :', d.ndim)\n",
        "print('텐서의 크기(shape) :', d.shape)"
      ],
      "metadata": {
        "colab": {
          "base_uri": "https://localhost:8080/"
        },
        "id": "5auD28PHaE34",
        "outputId": "54eb1f9a-27d6-47e6-96ad-42af53cac998"
      },
      "execution_count": 3,
      "outputs": [
        {
          "output_type": "stream",
          "name": "stdout",
          "text": [
            "텐서의 차원 : 0\n",
            "텐서의 크기(shape) : ()\n"
          ]
        }
      ]
    },
    {
      "cell_type": "code",
      "source": [
        "# 1차원 텐서(벡터)\n",
        "\n",
        "d = np.array([1, 2, 3, 4])\n",
        "print('텐서의 차원 :', d.ndim)\n",
        "print('텐서의 크기(shape) :', d.shape)"
      ],
      "metadata": {
        "colab": {
          "base_uri": "https://localhost:8080/"
        },
        "id": "YC0I0WHvaLvb",
        "outputId": "6bf402ac-1c48-49f8-8628-a8bb731238f4"
      },
      "execution_count": 5,
      "outputs": [
        {
          "output_type": "stream",
          "name": "stdout",
          "text": [
            "텐서의 차원 : 1\n",
            "텐서의 크기(shape) : (4,)\n"
          ]
        }
      ]
    },
    {
      "cell_type": "code",
      "source": [
        "# 2차원 텐서(행렬)\n",
        "\n",
        "d = np.array([[1, 2, 3, 4], [5, 6, 7, 8], [9, 10, 11, 12]])\n",
        "print('텐서의 차원 :', d.ndim)\n",
        "print('텐서의 크기(shape) :', d.shape)"
      ],
      "metadata": {
        "colab": {
          "base_uri": "https://localhost:8080/"
        },
        "id": "tGXfoYZfaU_R",
        "outputId": "ce309180-f994-4018-aaa8-db47dc3f13a9"
      },
      "execution_count": 6,
      "outputs": [
        {
          "output_type": "stream",
          "name": "stdout",
          "text": [
            "텐서의 차원 : 2\n",
            "텐서의 크기(shape) : (3, 4)\n"
          ]
        }
      ]
    },
    {
      "cell_type": "code",
      "source": [
        "# 3차원 텐서(다차원 배열)\n",
        "\n",
        "d = np.array([\n",
        "            [[1, 2, 3, 4, 5], [6, 7, 8, 9, 10], [10, 11, 12, 13, 14]],\n",
        "            [[15, 16, 17, 18, 19], [19, 20, 21, 22, 23], [23, 24, 25, 26, 27]]\n",
        "            ])\n",
        "\n",
        "print('텐서의 차원 :', d.ndim)\n",
        "print('텐서의 크기(shape)', d.shape)"
      ],
      "metadata": {
        "colab": {
          "base_uri": "https://localhost:8080/"
        },
        "id": "mN3KfMZYakSW",
        "outputId": "14c131f7-2d67-4a5b-9b0b-7dc37c1bb571"
      },
      "execution_count": 7,
      "outputs": [
        {
          "output_type": "stream",
          "name": "stdout",
          "text": [
            "텐서의 차원 : 3\n",
            "텐서의 크기(shape) (2, 3, 5)\n"
          ]
        }
      ]
    },
    {
      "cell_type": "markdown",
      "source": [
        "##  벡터와 행렬의 연산"
      ],
      "metadata": {
        "id": "BbEIVW-Eei20"
      }
    },
    {
      "cell_type": "code",
      "source": [
        "import numpy as np"
      ],
      "metadata": {
        "id": "vQCucxIOce53"
      },
      "execution_count": 1,
      "outputs": []
    },
    {
      "cell_type": "code",
      "source": [
        "# 벡터 행렬의 덧셈과 뺄셈\n",
        "\n",
        "A = np.array([8,4,5])\n",
        "B = np.array([1,2,3])\n",
        "\n",
        "print('두 벡터의 합 :', A+B)\n",
        "print('두 벡터의 차 :', A-B)"
      ],
      "metadata": {
        "colab": {
          "base_uri": "https://localhost:8080/"
        },
        "id": "uHhyrJ00enG3",
        "outputId": "7a5f8919-8150-4cb2-90f6-28469e04989a"
      },
      "execution_count": 2,
      "outputs": [
        {
          "output_type": "stream",
          "name": "stdout",
          "text": [
            "두 벡터의 합 : [9 6 8]\n",
            "두 벡터의 차 : [7 2 2]\n"
          ]
        }
      ]
    },
    {
      "cell_type": "code",
      "source": [
        "A = np.array([[10, 20, 30, 40], [50, 60, 70, 80]])\n",
        "B = np.array([[5, 6, 7, 8],[1, 2, 3, 4]])\n",
        "print('두 행렬의 합 :')\n",
        "print(A + B)\n",
        "print('두 행렬의 차 :')\n",
        "print(A - B)"
      ],
      "metadata": {
        "colab": {
          "base_uri": "https://localhost:8080/"
        },
        "id": "hMwwts4HevzV",
        "outputId": "96f9cb13-1a3b-4bb6-9eff-a1e18edd740e"
      },
      "execution_count": 3,
      "outputs": [
        {
          "output_type": "stream",
          "name": "stdout",
          "text": [
            "두 행렬의 합 :\n",
            "[[15 26 37 48]\n",
            " [51 62 73 84]]\n",
            "두 행렬의 차 :\n",
            "[[ 5 14 23 32]\n",
            " [49 58 67 76]]\n"
          ]
        }
      ]
    },
    {
      "cell_type": "code",
      "source": [
        "# 벡터의 내적과 행렬의 곱셈\n",
        "\n",
        "A = np.array([1, 2, 3])\n",
        "B = np.array([4, 5, 6])\n",
        "print('두 벡터의 내적 :', np.dot(A, B))"
      ],
      "metadata": {
        "colab": {
          "base_uri": "https://localhost:8080/"
        },
        "id": "Y0z1API--ngo",
        "outputId": "d2f74c5b-8540-4d8e-e081-70f5247656ce"
      },
      "execution_count": 4,
      "outputs": [
        {
          "output_type": "stream",
          "name": "stdout",
          "text": [
            "두 벡터의 내적 : 32\n"
          ]
        }
      ]
    },
    {
      "cell_type": "code",
      "source": [
        "A = np.array([[1, 3,], [2, 4]])\n",
        "B = np.array([[5, 7], [6, 8]])\n",
        "\n",
        "print('두 행렬의 행렬곱 :')\n",
        "print(np.matmul(A, B))"
      ],
      "metadata": {
        "colab": {
          "base_uri": "https://localhost:8080/"
        },
        "id": "Yoo_cYjsBeJi",
        "outputId": "56e3cad1-2108-450d-d885-39c595d7eb9e"
      },
      "execution_count": 5,
      "outputs": [
        {
          "output_type": "stream",
          "name": "stdout",
          "text": [
            "두 행렬의 행렬곱 :\n",
            "[[23 31]\n",
            " [34 46]]\n"
          ]
        }
      ]
    }
  ]
}