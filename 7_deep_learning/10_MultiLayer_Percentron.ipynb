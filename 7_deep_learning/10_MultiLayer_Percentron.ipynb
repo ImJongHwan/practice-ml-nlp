{
  "nbformat": 4,
  "nbformat_minor": 0,
  "metadata": {
    "colab": {
      "name": "10_MultiLayer_Percentron.ipynb",
      "provenance": [],
      "authorship_tag": "ABX9TyNAF3sKBMEiXTcXXRSROI7h",
      "include_colab_link": true
    },
    "kernelspec": {
      "name": "python3",
      "display_name": "Python 3"
    },
    "language_info": {
      "name": "python"
    }
  },
  "cells": [
    {
      "cell_type": "markdown",
      "metadata": {
        "id": "view-in-github",
        "colab_type": "text"
      },
      "source": [
        "<a href=\"https://colab.research.google.com/github/ImJongHwan/practice-ml-nlp/blob/main/7_deep_learning/10_MultiLayer_Percentron.ipynb\" target=\"_parent\"><img src=\"https://colab.research.google.com/assets/colab-badge.svg\" alt=\"Open In Colab\"/></a>"
      ]
    },
    {
      "cell_type": "markdown",
      "source": [
        "# 다층 퍼셉트론(MultiLayer Perceptron, MLP)\n",
        "\n",
        "https://wikidocs.net/49071"
      ],
      "metadata": {
        "id": "RDtm5BDpyYIq"
      }
    },
    {
      "cell_type": "markdown",
      "source": [
        "## 20개 뉴스 그룹 (Twenty Newsgroups) 데이터에 대한 이해"
      ],
      "metadata": {
        "id": "3HiN6YiTy5ky"
      }
    },
    {
      "cell_type": "code",
      "execution_count": 1,
      "metadata": {
        "id": "cajAyPkRyR8M"
      },
      "outputs": [],
      "source": [
        "import pandas as pd\n",
        "from sklearn.datasets import fetch_20newsgroups\n",
        "import matplotlib.pyplot as plt\n",
        "from tensorflow.keras.preprocessing.text import Tokenizer\n",
        "from tensorflow.keras.utils import to_categorical"
      ]
    },
    {
      "cell_type": "code",
      "source": [
        "newsdata = fetch_20newsgroups(subset = 'train')"
      ],
      "metadata": {
        "id": "aOvOHY62zKKX"
      },
      "execution_count": 2,
      "outputs": []
    },
    {
      "cell_type": "code",
      "source": [
        "print(newsdata.keys())"
      ],
      "metadata": {
        "colab": {
          "base_uri": "https://localhost:8080/"
        },
        "id": "BvDLFnOSzPJE",
        "outputId": "b3815156-453a-47b9-f115-6d4eabdbe5ad"
      },
      "execution_count": 3,
      "outputs": [
        {
          "output_type": "stream",
          "name": "stdout",
          "text": [
            "dict_keys(['data', 'filenames', 'target_names', 'target', 'DESCR'])\n"
          ]
        }
      ]
    },
    {
      "cell_type": "code",
      "source": [
        "print(f'훈련용 샘플의 개수: {len(newsdata.data)}')"
      ],
      "metadata": {
        "colab": {
          "base_uri": "https://localhost:8080/"
        },
        "id": "JGhmzM7QzVWM",
        "outputId": "3b61e331-f717-44be-bbc4-9eb71453d519"
      },
      "execution_count": 4,
      "outputs": [
        {
          "output_type": "stream",
          "name": "stdout",
          "text": [
            "훈련용 샘플의 개수: 11314\n"
          ]
        }
      ]
    },
    {
      "cell_type": "code",
      "source": [
        "print(f'총 주제의 개수: {len(newsdata.target_names)}')\n",
        "print(newsdata.target_names)"
      ],
      "metadata": {
        "colab": {
          "base_uri": "https://localhost:8080/"
        },
        "id": "eREV6ubKzk4E",
        "outputId": "6ab097b6-908e-4762-8e46-c28dfc1c1931"
      },
      "execution_count": 5,
      "outputs": [
        {
          "output_type": "stream",
          "name": "stdout",
          "text": [
            "총 주제의 개수: 20\n",
            "['alt.atheism', 'comp.graphics', 'comp.os.ms-windows.misc', 'comp.sys.ibm.pc.hardware', 'comp.sys.mac.hardware', 'comp.windows.x', 'misc.forsale', 'rec.autos', 'rec.motorcycles', 'rec.sport.baseball', 'rec.sport.hockey', 'sci.crypt', 'sci.electronics', 'sci.med', 'sci.space', 'soc.religion.christian', 'talk.politics.guns', 'talk.politics.mideast', 'talk.politics.misc', 'talk.religion.misc']\n"
          ]
        }
      ]
    },
    {
      "cell_type": "code",
      "source": [
        "print(f'첫번째 샘플의 레이블: {newsdata.target[0]}')"
      ],
      "metadata": {
        "colab": {
          "base_uri": "https://localhost:8080/"
        },
        "id": "64__A0y_1QN_",
        "outputId": "745bf96f-170f-481f-9591-2c7b982738ea"
      },
      "execution_count": 6,
      "outputs": [
        {
          "output_type": "stream",
          "name": "stdout",
          "text": [
            "첫번째 샘플의 레이블: 7\n"
          ]
        }
      ]
    },
    {
      "cell_type": "code",
      "source": [
        "print(f'7번 레이블이 의미하는 주제: {newsdata.target_names[7]}')"
      ],
      "metadata": {
        "colab": {
          "base_uri": "https://localhost:8080/"
        },
        "id": "pDAj3Wye1qaD",
        "outputId": "39a4652c-8d67-4357-b4b3-f055d3666ca1"
      },
      "execution_count": 7,
      "outputs": [
        {
          "output_type": "stream",
          "name": "stdout",
          "text": [
            "7번 레이블이 의미하는 주제: rec.autos\n"
          ]
        }
      ]
    },
    {
      "cell_type": "code",
      "source": [
        "print(newsdata.data[0])"
      ],
      "metadata": {
        "colab": {
          "base_uri": "https://localhost:8080/"
        },
        "id": "bcxVH-zOdUAs",
        "outputId": "62d51ad2-bee8-4bb0-80b0-3aae39077653"
      },
      "execution_count": 8,
      "outputs": [
        {
          "output_type": "stream",
          "name": "stdout",
          "text": [
            "From: lerxst@wam.umd.edu (where's my thing)\n",
            "Subject: WHAT car is this!?\n",
            "Nntp-Posting-Host: rac3.wam.umd.edu\n",
            "Organization: University of Maryland, College Park\n",
            "Lines: 15\n",
            "\n",
            " I was wondering if anyone out there could enlighten me on this car I saw\n",
            "the other day. It was a 2-door sports car, looked to be from the late 60s/\n",
            "early 70s. It was called a Bricklin. The doors were really small. In addition,\n",
            "the front bumper was separate from the rest of the body. This is \n",
            "all I know. If anyone can tellme a model name, engine specs, years\n",
            "of production, where this car is made, history, or whatever info you\n",
            "have on this funky looking car, please e-mail.\n",
            "\n",
            "Thanks,\n",
            "- IL\n",
            "   ---- brought to you by your neighborhood Lerxst ----\n",
            "\n",
            "\n",
            "\n",
            "\n",
            "\n"
          ]
        }
      ]
    },
    {
      "cell_type": "code",
      "source": [
        "data = pd.DataFrame(newsdata.data, columns = ['email'])\n",
        "data['target'] = pd.Series(newsdata.target)\n",
        "data[:5]"
      ],
      "metadata": {
        "colab": {
          "base_uri": "https://localhost:8080/",
          "height": 206
        },
        "id": "74-NbkYxdX06",
        "outputId": "87d3dc17-ae95-4908-d953-07cc9ce97261"
      },
      "execution_count": 10,
      "outputs": [
        {
          "output_type": "execute_result",
          "data": {
            "text/html": [
              "\n",
              "  <div id=\"df-e0fab493-ba30-44d7-b36f-d4de943c6a8c\">\n",
              "    <div class=\"colab-df-container\">\n",
              "      <div>\n",
              "<style scoped>\n",
              "    .dataframe tbody tr th:only-of-type {\n",
              "        vertical-align: middle;\n",
              "    }\n",
              "\n",
              "    .dataframe tbody tr th {\n",
              "        vertical-align: top;\n",
              "    }\n",
              "\n",
              "    .dataframe thead th {\n",
              "        text-align: right;\n",
              "    }\n",
              "</style>\n",
              "<table border=\"1\" class=\"dataframe\">\n",
              "  <thead>\n",
              "    <tr style=\"text-align: right;\">\n",
              "      <th></th>\n",
              "      <th>email</th>\n",
              "      <th>target</th>\n",
              "    </tr>\n",
              "  </thead>\n",
              "  <tbody>\n",
              "    <tr>\n",
              "      <th>0</th>\n",
              "      <td>From: lerxst@wam.umd.edu (where's my thing)\\nS...</td>\n",
              "      <td>7</td>\n",
              "    </tr>\n",
              "    <tr>\n",
              "      <th>1</th>\n",
              "      <td>From: guykuo@carson.u.washington.edu (Guy Kuo)...</td>\n",
              "      <td>4</td>\n",
              "    </tr>\n",
              "    <tr>\n",
              "      <th>2</th>\n",
              "      <td>From: twillis@ec.ecn.purdue.edu (Thomas E Will...</td>\n",
              "      <td>4</td>\n",
              "    </tr>\n",
              "    <tr>\n",
              "      <th>3</th>\n",
              "      <td>From: jgreen@amber (Joe Green)\\nSubject: Re: W...</td>\n",
              "      <td>1</td>\n",
              "    </tr>\n",
              "    <tr>\n",
              "      <th>4</th>\n",
              "      <td>From: jcm@head-cfa.harvard.edu (Jonathan McDow...</td>\n",
              "      <td>14</td>\n",
              "    </tr>\n",
              "  </tbody>\n",
              "</table>\n",
              "</div>\n",
              "      <button class=\"colab-df-convert\" onclick=\"convertToInteractive('df-e0fab493-ba30-44d7-b36f-d4de943c6a8c')\"\n",
              "              title=\"Convert this dataframe to an interactive table.\"\n",
              "              style=\"display:none;\">\n",
              "        \n",
              "  <svg xmlns=\"http://www.w3.org/2000/svg\" height=\"24px\"viewBox=\"0 0 24 24\"\n",
              "       width=\"24px\">\n",
              "    <path d=\"M0 0h24v24H0V0z\" fill=\"none\"/>\n",
              "    <path d=\"M18.56 5.44l.94 2.06.94-2.06 2.06-.94-2.06-.94-.94-2.06-.94 2.06-2.06.94zm-11 1L8.5 8.5l.94-2.06 2.06-.94-2.06-.94L8.5 2.5l-.94 2.06-2.06.94zm10 10l.94 2.06.94-2.06 2.06-.94-2.06-.94-.94-2.06-.94 2.06-2.06.94z\"/><path d=\"M17.41 7.96l-1.37-1.37c-.4-.4-.92-.59-1.43-.59-.52 0-1.04.2-1.43.59L10.3 9.45l-7.72 7.72c-.78.78-.78 2.05 0 2.83L4 21.41c.39.39.9.59 1.41.59.51 0 1.02-.2 1.41-.59l7.78-7.78 2.81-2.81c.8-.78.8-2.07 0-2.86zM5.41 20L4 18.59l7.72-7.72 1.47 1.35L5.41 20z\"/>\n",
              "  </svg>\n",
              "      </button>\n",
              "      \n",
              "  <style>\n",
              "    .colab-df-container {\n",
              "      display:flex;\n",
              "      flex-wrap:wrap;\n",
              "      gap: 12px;\n",
              "    }\n",
              "\n",
              "    .colab-df-convert {\n",
              "      background-color: #E8F0FE;\n",
              "      border: none;\n",
              "      border-radius: 50%;\n",
              "      cursor: pointer;\n",
              "      display: none;\n",
              "      fill: #1967D2;\n",
              "      height: 32px;\n",
              "      padding: 0 0 0 0;\n",
              "      width: 32px;\n",
              "    }\n",
              "\n",
              "    .colab-df-convert:hover {\n",
              "      background-color: #E2EBFA;\n",
              "      box-shadow: 0px 1px 2px rgba(60, 64, 67, 0.3), 0px 1px 3px 1px rgba(60, 64, 67, 0.15);\n",
              "      fill: #174EA6;\n",
              "    }\n",
              "\n",
              "    [theme=dark] .colab-df-convert {\n",
              "      background-color: #3B4455;\n",
              "      fill: #D2E3FC;\n",
              "    }\n",
              "\n",
              "    [theme=dark] .colab-df-convert:hover {\n",
              "      background-color: #434B5C;\n",
              "      box-shadow: 0px 1px 3px 1px rgba(0, 0, 0, 0.15);\n",
              "      filter: drop-shadow(0px 1px 2px rgba(0, 0, 0, 0.3));\n",
              "      fill: #FFFFFF;\n",
              "    }\n",
              "  </style>\n",
              "\n",
              "      <script>\n",
              "        const buttonEl =\n",
              "          document.querySelector('#df-e0fab493-ba30-44d7-b36f-d4de943c6a8c button.colab-df-convert');\n",
              "        buttonEl.style.display =\n",
              "          google.colab.kernel.accessAllowed ? 'block' : 'none';\n",
              "\n",
              "        async function convertToInteractive(key) {\n",
              "          const element = document.querySelector('#df-e0fab493-ba30-44d7-b36f-d4de943c6a8c');\n",
              "          const dataTable =\n",
              "            await google.colab.kernel.invokeFunction('convertToInteractive',\n",
              "                                                     [key], {});\n",
              "          if (!dataTable) return;\n",
              "\n",
              "          const docLinkHtml = 'Like what you see? Visit the ' +\n",
              "            '<a target=\"_blank\" href=https://colab.research.google.com/notebooks/data_table.ipynb>data table notebook</a>'\n",
              "            + ' to learn more about interactive tables.';\n",
              "          element.innerHTML = '';\n",
              "          dataTable['output_type'] = 'display_data';\n",
              "          await google.colab.output.renderOutput(dataTable, element);\n",
              "          const docLink = document.createElement('div');\n",
              "          docLink.innerHTML = docLinkHtml;\n",
              "          element.appendChild(docLink);\n",
              "        }\n",
              "      </script>\n",
              "    </div>\n",
              "  </div>\n",
              "  "
            ],
            "text/plain": [
              "                                               email  target\n",
              "0  From: lerxst@wam.umd.edu (where's my thing)\\nS...       7\n",
              "1  From: guykuo@carson.u.washington.edu (Guy Kuo)...       4\n",
              "2  From: twillis@ec.ecn.purdue.edu (Thomas E Will...       4\n",
              "3  From: jgreen@amber (Joe Green)\\nSubject: Re: W...       1\n",
              "4  From: jcm@head-cfa.harvard.edu (Jonathan McDow...      14"
            ]
          },
          "metadata": {},
          "execution_count": 10
        }
      ]
    },
    {
      "cell_type": "code",
      "source": [
        "data.info()"
      ],
      "metadata": {
        "colab": {
          "base_uri": "https://localhost:8080/"
        },
        "id": "Zc2mybHud6Pv",
        "outputId": "7b79593f-5b35-4599-d2d4-8d6134080a0d"
      },
      "execution_count": 11,
      "outputs": [
        {
          "output_type": "stream",
          "name": "stdout",
          "text": [
            "<class 'pandas.core.frame.DataFrame'>\n",
            "RangeIndex: 11314 entries, 0 to 11313\n",
            "Data columns (total 2 columns):\n",
            " #   Column  Non-Null Count  Dtype \n",
            "---  ------  --------------  ----- \n",
            " 0   email   11314 non-null  object\n",
            " 1   target  11314 non-null  int64 \n",
            "dtypes: int64(1), object(1)\n",
            "memory usage: 176.9+ KB\n"
          ]
        }
      ]
    },
    {
      "cell_type": "code",
      "source": [
        "data.isnull().values.any()"
      ],
      "metadata": {
        "colab": {
          "base_uri": "https://localhost:8080/"
        },
        "id": "DxMr_K80eA0F",
        "outputId": "e7c4f8cb-8af4-49c6-bbc6-20dca39b0940"
      },
      "execution_count": 13,
      "outputs": [
        {
          "output_type": "execute_result",
          "data": {
            "text/plain": [
              "False"
            ]
          },
          "metadata": {},
          "execution_count": 13
        }
      ]
    },
    {
      "cell_type": "code",
      "source": [
        "print(f'중복을 제외한 샘플의 수: {data[\"email\"].nunique()}')\n",
        "print(f'중복을 제외한 주제의 수: {data[\"target\"].nunique()}')"
      ],
      "metadata": {
        "colab": {
          "base_uri": "https://localhost:8080/"
        },
        "id": "ZYtWBqfReGtq",
        "outputId": "8df858f0-df47-430f-c635-6f7a20c15727"
      },
      "execution_count": 16,
      "outputs": [
        {
          "output_type": "stream",
          "name": "stdout",
          "text": [
            "중복을 제외한 샘플의 수: 11314\n",
            "중복을 제외한 주제의 수: 20\n"
          ]
        }
      ]
    },
    {
      "cell_type": "code",
      "source": [
        "data['target'].value_counts().plot(kind='bar')"
      ],
      "metadata": {
        "colab": {
          "base_uri": "https://localhost:8080/",
          "height": 286
        },
        "id": "yyutxKhxeSt3",
        "outputId": "6d69381c-92f1-4501-86a2-322e0d9807c4"
      },
      "execution_count": 17,
      "outputs": [
        {
          "output_type": "execute_result",
          "data": {
            "text/plain": [
              "<matplotlib.axes._subplots.AxesSubplot at 0x7fd8e76a60d0>"
            ]
          },
          "metadata": {},
          "execution_count": 17
        },
        {
          "output_type": "display_data",
          "data": {
            "image/png": "[encoded data removed]",
            "text/plain": [
              "<Figure size 432x288 with 1 Axes>"
            ]
          },
          "metadata": {
            "needs_background": "light"
          }
        }
      ]
    },
    {
      "cell_type": "code",
      "source": [
        "print(data.groupby('target').size().reset_index(name='count'))"
      ],
      "metadata": {
        "colab": {
          "base_uri": "https://localhost:8080/"
        },
        "id": "AYcgswKueeDy",
        "outputId": "74bf289e-0dfb-44f3-be1b-90acb17461f5"
      },
      "execution_count": 19,
      "outputs": [
        {
          "output_type": "stream",
          "name": "stdout",
          "text": [
            "    target  count\n",
            "0        0    480\n",
            "1        1    584\n",
            "2        2    591\n",
            "3        3    590\n",
            "4        4    578\n",
            "5        5    593\n",
            "6        6    585\n",
            "7        7    594\n",
            "8        8    598\n",
            "9        9    597\n",
            "10      10    600\n",
            "11      11    595\n",
            "12      12    591\n",
            "13      13    594\n",
            "14      14    593\n",
            "15      15    599\n",
            "16      16    546\n",
            "17      17    564\n",
            "18      18    465\n",
            "19      19    377\n"
          ]
        }
      ]
    },
    {
      "cell_type": "code",
      "source": [
        "newsdata_test = fetch_20newsgroups(subset='test', shuffle=True)\n",
        "train_email = data['email']\n",
        "train_label = data['target']\n",
        "test_email = newsdata_test.data\n",
        "test_label = newsdata_test.target"
      ],
      "metadata": {
        "id": "RcuT55bcek8j"
      },
      "execution_count": 20,
      "outputs": []
    },
    {
      "cell_type": "code",
      "source": [
        "vocab_size = 10000\n",
        "num_classes = 20"
      ],
      "metadata": {
        "id": "OrnVOYmafflq"
      },
      "execution_count": 21,
      "outputs": []
    },
    {
      "cell_type": "code",
      "source": [
        "def prepare_data(train_data, test_data, mode):\n",
        "  tokenizer = Tokenizer(num_words = vocab_size)\n",
        "  tokenizer.fit_on_texts(train_data)\n",
        "  X_train = tokenizer.texts_to_matrix(train_data, mode=mode)\n",
        "  X_test = tokenizer.texts_to_matrix(test_data, mode=mode)\n",
        "  return X_train, X_test, tokenizer.index_word"
      ],
      "metadata": {
        "id": "lezt7m6Afh72"
      },
      "execution_count": 24,
      "outputs": []
    },
    {
      "cell_type": "code",
      "source": [
        "X_train, X_test, index_to_word = prepare_data(train_email, test_email, 'binary')\n",
        "y_train = to_categorical(train_label, num_classes)\n",
        "y_test = to_categorical(test_label, num_classes)"
      ],
      "metadata": {
        "id": "EnfpmUarf3Ce"
      },
      "execution_count": 25,
      "outputs": []
    },
    {
      "cell_type": "code",
      "source": [
        "print(f'훈련 샘플 본문의 크기: {X_train.shape}')\n",
        "print(f'훈련 샘플 레이블의 크기: {y_train.shape}')\n",
        "print(f'테스트 샘플 본문의 크기: {X_test.shape}')\n",
        "print(f'테스트 샘플 레이블의 크기: {y_test.shape}')"
      ],
      "metadata": {
        "colab": {
          "base_uri": "https://localhost:8080/"
        },
        "id": "J5LIe5olgFqK",
        "outputId": "8257f052-c096-48fa-e61f-84402b1fe453"
      },
      "execution_count": 26,
      "outputs": [
        {
          "output_type": "stream",
          "name": "stdout",
          "text": [
            "훈련 샘플 본문의 크기: (11314, 10000)\n",
            "훈련 샘플 레이블의 크기: (11314, 20)\n",
            "테스트 샘플 본문의 크기: (7532, 10000)\n",
            "테스트 샘플 레이블의 크기: (7532, 20)\n"
          ]
        }
      ]
    },
    {
      "cell_type": "code",
      "source": [
        "print(f'빈도수 상위 1번 단어: {index_to_word[1]}')\n",
        "print(f'빈도수 상위 9999번 단어: {index_to_word[9999]}')"
      ],
      "metadata": {
        "colab": {
          "base_uri": "https://localhost:8080/"
        },
        "id": "KjVfXyMngbYn",
        "outputId": "b9f6fce3-8677-49dd-d8e1-f75a1c11ec16"
      },
      "execution_count": 28,
      "outputs": [
        {
          "output_type": "stream",
          "name": "stdout",
          "text": [
            "빈도수 상위 1번 단어: the\n",
            "빈도수 상위 9999번 단어: mic\n"
          ]
        }
      ]
    },
    {
      "cell_type": "code",
      "source": [
        "from tensorflow.keras.models import Sequential\n",
        "from tensorflow.keras.layers import Dense, Dropout"
      ],
      "metadata": {
        "id": "TEO9Lgc4iYZP"
      },
      "execution_count": 29,
      "outputs": []
    },
    {
      "cell_type": "code",
      "source": [
        "def fit_and_evaluate(X_train, y_train, X_test, y_test):\n",
        "  model = Sequential()\n",
        "  model.add(Dense(256, input_shape=(vocab_size,), activation='relu'))\n",
        "  model.add(Dropout(0.5))\n",
        "  model.add(Dense(128, activation='relu'))\n",
        "  model.add(Dropout(0.5))\n",
        "  model.add(Dense(num_classes, activation='softmax'))\n",
        "  \n",
        "  model.compile(loss='categorical_crossentropy', optimizer='adam', metrics=['accuracy'])\n",
        "  model.fit(X_train, y_train, batch_size=128, epochs=5, verbose=1, validation_split=0.1)\n",
        "  score = model.evaluate(X_test, y_test, batch_size=128, verbose=0)\n",
        "  return score[1]"
      ],
      "metadata": {
        "id": "r_wc4bijinQ6"
      },
      "execution_count": 33,
      "outputs": []
    },
    {
      "cell_type": "code",
      "source": [
        "modes = ['binary', 'count', 'tfidf', 'freq']\n",
        "\n",
        "for mode in modes:\n",
        "  X_train, X_test, _ = prepare_data(train_email, test_email, mode)\n",
        "  score = fit_and_evaluate(X_train, y_train, X_test, y_test)\n",
        "  print(mode + ' 모드의 테스트 정확도: ', score)"
      ],
      "metadata": {
        "colab": {
          "base_uri": "https://localhost:8080/"
        },
        "id": "-1uX-ApNi7Ae",
        "outputId": "c3daf8e3-beb1-45df-8aa7-2a121ab996cf"
      },
      "execution_count": 34,
      "outputs": [
        {
          "output_type": "stream",
          "name": "stdout",
          "text": [
            "Epoch 1/5\n",
            "80/80 [==============================] - 4s 43ms/step - loss: 2.2857 - accuracy: 0.3365 - val_loss: 0.9756 - val_accuracy: 0.8198\n",
            "Epoch 2/5\n",
            "80/80 [==============================] - 3s 40ms/step - loss: 0.8719 - accuracy: 0.7610 - val_loss: 0.4503 - val_accuracy: 0.8816\n",
            "Epoch 3/5\n",
            "80/80 [==============================] - 3s 40ms/step - loss: 0.4394 - accuracy: 0.8834 - val_loss: 0.3540 - val_accuracy: 0.9037\n",
            "Epoch 4/5\n",
            "80/80 [==============================] - 3s 40ms/step - loss: 0.2585 - accuracy: 0.9338 - val_loss: 0.3050 - val_accuracy: 0.9055\n",
            "Epoch 5/5\n",
            "80/80 [==============================] - 3s 40ms/step - loss: 0.1670 - accuracy: 0.9629 - val_loss: 0.2963 - val_accuracy: 0.9081\n",
            "binary 모드의 테스트 정확도:  0.8279341459274292\n",
            "Epoch 1/5\n",
            "80/80 [==============================] - 4s 44ms/step - loss: 2.7220 - accuracy: 0.2519 - val_loss: 1.6233 - val_accuracy: 0.7535\n",
            "Epoch 2/5\n",
            "80/80 [==============================] - 3s 41ms/step - loss: 1.4566 - accuracy: 0.6341 - val_loss: 0.7226 - val_accuracy: 0.8489\n",
            "Epoch 3/5\n",
            "80/80 [==============================] - 3s 41ms/step - loss: 0.8064 - accuracy: 0.7967 - val_loss: 0.5064 - val_accuracy: 0.8701\n",
            "Epoch 4/5\n",
            "80/80 [==============================] - 3s 41ms/step - loss: 0.5192 - accuracy: 0.8719 - val_loss: 0.4426 - val_accuracy: 0.8843\n",
            "Epoch 5/5\n",
            "80/80 [==============================] - 3s 42ms/step - loss: 0.3611 - accuracy: 0.9116 - val_loss: 0.4417 - val_accuracy: 0.9002\n",
            "count 모드의 테스트 정확도:  0.8179766535758972\n",
            "Epoch 1/5\n",
            "80/80 [==============================] - 4s 41ms/step - loss: 2.2482 - accuracy: 0.3522 - val_loss: 0.7620 - val_accuracy: 0.8357\n",
            "Epoch 2/5\n",
            "80/80 [==============================] - 3s 40ms/step - loss: 0.8387 - accuracy: 0.7783 - val_loss: 0.4151 - val_accuracy: 0.8958\n",
            "Epoch 3/5\n",
            "80/80 [==============================] - 3s 40ms/step - loss: 0.4666 - accuracy: 0.8827 - val_loss: 0.3374 - val_accuracy: 0.9099\n",
            "Epoch 4/5\n",
            "80/80 [==============================] - 4s 51ms/step - loss: 0.2976 - accuracy: 0.9287 - val_loss: 0.3383 - val_accuracy: 0.9072\n",
            "Epoch 5/5\n",
            "80/80 [==============================] - 3s 40ms/step - loss: 0.2272 - accuracy: 0.9458 - val_loss: 0.3392 - val_accuracy: 0.9046\n",
            "tfidf 모드의 테스트 정확도:  0.8254115581512451\n",
            "Epoch 1/5\n",
            "80/80 [==============================] - 4s 43ms/step - loss: 2.9817 - accuracy: 0.0884 - val_loss: 2.9419 - val_accuracy: 0.2871\n",
            "Epoch 2/5\n",
            "80/80 [==============================] - 3s 41ms/step - loss: 2.7601 - accuracy: 0.2249 - val_loss: 2.4477 - val_accuracy: 0.3330\n",
            "Epoch 3/5\n",
            "80/80 [==============================] - 3s 41ms/step - loss: 2.2212 - accuracy: 0.3198 - val_loss: 1.8911 - val_accuracy: 0.5892\n",
            "Epoch 4/5\n",
            "80/80 [==============================] - 3s 41ms/step - loss: 1.7486 - accuracy: 0.4720 - val_loss: 1.4611 - val_accuracy: 0.6784\n",
            "Epoch 5/5\n",
            "80/80 [==============================] - 3s 40ms/step - loss: 1.3721 - accuracy: 0.5888 - val_loss: 1.1428 - val_accuracy: 0.7138\n",
            "freq 모드의 테스트 정확도:  0.6752522587776184\n"
          ]
        }
      ]
    }
  ]
}