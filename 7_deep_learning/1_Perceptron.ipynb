{
  "nbformat": 4,
  "nbformat_minor": 0,
  "metadata": {
    "colab": {
      "name": "1_Perceptron.ipynb",
      "provenance": [],
      "authorship_tag": "ABX9TyPYR80sNv/X16nI4PLn2QOf",
      "include_colab_link": true
    },
    "kernelspec": {
      "name": "python3",
      "display_name": "Python 3"
    },
    "language_info": {
      "name": "python"
    }
  },
  "cells": [
    {
      "cell_type": "markdown",
      "metadata": {
        "id": "view-in-github",
        "colab_type": "text"
      },
      "source": [
        "<a href=\"https://colab.research.google.com/github/ImJongHwan/practice-ml-nlp/blob/main/7_deep_learning/1_Perceptron.ipynb\" target=\"_parent\"><img src=\"https://colab.research.google.com/assets/colab-badge.svg\" alt=\"Open In Colab\"/></a>"
      ]
    },
    {
      "cell_type": "markdown",
      "source": [
        "# 퍼셉트론\n",
        "\n",
        "https://wikidocs.net/24958"
      ],
      "metadata": {
        "id": "DuJs8hihJo0K"
      }
    },
    {
      "cell_type": "markdown",
      "source": [
        "## 단층 퍼셉트론"
      ],
      "metadata": {
        "id": "DgtJc8FOJorI"
      }
    },
    {
      "cell_type": "code",
      "execution_count": 1,
      "metadata": {
        "id": "AzJ9Jwq5Jhz0"
      },
      "outputs": [],
      "source": [
        "# AND_GATE\n",
        "\n",
        "def AND_gate(x1, x2):\n",
        "  w1 = 0.5\n",
        "  w2 = 0.5\n",
        "  b = -0.7\n",
        "  result = x1*w1 + x2*w2 + b\n",
        "  if result <= 0:\n",
        "    return 0\n",
        "  else:\n",
        "    return 1"
      ]
    },
    {
      "cell_type": "code",
      "source": [
        "AND_gate(0, 0), AND_gate(0, 1), AND_gate(1, 0), AND_gate(1, 1)"
      ],
      "metadata": {
        "colab": {
          "base_uri": "https://localhost:8080/"
        },
        "id": "Pb-q4Xp-J2mT",
        "outputId": "a90d185e-f37f-412c-a9ff-817c9ea9dd2b"
      },
      "execution_count": 2,
      "outputs": [
        {
          "output_type": "execute_result",
          "data": {
            "text/plain": [
              "(0, 0, 0, 1)"
            ]
          },
          "metadata": {},
          "execution_count": 2
        }
      ]
    },
    {
      "cell_type": "code",
      "source": [
        "# NAND_GATE\n",
        "\n",
        "def NAND_gate(x1, x2):\n",
        "  w1 = -0.5\n",
        "  w2 = -0.5\n",
        "  b = 0.7\n",
        "  result = x1*w1 + x2*w2 + b\n",
        "  if result <= 0:\n",
        "    return 0\n",
        "  else:\n",
        "    return 1"
      ],
      "metadata": {
        "id": "PvLiii2yJ8sh"
      },
      "execution_count": 3,
      "outputs": []
    },
    {
      "cell_type": "code",
      "source": [
        "NAND_gate(0, 0), NAND_gate(0, 1), NAND_gate(1, 0), NAND_gate(1, 1)"
      ],
      "metadata": {
        "colab": {
          "base_uri": "https://localhost:8080/"
        },
        "id": "dFOgREzWKFny",
        "outputId": "d5a5c8c0-d0a5-4c8e-c61b-71a6a16c0e7f"
      },
      "execution_count": 4,
      "outputs": [
        {
          "output_type": "execute_result",
          "data": {
            "text/plain": [
              "(1, 1, 1, 0)"
            ]
          },
          "metadata": {},
          "execution_count": 4
        }
      ]
    },
    {
      "cell_type": "code",
      "source": [
        "# OR_gate\n",
        "\n",
        "def OR_gate(x1, x2):\n",
        "  w1 = 0.6\n",
        "  w2 = 0.6\n",
        "  b = -0.5\n",
        "  result = x1*w1 + x2*w2 + b\n",
        "  if result <= 0:\n",
        "    return 0\n",
        "  else:\n",
        "    return 1"
      ],
      "metadata": {
        "id": "IE-DYE12KKKM"
      },
      "execution_count": 5,
      "outputs": []
    },
    {
      "cell_type": "code",
      "source": [
        "OR_gate(0, 0), OR_gate(0, 1), OR_gate(1, 0), OR_gate(1, 1)"
      ],
      "metadata": {
        "colab": {
          "base_uri": "https://localhost:8080/"
        },
        "id": "T3oDEuK-KsI9",
        "outputId": "66b30ad8-90c6-424a-9296-829b467b9893"
      },
      "execution_count": 6,
      "outputs": [
        {
          "output_type": "execute_result",
          "data": {
            "text/plain": [
              "(0, 1, 1, 1)"
            ]
          },
          "metadata": {},
          "execution_count": 6
        }
      ]
    }
  ]
}