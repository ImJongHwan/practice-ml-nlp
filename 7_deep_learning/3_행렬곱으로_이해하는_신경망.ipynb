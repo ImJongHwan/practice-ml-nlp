{
  "nbformat": 4,
  "nbformat_minor": 0,
  "metadata": {
    "colab": {
      "name": "3_행렬곱으로_이해하는_신경망.ipynb",
      "provenance": [],
      "authorship_tag": "ABX9TyO+hva7i2iF40hg1pzN/Jn+",
      "include_colab_link": true
    },
    "kernelspec": {
      "name": "python3",
      "display_name": "Python 3"
    },
    "language_info": {
      "name": "python"
    }
  },
  "cells": [
    {
      "cell_type": "markdown",
      "metadata": {
        "id": "view-in-github",
        "colab_type": "text"
      },
      "source": [
        "<a href=\"https://colab.research.google.com/github/ImJongHwan/practice-ml-nlp/blob/main/7_deep_learning/3_%ED%96%89%EB%A0%AC%EA%B3%B1%EC%9C%BC%EB%A1%9C_%EC%9D%B4%ED%95%B4%ED%95%98%EB%8A%94_%EC%8B%A0%EA%B2%BD%EB%A7%9D.ipynb\" target=\"_parent\"><img src=\"https://colab.research.google.com/assets/colab-badge.svg\" alt=\"Open In Colab\"/></a>"
      ]
    },
    {
      "cell_type": "markdown",
      "source": [
        "# 행렬곱으로 이해하는 신경망\n",
        "\n",
        "https://wikidocs.net/150781"
      ],
      "metadata": {
        "id": "QxuIlI03UbzY"
      }
    },
    {
      "cell_type": "markdown",
      "source": [
        "## 행렬곱으로 순전파 이해하기"
      ],
      "metadata": {
        "id": "MJ9b-mzZUeM-"
      }
    },
    {
      "cell_type": "code",
      "execution_count": 1,
      "metadata": {
        "id": "4p2GfjuFUUxi"
      },
      "outputs": [],
      "source": [
        "from tensorflow.keras.models import Sequential\n",
        "from tensorflow.keras.layers import Dense\n",
        "\n",
        "model = Sequential()\n",
        "\n",
        "model.add(Dense(2, input_dim=3, activation='softmax'))"
      ]
    },
    {
      "cell_type": "code",
      "source": [
        "model.summary()"
      ],
      "metadata": {
        "colab": {
          "base_uri": "https://localhost:8080/"
        },
        "id": "vwGatUeuVOCf",
        "outputId": "ca6e70f2-8f6c-4c7a-d1a9-4d4cd6924ef8"
      },
      "execution_count": 2,
      "outputs": [
        {
          "output_type": "stream",
          "name": "stdout",
          "text": [
            "Model: \"sequential\"\n",
            "_________________________________________________________________\n",
            " Layer (type)                Output Shape              Param #   \n",
            "=================================================================\n",
            " dense (Dense)               (None, 2)                 8         \n",
            "                                                                 \n",
            "=================================================================\n",
            "Total params: 8\n",
            "Trainable params: 8\n",
            "Non-trainable params: 0\n",
            "_________________________________________________________________\n"
          ]
        }
      ]
    },
    {
      "cell_type": "markdown",
      "source": [
        "## 행렬곱으로 다층 퍼세트론의 순전파 이해하기"
      ],
      "metadata": {
        "id": "gWObCJNiZz6P"
      }
    },
    {
      "cell_type": "code",
      "source": [
        "from tensorflow.keras.models import Sequential\n",
        "from tensorflow.keras.layers import Dense\n",
        "\n",
        "model = Sequential()\n",
        "\n",
        "# 4개의 입력, 8개의 출력\n",
        "model.add(Dense(8, input_dim=4, activation='relu'))\n",
        "\n",
        "# 이어서 8개의 출력\n",
        "model.add(Dense(8, activation='relu'))\n",
        "\n",
        "# 이어서 3개의 출력\n",
        "model.add(Dense(3, activation='softmax'))"
      ],
      "metadata": {
        "id": "P5plj-5jXDar"
      },
      "execution_count": 7,
      "outputs": []
    }
  ]
}