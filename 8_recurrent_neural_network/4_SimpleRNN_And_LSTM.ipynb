{
  "nbformat": 4,
  "nbformat_minor": 0,
  "metadata": {
    "colab": {
      "name": "4_SimpleRNN_And_LSTM.ipynb",
      "provenance": [],
      "authorship_tag": "ABX9TyP1tP2k6gmBIb9cTQCI9bzT",
      "include_colab_link": true
    },
    "kernelspec": {
      "name": "python3",
      "display_name": "Python 3"
    },
    "language_info": {
      "name": "python"
    }
  },
  "cells": [
    {
      "cell_type": "markdown",
      "metadata": {
        "id": "view-in-github",
        "colab_type": "text"
      },
      "source": [
        "<a href=\"https://colab.research.google.com/github/ImJongHwan/practice-ml-nlp/blob/main/8_recurrent_neural_network/4_SimpleRNN_And_LSTM.ipynb\" target=\"_parent\"><img src=\"https://colab.research.google.com/assets/colab-badge.svg\" alt=\"Open In Colab\"/></a>"
      ]
    },
    {
      "cell_type": "markdown",
      "source": [
        "# 케라스의 SImpleRNN과 LSTM 이해하기\n",
        "\n",
        "https://wikidocs.net/106473"
      ],
      "metadata": {
        "id": "alXutYg9zT96"
      }
    },
    {
      "cell_type": "markdown",
      "source": [
        "## 임의의 입력 생성하기"
      ],
      "metadata": {
        "id": "bY7bwubzzYgL"
      }
    },
    {
      "cell_type": "code",
      "execution_count": 2,
      "metadata": {
        "id": "CLtE-_irzM_I"
      },
      "outputs": [],
      "source": [
        "import numpy as np\n",
        "import tensorflow as tf\n",
        "from tensorflow.keras.layers import SimpleRNN, LSTM, Bidirectional"
      ]
    },
    {
      "cell_type": "code",
      "source": [
        "train_X = [[0.1, 4.2, 1.5, 1.1, 2.8], [1.0, 3.1, 2.5, 0.7, 1.1], [0.3, 2.1, 1.5, 2.1, 0.1], [2.2, 1.4, 0.5, 0.9, 1.1]]\n",
        "print(np.shape(train_X))"
      ],
      "metadata": {
        "colab": {
          "base_uri": "https://localhost:8080/"
        },
        "id": "_iZySypVzjcI",
        "outputId": "44fadff3-8945-4456-cb67-89a095ae3c17"
      },
      "execution_count": 3,
      "outputs": [
        {
          "output_type": "stream",
          "name": "stdout",
          "text": [
            "(4, 5)\n"
          ]
        }
      ]
    },
    {
      "cell_type": "code",
      "source": [
        "train_X = [[[0.1, 4.2, 1.5, 1.1, 2.8], [1.0, 3.1, 2.5, 0.7, 1.1], [0.3, 2.1, 1.5, 2.1, 0.1], [2.2, 1.4, 0.5, 0.9, 1.1]]]\n",
        "\n",
        "train_X = np.array(train_X, dtype=np.float32)\n",
        "print(train_X.shape)"
      ],
      "metadata": {
        "colab": {
          "base_uri": "https://localhost:8080/"
        },
        "id": "RfRDPik8zuCN",
        "outputId": "39dcb97c-7834-4a46-80a7-4edc0019a461"
      },
      "execution_count": 4,
      "outputs": [
        {
          "output_type": "stream",
          "name": "stdout",
          "text": [
            "(1, 4, 5)\n"
          ]
        }
      ]
    },
    {
      "cell_type": "markdown",
      "source": [
        "## SImpleRNN 이해하기"
      ],
      "metadata": {
        "id": "_p8pLlga0pb8"
      }
    },
    {
      "cell_type": "code",
      "source": [
        "rnn = SimpleRNN(3)\n",
        "\n",
        "hidden_state = rnn(train_X)\n",
        "\n",
        "print(f'hidden state: {hidden_state}, shape: {hidden_state.shape}')"
      ],
      "metadata": {
        "colab": {
          "base_uri": "https://localhost:8080/"
        },
        "id": "DQVOtrTPz6Vy",
        "outputId": "81bf9136-aff3-4f5f-b756-b0bc94db855a"
      },
      "execution_count": 5,
      "outputs": [
        {
          "output_type": "stream",
          "name": "stdout",
          "text": [
            "hidden state: [[-0.7823203  -0.9969347   0.82022274]], shape: (1, 3)\n"
          ]
        }
      ]
    },
    {
      "cell_type": "code",
      "source": [
        "rnn = SimpleRNN(3, return_sequences=True)\n",
        "hidden_states = rnn(train_X)\n",
        "\n",
        "print(f'hidden state: {hidden_states}, shape: {hidden_states.shape}')"
      ],
      "metadata": {
        "colab": {
          "base_uri": "https://localhost:8080/"
        },
        "id": "T7UYf6Md1w9w",
        "outputId": "065f6752-7b83-4dee-b63f-e5d0518745fc"
      },
      "execution_count": 8,
      "outputs": [
        {
          "output_type": "stream",
          "name": "stdout",
          "text": [
            "hidden state: [[[-0.05079566 -0.9998932   0.9968641 ]\n",
            "  [-0.9065145  -0.9998499   0.9991206 ]\n",
            "  [-0.938367   -0.99777496  0.6430657 ]\n",
            "  [-0.9942498  -0.9994254   0.89302814]]], shape: (1, 4, 3)\n"
          ]
        }
      ]
    },
    {
      "cell_type": "code",
      "source": [
        "rnn = SimpleRNN(3, return_sequences=True, return_state=True)\n",
        "hidden_states, last_state = rnn(train_X)\n",
        "\n",
        "print(f'hidden states :{hidden_states}, shape: {hidden_states.shape}')\n",
        "print(f'last hidden state: {last_state}, shape: {last_state.shape}')"
      ],
      "metadata": {
        "colab": {
          "base_uri": "https://localhost:8080/"
        },
        "id": "Oh0gEW-P18wn",
        "outputId": "b9babf2e-357c-4d35-b961-096a8b8c13b1"
      },
      "execution_count": 9,
      "outputs": [
        {
          "output_type": "stream",
          "name": "stdout",
          "text": [
            "hidden states :[[[-0.9581549  -0.5580347   0.9705935 ]\n",
            "  [-0.7547773  -0.9775237   0.6432697 ]\n",
            "  [-0.8451581  -0.3512277   0.39678097]\n",
            "  [-0.7934664  -0.9605735   0.9762197 ]]], shape: (1, 4, 3)\n",
            "last hidden state: [[-0.7934664 -0.9605735  0.9762197]], shape: (1, 3)\n"
          ]
        }
      ]
    },
    {
      "cell_type": "markdown",
      "source": [
        "## LSTM 이해하기"
      ],
      "metadata": {
        "id": "g2vEuPWa32Dd"
      }
    },
    {
      "cell_type": "code",
      "source": [
        "lstm = LSTM(3, return_sequences=False, return_state=True)\n",
        "hidden_state, last_state, last_cell_state = lstm(train_X)\n",
        "\n",
        "print(f'hidden state: {hidden_state}, shape: {hidden_state.shape}')\n",
        "print(f'last hidden state: {last_state}, shape: {last_state.shape}')\n",
        "print(f'last cell state: {last_cell_state}, shape: {last_cell_state.shape}')"
      ],
      "metadata": {
        "colab": {
          "base_uri": "https://localhost:8080/"
        },
        "id": "P3H_wn492vDC",
        "outputId": "1c2c2bff-e1c6-4199-9ad9-5238e9176b7a"
      },
      "execution_count": 12,
      "outputs": [
        {
          "output_type": "stream",
          "name": "stdout",
          "text": [
            "hidden state: [[ 0.00484642 -0.30113038  0.07607817]], shape: (1, 3)\n",
            "last hidden state: [[ 0.00484642 -0.30113038  0.07607817]], shape: (1, 3)\n",
            "last cell state: [[ 0.03166305 -0.69533145  0.20877737]], shape: (1, 3)\n"
          ]
        }
      ]
    },
    {
      "cell_type": "code",
      "source": [
        "lstm = LSTM(3, return_sequences=True, return_state=True)\n",
        "hidden_state, last_state, last_cell_state = lstm(train_X)\n",
        "\n",
        "print(f'hidden state: {hidden_state}, shape: {hidden_state.shape}')\n",
        "print(f'last hidden state: {last_state}, shape: {last_state.shape}')\n",
        "print(f'last cell state: {last_cell_state}, shape: {last_cell_state.shape}')"
      ],
      "metadata": {
        "colab": {
          "base_uri": "https://localhost:8080/"
        },
        "id": "s2K_lGB-4LFJ",
        "outputId": "61ba5f49-1e04-4376-c180-504b162596c2"
      },
      "execution_count": 13,
      "outputs": [
        {
          "output_type": "stream",
          "name": "stdout",
          "text": [
            "hidden state: [[[-0.2654195   0.5573452   0.45687416]\n",
            "  [-0.5005965  -0.37524775  0.700234  ]\n",
            "  [-0.5522358  -0.31156388  0.59719485]\n",
            "  [-0.40298072 -0.5999708   0.46633834]]], shape: (1, 4, 3)\n",
            "last hidden state: [[-0.40298072 -0.5999708   0.46633834]], shape: (1, 3)\n",
            "last cell state: [[-1.0948458  -0.8093393   0.69740576]], shape: (1, 3)\n"
          ]
        }
      ]
    },
    {
      "cell_type": "markdown",
      "source": [
        "## Bidirectional(LSTM) 이해하기"
      ],
      "metadata": {
        "id": "-tiS6VSM5Wlx"
      }
    },
    {
      "cell_type": "code",
      "source": [
        "k_init = tf.keras.initializers.Constant(value=0.1)\n",
        "b_init = tf.keras.initializers.Constant(value=0)\n",
        "r_init = tf.keras.initializers.Constant(value=0.1)"
      ],
      "metadata": {
        "id": "3cQ6mZKa4Z-R"
      },
      "execution_count": 14,
      "outputs": []
    },
    {
      "cell_type": "code",
      "source": [
        "bilstm = Bidirectional(LSTM(3, return_sequences=False, return_state=True, kernel_initializer=k_init, bias_initializer=b_init, recurrent_initializer=r_init))\n",
        "hidden_state, forward_h, forward_c, backward_h, backward_c = bilstm(train_X)\n",
        "\n",
        "print(f'hidden state: {hidden_state}, shape: {hidden_state.shape}')\n",
        "print(f'forward state: {forward_h}, shape: {forward_h.shape}')\n",
        "print(f'backward state: {backward_h}, shape: {backward_h.shape}')"
      ],
      "metadata": {
        "colab": {
          "base_uri": "https://localhost:8080/"
        },
        "id": "wRS7eMn45eQB",
        "outputId": "5448b1e7-cdb9-4492-ad39-4c4c3753d080"
      },
      "execution_count": 15,
      "outputs": [
        {
          "output_type": "stream",
          "name": "stdout",
          "text": [
            "hidden state: [[0.63031393 0.63031393 0.63031393 0.7038734  0.7038734  0.7038734 ]], shape: (1, 6)\n",
            "forward state: [[0.63031393 0.63031393 0.63031393]], shape: (1, 3)\n",
            "backward state: [[0.7038734 0.7038734 0.7038734]], shape: (1, 3)\n"
          ]
        }
      ]
    },
    {
      "cell_type": "code",
      "source": [
        "bilstm = Bidirectional(LSTM(3, return_sequences=True, return_state=True, kernel_initializer=k_init, bias_initializer=b_init, recurrent_initializer=r_init))\n",
        "hidden_state, forward_h, forward_c, backward_h, backward_c = bilstm(train_X)\n",
        "\n",
        "print(f'hidden state: {hidden_state}, shape: {hidden_state.shape}')\n",
        "print(f'forward state: {forward_h}, shape: {forward_h.shape}')\n",
        "print(f'backward state: {backward_h}, shape: {backward_h.shape}')"
      ],
      "metadata": {
        "colab": {
          "base_uri": "https://localhost:8080/"
        },
        "id": "dliDJwfH6JfO",
        "outputId": "35c935c9-e539-4d8e-bd53-fa3f5af2f0c3"
      },
      "execution_count": 16,
      "outputs": [
        {
          "output_type": "stream",
          "name": "stdout",
          "text": [
            "hidden state: [[[0.35906473 0.35906473 0.35906473 0.7038734  0.7038734  0.7038734 ]\n",
            "  [0.5511133  0.5511133  0.5511133  0.58863586 0.58863586 0.58863586]\n",
            "  [0.59115744 0.59115744 0.59115744 0.3951699  0.3951699  0.3951699 ]\n",
            "  [0.63031393 0.63031393 0.63031393 0.21942244 0.21942244 0.21942244]]], shape: (1, 4, 6)\n",
            "forward state: [[0.63031393 0.63031393 0.63031393]], shape: (1, 3)\n",
            "backward state: [[0.7038734 0.7038734 0.7038734]], shape: (1, 3)\n"
          ]
        }
      ]
    }
  ]
}