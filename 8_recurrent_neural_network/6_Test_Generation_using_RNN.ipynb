{
  "nbformat": 4,
  "nbformat_minor": 0,
  "metadata": {
    "colab": {
      "name": "6_Test_Generation_using_RNN.ipynb",
      "provenance": [],
      "authorship_tag": "ABX9TyMh7jBGZLRCQNkCj2oqIwM/",
      "include_colab_link": true
    },
    "kernelspec": {
      "name": "python3",
      "display_name": "Python 3"
    },
    "language_info": {
      "name": "python"
    }
  },
  "cells": [
    {
      "cell_type": "markdown",
      "metadata": {
        "id": "view-in-github",
        "colab_type": "text"
      },
      "source": [
        "<a href=\"https://colab.research.google.com/github/ImJongHwan/practice-ml-nlp/blob/main/8_recurrent_neural_network/6_Test_Generation_using_RNN.ipynb\" target=\"_parent\"><img src=\"https://colab.research.google.com/assets/colab-badge.svg\" alt=\"Open In Colab\"/></a>"
      ]
    },
    {
      "cell_type": "markdown",
      "source": [
        "# RNN을 이용한 텍스트 생성(Text Generation using RNN)\n",
        "\n",
        "https://wikidocs.net/45101"
      ],
      "metadata": {
        "id": "lnsSUyAu_1xV"
      }
    },
    {
      "cell_type": "markdown",
      "source": [
        "## RNN을 이용하여 텍스트 생성하기"
      ],
      "metadata": {
        "id": "KZs0hdRg_57V"
      }
    },
    {
      "cell_type": "code",
      "execution_count": 2,
      "metadata": {
        "id": "dMKHv0My_wTr"
      },
      "outputs": [],
      "source": [
        "import numpy as np\n",
        "from tensorflow.keras.preprocessing.text import Tokenizer\n",
        "from tensorflow.keras.preprocessing.sequence import pad_sequences\n",
        "from tensorflow.keras.utils import to_categorical"
      ]
    },
    {
      "cell_type": "code",
      "source": [
        "text = \"\"\"경마장에 있는 말이 뛰고 있다\\n\n",
        "그의 말이 법이다\\n\n",
        "가는 말이 고와야 오는 말이 곱다\\n\"\"\""
      ],
      "metadata": {
        "id": "IoTygOR2AJNk"
      },
      "execution_count": 4,
      "outputs": []
    },
    {
      "cell_type": "code",
      "source": [
        "tokenizer = Tokenizer()\n",
        "tokenizer.fit_on_texts([text])\n",
        "vocab_size = len(tokenizer.word_index) + 1\n",
        "print('단어 집합의 크기: %d' % vocab_size)"
      ],
      "metadata": {
        "colab": {
          "base_uri": "https://localhost:8080/"
        },
        "id": "YPOWuPtaALUX",
        "outputId": "e68b027b-3447-4500-f061-366d1bacd25a"
      },
      "execution_count": 5,
      "outputs": [
        {
          "output_type": "stream",
          "name": "stdout",
          "text": [
            "단어 집합의 크기: 12\n"
          ]
        }
      ]
    },
    {
      "cell_type": "code",
      "source": [
        "print(tokenizer.word_index)"
      ],
      "metadata": {
        "colab": {
          "base_uri": "https://localhost:8080/"
        },
        "id": "ZhuHP6VdAne8",
        "outputId": "499054eb-7d53-48d3-fd42-5d598a842c54"
      },
      "execution_count": 6,
      "outputs": [
        {
          "output_type": "stream",
          "name": "stdout",
          "text": [
            "{'말이': 1, '경마장에': 2, '있는': 3, '뛰고': 4, '있다': 5, '그의': 6, '법이다': 7, '가는': 8, '고와야': 9, '오는': 10, '곱다': 11}\n"
          ]
        }
      ]
    },
    {
      "cell_type": "code",
      "source": [
        "sequences = list()\n",
        "for line in text.split('\\n'):\n",
        "  encoded = tokenizer.texts_to_sequences([line])[0]\n",
        "  for i in range(1, len(encoded)):\n",
        "    sequence = encoded[:i+1]\n",
        "    sequences.append(sequence)\n",
        "\n",
        "print('학습에 사용할 샘플의 개수: %d' % len(sequences))"
      ],
      "metadata": {
        "colab": {
          "base_uri": "https://localhost:8080/"
        },
        "id": "WZpa_x1TAtVj",
        "outputId": "20d19dd8-eae8-40a7-85c9-99ec83bd5c50"
      },
      "execution_count": 7,
      "outputs": [
        {
          "output_type": "stream",
          "name": "stdout",
          "text": [
            "학습에 사용할 샘플의 개수: 11\n"
          ]
        }
      ]
    },
    {
      "cell_type": "code",
      "source": [
        "print(sequences)"
      ],
      "metadata": {
        "colab": {
          "base_uri": "https://localhost:8080/"
        },
        "id": "szY3HlKcBAbA",
        "outputId": "86c9f2ae-8455-4fe5-c436-a0043d1e3e1c"
      },
      "execution_count": 8,
      "outputs": [
        {
          "output_type": "stream",
          "name": "stdout",
          "text": [
            "[[2, 3], [2, 3, 1], [2, 3, 1, 4], [2, 3, 1, 4, 5], [6, 1], [6, 1, 7], [8, 1], [8, 1, 9], [8, 1, 9, 10], [8, 1, 9, 10, 1], [8, 1, 9, 10, 1, 11]]\n"
          ]
        }
      ]
    },
    {
      "cell_type": "code",
      "source": [
        "max_len = max(len(l) for l in sequences)\n",
        "print(f'샘플의 최대 길이: {max_len}')"
      ],
      "metadata": {
        "colab": {
          "base_uri": "https://localhost:8080/"
        },
        "id": "cS2DLGFCBCj4",
        "outputId": "8d87d26b-0863-4151-89da-1ac9ca5bf83c"
      },
      "execution_count": 9,
      "outputs": [
        {
          "output_type": "stream",
          "name": "stdout",
          "text": [
            "샘플의 최대 길이: 6\n"
          ]
        }
      ]
    },
    {
      "cell_type": "code",
      "source": [
        "sequences = pad_sequences(sequences, maxlen=max_len, padding='pre')"
      ],
      "metadata": {
        "id": "r69p2GMJFeYf"
      },
      "execution_count": 10,
      "outputs": []
    },
    {
      "cell_type": "code",
      "source": [
        "print(sequences)"
      ],
      "metadata": {
        "colab": {
          "base_uri": "https://localhost:8080/"
        },
        "id": "P-RnW8zSFjdk",
        "outputId": "3dfea5c5-0056-4ac6-e791-7a8a378f275b"
      },
      "execution_count": 13,
      "outputs": [
        {
          "output_type": "stream",
          "name": "stdout",
          "text": [
            "[[ 0  0  0  0  2  3]\n",
            " [ 0  0  0  2  3  1]\n",
            " [ 0  0  2  3  1  4]\n",
            " [ 0  2  3  1  4  5]\n",
            " [ 0  0  0  0  6  1]\n",
            " [ 0  0  0  6  1  7]\n",
            " [ 0  0  0  0  8  1]\n",
            " [ 0  0  0  8  1  9]\n",
            " [ 0  0  8  1  9 10]\n",
            " [ 0  8  1  9 10  1]\n",
            " [ 8  1  9 10  1 11]]\n"
          ]
        }
      ]
    },
    {
      "cell_type": "code",
      "source": [
        "sequences = np.array(sequences)\n",
        "X = sequences[:, :-1]\n",
        "y = sequences[:, -1]"
      ],
      "metadata": {
        "id": "IEjJvvKDFkkT"
      },
      "execution_count": 14,
      "outputs": []
    },
    {
      "cell_type": "code",
      "source": [
        "print(X)"
      ],
      "metadata": {
        "colab": {
          "base_uri": "https://localhost:8080/"
        },
        "id": "UvN3LrFIFvjW",
        "outputId": "ce819ba5-bb70-4fb2-83e2-218a7c30f705"
      },
      "execution_count": 15,
      "outputs": [
        {
          "output_type": "stream",
          "name": "stdout",
          "text": [
            "[[ 0  0  0  0  2]\n",
            " [ 0  0  0  2  3]\n",
            " [ 0  0  2  3  1]\n",
            " [ 0  2  3  1  4]\n",
            " [ 0  0  0  0  6]\n",
            " [ 0  0  0  6  1]\n",
            " [ 0  0  0  0  8]\n",
            " [ 0  0  0  8  1]\n",
            " [ 0  0  8  1  9]\n",
            " [ 0  8  1  9 10]\n",
            " [ 8  1  9 10  1]]\n"
          ]
        }
      ]
    },
    {
      "cell_type": "code",
      "source": [
        "print(y)"
      ],
      "metadata": {
        "colab": {
          "base_uri": "https://localhost:8080/"
        },
        "id": "ZLGz52bTFwOQ",
        "outputId": "665001ff-6111-422d-8ae8-6efabe243e0d"
      },
      "execution_count": 16,
      "outputs": [
        {
          "output_type": "stream",
          "name": "stdout",
          "text": [
            "[ 3  1  4  5  1  7  1  9 10  1 11]\n"
          ]
        }
      ]
    },
    {
      "cell_type": "code",
      "source": [
        "y = to_categorical(y, num_classes=vocab_size)\n",
        "print(y)"
      ],
      "metadata": {
        "colab": {
          "base_uri": "https://localhost:8080/"
        },
        "id": "yCtGpydkFy6K",
        "outputId": "4ac8fe4f-3a4d-42af-c6d7-11de691e09f2"
      },
      "execution_count": 17,
      "outputs": [
        {
          "output_type": "stream",
          "name": "stdout",
          "text": [
            "[[0. 0. 0. 1. 0. 0. 0. 0. 0. 0. 0. 0.]\n",
            " [0. 1. 0. 0. 0. 0. 0. 0. 0. 0. 0. 0.]\n",
            " [0. 0. 0. 0. 1. 0. 0. 0. 0. 0. 0. 0.]\n",
            " [0. 0. 0. 0. 0. 1. 0. 0. 0. 0. 0. 0.]\n",
            " [0. 1. 0. 0. 0. 0. 0. 0. 0. 0. 0. 0.]\n",
            " [0. 0. 0. 0. 0. 0. 0. 1. 0. 0. 0. 0.]\n",
            " [0. 1. 0. 0. 0. 0. 0. 0. 0. 0. 0. 0.]\n",
            " [0. 0. 0. 0. 0. 0. 0. 0. 0. 1. 0. 0.]\n",
            " [0. 0. 0. 0. 0. 0. 0. 0. 0. 0. 1. 0.]\n",
            " [0. 1. 0. 0. 0. 0. 0. 0. 0. 0. 0. 0.]\n",
            " [0. 0. 0. 0. 0. 0. 0. 0. 0. 0. 0. 1.]]\n"
          ]
        }
      ]
    },
    {
      "cell_type": "code",
      "source": [
        "from tensorflow.keras.models import Sequential\n",
        "from tensorflow.keras.layers import Embedding, Dense, SimpleRNN"
      ],
      "metadata": {
        "id": "4nw10ruaF4UK"
      },
      "execution_count": 18,
      "outputs": []
    },
    {
      "cell_type": "code",
      "source": [
        "embedding_dim = 10\n",
        "hidden_units = 32\n",
        "\n",
        "model = Sequential()\n",
        "model.add(Embedding(vocab_size, embedding_dim))\n",
        "model.add(SimpleRNN(hidden_units))\n",
        "model.add(Dense(vocab_size, activation='softmax'))\n",
        "model.compile(loss='categorical_crossentropy', optimizer='adam', metrics=['accuracy'])\n",
        "model.fit(X, y, epochs=200, verbose=2)"
      ],
      "metadata": {
        "id": "SaySr4gqGBtQ"
      },
      "execution_count": null,
      "outputs": []
    },
    {
      "cell_type": "code",
      "source": [
        "def sentence_generation(model, tokinzer, current_word, n):\n",
        "  init_word = current_word\n",
        "  sentence = ''\n",
        "\n",
        "  for _ in range(n):\n",
        "    encoded = tokenizer.texts_to_sequences([current_word])[0]\n",
        "    encoded = pad_sequences([encoded], maxlen=5, padding='pre')\n",
        "    result = model.predict(encoded, verbose=0)\n",
        "    result = np.argmax(result, axis=1)\n",
        "\n",
        "    for word, index in tokenizer.word_index.items():\n",
        "      if index == result:\n",
        "        break\n",
        "      \n",
        "    current_word = current_word + ' ' + word\n",
        "    sentence = sentence + ' '+ word\n",
        "\n",
        "  sentence = init_word + sentence\n",
        "  return sentence"
      ],
      "metadata": {
        "id": "l6OJDYrIGWuW"
      },
      "execution_count": 23,
      "outputs": []
    },
    {
      "cell_type": "code",
      "source": [
        "print(sentence_generation(model, tokenizer, '경마장에', 4))"
      ],
      "metadata": {
        "colab": {
          "base_uri": "https://localhost:8080/"
        },
        "id": "ZxQpDqIKHCXq",
        "outputId": "96712c17-c2e0-4720-f130-a86e3c6f1f4e"
      },
      "execution_count": 24,
      "outputs": [
        {
          "output_type": "stream",
          "name": "stdout",
          "text": [
            "경마장에 있는 말이 뛰고 있다\n"
          ]
        }
      ]
    },
    {
      "cell_type": "code",
      "source": [
        "print(sentence_generation(model, tokenizer, '그의', 2))"
      ],
      "metadata": {
        "colab": {
          "base_uri": "https://localhost:8080/"
        },
        "id": "fk-uA0anHNwp",
        "outputId": "8b38a558-dbb9-4856-d751-457a889fa8ca"
      },
      "execution_count": 25,
      "outputs": [
        {
          "output_type": "stream",
          "name": "stdout",
          "text": [
            "그의 말이 법이다\n"
          ]
        }
      ]
    },
    {
      "cell_type": "code",
      "source": [
        "print(sentence_generation(model, tokenizer, '가는', 5))"
      ],
      "metadata": {
        "colab": {
          "base_uri": "https://localhost:8080/"
        },
        "id": "ogG7PPVQHSzH",
        "outputId": "85eb5ce1-055d-4334-8370-03ea12d3761b"
      },
      "execution_count": 26,
      "outputs": [
        {
          "output_type": "stream",
          "name": "stdout",
          "text": [
            "가는 말이 고와야 오는 말이 곱다\n"
          ]
        }
      ]
    },
    {
      "cell_type": "markdown",
      "source": [
        "## LSTM을 이용하여 텍스트 생성하기"
      ],
      "metadata": {
        "id": "aI2OEOToII4C"
      }
    },
    {
      "cell_type": "code",
      "source": [
        "import pandas as pd\n",
        "import numpy as np\n",
        "from string import punctuation\n",
        "\n",
        "from tensorflow.keras.preprocessing.text import Tokenizer\n",
        "from tensorflow.keras.preprocessing.sequence import pad_sequences\n",
        "from tensorflow.keras.utils import to_categorical"
      ],
      "metadata": {
        "id": "07mDtYRSHXop"
      },
      "execution_count": 27,
      "outputs": []
    },
    {
      "cell_type": "code",
      "source": [
        "df = pd.read_csv('ArticlesApril2018.csv')\n",
        "df.head()"
      ],
      "metadata": {
        "colab": {
          "base_uri": "https://localhost:8080/",
          "height": 704
        },
        "id": "B_Tu3AfXIY-v",
        "outputId": "f13ae5f4-c63a-4ef8-8b65-1a21552185f7"
      },
      "execution_count": 28,
      "outputs": [
        {
          "output_type": "execute_result",
          "data": {
            "text/html": [
              "\n",
              "  <div id=\"df-d4dc39c6-2329-4ccb-937c-7d501ef623d2\">\n",
              "    <div class=\"colab-df-container\">\n",
              "      <div>\n",
              "<style scoped>\n",
              "    .dataframe tbody tr th:only-of-type {\n",
              "        vertical-align: middle;\n",
              "    }\n",
              "\n",
              "    .dataframe tbody tr th {\n",
              "        vertical-align: top;\n",
              "    }\n",
              "\n",
              "    .dataframe thead th {\n",
              "        text-align: right;\n",
              "    }\n",
              "</style>\n",
              "<table border=\"1\" class=\"dataframe\">\n",
              "  <thead>\n",
              "    <tr style=\"text-align: right;\">\n",
              "      <th></th>\n",
              "      <th>articleID</th>\n",
              "      <th>articleWordCount</th>\n",
              "      <th>byline</th>\n",
              "      <th>documentType</th>\n",
              "      <th>headline</th>\n",
              "      <th>keywords</th>\n",
              "      <th>multimedia</th>\n",
              "      <th>newDesk</th>\n",
              "      <th>printPage</th>\n",
              "      <th>pubDate</th>\n",
              "      <th>sectionName</th>\n",
              "      <th>snippet</th>\n",
              "      <th>source</th>\n",
              "      <th>typeOfMaterial</th>\n",
              "      <th>webURL</th>\n",
              "    </tr>\n",
              "  </thead>\n",
              "  <tbody>\n",
              "    <tr>\n",
              "      <th>0</th>\n",
              "      <td>5adf6684068401528a2aa69b</td>\n",
              "      <td>781</td>\n",
              "      <td>By JOHN BRANCH</td>\n",
              "      <td>article</td>\n",
              "      <td>Former N.F.L. Cheerleaders’ Settlement Offer: ...</td>\n",
              "      <td>['Workplace Hazards and Violations', 'Football...</td>\n",
              "      <td>68</td>\n",
              "      <td>Sports</td>\n",
              "      <td>0</td>\n",
              "      <td>2018-04-24 17:16:49</td>\n",
              "      <td>Pro Football</td>\n",
              "      <td>“I understand that they could meet with us, pa...</td>\n",
              "      <td>The New York Times</td>\n",
              "      <td>News</td>\n",
              "      <td>https://www.nytimes.com/2018/04/24/sports/foot...</td>\n",
              "    </tr>\n",
              "    <tr>\n",
              "      <th>1</th>\n",
              "      <td>5adf653f068401528a2aa697</td>\n",
              "      <td>656</td>\n",
              "      <td>By LISA FRIEDMAN</td>\n",
              "      <td>article</td>\n",
              "      <td>E.P.A. to Unveil a New Rule. Its Effect: Less ...</td>\n",
              "      <td>['Environmental Protection Agency', 'Pruitt, S...</td>\n",
              "      <td>68</td>\n",
              "      <td>Climate</td>\n",
              "      <td>0</td>\n",
              "      <td>2018-04-24 17:11:21</td>\n",
              "      <td>Unknown</td>\n",
              "      <td>The agency plans to publish a new regulation T...</td>\n",
              "      <td>The New York Times</td>\n",
              "      <td>News</td>\n",
              "      <td>https://www.nytimes.com/2018/04/24/climate/epa...</td>\n",
              "    </tr>\n",
              "    <tr>\n",
              "      <th>2</th>\n",
              "      <td>5adf4626068401528a2aa628</td>\n",
              "      <td>2427</td>\n",
              "      <td>By PETE WELLS</td>\n",
              "      <td>article</td>\n",
              "      <td>The New Noma, Explained</td>\n",
              "      <td>['Restaurants', 'Noma (Copenhagen, Restaurant)...</td>\n",
              "      <td>66</td>\n",
              "      <td>Dining</td>\n",
              "      <td>0</td>\n",
              "      <td>2018-04-24 14:58:44</td>\n",
              "      <td>Unknown</td>\n",
              "      <td>What’s it like to eat at the second incarnatio...</td>\n",
              "      <td>The New York Times</td>\n",
              "      <td>News</td>\n",
              "      <td>https://www.nytimes.com/2018/04/24/dining/noma...</td>\n",
              "    </tr>\n",
              "    <tr>\n",
              "      <th>3</th>\n",
              "      <td>5adf40d2068401528a2aa619</td>\n",
              "      <td>626</td>\n",
              "      <td>By JULIE HIRSCHFELD DAVIS and PETER BAKER</td>\n",
              "      <td>article</td>\n",
              "      <td>Unknown</td>\n",
              "      <td>['Macron, Emmanuel (1977- )', 'Trump, Donald J...</td>\n",
              "      <td>68</td>\n",
              "      <td>Washington</td>\n",
              "      <td>0</td>\n",
              "      <td>2018-04-24 14:35:57</td>\n",
              "      <td>Europe</td>\n",
              "      <td>President Trump welcomed President Emmanuel Ma...</td>\n",
              "      <td>The New York Times</td>\n",
              "      <td>News</td>\n",
              "      <td>https://www.nytimes.com/2018/04/24/world/europ...</td>\n",
              "    </tr>\n",
              "    <tr>\n",
              "      <th>4</th>\n",
              "      <td>5adf3d64068401528a2aa60f</td>\n",
              "      <td>815</td>\n",
              "      <td>By IAN AUSTEN and DAN BILEFSKY</td>\n",
              "      <td>article</td>\n",
              "      <td>Unknown</td>\n",
              "      <td>['Toronto, Ontario, Attack (April, 2018)', 'Mu...</td>\n",
              "      <td>68</td>\n",
              "      <td>Foreign</td>\n",
              "      <td>0</td>\n",
              "      <td>2018-04-24 14:21:21</td>\n",
              "      <td>Canada</td>\n",
              "      <td>Alek Minassian, 25, a resident of Toronto’s Ri...</td>\n",
              "      <td>The New York Times</td>\n",
              "      <td>News</td>\n",
              "      <td>https://www.nytimes.com/2018/04/24/world/canad...</td>\n",
              "    </tr>\n",
              "  </tbody>\n",
              "</table>\n",
              "</div>\n",
              "      <button class=\"colab-df-convert\" onclick=\"convertToInteractive('df-d4dc39c6-2329-4ccb-937c-7d501ef623d2')\"\n",
              "              title=\"Convert this dataframe to an interactive table.\"\n",
              "              style=\"display:none;\">\n",
              "        \n",
              "  <svg xmlns=\"http://www.w3.org/2000/svg\" height=\"24px\"viewBox=\"0 0 24 24\"\n",
              "       width=\"24px\">\n",
              "    <path d=\"M0 0h24v24H0V0z\" fill=\"none\"/>\n",
              "    <path d=\"M18.56 5.44l.94 2.06.94-2.06 2.06-.94-2.06-.94-.94-2.06-.94 2.06-2.06.94zm-11 1L8.5 8.5l.94-2.06 2.06-.94-2.06-.94L8.5 2.5l-.94 2.06-2.06.94zm10 10l.94 2.06.94-2.06 2.06-.94-2.06-.94-.94-2.06-.94 2.06-2.06.94z\"/><path d=\"M17.41 7.96l-1.37-1.37c-.4-.4-.92-.59-1.43-.59-.52 0-1.04.2-1.43.59L10.3 9.45l-7.72 7.72c-.78.78-.78 2.05 0 2.83L4 21.41c.39.39.9.59 1.41.59.51 0 1.02-.2 1.41-.59l7.78-7.78 2.81-2.81c.8-.78.8-2.07 0-2.86zM5.41 20L4 18.59l7.72-7.72 1.47 1.35L5.41 20z\"/>\n",
              "  </svg>\n",
              "      </button>\n",
              "      \n",
              "  <style>\n",
              "    .colab-df-container {\n",
              "      display:flex;\n",
              "      flex-wrap:wrap;\n",
              "      gap: 12px;\n",
              "    }\n",
              "\n",
              "    .colab-df-convert {\n",
              "      background-color: #E8F0FE;\n",
              "      border: none;\n",
              "      border-radius: 50%;\n",
              "      cursor: pointer;\n",
              "      display: none;\n",
              "      fill: #1967D2;\n",
              "      height: 32px;\n",
              "      padding: 0 0 0 0;\n",
              "      width: 32px;\n",
              "    }\n",
              "\n",
              "    .colab-df-convert:hover {\n",
              "      background-color: #E2EBFA;\n",
              "      box-shadow: 0px 1px 2px rgba(60, 64, 67, 0.3), 0px 1px 3px 1px rgba(60, 64, 67, 0.15);\n",
              "      fill: #174EA6;\n",
              "    }\n",
              "\n",
              "    [theme=dark] .colab-df-convert {\n",
              "      background-color: #3B4455;\n",
              "      fill: #D2E3FC;\n",
              "    }\n",
              "\n",
              "    [theme=dark] .colab-df-convert:hover {\n",
              "      background-color: #434B5C;\n",
              "      box-shadow: 0px 1px 3px 1px rgba(0, 0, 0, 0.15);\n",
              "      filter: drop-shadow(0px 1px 2px rgba(0, 0, 0, 0.3));\n",
              "      fill: #FFFFFF;\n",
              "    }\n",
              "  </style>\n",
              "\n",
              "      <script>\n",
              "        const buttonEl =\n",
              "          document.querySelector('#df-d4dc39c6-2329-4ccb-937c-7d501ef623d2 button.colab-df-convert');\n",
              "        buttonEl.style.display =\n",
              "          google.colab.kernel.accessAllowed ? 'block' : 'none';\n",
              "\n",
              "        async function convertToInteractive(key) {\n",
              "          const element = document.querySelector('#df-d4dc39c6-2329-4ccb-937c-7d501ef623d2');\n",
              "          const dataTable =\n",
              "            await google.colab.kernel.invokeFunction('convertToInteractive',\n",
              "                                                     [key], {});\n",
              "          if (!dataTable) return;\n",
              "\n",
              "          const docLinkHtml = 'Like what you see? Visit the ' +\n",
              "            '<a target=\"_blank\" href=https://colab.research.google.com/notebooks/data_table.ipynb>data table notebook</a>'\n",
              "            + ' to learn more about interactive tables.';\n",
              "          element.innerHTML = '';\n",
              "          dataTable['output_type'] = 'display_data';\n",
              "          await google.colab.output.renderOutput(dataTable, element);\n",
              "          const docLink = document.createElement('div');\n",
              "          docLink.innerHTML = docLinkHtml;\n",
              "          element.appendChild(docLink);\n",
              "        }\n",
              "      </script>\n",
              "    </div>\n",
              "  </div>\n",
              "  "
            ],
            "text/plain": [
              "                  articleID  ...                                             webURL\n",
              "0  5adf6684068401528a2aa69b  ...  https://www.nytimes.com/2018/04/24/sports/foot...\n",
              "1  5adf653f068401528a2aa697  ...  https://www.nytimes.com/2018/04/24/climate/epa...\n",
              "2  5adf4626068401528a2aa628  ...  https://www.nytimes.com/2018/04/24/dining/noma...\n",
              "3  5adf40d2068401528a2aa619  ...  https://www.nytimes.com/2018/04/24/world/europ...\n",
              "4  5adf3d64068401528a2aa60f  ...  https://www.nytimes.com/2018/04/24/world/canad...\n",
              "\n",
              "[5 rows x 15 columns]"
            ]
          },
          "metadata": {},
          "execution_count": 28
        }
      ]
    },
    {
      "cell_type": "code",
      "source": [
        "print('열의 개수: ', len(df.columns))\n",
        "print(df.columns)"
      ],
      "metadata": {
        "colab": {
          "base_uri": "https://localhost:8080/"
        },
        "id": "sp3Sxgg9IdVn",
        "outputId": "e6264234-14d9-4a5b-d3d9-8b499bf7b235"
      },
      "execution_count": 29,
      "outputs": [
        {
          "output_type": "stream",
          "name": "stdout",
          "text": [
            "열의 개수:  15\n",
            "Index(['articleID', 'articleWordCount', 'byline', 'documentType', 'headline',\n",
            "       'keywords', 'multimedia', 'newDesk', 'printPage', 'pubDate',\n",
            "       'sectionName', 'snippet', 'source', 'typeOfMaterial', 'webURL'],\n",
            "      dtype='object')\n"
          ]
        }
      ]
    },
    {
      "cell_type": "code",
      "source": [
        "print(df['headline'].isnull().values.any())"
      ],
      "metadata": {
        "colab": {
          "base_uri": "https://localhost:8080/"
        },
        "id": "tFckboTpIpxY",
        "outputId": "11e0db68-2f15-4cf5-8003-2e7a50bb7cc4"
      },
      "execution_count": 31,
      "outputs": [
        {
          "output_type": "stream",
          "name": "stdout",
          "text": [
            "False\n"
          ]
        }
      ]
    },
    {
      "cell_type": "code",
      "source": [
        "headline = []\n",
        "\n",
        "headline.extend(list(df.headline.values))\n",
        "headline[:5]"
      ],
      "metadata": {
        "colab": {
          "base_uri": "https://localhost:8080/"
        },
        "id": "UovPTSAxIv9g",
        "outputId": "75efd787-e236-4fb0-823e-52edd2b9c0c1"
      },
      "execution_count": 32,
      "outputs": [
        {
          "output_type": "execute_result",
          "data": {
            "text/plain": [
              "['Former N.F.L. Cheerleaders’ Settlement Offer: $1 and a Meeting With Goodell',\n",
              " 'E.P.A. to Unveil a New Rule. Its Effect: Less Science in Policymaking.',\n",
              " 'The New Noma, Explained',\n",
              " 'Unknown',\n",
              " 'Unknown']"
            ]
          },
          "metadata": {},
          "execution_count": 32
        }
      ]
    },
    {
      "cell_type": "code",
      "source": [
        "print(f'총 샘플의 개수: {len(headline)}')"
      ],
      "metadata": {
        "colab": {
          "base_uri": "https://localhost:8080/"
        },
        "id": "l2YoNabcI07e",
        "outputId": "5239f747-7258-454c-c693-441abc6f7ec9"
      },
      "execution_count": 33,
      "outputs": [
        {
          "output_type": "stream",
          "name": "stdout",
          "text": [
            "총 샘플의 개수: 1324\n"
          ]
        }
      ]
    },
    {
      "cell_type": "code",
      "source": [
        "headline = [word for word in headline if word != 'Unknown']\n",
        "print(f'노이즈값 제거 후 샘플의 개수: {len(headline)}')"
      ],
      "metadata": {
        "colab": {
          "base_uri": "https://localhost:8080/"
        },
        "id": "g6hSw6DWJ46c",
        "outputId": "b47601de-ac13-4494-bde6-1e0c59ec8ebc"
      },
      "execution_count": 34,
      "outputs": [
        {
          "output_type": "stream",
          "name": "stdout",
          "text": [
            "노이즈값 제거 후 샘플의 개수: 1214\n"
          ]
        }
      ]
    },
    {
      "cell_type": "code",
      "source": [
        "headline[:5]"
      ],
      "metadata": {
        "colab": {
          "base_uri": "https://localhost:8080/"
        },
        "id": "sYZrrQNIKBxP",
        "outputId": "12722206-025e-446e-b447-1a5b2b303f64"
      },
      "execution_count": 35,
      "outputs": [
        {
          "output_type": "execute_result",
          "data": {
            "text/plain": [
              "['Former N.F.L. Cheerleaders’ Settlement Offer: $1 and a Meeting With Goodell',\n",
              " 'E.P.A. to Unveil a New Rule. Its Effect: Less Science in Policymaking.',\n",
              " 'The New Noma, Explained',\n",
              " 'How a Bag of Texas Dirt  Became a Times Tradition',\n",
              " 'Is School a Place for Self-Expression?']"
            ]
          },
          "metadata": {},
          "execution_count": 35
        }
      ]
    },
    {
      "cell_type": "code",
      "source": [
        "def repreprocessing(raw_sentence):\n",
        "  preproceseed_sentence = raw_sentence.encode('utf8').decode('ascii', 'ignore')\n",
        "  return ''.join(word for word in preproceseed_sentence if word not in punctuation).lower()\n",
        "\n",
        "preprocessed_headline = [repreprocessing(x) for x in headline]\n",
        "preprocessed_headline[:5]"
      ],
      "metadata": {
        "colab": {
          "base_uri": "https://localhost:8080/"
        },
        "id": "nuo31FVtKG8G",
        "outputId": "f33b7676-59ff-49a4-c087-26c9a820e83a"
      },
      "execution_count": 36,
      "outputs": [
        {
          "output_type": "execute_result",
          "data": {
            "text/plain": [
              "['former nfl cheerleaders settlement offer 1 and a meeting with goodell',\n",
              " 'epa to unveil a new rule its effect less science in policymaking',\n",
              " 'the new noma explained',\n",
              " 'how a bag of texas dirt  became a times tradition',\n",
              " 'is school a place for selfexpression']"
            ]
          },
          "metadata": {},
          "execution_count": 36
        }
      ]
    },
    {
      "cell_type": "code",
      "source": [
        "tokenizer = Tokenizer()\n",
        "tokenizer.fit_on_texts(preprocessed_headline)\n",
        "vocab_size = len(tokenizer.word_index) + 1\n",
        "print('단어 집합의 크기: %d' % vocab_size)"
      ],
      "metadata": {
        "colab": {
          "base_uri": "https://localhost:8080/"
        },
        "id": "tHk4CZtkKiXb",
        "outputId": "771c5ab6-cb65-480b-ad63-a2ae39da4fe0"
      },
      "execution_count": 38,
      "outputs": [
        {
          "output_type": "stream",
          "name": "stdout",
          "text": [
            "단어 집합의 크기: 3494\n"
          ]
        }
      ]
    },
    {
      "cell_type": "code",
      "source": [
        "sequences = list()\n",
        "\n",
        "for sentence in preprocessed_headline:\n",
        "  encoded = tokenizer.texts_to_sequences([sentence])[0]\n",
        "  for i in range(1, len(encoded)):\n",
        "    sequence = encoded[:i+1]\n",
        "    sequences.append(sequence)\n",
        "\n",
        "sequences[:11]"
      ],
      "metadata": {
        "colab": {
          "base_uri": "https://localhost:8080/"
        },
        "id": "-5AivUY1KyGv",
        "outputId": "98ffd35b-afaf-4e00-fef8-52b0f724c132"
      },
      "execution_count": 39,
      "outputs": [
        {
          "output_type": "execute_result",
          "data": {
            "text/plain": [
              "[[99, 269],\n",
              " [99, 269, 371],\n",
              " [99, 269, 371, 1115],\n",
              " [99, 269, 371, 1115, 582],\n",
              " [99, 269, 371, 1115, 582, 52],\n",
              " [99, 269, 371, 1115, 582, 52, 7],\n",
              " [99, 269, 371, 1115, 582, 52, 7, 2],\n",
              " [99, 269, 371, 1115, 582, 52, 7, 2, 372],\n",
              " [99, 269, 371, 1115, 582, 52, 7, 2, 372, 10],\n",
              " [99, 269, 371, 1115, 582, 52, 7, 2, 372, 10, 1116],\n",
              " [100, 3]]"
            ]
          },
          "metadata": {},
          "execution_count": 39
        }
      ]
    },
    {
      "cell_type": "code",
      "source": [
        "index_to_word = {}\n",
        "\n",
        "for key, value in tokenizer.word_index.items():\n",
        "  index_to_word[value] = key\n",
        "\n",
        "print(f'빈도수 상위 582번 단어: {index_to_word[582]}')"
      ],
      "metadata": {
        "colab": {
          "base_uri": "https://localhost:8080/"
        },
        "id": "P4aNUR6dLFoI",
        "outputId": "9540bc7b-4795-4931-c0a0-5b99e77e108a"
      },
      "execution_count": 40,
      "outputs": [
        {
          "output_type": "stream",
          "name": "stdout",
          "text": [
            "빈도수 상위 582번 단어: offer\n"
          ]
        }
      ]
    },
    {
      "cell_type": "code",
      "source": [
        "max_len = max(len(l) for l in sequences)\n",
        "print(f'샘플의 최대 길이: {max_len}')"
      ],
      "metadata": {
        "colab": {
          "base_uri": "https://localhost:8080/"
        },
        "id": "IgMVVl6XLgEN",
        "outputId": "db0cc9f8-47a9-49f9-ec64-366b2b3ea425"
      },
      "execution_count": 41,
      "outputs": [
        {
          "output_type": "stream",
          "name": "stdout",
          "text": [
            "샘플의 최대 길이: 24\n"
          ]
        }
      ]
    },
    {
      "cell_type": "code",
      "source": [
        "sequences = pad_sequences(sequences, maxlen=max_len, padding='pre')\n",
        "print(sequences[:3])"
      ],
      "metadata": {
        "colab": {
          "base_uri": "https://localhost:8080/"
        },
        "id": "3qfjUCCZLnP0",
        "outputId": "8883e99d-0a14-44ca-c0ea-dfc4e2c3cc68"
      },
      "execution_count": 43,
      "outputs": [
        {
          "output_type": "stream",
          "name": "stdout",
          "text": [
            "[[   0    0    0    0    0    0    0    0    0    0    0    0    0    0\n",
            "     0    0    0    0    0    0    0    0   99  269]\n",
            " [   0    0    0    0    0    0    0    0    0    0    0    0    0    0\n",
            "     0    0    0    0    0    0    0   99  269  371]\n",
            " [   0    0    0    0    0    0    0    0    0    0    0    0    0    0\n",
            "     0    0    0    0    0    0   99  269  371 1115]]\n"
          ]
        }
      ]
    },
    {
      "cell_type": "code",
      "source": [
        "sequences = np.array(sequences)\n",
        "X = sequences[:, :-1]\n",
        "y = sequences[:, -1]\n",
        "\n",
        "print(X[:3])"
      ],
      "metadata": {
        "colab": {
          "base_uri": "https://localhost:8080/"
        },
        "id": "IJIwV9eiLuel",
        "outputId": "6fba2290-8f86-47bb-bbac-fdaaccac53ac"
      },
      "execution_count": 45,
      "outputs": [
        {
          "output_type": "stream",
          "name": "stdout",
          "text": [
            "[[  0   0   0   0   0   0   0   0   0   0   0   0   0   0   0   0   0   0\n",
            "    0   0   0   0  99]\n",
            " [  0   0   0   0   0   0   0   0   0   0   0   0   0   0   0   0   0   0\n",
            "    0   0   0  99 269]\n",
            " [  0   0   0   0   0   0   0   0   0   0   0   0   0   0   0   0   0   0\n",
            "    0   0  99 269 371]]\n"
          ]
        }
      ]
    },
    {
      "cell_type": "code",
      "source": [
        "print(y[:3])"
      ],
      "metadata": {
        "colab": {
          "base_uri": "https://localhost:8080/"
        },
        "id": "y-WplwxZL4Ay",
        "outputId": "9985df54-6129-4e7f-f9ba-cfc669f1a2a9"
      },
      "execution_count": 46,
      "outputs": [
        {
          "output_type": "stream",
          "name": "stdout",
          "text": [
            "[ 269  371 1115]\n"
          ]
        }
      ]
    },
    {
      "cell_type": "code",
      "source": [
        "y = to_categorical(y, num_classes=vocab_size)"
      ],
      "metadata": {
        "id": "cKbDJEPmL8JA"
      },
      "execution_count": 47,
      "outputs": []
    },
    {
      "cell_type": "markdown",
      "source": [
        "### 모델 설계하기"
      ],
      "metadata": {
        "id": "6KD1TSvGMIvc"
      }
    },
    {
      "cell_type": "code",
      "source": [
        "from tensorflow.keras.models import Sequential\n",
        "from tensorflow.keras.layers import Embedding, Dense, LSTM"
      ],
      "metadata": {
        "id": "Tx0LEgWdL_v_"
      },
      "execution_count": 48,
      "outputs": []
    },
    {
      "cell_type": "code",
      "source": [
        "embedding_dim = 10\n",
        "hidden_units = 128\n",
        "\n",
        "model = Sequential()\n",
        "model.add(Embedding(vocab_size, embedding_dim))\n",
        "model.add(LSTM(hidden_units))\n",
        "model.add(Dense(vocab_size, activation='softmax'))\n",
        "model.compile(loss='categorical_crossentropy', optimizer='adam', metrics=['accuracy'])\n",
        "model.fit(X, y, epochs=200, verbose=2)"
      ],
      "metadata": {
        "colab": {
          "base_uri": "https://localhost:8080/"
        },
        "id": "twI5oJAWMRgX",
        "outputId": "b99c6ac7-02fb-43c8-abdd-b667fd260302"
      },
      "execution_count": 50,
      "outputs": [
        {
          "output_type": "stream",
          "name": "stdout",
          "text": [
            "Epoch 1/200\n",
            "244/244 - 12s - loss: 7.6529 - accuracy: 0.0293 - 12s/epoch - 50ms/step\n",
            "Epoch 2/200\n",
            "244/244 - 11s - loss: 7.1164 - accuracy: 0.0301 - 11s/epoch - 45ms/step\n",
            "Epoch 3/200\n",
            "244/244 - 10s - loss: 6.9783 - accuracy: 0.0323 - 10s/epoch - 40ms/step\n",
            "Epoch 4/200\n",
            "244/244 - 11s - loss: 6.8539 - accuracy: 0.0397 - 11s/epoch - 44ms/step\n",
            "Epoch 5/200\n",
            "244/244 - 11s - loss: 6.7165 - accuracy: 0.0437 - 11s/epoch - 44ms/step\n",
            "Epoch 6/200\n",
            "244/244 - 11s - loss: 6.5550 - accuracy: 0.0481 - 11s/epoch - 44ms/step\n",
            "Epoch 7/200\n",
            "244/244 - 11s - loss: 6.3721 - accuracy: 0.0504 - 11s/epoch - 43ms/step\n",
            "Epoch 8/200\n",
            "244/244 - 11s - loss: 6.1835 - accuracy: 0.0560 - 11s/epoch - 45ms/step\n",
            "Epoch 9/200\n",
            "244/244 - 11s - loss: 5.9947 - accuracy: 0.0613 - 11s/epoch - 47ms/step\n",
            "Epoch 10/200\n",
            "244/244 - 10s - loss: 5.8143 - accuracy: 0.0634 - 10s/epoch - 41ms/step\n",
            "Epoch 11/200\n",
            "244/244 - 10s - loss: 5.6428 - accuracy: 0.0678 - 10s/epoch - 43ms/step\n",
            "Epoch 12/200\n",
            "244/244 - 11s - loss: 5.4754 - accuracy: 0.0739 - 11s/epoch - 45ms/step\n",
            "Epoch 13/200\n",
            "244/244 - 11s - loss: 5.3177 - accuracy: 0.0806 - 11s/epoch - 44ms/step\n",
            "Epoch 14/200\n",
            "244/244 - 10s - loss: 5.1660 - accuracy: 0.0847 - 10s/epoch - 40ms/step\n",
            "Epoch 15/200\n",
            "244/244 - 10s - loss: 5.0206 - accuracy: 0.0962 - 10s/epoch - 42ms/step\n",
            "Epoch 16/200\n",
            "244/244 - 11s - loss: 4.8820 - accuracy: 0.1016 - 11s/epoch - 46ms/step\n",
            "Epoch 17/200\n",
            "244/244 - 12s - loss: 4.7458 - accuracy: 0.1124 - 12s/epoch - 48ms/step\n",
            "Epoch 18/200\n",
            "244/244 - 11s - loss: 4.6164 - accuracy: 0.1210 - 11s/epoch - 45ms/step\n",
            "Epoch 19/200\n",
            "244/244 - 11s - loss: 4.4906 - accuracy: 0.1393 - 11s/epoch - 43ms/step\n",
            "Epoch 20/200\n",
            "244/244 - 8s - loss: 4.3692 - accuracy: 0.1607 - 8s/epoch - 34ms/step\n",
            "Epoch 21/200\n",
            "244/244 - 8s - loss: 4.2484 - accuracy: 0.1734 - 8s/epoch - 33ms/step\n",
            "Epoch 22/200\n",
            "244/244 - 8s - loss: 4.1344 - accuracy: 0.1888 - 8s/epoch - 33ms/step\n",
            "Epoch 23/200\n",
            "244/244 - 8s - loss: 4.0234 - accuracy: 0.2077 - 8s/epoch - 33ms/step\n",
            "Epoch 24/200\n",
            "244/244 - 9s - loss: 3.9176 - accuracy: 0.2216 - 9s/epoch - 35ms/step\n",
            "Epoch 25/200\n",
            "244/244 - 8s - loss: 3.8123 - accuracy: 0.2411 - 8s/epoch - 33ms/step\n",
            "Epoch 26/200\n",
            "244/244 - 8s - loss: 3.7116 - accuracy: 0.2585 - 8s/epoch - 33ms/step\n",
            "Epoch 27/200\n",
            "244/244 - 8s - loss: 3.6133 - accuracy: 0.2786 - 8s/epoch - 33ms/step\n",
            "Epoch 28/200\n",
            "244/244 - 8s - loss: 3.5183 - accuracy: 0.2957 - 8s/epoch - 33ms/step\n",
            "Epoch 29/200\n",
            "244/244 - 8s - loss: 3.4296 - accuracy: 0.3090 - 8s/epoch - 33ms/step\n",
            "Epoch 30/200\n",
            "244/244 - 8s - loss: 3.3417 - accuracy: 0.3235 - 8s/epoch - 34ms/step\n",
            "Epoch 31/200\n",
            "244/244 - 8s - loss: 3.2585 - accuracy: 0.3399 - 8s/epoch - 34ms/step\n",
            "Epoch 32/200\n",
            "244/244 - 8s - loss: 3.1777 - accuracy: 0.3565 - 8s/epoch - 34ms/step\n",
            "Epoch 33/200\n",
            "244/244 - 8s - loss: 3.1061 - accuracy: 0.3681 - 8s/epoch - 33ms/step\n",
            "Epoch 34/200\n",
            "244/244 - 8s - loss: 3.0251 - accuracy: 0.3811 - 8s/epoch - 33ms/step\n",
            "Epoch 35/200\n",
            "244/244 - 8s - loss: 2.9470 - accuracy: 0.3932 - 8s/epoch - 33ms/step\n",
            "Epoch 36/200\n",
            "244/244 - 8s - loss: 2.8803 - accuracy: 0.4104 - 8s/epoch - 33ms/step\n",
            "Epoch 37/200\n",
            "244/244 - 8s - loss: 2.8092 - accuracy: 0.4262 - 8s/epoch - 33ms/step\n",
            "Epoch 38/200\n",
            "244/244 - 8s - loss: 2.7461 - accuracy: 0.4327 - 8s/epoch - 33ms/step\n",
            "Epoch 39/200\n",
            "244/244 - 8s - loss: 2.6820 - accuracy: 0.4509 - 8s/epoch - 33ms/step\n",
            "Epoch 40/200\n",
            "244/244 - 8s - loss: 2.6201 - accuracy: 0.4578 - 8s/epoch - 33ms/step\n",
            "Epoch 41/200\n",
            "244/244 - 8s - loss: 2.5618 - accuracy: 0.4684 - 8s/epoch - 33ms/step\n",
            "Epoch 42/200\n",
            "244/244 - 8s - loss: 2.5024 - accuracy: 0.4829 - 8s/epoch - 33ms/step\n",
            "Epoch 43/200\n",
            "244/244 - 8s - loss: 2.4480 - accuracy: 0.4897 - 8s/epoch - 33ms/step\n",
            "Epoch 44/200\n",
            "244/244 - 8s - loss: 2.3926 - accuracy: 0.5061 - 8s/epoch - 33ms/step\n",
            "Epoch 45/200\n",
            "244/244 - 8s - loss: 2.3390 - accuracy: 0.5145 - 8s/epoch - 33ms/step\n",
            "Epoch 46/200\n",
            "244/244 - 8s - loss: 2.2899 - accuracy: 0.5227 - 8s/epoch - 33ms/step\n",
            "Epoch 47/200\n",
            "244/244 - 8s - loss: 2.2374 - accuracy: 0.5365 - 8s/epoch - 33ms/step\n",
            "Epoch 48/200\n",
            "244/244 - 8s - loss: 2.1889 - accuracy: 0.5500 - 8s/epoch - 33ms/step\n",
            "Epoch 49/200\n",
            "244/244 - 8s - loss: 2.1406 - accuracy: 0.5570 - 8s/epoch - 33ms/step\n",
            "Epoch 50/200\n",
            "244/244 - 8s - loss: 2.0943 - accuracy: 0.5664 - 8s/epoch - 33ms/step\n",
            "Epoch 51/200\n",
            "244/244 - 8s - loss: 2.0472 - accuracy: 0.5799 - 8s/epoch - 33ms/step\n",
            "Epoch 52/200\n",
            "244/244 - 8s - loss: 2.0038 - accuracy: 0.5849 - 8s/epoch - 33ms/step\n",
            "Epoch 53/200\n",
            "244/244 - 8s - loss: 1.9618 - accuracy: 0.5939 - 8s/epoch - 33ms/step\n",
            "Epoch 54/200\n",
            "244/244 - 8s - loss: 1.9159 - accuracy: 0.6093 - 8s/epoch - 33ms/step\n",
            "Epoch 55/200\n",
            "244/244 - 8s - loss: 1.8742 - accuracy: 0.6146 - 8s/epoch - 33ms/step\n",
            "Epoch 56/200\n",
            "244/244 - 8s - loss: 1.8323 - accuracy: 0.6260 - 8s/epoch - 33ms/step\n",
            "Epoch 57/200\n",
            "244/244 - 8s - loss: 1.7941 - accuracy: 0.6345 - 8s/epoch - 33ms/step\n",
            "Epoch 58/200\n",
            "244/244 - 8s - loss: 1.7522 - accuracy: 0.6458 - 8s/epoch - 33ms/step\n",
            "Epoch 59/200\n",
            "244/244 - 8s - loss: 1.7176 - accuracy: 0.6481 - 8s/epoch - 33ms/step\n",
            "Epoch 60/200\n",
            "244/244 - 8s - loss: 1.6799 - accuracy: 0.6596 - 8s/epoch - 34ms/step\n",
            "Epoch 61/200\n",
            "244/244 - 8s - loss: 1.6439 - accuracy: 0.6691 - 8s/epoch - 34ms/step\n",
            "Epoch 62/200\n",
            "244/244 - 8s - loss: 1.6077 - accuracy: 0.6755 - 8s/epoch - 33ms/step\n",
            "Epoch 63/200\n",
            "244/244 - 8s - loss: 1.5666 - accuracy: 0.6851 - 8s/epoch - 33ms/step\n",
            "Epoch 64/200\n",
            "244/244 - 8s - loss: 1.5333 - accuracy: 0.6928 - 8s/epoch - 33ms/step\n",
            "Epoch 65/200\n",
            "244/244 - 8s - loss: 1.5002 - accuracy: 0.7008 - 8s/epoch - 33ms/step\n",
            "Epoch 66/200\n",
            "244/244 - 8s - loss: 1.4645 - accuracy: 0.7073 - 8s/epoch - 33ms/step\n",
            "Epoch 67/200\n",
            "244/244 - 8s - loss: 1.4308 - accuracy: 0.7133 - 8s/epoch - 33ms/step\n",
            "Epoch 68/200\n",
            "244/244 - 8s - loss: 1.4023 - accuracy: 0.7205 - 8s/epoch - 34ms/step\n",
            "Epoch 69/200\n",
            "244/244 - 8s - loss: 1.3681 - accuracy: 0.7279 - 8s/epoch - 34ms/step\n",
            "Epoch 70/200\n",
            "244/244 - 8s - loss: 1.3368 - accuracy: 0.7364 - 8s/epoch - 33ms/step\n",
            "Epoch 71/200\n",
            "244/244 - 8s - loss: 1.3051 - accuracy: 0.7401 - 8s/epoch - 33ms/step\n",
            "Epoch 72/200\n",
            "244/244 - 8s - loss: 1.2748 - accuracy: 0.7447 - 8s/epoch - 33ms/step\n",
            "Epoch 73/200\n",
            "244/244 - 8s - loss: 1.2462 - accuracy: 0.7550 - 8s/epoch - 33ms/step\n",
            "Epoch 74/200\n",
            "244/244 - 8s - loss: 1.2168 - accuracy: 0.7593 - 8s/epoch - 33ms/step\n",
            "Epoch 75/200\n",
            "244/244 - 8s - loss: 1.1880 - accuracy: 0.7687 - 8s/epoch - 33ms/step\n",
            "Epoch 76/200\n",
            "244/244 - 8s - loss: 1.1618 - accuracy: 0.7710 - 8s/epoch - 33ms/step\n",
            "Epoch 77/200\n",
            "244/244 - 8s - loss: 1.1364 - accuracy: 0.7766 - 8s/epoch - 34ms/step\n",
            "Epoch 78/200\n",
            "244/244 - 8s - loss: 1.1085 - accuracy: 0.7866 - 8s/epoch - 33ms/step\n",
            "Epoch 79/200\n",
            "244/244 - 8s - loss: 1.0809 - accuracy: 0.7897 - 8s/epoch - 33ms/step\n",
            "Epoch 80/200\n",
            "244/244 - 8s - loss: 1.0569 - accuracy: 0.7958 - 8s/epoch - 33ms/step\n",
            "Epoch 81/200\n",
            "244/244 - 8s - loss: 1.0321 - accuracy: 0.7979 - 8s/epoch - 33ms/step\n",
            "Epoch 82/200\n",
            "244/244 - 8s - loss: 1.0074 - accuracy: 0.8032 - 8s/epoch - 33ms/step\n",
            "Epoch 83/200\n",
            "244/244 - 8s - loss: 0.9816 - accuracy: 0.8102 - 8s/epoch - 33ms/step\n",
            "Epoch 84/200\n",
            "244/244 - 8s - loss: 0.9586 - accuracy: 0.8123 - 8s/epoch - 33ms/step\n",
            "Epoch 85/200\n",
            "244/244 - 8s - loss: 0.9361 - accuracy: 0.8193 - 8s/epoch - 33ms/step\n",
            "Epoch 86/200\n",
            "244/244 - 8s - loss: 0.9136 - accuracy: 0.8214 - 8s/epoch - 33ms/step\n",
            "Epoch 87/200\n",
            "244/244 - 8s - loss: 0.8929 - accuracy: 0.8265 - 8s/epoch - 33ms/step\n",
            "Epoch 88/200\n",
            "244/244 - 8s - loss: 0.8703 - accuracy: 0.8307 - 8s/epoch - 33ms/step\n",
            "Epoch 89/200\n",
            "244/244 - 8s - loss: 0.8510 - accuracy: 0.8312 - 8s/epoch - 33ms/step\n",
            "Epoch 90/200\n",
            "244/244 - 8s - loss: 0.8306 - accuracy: 0.8348 - 8s/epoch - 34ms/step\n",
            "Epoch 91/200\n",
            "244/244 - 8s - loss: 0.8121 - accuracy: 0.8393 - 8s/epoch - 33ms/step\n",
            "Epoch 92/200\n",
            "244/244 - 8s - loss: 0.7922 - accuracy: 0.8445 - 8s/epoch - 33ms/step\n",
            "Epoch 93/200\n",
            "244/244 - 8s - loss: 0.7724 - accuracy: 0.8484 - 8s/epoch - 33ms/step\n",
            "Epoch 94/200\n",
            "244/244 - 8s - loss: 0.7538 - accuracy: 0.8515 - 8s/epoch - 33ms/step\n",
            "Epoch 95/200\n",
            "244/244 - 8s - loss: 0.7368 - accuracy: 0.8553 - 8s/epoch - 33ms/step\n",
            "Epoch 96/200\n",
            "244/244 - 8s - loss: 0.7211 - accuracy: 0.8576 - 8s/epoch - 33ms/step\n",
            "Epoch 97/200\n",
            "244/244 - 8s - loss: 0.7080 - accuracy: 0.8601 - 8s/epoch - 33ms/step\n",
            "Epoch 98/200\n",
            "244/244 - 8s - loss: 0.6893 - accuracy: 0.8631 - 8s/epoch - 33ms/step\n",
            "Epoch 99/200\n",
            "244/244 - 8s - loss: 0.6720 - accuracy: 0.8709 - 8s/epoch - 33ms/step\n",
            "Epoch 100/200\n",
            "244/244 - 8s - loss: 0.6571 - accuracy: 0.8709 - 8s/epoch - 33ms/step\n",
            "Epoch 101/200\n",
            "244/244 - 8s - loss: 0.6409 - accuracy: 0.8726 - 8s/epoch - 33ms/step\n",
            "Epoch 102/200\n",
            "244/244 - 8s - loss: 0.6290 - accuracy: 0.8758 - 8s/epoch - 33ms/step\n",
            "Epoch 103/200\n",
            "244/244 - 8s - loss: 0.6147 - accuracy: 0.8766 - 8s/epoch - 33ms/step\n",
            "Epoch 104/200\n",
            "244/244 - 8s - loss: 0.6020 - accuracy: 0.8798 - 8s/epoch - 33ms/step\n",
            "Epoch 105/200\n",
            "244/244 - 8s - loss: 0.5877 - accuracy: 0.8807 - 8s/epoch - 34ms/step\n",
            "Epoch 106/200\n",
            "244/244 - 8s - loss: 0.5761 - accuracy: 0.8830 - 8s/epoch - 34ms/step\n",
            "Epoch 107/200\n",
            "244/244 - 8s - loss: 0.5670 - accuracy: 0.8857 - 8s/epoch - 34ms/step\n",
            "Epoch 108/200\n",
            "244/244 - 8s - loss: 0.5511 - accuracy: 0.8888 - 8s/epoch - 34ms/step\n",
            "Epoch 109/200\n",
            "244/244 - 8s - loss: 0.5404 - accuracy: 0.8890 - 8s/epoch - 33ms/step\n",
            "Epoch 110/200\n",
            "244/244 - 8s - loss: 0.5279 - accuracy: 0.8932 - 8s/epoch - 33ms/step\n",
            "Epoch 111/200\n",
            "244/244 - 8s - loss: 0.5164 - accuracy: 0.8941 - 8s/epoch - 33ms/step\n",
            "Epoch 112/200\n",
            "244/244 - 8s - loss: 0.5130 - accuracy: 0.8941 - 8s/epoch - 33ms/step\n",
            "Epoch 113/200\n",
            "244/244 - 8s - loss: 0.4993 - accuracy: 0.8956 - 8s/epoch - 33ms/step\n",
            "Epoch 114/200\n",
            "244/244 - 8s - loss: 0.4879 - accuracy: 0.8989 - 8s/epoch - 33ms/step\n",
            "Epoch 115/200\n",
            "244/244 - 8s - loss: 0.4826 - accuracy: 0.8989 - 8s/epoch - 33ms/step\n",
            "Epoch 116/200\n",
            "244/244 - 8s - loss: 0.4692 - accuracy: 0.9029 - 8s/epoch - 33ms/step\n",
            "Epoch 117/200\n",
            "244/244 - 8s - loss: 0.4589 - accuracy: 0.9035 - 8s/epoch - 33ms/step\n",
            "Epoch 118/200\n",
            "244/244 - 8s - loss: 0.4513 - accuracy: 0.9023 - 8s/epoch - 33ms/step\n",
            "Epoch 119/200\n",
            "244/244 - 8s - loss: 0.4449 - accuracy: 0.9049 - 8s/epoch - 33ms/step\n",
            "Epoch 120/200\n",
            "244/244 - 8s - loss: 0.4506 - accuracy: 0.9048 - 8s/epoch - 33ms/step\n",
            "Epoch 121/200\n",
            "244/244 - 8s - loss: 0.4369 - accuracy: 0.9062 - 8s/epoch - 34ms/step\n",
            "Epoch 122/200\n",
            "244/244 - 8s - loss: 0.4257 - accuracy: 0.9085 - 8s/epoch - 33ms/step\n",
            "Epoch 123/200\n",
            "244/244 - 8s - loss: 0.4183 - accuracy: 0.9072 - 8s/epoch - 33ms/step\n",
            "Epoch 124/200\n",
            "244/244 - 8s - loss: 0.4148 - accuracy: 0.9090 - 8s/epoch - 33ms/step\n",
            "Epoch 125/200\n",
            "244/244 - 8s - loss: 0.4048 - accuracy: 0.9097 - 8s/epoch - 33ms/step\n",
            "Epoch 126/200\n",
            "244/244 - 8s - loss: 0.3949 - accuracy: 0.9100 - 8s/epoch - 33ms/step\n",
            "Epoch 127/200\n",
            "244/244 - 8s - loss: 0.3892 - accuracy: 0.9100 - 8s/epoch - 33ms/step\n",
            "Epoch 128/200\n",
            "244/244 - 8s - loss: 0.3828 - accuracy: 0.9118 - 8s/epoch - 33ms/step\n",
            "Epoch 129/200\n",
            "244/244 - 8s - loss: 0.3781 - accuracy: 0.9108 - 8s/epoch - 33ms/step\n",
            "Epoch 130/200\n",
            "244/244 - 8s - loss: 0.3734 - accuracy: 0.9111 - 8s/epoch - 33ms/step\n",
            "Epoch 131/200\n",
            "244/244 - 8s - loss: 0.3704 - accuracy: 0.9130 - 8s/epoch - 33ms/step\n",
            "Epoch 132/200\n",
            "244/244 - 8s - loss: 0.3654 - accuracy: 0.9135 - 8s/epoch - 33ms/step\n",
            "Epoch 133/200\n",
            "244/244 - 8s - loss: 0.3607 - accuracy: 0.9118 - 8s/epoch - 33ms/step\n",
            "Epoch 134/200\n",
            "244/244 - 8s - loss: 0.3540 - accuracy: 0.9134 - 8s/epoch - 33ms/step\n",
            "Epoch 135/200\n",
            "244/244 - 8s - loss: 0.3506 - accuracy: 0.9134 - 8s/epoch - 34ms/step\n",
            "Epoch 136/200\n",
            "244/244 - 8s - loss: 0.3476 - accuracy: 0.9144 - 8s/epoch - 34ms/step\n",
            "Epoch 137/200\n",
            "244/244 - 8s - loss: 0.3432 - accuracy: 0.9136 - 8s/epoch - 33ms/step\n",
            "Epoch 138/200\n",
            "244/244 - 8s - loss: 0.3402 - accuracy: 0.9145 - 8s/epoch - 34ms/step\n",
            "Epoch 139/200\n",
            "244/244 - 8s - loss: 0.3408 - accuracy: 0.9138 - 8s/epoch - 34ms/step\n",
            "Epoch 140/200\n",
            "244/244 - 8s - loss: 0.3410 - accuracy: 0.9154 - 8s/epoch - 34ms/step\n",
            "Epoch 141/200\n",
            "244/244 - 8s - loss: 0.3329 - accuracy: 0.9140 - 8s/epoch - 33ms/step\n",
            "Epoch 142/200\n",
            "244/244 - 8s - loss: 0.3259 - accuracy: 0.9138 - 8s/epoch - 33ms/step\n",
            "Epoch 143/200\n",
            "244/244 - 8s - loss: 0.3232 - accuracy: 0.9152 - 8s/epoch - 33ms/step\n",
            "Epoch 144/200\n",
            "244/244 - 8s - loss: 0.3201 - accuracy: 0.9155 - 8s/epoch - 33ms/step\n",
            "Epoch 145/200\n",
            "244/244 - 8s - loss: 0.3190 - accuracy: 0.9168 - 8s/epoch - 34ms/step\n",
            "Epoch 146/200\n",
            "244/244 - 8s - loss: 0.3146 - accuracy: 0.9148 - 8s/epoch - 33ms/step\n",
            "Epoch 147/200\n",
            "244/244 - 8s - loss: 0.3111 - accuracy: 0.9166 - 8s/epoch - 33ms/step\n",
            "Epoch 148/200\n",
            "244/244 - 8s - loss: 0.3109 - accuracy: 0.9162 - 8s/epoch - 33ms/step\n",
            "Epoch 149/200\n",
            "244/244 - 8s - loss: 0.3168 - accuracy: 0.9159 - 8s/epoch - 33ms/step\n",
            "Epoch 150/200\n",
            "244/244 - 8s - loss: 0.3202 - accuracy: 0.9163 - 8s/epoch - 34ms/step\n",
            "Epoch 151/200\n",
            "244/244 - 8s - loss: 0.3057 - accuracy: 0.9167 - 8s/epoch - 33ms/step\n",
            "Epoch 152/200\n",
            "244/244 - 8s - loss: 0.3007 - accuracy: 0.9158 - 8s/epoch - 33ms/step\n",
            "Epoch 153/200\n",
            "244/244 - 8s - loss: 0.2972 - accuracy: 0.9164 - 8s/epoch - 33ms/step\n",
            "Epoch 154/200\n",
            "244/244 - 8s - loss: 0.2964 - accuracy: 0.9162 - 8s/epoch - 33ms/step\n",
            "Epoch 155/200\n",
            "244/244 - 8s - loss: 0.2955 - accuracy: 0.9168 - 8s/epoch - 33ms/step\n",
            "Epoch 156/200\n",
            "244/244 - 8s - loss: 0.2938 - accuracy: 0.9164 - 8s/epoch - 34ms/step\n",
            "Epoch 157/200\n",
            "244/244 - 8s - loss: 0.2914 - accuracy: 0.9145 - 8s/epoch - 33ms/step\n",
            "Epoch 158/200\n",
            "244/244 - 8s - loss: 0.2898 - accuracy: 0.9170 - 8s/epoch - 33ms/step\n",
            "Epoch 159/200\n",
            "244/244 - 8s - loss: 0.2904 - accuracy: 0.9155 - 8s/epoch - 33ms/step\n",
            "Epoch 160/200\n",
            "244/244 - 8s - loss: 0.2878 - accuracy: 0.9173 - 8s/epoch - 33ms/step\n",
            "Epoch 161/200\n",
            "244/244 - 8s - loss: 0.2877 - accuracy: 0.9158 - 8s/epoch - 33ms/step\n",
            "Epoch 162/200\n",
            "244/244 - 8s - loss: 0.2943 - accuracy: 0.9149 - 8s/epoch - 33ms/step\n",
            "Epoch 163/200\n",
            "244/244 - 8s - loss: 0.2965 - accuracy: 0.9131 - 8s/epoch - 33ms/step\n",
            "Epoch 164/200\n",
            "244/244 - 8s - loss: 0.2880 - accuracy: 0.9152 - 8s/epoch - 33ms/step\n",
            "Epoch 165/200\n",
            "244/244 - 8s - loss: 0.2961 - accuracy: 0.9159 - 8s/epoch - 33ms/step\n",
            "Epoch 166/200\n",
            "244/244 - 8s - loss: 0.2857 - accuracy: 0.9170 - 8s/epoch - 33ms/step\n",
            "Epoch 167/200\n",
            "244/244 - 8s - loss: 0.2802 - accuracy: 0.9167 - 8s/epoch - 33ms/step\n",
            "Epoch 168/200\n",
            "244/244 - 8s - loss: 0.2781 - accuracy: 0.9161 - 8s/epoch - 33ms/step\n",
            "Epoch 169/200\n",
            "244/244 - 8s - loss: 0.2760 - accuracy: 0.9166 - 8s/epoch - 33ms/step\n",
            "Epoch 170/200\n",
            "244/244 - 8s - loss: 0.2764 - accuracy: 0.9157 - 8s/epoch - 33ms/step\n",
            "Epoch 171/200\n",
            "244/244 - 8s - loss: 0.2758 - accuracy: 0.9172 - 8s/epoch - 33ms/step\n",
            "Epoch 172/200\n",
            "244/244 - 8s - loss: 0.2747 - accuracy: 0.9168 - 8s/epoch - 33ms/step\n",
            "Epoch 173/200\n",
            "244/244 - 8s - loss: 0.2745 - accuracy: 0.9154 - 8s/epoch - 33ms/step\n",
            "Epoch 174/200\n",
            "244/244 - 8s - loss: 0.2738 - accuracy: 0.9154 - 8s/epoch - 33ms/step\n",
            "Epoch 175/200\n",
            "244/244 - 8s - loss: 0.2729 - accuracy: 0.9179 - 8s/epoch - 33ms/step\n",
            "Epoch 176/200\n",
            "244/244 - 8s - loss: 0.2727 - accuracy: 0.9163 - 8s/epoch - 33ms/step\n",
            "Epoch 177/200\n",
            "244/244 - 8s - loss: 0.2714 - accuracy: 0.9170 - 8s/epoch - 33ms/step\n",
            "Epoch 178/200\n",
            "244/244 - 8s - loss: 0.2705 - accuracy: 0.9166 - 8s/epoch - 33ms/step\n",
            "Epoch 179/200\n",
            "244/244 - 8s - loss: 0.2734 - accuracy: 0.9170 - 8s/epoch - 33ms/step\n",
            "Epoch 180/200\n",
            "244/244 - 8s - loss: 0.2936 - accuracy: 0.9126 - 8s/epoch - 33ms/step\n",
            "Epoch 181/200\n",
            "244/244 - 8s - loss: 0.2993 - accuracy: 0.9116 - 8s/epoch - 33ms/step\n",
            "Epoch 182/200\n",
            "244/244 - 8s - loss: 0.2866 - accuracy: 0.9145 - 8s/epoch - 33ms/step\n",
            "Epoch 183/200\n",
            "244/244 - 8s - loss: 0.2785 - accuracy: 0.9154 - 8s/epoch - 33ms/step\n",
            "Epoch 184/200\n",
            "244/244 - 8s - loss: 0.2702 - accuracy: 0.9157 - 8s/epoch - 34ms/step\n",
            "Epoch 185/200\n",
            "244/244 - 8s - loss: 0.2670 - accuracy: 0.9180 - 8s/epoch - 33ms/step\n",
            "Epoch 186/200\n",
            "244/244 - 8s - loss: 0.2665 - accuracy: 0.9155 - 8s/epoch - 33ms/step\n",
            "Epoch 187/200\n",
            "244/244 - 8s - loss: 0.2661 - accuracy: 0.9167 - 8s/epoch - 33ms/step\n",
            "Epoch 188/200\n",
            "244/244 - 8s - loss: 0.2656 - accuracy: 0.9152 - 8s/epoch - 33ms/step\n",
            "Epoch 189/200\n",
            "244/244 - 8s - loss: 0.2642 - accuracy: 0.9170 - 8s/epoch - 33ms/step\n",
            "Epoch 190/200\n",
            "244/244 - 8s - loss: 0.2654 - accuracy: 0.9153 - 8s/epoch - 33ms/step\n",
            "Epoch 191/200\n",
            "244/244 - 8s - loss: 0.2633 - accuracy: 0.9180 - 8s/epoch - 33ms/step\n",
            "Epoch 192/200\n",
            "244/244 - 8s - loss: 0.2653 - accuracy: 0.9166 - 8s/epoch - 33ms/step\n",
            "Epoch 193/200\n",
            "244/244 - 8s - loss: 0.2638 - accuracy: 0.9176 - 8s/epoch - 33ms/step\n",
            "Epoch 194/200\n",
            "244/244 - 8s - loss: 0.2635 - accuracy: 0.9167 - 8s/epoch - 33ms/step\n",
            "Epoch 195/200\n",
            "244/244 - 8s - loss: 0.2630 - accuracy: 0.9161 - 8s/epoch - 33ms/step\n",
            "Epoch 196/200\n",
            "244/244 - 8s - loss: 0.2643 - accuracy: 0.9162 - 8s/epoch - 33ms/step\n",
            "Epoch 197/200\n",
            "244/244 - 8s - loss: 0.2637 - accuracy: 0.9181 - 8s/epoch - 33ms/step\n",
            "Epoch 198/200\n",
            "244/244 - 8s - loss: 0.2659 - accuracy: 0.9159 - 8s/epoch - 33ms/step\n",
            "Epoch 199/200\n",
            "244/244 - 8s - loss: 0.2649 - accuracy: 0.9159 - 8s/epoch - 33ms/step\n",
            "Epoch 200/200\n",
            "244/244 - 8s - loss: 0.2629 - accuracy: 0.9170 - 8s/epoch - 33ms/step\n"
          ]
        },
        {
          "output_type": "execute_result",
          "data": {
            "text/plain": [
              "<keras.callbacks.History at 0x7f96792a0350>"
            ]
          },
          "metadata": {},
          "execution_count": 50
        }
      ]
    },
    {
      "cell_type": "code",
      "source": [
        "def sentence_generation(model, tokenizer, current_word, n):\n",
        "  init_word = current_word\n",
        "  sentence = ''\n",
        "\n",
        "  for _ in range(n):\n",
        "    encoded = tokenizer.texts_to_sequences([current_word])[0]\n",
        "    encoded = pad_sequences([encoded], maxlen = max_len-1, padding='pre')\n",
        "\n",
        "    result = model.predict(encoded, verbose=0)\n",
        "    result = np.argmax(result, axis=1)\n",
        "\n",
        "    for word, index in tokenizer.word_index.items():\n",
        "      if index == result:\n",
        "        break;\n",
        "\n",
        "    current_word = current_word + ' ' + word\n",
        "    sentence = sentence + ' ' + word\n",
        "\n",
        "  sentence = init_word + sentence\n",
        "  return sentence"
      ],
      "metadata": {
        "id": "TW0hhbDSMnIV"
      },
      "execution_count": 51,
      "outputs": []
    },
    {
      "cell_type": "code",
      "source": [
        "print(sentence_generation(model, tokenizer, 'i', 10))"
      ],
      "metadata": {
        "colab": {
          "base_uri": "https://localhost:8080/"
        },
        "id": "yLaJUsazNOXs",
        "outputId": "0179c8f1-bca4-4b06-ec47-3479a7083806"
      },
      "execution_count": 53,
      "outputs": [
        {
          "output_type": "stream",
          "name": "stdout",
          "text": [
            "i disapprove of school vouchers can i still apply for them\n"
          ]
        }
      ]
    },
    {
      "cell_type": "code",
      "source": [
        "print(sentence_generation(model, tokenizer, 'how', 10))"
      ],
      "metadata": {
        "colab": {
          "base_uri": "https://localhost:8080/"
        },
        "id": "iFVbJ3yUNUyc",
        "outputId": "c82307e6-9a98-4152-9a7f-b6ddf83fda23"
      },
      "execution_count": 55,
      "outputs": [
        {
          "output_type": "stream",
          "name": "stdout",
          "text": [
            "how to make a crossword puzzle sleep i see a legend\n"
          ]
        }
      ]
    }
  ]
}