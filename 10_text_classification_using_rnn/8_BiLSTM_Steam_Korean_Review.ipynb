{
  "nbformat": 4,
  "nbformat_minor": 0,
  "metadata": {
    "colab": {
      "name": "8_BiLSTM_Steam_Korean_Review.ipynb",
      "provenance": [],
      "authorship_tag": "ABX9TyNP3LnExtgf1mpopdnqcYcY",
      "include_colab_link": true
    },
    "kernelspec": {
      "name": "python3",
      "display_name": "Python 3"
    },
    "language_info": {
      "name": "python"
    }
  },
  "cells": [
    {
      "cell_type": "markdown",
      "metadata": {
        "id": "view-in-github",
        "colab_type": "text"
      },
      "source": [
        "<a href=\"https://colab.research.google.com/github/ImJongHwan/practice-ml-nlp/blob/main/10_text_classification_using_rnn/8_BiLSTM_Steam_Korean_Review.ipynb\" target=\"_parent\"><img src=\"https://colab.research.google.com/assets/colab-badge.svg\" alt=\"Open In Colab\"/></a>"
      ]
    },
    {
      "cell_type": "markdown",
      "source": [
        "# BiLSTM으로 한국어 스팀 리뷰 감성 분류하기\n",
        "\n",
        "https://wikidocs.net/94748"
      ],
      "metadata": {
        "id": "jWNnFOmscnx3"
      }
    },
    {
      "cell_type": "markdown",
      "source": [
        "## Colab에 Mecab 설치"
      ],
      "metadata": {
        "id": "KHP2sjcocqtS"
      }
    },
    {
      "cell_type": "code",
      "execution_count": 1,
      "metadata": {
        "colab": {
          "base_uri": "https://localhost:8080/"
        },
        "id": "XsJa5URRcf8Z",
        "outputId": "10f1200c-62f3-4757-9caf-6248d19fb651"
      },
      "outputs": [
        {
          "output_type": "stream",
          "name": "stdout",
          "text": [
            "Get:1 https://cloud.r-project.org/bin/linux/ubuntu bionic-cran40/ InRelease [3,626 B]\n",
            "Ign:2 https://developer.download.nvidia.com/compute/cuda/repos/ubuntu1804/x86_64  InRelease\n",
            "Get:3 http://security.ubuntu.com/ubuntu bionic-security InRelease [88.7 kB]\n",
            "Ign:4 https://developer.download.nvidia.com/compute/machine-learning/repos/ubuntu1804/x86_64  InRelease\n",
            "Get:5 https://developer.download.nvidia.com/compute/cuda/repos/ubuntu1804/x86_64  Release [696 B]\n",
            "Hit:6 https://developer.download.nvidia.com/compute/machine-learning/repos/ubuntu1804/x86_64  Release\n",
            "Get:7 https://developer.download.nvidia.com/compute/cuda/repos/ubuntu1804/x86_64  Release.gpg [836 B]\n",
            "Get:8 http://ppa.launchpad.net/c2d4u.team/c2d4u4.0+/ubuntu bionic InRelease [15.9 kB]\n",
            "Hit:9 http://archive.ubuntu.com/ubuntu bionic InRelease\n",
            "Get:10 http://archive.ubuntu.com/ubuntu bionic-updates InRelease [88.7 kB]\n",
            "Hit:11 http://ppa.launchpad.net/cran/libgit2/ubuntu bionic InRelease\n",
            "Get:12 http://archive.ubuntu.com/ubuntu bionic-backports InRelease [74.6 kB]\n",
            "Hit:14 http://ppa.launchpad.net/deadsnakes/ppa/ubuntu bionic InRelease\n",
            "Get:15 http://ppa.launchpad.net/graphics-drivers/ppa/ubuntu bionic InRelease [21.3 kB]\n",
            "Get:16 https://developer.download.nvidia.com/compute/cuda/repos/ubuntu1804/x86_64  Packages [930 kB]\n",
            "Get:17 http://security.ubuntu.com/ubuntu bionic-security/universe amd64 Packages [1,474 kB]\n",
            "Get:18 http://security.ubuntu.com/ubuntu bionic-security/main amd64 Packages [2,596 kB]\n",
            "Get:19 http://security.ubuntu.com/ubuntu bionic-security/restricted amd64 Packages [806 kB]\n",
            "Get:20 http://ppa.launchpad.net/c2d4u.team/c2d4u4.0+/ubuntu bionic/main Sources [1,827 kB]\n",
            "Get:21 http://archive.ubuntu.com/ubuntu bionic-updates/restricted amd64 Packages [840 kB]\n",
            "Get:22 http://archive.ubuntu.com/ubuntu bionic-updates/main amd64 Packages [3,035 kB]\n",
            "Get:23 http://ppa.launchpad.net/c2d4u.team/c2d4u4.0+/ubuntu bionic/main amd64 Packages [937 kB]\n",
            "Get:24 http://archive.ubuntu.com/ubuntu bionic-updates/universe amd64 Packages [2,252 kB]\n",
            "Get:25 http://ppa.launchpad.net/graphics-drivers/ppa/ubuntu bionic/main amd64 Packages [42.8 kB]\n",
            "Fetched 15.0 MB in 6s (2,572 kB/s)\n",
            "Reading package lists...\n",
            "Reading package lists...\n",
            "Building dependency tree...\n",
            "Reading state information...\n",
            "python-dev is already the newest version (2.7.15~rc1-1).\n",
            "g++ is already the newest version (4:7.4.0-1ubuntu2.3).\n",
            "g++ set to manually installed.\n",
            "python3-dev is already the newest version (3.6.7-1~18.04).\n",
            "python3-dev set to manually installed.\n",
            "The following package was automatically installed and is no longer required:\n",
            "  libnvidia-common-470\n",
            "Use 'apt autoremove' to remove it.\n",
            "The following additional packages will be installed:\n",
            "  fonts-dejavu-core fonts-dejavu-extra libatk-wrapper-java\n",
            "  libatk-wrapper-java-jni libgail-common libgail18 libgtk2.0-0 libgtk2.0-bin\n",
            "  libgtk2.0-common libxxf86dga1 openjdk-8-jdk-headless openjdk-8-jre\n",
            "  openjdk-8-jre-headless x11-utils\n",
            "Suggested packages:\n",
            "  gvfs openjdk-8-demo openjdk-8-source visualvm icedtea-8-plugin libnss-mdns\n",
            "  fonts-ipafont-gothic fonts-ipafont-mincho fonts-wqy-microhei\n",
            "  fonts-wqy-zenhei fonts-indic mesa-utils\n",
            "The following NEW packages will be installed:\n",
            "  fonts-dejavu-core fonts-dejavu-extra libatk-wrapper-java\n",
            "  libatk-wrapper-java-jni libgail-common libgail18 libgtk2.0-0 libgtk2.0-bin\n",
            "  libgtk2.0-common libxxf86dga1 openjdk-8-jdk openjdk-8-jdk-headless\n",
            "  openjdk-8-jre openjdk-8-jre-headless x11-utils\n",
            "0 upgraded, 15 newly installed, 0 to remove and 67 not upgraded.\n",
            "Need to get 43.5 MB of archives.\n",
            "After this operation, 163 MB of additional disk space will be used.\n",
            "Get:1 http://archive.ubuntu.com/ubuntu bionic/main amd64 libxxf86dga1 amd64 2:1.1.4-1 [13.7 kB]\n",
            "Get:2 http://archive.ubuntu.com/ubuntu bionic/main amd64 fonts-dejavu-core all 2.37-1 [1,041 kB]\n",
            "Get:3 http://archive.ubuntu.com/ubuntu bionic/main amd64 fonts-dejavu-extra all 2.37-1 [1,953 kB]\n",
            "Get:4 http://archive.ubuntu.com/ubuntu bionic/main amd64 x11-utils amd64 7.7+3build1 [196 kB]\n",
            "Get:5 http://archive.ubuntu.com/ubuntu bionic/main amd64 libatk-wrapper-java all 0.33.3-20ubuntu0.1 [34.7 kB]\n",
            "Get:6 http://archive.ubuntu.com/ubuntu bionic/main amd64 libatk-wrapper-java-jni amd64 0.33.3-20ubuntu0.1 [28.3 kB]\n",
            "Get:7 http://archive.ubuntu.com/ubuntu bionic/main amd64 libgtk2.0-common all 2.24.32-1ubuntu1 [125 kB]\n",
            "Get:8 http://archive.ubuntu.com/ubuntu bionic/main amd64 libgtk2.0-0 amd64 2.24.32-1ubuntu1 [1,769 kB]\n",
            "Get:9 http://archive.ubuntu.com/ubuntu bionic/main amd64 libgail18 amd64 2.24.32-1ubuntu1 [14.2 kB]\n",
            "Get:10 http://archive.ubuntu.com/ubuntu bionic/main amd64 libgail-common amd64 2.24.32-1ubuntu1 [112 kB]\n",
            "Get:11 http://archive.ubuntu.com/ubuntu bionic/main amd64 libgtk2.0-bin amd64 2.24.32-1ubuntu1 [7,536 B]\n",
            "Get:12 http://archive.ubuntu.com/ubuntu bionic-updates/universe amd64 openjdk-8-jre-headless amd64 8u312-b07-0ubuntu1~18.04 [28.2 MB]\n",
            "Get:13 http://archive.ubuntu.com/ubuntu bionic-updates/universe amd64 openjdk-8-jre amd64 8u312-b07-0ubuntu1~18.04 [69.6 kB]\n",
            "Get:14 http://archive.ubuntu.com/ubuntu bionic-updates/universe amd64 openjdk-8-jdk-headless amd64 8u312-b07-0ubuntu1~18.04 [8,298 kB]\n",
            "Get:15 http://archive.ubuntu.com/ubuntu bionic-updates/universe amd64 openjdk-8-jdk amd64 8u312-b07-0ubuntu1~18.04 [1,625 kB]\n",
            "Fetched 43.5 MB in 3s (13.3 MB/s)\n",
            "Selecting previously unselected package libxxf86dga1:amd64.\r\n",
            "(Reading database ... \r(Reading database ... 5%\r(Reading database ... 10%\r(Reading database ... 15%\r(Reading database ... 20%\r(Reading database ... 25%\r(Reading database ... 30%\r(Reading database ... 35%\r(Reading database ... 40%\r(Reading database ... 45%\r(Reading database ... 50%\r(Reading database ... 55%\r(Reading database ... 60%\r(Reading database ... 65%\r(Reading database ... 70%\r(Reading database ... 75%\r(Reading database ... 80%\r(Reading database ... 85%\r(Reading database ... 90%\r(Reading database ... 95%\r(Reading database ... 100%\r(Reading database ... 155320 files and directories currently installed.)\r\n",
            "Preparing to unpack .../00-libxxf86dga1_2%3a1.1.4-1_amd64.deb ...\r\n",
            "Unpacking libxxf86dga1:amd64 (2:1.1.4-1) ...\r\n",
            "Selecting previously unselected package fonts-dejavu-core.\r\n",
            "Preparing to unpack .../01-fonts-dejavu-core_2.37-1_all.deb ...\r\n",
            "Unpacking fonts-dejavu-core (2.37-1) ...\r\n",
            "Selecting previously unselected package fonts-dejavu-extra.\r\n",
            "Preparing to unpack .../02-fonts-dejavu-extra_2.37-1_all.deb ...\r\n",
            "Unpacking fonts-dejavu-extra (2.37-1) ...\r\n",
            "Selecting previously unselected package x11-utils.\r\n",
            "Preparing to unpack .../03-x11-utils_7.7+3build1_amd64.deb ...\r\n",
            "Unpacking x11-utils (7.7+3build1) ...\r\n",
            "Selecting previously unselected package libatk-wrapper-java.\r\n",
            "Preparing to unpack .../04-libatk-wrapper-java_0.33.3-20ubuntu0.1_all.deb ...\r\n",
            "Unpacking libatk-wrapper-java (0.33.3-20ubuntu0.1) ...\r\n",
            "Selecting previously unselected package libatk-wrapper-java-jni:amd64.\r\n",
            "Preparing to unpack .../05-libatk-wrapper-java-jni_0.33.3-20ubuntu0.1_amd64.deb ...\r\n",
            "Unpacking libatk-wrapper-java-jni:amd64 (0.33.3-20ubuntu0.1) ...\r\n",
            "Selecting previously unselected package libgtk2.0-common.\r\n",
            "Preparing to unpack .../06-libgtk2.0-common_2.24.32-1ubuntu1_all.deb ...\r\n",
            "Unpacking libgtk2.0-common (2.24.32-1ubuntu1) ...\r\n",
            "Selecting previously unselected package libgtk2.0-0:amd64.\r\n",
            "Preparing to unpack .../07-libgtk2.0-0_2.24.32-1ubuntu1_amd64.deb ...\r\n",
            "Unpacking libgtk2.0-0:amd64 (2.24.32-1ubuntu1) ...\r\n",
            "Selecting previously unselected package libgail18:amd64.\r\n",
            "Preparing to unpack .../08-libgail18_2.24.32-1ubuntu1_amd64.deb ...\r\n",
            "Unpacking libgail18:amd64 (2.24.32-1ubuntu1) ...\r\n",
            "Selecting previously unselected package libgail-common:amd64.\r\n",
            "Preparing to unpack .../09-libgail-common_2.24.32-1ubuntu1_amd64.deb ...\r\n",
            "Unpacking libgail-common:amd64 (2.24.32-1ubuntu1) ...\r\n",
            "Selecting previously unselected package libgtk2.0-bin.\r\n",
            "Preparing to unpack .../10-libgtk2.0-bin_2.24.32-1ubuntu1_amd64.deb ...\r\n",
            "Unpacking libgtk2.0-bin (2.24.32-1ubuntu1) ...\r\n",
            "Selecting previously unselected package openjdk-8-jre-headless:amd64.\r\n",
            "Preparing to unpack .../11-openjdk-8-jre-headless_8u312-b07-0ubuntu1~18.04_amd64.deb ...\r\n",
            "Unpacking openjdk-8-jre-headless:amd64 (8u312-b07-0ubuntu1~18.04) ...\r\n",
            "Selecting previously unselected package openjdk-8-jre:amd64.\r\n",
            "Preparing to unpack .../12-openjdk-8-jre_8u312-b07-0ubuntu1~18.04_amd64.deb ...\r\n",
            "Unpacking openjdk-8-jre:amd64 (8u312-b07-0ubuntu1~18.04) ...\r\n",
            "Selecting previously unselected package openjdk-8-jdk-headless:amd64.\r\n",
            "Preparing to unpack .../13-openjdk-8-jdk-headless_8u312-b07-0ubuntu1~18.04_amd64.deb ...\r\n",
            "Unpacking openjdk-8-jdk-headless:amd64 (8u312-b07-0ubuntu1~18.04) ...\r\n",
            "Selecting previously unselected package openjdk-8-jdk:amd64.\r\n",
            "Preparing to unpack .../14-openjdk-8-jdk_8u312-b07-0ubuntu1~18.04_amd64.deb ...\r\n",
            "Unpacking openjdk-8-jdk:amd64 (8u312-b07-0ubuntu1~18.04) ...\r\n",
            "Setting up libgtk2.0-common (2.24.32-1ubuntu1) ...\r\n",
            "Setting up fonts-dejavu-core (2.37-1) ...\r\n",
            "Setting up libxxf86dga1:amd64 (2:1.1.4-1) ...\r\n",
            "Setting up fonts-dejavu-extra (2.37-1) ...\r\n",
            "Setting up openjdk-8-jre-headless:amd64 (8u312-b07-0ubuntu1~18.04) ...\r\n",
            "update-alternatives: using /usr/lib/jvm/java-8-openjdk-amd64/jre/bin/orbd to provide /usr/bin/orbd (orbd) in auto mode\r\n",
            "update-alternatives: using /usr/lib/jvm/java-8-openjdk-amd64/jre/bin/servertool to provide /usr/bin/servertool (servertool) in auto mode\r\n",
            "update-alternatives: using /usr/lib/jvm/java-8-openjdk-amd64/jre/bin/tnameserv to provide /usr/bin/tnameserv (tnameserv) in auto mode\r\n",
            "Setting up libgtk2.0-0:amd64 (2.24.32-1ubuntu1) ...\r\n",
            "Setting up libgail18:amd64 (2.24.32-1ubuntu1) ...\r\n",
            "Setting up openjdk-8-jdk-headless:amd64 (8u312-b07-0ubuntu1~18.04) ...\r\n",
            "update-alternatives: using /usr/lib/jvm/java-8-openjdk-amd64/bin/idlj to provide /usr/bin/idlj (idlj) in auto mode\r\n",
            "update-alternatives: using /usr/lib/jvm/java-8-openjdk-amd64/bin/wsimport to provide /usr/bin/wsimport (wsimport) in auto mode\r\n",
            "update-alternatives: using /usr/lib/jvm/java-8-openjdk-amd64/bin/jsadebugd to provide /usr/bin/jsadebugd (jsadebugd) in auto mode\r\n",
            "update-alternatives: using /usr/lib/jvm/java-8-openjdk-amd64/bin/native2ascii to provide /usr/bin/native2ascii (native2ascii) in auto mode\r\n",
            "update-alternatives: using /usr/lib/jvm/java-8-openjdk-amd64/bin/javah to provide /usr/bin/javah (javah) in auto mode\r\n",
            "update-alternatives: using /usr/lib/jvm/java-8-openjdk-amd64/bin/hsdb to provide /usr/bin/hsdb (hsdb) in auto mode\r\n",
            "update-alternatives: using /usr/lib/jvm/java-8-openjdk-amd64/bin/clhsdb to provide /usr/bin/clhsdb (clhsdb) in auto mode\r\n",
            "update-alternatives: using /usr/lib/jvm/java-8-openjdk-amd64/bin/xjc to provide /usr/bin/xjc (xjc) in auto mode\r\n",
            "update-alternatives: using /usr/lib/jvm/java-8-openjdk-amd64/bin/schemagen to provide /usr/bin/schemagen (schemagen) in auto mode\r\n",
            "update-alternatives: using /usr/lib/jvm/java-8-openjdk-amd64/bin/extcheck to provide /usr/bin/extcheck (extcheck) in auto mode\r\n",
            "update-alternatives: using /usr/lib/jvm/java-8-openjdk-amd64/bin/jhat to provide /usr/bin/jhat (jhat) in auto mode\r\n",
            "update-alternatives: using /usr/lib/jvm/java-8-openjdk-amd64/bin/wsgen to provide /usr/bin/wsgen (wsgen) in auto mode\r\n",
            "Setting up x11-utils (7.7+3build1) ...\r\n",
            "Setting up libgail-common:amd64 (2.24.32-1ubuntu1) ...\r\n",
            "Setting up libatk-wrapper-java (0.33.3-20ubuntu0.1) ...\r\n",
            "Setting up libgtk2.0-bin (2.24.32-1ubuntu1) ...\r\n",
            "Setting up libatk-wrapper-java-jni:amd64 (0.33.3-20ubuntu0.1) ...\r\n",
            "Setting up openjdk-8-jre:amd64 (8u312-b07-0ubuntu1~18.04) ...\r\n",
            "update-alternatives: using /usr/lib/jvm/java-8-openjdk-amd64/jre/bin/policytool to provide /usr/bin/policytool (policytool) in auto mode\r\n",
            "Setting up openjdk-8-jdk:amd64 (8u312-b07-0ubuntu1~18.04) ...\r\n",
            "update-alternatives: using /usr/lib/jvm/java-8-openjdk-amd64/bin/appletviewer to provide /usr/bin/appletviewer (appletviewer) in auto mode\r\n",
            "update-alternatives: using /usr/lib/jvm/java-8-openjdk-amd64/bin/jconsole to provide /usr/bin/jconsole (jconsole) in auto mode\r\n",
            "Processing triggers for man-db (2.8.3-2ubuntu0.1) ...\r\n",
            "Processing triggers for hicolor-icon-theme (0.17-2) ...\r\n",
            "Processing triggers for fontconfig (2.12.6-0ubuntu2) ...\r\n",
            "Processing triggers for mime-support (3.60ubuntu1) ...\r\n",
            "Processing triggers for libc-bin (2.27-3ubuntu1.3) ...\r\n",
            "/sbin/ldconfig.real: /usr/local/lib/python3.7/dist-packages/ideep4py/lib/libmkldnn.so.0 is not a symbolic link\r\n",
            "\r\n",
            "Collecting JPype1\n",
            "  Downloading JPype1-1.3.0-cp37-cp37m-manylinux_2_5_x86_64.manylinux1_x86_64.whl (448 kB)\n",
            "Requirement already satisfied: typing-extensions in /usr/local/lib/python3.7/dist-packages (from JPype1) (3.10.0.2)\n",
            "Installing collected packages: JPype1\n",
            "Successfully installed JPype1-1.3.0\n",
            "Collecting konlpy\n",
            "  Downloading konlpy-0.6.0-py2.py3-none-any.whl (19.4 MB)\n",
            "Requirement already satisfied: JPype1>=0.7.0 in /usr/local/lib/python3.7/dist-packages (from konlpy) (1.3.0)\n",
            "Requirement already satisfied: numpy>=1.6 in /usr/local/lib/python3.7/dist-packages (from konlpy) (1.21.5)\n",
            "Requirement already satisfied: lxml>=4.1.0 in /usr/local/lib/python3.7/dist-packages (from konlpy) (4.2.6)\n",
            "Requirement already satisfied: typing-extensions in /usr/local/lib/python3.7/dist-packages (from JPype1>=0.7.0->konlpy) (3.10.0.2)\n",
            "Installing collected packages: konlpy\n",
            "Successfully installed konlpy-0.6.0\n"
          ]
        }
      ],
      "source": [
        "%%bash\n",
        "apt-get update\n",
        "apt-get install g++ openjdk-8-jdk python-dev python3-dev\n",
        "pip3 install JPype1\n",
        "pip3 install konlpy"
      ]
    },
    {
      "cell_type": "code",
      "source": [
        "%env JAVA_HOME \"/usr/lib/jvm/java-8-openjdk-amd64\""
      ],
      "metadata": {
        "colab": {
          "base_uri": "https://localhost:8080/"
        },
        "id": "P_rAH--ZcuKl",
        "outputId": "82219872-b5cf-4e84-fe44-fe9ec6f1190a"
      },
      "execution_count": 2,
      "outputs": [
        {
          "output_type": "stream",
          "name": "stdout",
          "text": [
            "env: JAVA_HOME=\"/usr/lib/jvm/java-8-openjdk-amd64\"\n"
          ]
        }
      ]
    },
    {
      "cell_type": "code",
      "source": [
        "%%bash\n",
        "bash <(curl -s https://raw.githubusercontent.com/konlpy/konlpy/master/scripts/mecab.sh)\n",
        "pip3 install /tmp/mecab-python-0.996"
      ],
      "metadata": {
        "colab": {
          "base_uri": "https://localhost:8080/"
        },
        "id": "vripxnpzcvKP",
        "outputId": "f6cef93a-7ebe-4da1-e496-8943c1a3fbf5"
      },
      "execution_count": 3,
      "outputs": [
        {
          "output_type": "stream",
          "name": "stdout",
          "text": [
            "Installing automake (A dependency for mecab-ko)\n",
            "Hit:1 https://cloud.r-project.org/bin/linux/ubuntu bionic-cran40/ InRelease\n",
            "Ign:2 https://developer.download.nvidia.com/compute/cuda/repos/ubuntu1804/x86_64  InRelease\n",
            "Ign:3 https://developer.download.nvidia.com/compute/machine-learning/repos/ubuntu1804/x86_64  InRelease\n",
            "Hit:4 https://developer.download.nvidia.com/compute/cuda/repos/ubuntu1804/x86_64  Release\n",
            "Hit:5 http://security.ubuntu.com/ubuntu bionic-security InRelease\n",
            "Hit:6 https://developer.download.nvidia.com/compute/machine-learning/repos/ubuntu1804/x86_64  Release\n",
            "Hit:8 http://ppa.launchpad.net/c2d4u.team/c2d4u4.0+/ubuntu bionic InRelease\n",
            "Hit:9 http://archive.ubuntu.com/ubuntu bionic InRelease\n",
            "Hit:10 http://archive.ubuntu.com/ubuntu bionic-updates InRelease\n",
            "Hit:12 http://ppa.launchpad.net/cran/libgit2/ubuntu bionic InRelease\n",
            "Hit:13 http://archive.ubuntu.com/ubuntu bionic-backports InRelease\n",
            "Hit:14 http://ppa.launchpad.net/deadsnakes/ppa/ubuntu bionic InRelease\n",
            "Hit:15 http://ppa.launchpad.net/graphics-drivers/ppa/ubuntu bionic InRelease\n",
            "Reading package lists...\n",
            "Reading package lists...\n",
            "Building dependency tree...\n",
            "Reading state information...\n",
            "The following package was automatically installed and is no longer required:\n",
            "  libnvidia-common-470\n",
            "Use 'sudo apt autoremove' to remove it.\n",
            "The following additional packages will be installed:\n",
            "  autoconf autotools-dev libsigsegv2 m4\n",
            "Suggested packages:\n",
            "  autoconf-archive gnu-standards autoconf-doc libtool gettext m4-doc\n",
            "The following NEW packages will be installed:\n",
            "  autoconf automake autotools-dev libsigsegv2 m4\n",
            "0 upgraded, 5 newly installed, 0 to remove and 67 not upgraded.\n",
            "Need to get 1,082 kB of archives.\n",
            "After this operation, 3,994 kB of additional disk space will be used.\n",
            "Get:1 http://archive.ubuntu.com/ubuntu bionic/main amd64 libsigsegv2 amd64 2.12-1 [14.7 kB]\n",
            "Get:2 http://archive.ubuntu.com/ubuntu bionic/main amd64 m4 amd64 1.4.18-1 [197 kB]\n",
            "Get:3 http://archive.ubuntu.com/ubuntu bionic/main amd64 autoconf all 2.69-11 [322 kB]\n",
            "Get:4 http://archive.ubuntu.com/ubuntu bionic/main amd64 autotools-dev all 20180224.1 [39.6 kB]\n",
            "Get:5 http://archive.ubuntu.com/ubuntu bionic/main amd64 automake all 1:1.15.1-3ubuntu2 [509 kB]\n",
            "Fetched 1,082 kB in 1s (737 kB/s)\n",
            "Selecting previously unselected package libsigsegv2:amd64.\r\n",
            "(Reading database ... \r(Reading database ... 5%\r(Reading database ... 10%\r(Reading database ... 15%\r(Reading database ... 20%\r(Reading database ... 25%\r(Reading database ... 30%\r(Reading database ... 35%\r(Reading database ... 40%\r(Reading database ... 45%\r(Reading database ... 50%\r(Reading database ... 55%\r(Reading database ... 60%\r(Reading database ... 65%\r(Reading database ... 70%\r(Reading database ... 75%\r(Reading database ... 80%\r(Reading database ... 85%\r(Reading database ... 90%\r(Reading database ... 95%\r(Reading database ... 100%\r(Reading database ... 155896 files and directories currently installed.)\r\n",
            "Preparing to unpack .../libsigsegv2_2.12-1_amd64.deb ...\r\n",
            "Unpacking libsigsegv2:amd64 (2.12-1) ...\r\n",
            "Selecting previously unselected package m4.\r\n",
            "Preparing to unpack .../archives/m4_1.4.18-1_amd64.deb ...\r\n",
            "Unpacking m4 (1.4.18-1) ...\r\n",
            "Selecting previously unselected package autoconf.\r\n",
            "Preparing to unpack .../autoconf_2.69-11_all.deb ...\r\n",
            "Unpacking autoconf (2.69-11) ...\r\n",
            "Selecting previously unselected package autotools-dev.\r\n",
            "Preparing to unpack .../autotools-dev_20180224.1_all.deb ...\r\n",
            "Unpacking autotools-dev (20180224.1) ...\r\n",
            "Selecting previously unselected package automake.\r\n",
            "Preparing to unpack .../automake_1%3a1.15.1-3ubuntu2_all.deb ...\r\n",
            "Unpacking automake (1:1.15.1-3ubuntu2) ...\r\n",
            "Setting up libsigsegv2:amd64 (2.12-1) ...\r\n",
            "Setting up m4 (1.4.18-1) ...\r\n",
            "Setting up autotools-dev (20180224.1) ...\r\n",
            "Setting up autoconf (2.69-11) ...\r\n",
            "Setting up automake (1:1.15.1-3ubuntu2) ...\r\n",
            "update-alternatives: using /usr/bin/automake-1.15 to provide /usr/bin/automake (automake) in auto mode\r\n",
            "Processing triggers for libc-bin (2.27-3ubuntu1.3) ...\r\n",
            "/sbin/ldconfig.real: /usr/local/lib/python3.7/dist-packages/ideep4py/lib/libmkldnn.so.0 is not a symbolic link\r\n",
            "\r\n",
            "Processing triggers for man-db (2.8.3-2ubuntu0.1) ...\r\n",
            "Install mecab-ko\n",
            "mecab-0.996-ko-0.9.2/\n",
            "mecab-0.996-ko-0.9.2/example/\n",
            "mecab-0.996-ko-0.9.2/example/example.cpp\n",
            "mecab-0.996-ko-0.9.2/example/example_lattice.cpp\n",
            "mecab-0.996-ko-0.9.2/example/example_lattice.c\n",
            "mecab-0.996-ko-0.9.2/example/example.c\n",
            "mecab-0.996-ko-0.9.2/example/thread_test.cpp\n",
            "mecab-0.996-ko-0.9.2/mecab-config.in\n",
            "mecab-0.996-ko-0.9.2/man/\n",
            "mecab-0.996-ko-0.9.2/man/Makefile.am\n",
            "mecab-0.996-ko-0.9.2/man/mecab.1\n",
            "mecab-0.996-ko-0.9.2/man/Makefile.in\n",
            "mecab-0.996-ko-0.9.2/mecab.iss.in\n",
            "mecab-0.996-ko-0.9.2/config.guess\n",
            "mecab-0.996-ko-0.9.2/README\n",
            "mecab-0.996-ko-0.9.2/COPYING\n",
            "mecab-0.996-ko-0.9.2/CHANGES.md\n",
            "mecab-0.996-ko-0.9.2/README.md\n",
            "mecab-0.996-ko-0.9.2/INSTALL\n",
            "mecab-0.996-ko-0.9.2/config.sub\n",
            "mecab-0.996-ko-0.9.2/configure.in\n",
            "mecab-0.996-ko-0.9.2/swig/\n",
            "mecab-0.996-ko-0.9.2/swig/Makefile\n",
            "mecab-0.996-ko-0.9.2/swig/version.h.in\n",
            "mecab-0.996-ko-0.9.2/swig/version.h\n",
            "mecab-0.996-ko-0.9.2/swig/MeCab.i\n",
            "mecab-0.996-ko-0.9.2/aclocal.m4\n",
            "mecab-0.996-ko-0.9.2/LGPL\n",
            "mecab-0.996-ko-0.9.2/Makefile.am\n",
            "mecab-0.996-ko-0.9.2/configure\n",
            "mecab-0.996-ko-0.9.2/tests/\n",
            "mecab-0.996-ko-0.9.2/tests/autolink/\n",
            "mecab-0.996-ko-0.9.2/tests/autolink/unk.def\n",
            "mecab-0.996-ko-0.9.2/tests/autolink/dicrc\n",
            "mecab-0.996-ko-0.9.2/tests/autolink/dic.csv\n",
            "mecab-0.996-ko-0.9.2/tests/autolink/test\n",
            "mecab-0.996-ko-0.9.2/tests/autolink/char.def\n",
            "mecab-0.996-ko-0.9.2/tests/autolink/matrix.def\n",
            "mecab-0.996-ko-0.9.2/tests/autolink/test.gld\n",
            "mecab-0.996-ko-0.9.2/tests/t9/\n",
            "mecab-0.996-ko-0.9.2/tests/t9/unk.def\n",
            "mecab-0.996-ko-0.9.2/tests/t9/ipadic.pl\n",
            "mecab-0.996-ko-0.9.2/tests/t9/dicrc\n",
            "mecab-0.996-ko-0.9.2/tests/t9/dic.csv\n",
            "mecab-0.996-ko-0.9.2/tests/t9/test\n",
            "mecab-0.996-ko-0.9.2/tests/t9/char.def\n",
            "mecab-0.996-ko-0.9.2/tests/t9/matrix.def\n",
            "mecab-0.996-ko-0.9.2/tests/t9/mkdic.pl\n",
            "mecab-0.996-ko-0.9.2/tests/t9/test.gld\n",
            "mecab-0.996-ko-0.9.2/tests/cost-train/\n",
            "mecab-0.996-ko-0.9.2/tests/cost-train/ipa.train\n",
            "mecab-0.996-ko-0.9.2/tests/cost-train/ipa.test\n",
            "mecab-0.996-ko-0.9.2/tests/cost-train/seed/\n",
            "mecab-0.996-ko-0.9.2/tests/cost-train/seed/rewrite.def\n",
            "mecab-0.996-ko-0.9.2/tests/cost-train/seed/feature.def\n",
            "mecab-0.996-ko-0.9.2/tests/cost-train/seed/unk.def\n",
            "mecab-0.996-ko-0.9.2/tests/cost-train/seed/dicrc\n",
            "mecab-0.996-ko-0.9.2/tests/cost-train/seed/dic.csv\n",
            "mecab-0.996-ko-0.9.2/tests/cost-train/seed/char.def\n",
            "mecab-0.996-ko-0.9.2/tests/cost-train/seed/matrix.def\n",
            "mecab-0.996-ko-0.9.2/tests/run-eval.sh\n",
            "mecab-0.996-ko-0.9.2/tests/run-cost-train.sh\n",
            "mecab-0.996-ko-0.9.2/tests/Makefile.am\n",
            "mecab-0.996-ko-0.9.2/tests/katakana/\n",
            "mecab-0.996-ko-0.9.2/tests/katakana/unk.def\n",
            "mecab-0.996-ko-0.9.2/tests/katakana/dicrc\n",
            "mecab-0.996-ko-0.9.2/tests/katakana/dic.csv\n",
            "mecab-0.996-ko-0.9.2/tests/katakana/test\n",
            "mecab-0.996-ko-0.9.2/tests/katakana/char.def\n",
            "mecab-0.996-ko-0.9.2/tests/katakana/matrix.def\n",
            "mecab-0.996-ko-0.9.2/tests/katakana/test.gld\n",
            "mecab-0.996-ko-0.9.2/tests/eval/\n",
            "mecab-0.996-ko-0.9.2/tests/eval/answer\n",
            "mecab-0.996-ko-0.9.2/tests/eval/system\n",
            "mecab-0.996-ko-0.9.2/tests/eval/test.gld\n",
            "mecab-0.996-ko-0.9.2/tests/shiin/\n",
            "mecab-0.996-ko-0.9.2/tests/shiin/unk.def\n",
            "mecab-0.996-ko-0.9.2/tests/shiin/dicrc\n",
            "mecab-0.996-ko-0.9.2/tests/shiin/dic.csv\n",
            "mecab-0.996-ko-0.9.2/tests/shiin/test\n",
            "mecab-0.996-ko-0.9.2/tests/shiin/char.def\n",
            "mecab-0.996-ko-0.9.2/tests/shiin/matrix.def\n",
            "mecab-0.996-ko-0.9.2/tests/shiin/mkdic.pl\n",
            "mecab-0.996-ko-0.9.2/tests/shiin/test.gld\n",
            "mecab-0.996-ko-0.9.2/tests/latin/\n",
            "mecab-0.996-ko-0.9.2/tests/latin/unk.def\n",
            "mecab-0.996-ko-0.9.2/tests/latin/dicrc\n",
            "mecab-0.996-ko-0.9.2/tests/latin/dic.csv\n",
            "mecab-0.996-ko-0.9.2/tests/latin/test\n",
            "mecab-0.996-ko-0.9.2/tests/latin/char.def\n",
            "mecab-0.996-ko-0.9.2/tests/latin/matrix.def\n",
            "mecab-0.996-ko-0.9.2/tests/latin/test.gld\n",
            "mecab-0.996-ko-0.9.2/tests/chartype/\n",
            "mecab-0.996-ko-0.9.2/tests/chartype/unk.def\n",
            "mecab-0.996-ko-0.9.2/tests/chartype/dicrc\n",
            "mecab-0.996-ko-0.9.2/tests/chartype/dic.csv\n",
            "mecab-0.996-ko-0.9.2/tests/chartype/test\n",
            "mecab-0.996-ko-0.9.2/tests/chartype/char.def\n",
            "mecab-0.996-ko-0.9.2/tests/chartype/matrix.def\n",
            "mecab-0.996-ko-0.9.2/tests/chartype/test.gld\n",
            "mecab-0.996-ko-0.9.2/tests/run-dics.sh\n",
            "mecab-0.996-ko-0.9.2/tests/ngram/\n",
            "mecab-0.996-ko-0.9.2/tests/ngram/unk.def\n",
            "mecab-0.996-ko-0.9.2/tests/ngram/dicrc\n",
            "mecab-0.996-ko-0.9.2/tests/ngram/dic.csv\n",
            "mecab-0.996-ko-0.9.2/tests/ngram/test\n",
            "mecab-0.996-ko-0.9.2/tests/ngram/char.def\n",
            "mecab-0.996-ko-0.9.2/tests/ngram/matrix.def\n",
            "mecab-0.996-ko-0.9.2/tests/ngram/test.gld\n",
            "mecab-0.996-ko-0.9.2/tests/Makefile.in\n",
            "mecab-0.996-ko-0.9.2/ltmain.sh\n",
            "mecab-0.996-ko-0.9.2/config.rpath\n",
            "mecab-0.996-ko-0.9.2/config.h.in\n",
            "mecab-0.996-ko-0.9.2/mecabrc.in\n",
            "mecab-0.996-ko-0.9.2/GPL\n",
            "mecab-0.996-ko-0.9.2/Makefile.train\n",
            "mecab-0.996-ko-0.9.2/ChangeLog\n",
            "mecab-0.996-ko-0.9.2/install-sh\n",
            "mecab-0.996-ko-0.9.2/AUTHORS\n",
            "mecab-0.996-ko-0.9.2/doc/\n",
            "mecab-0.996-ko-0.9.2/doc/bindings.html\n",
            "mecab-0.996-ko-0.9.2/doc/posid.html\n",
            "mecab-0.996-ko-0.9.2/doc/unk.html\n",
            "mecab-0.996-ko-0.9.2/doc/learn.html\n",
            "mecab-0.996-ko-0.9.2/doc/format.html\n",
            "mecab-0.996-ko-0.9.2/doc/libmecab.html\n",
            "mecab-0.996-ko-0.9.2/doc/mecab.css\n",
            "mecab-0.996-ko-0.9.2/doc/feature.html\n",
            "mecab-0.996-ko-0.9.2/doc/Makefile.am\n",
            "mecab-0.996-ko-0.9.2/doc/soft.html\n",
            "mecab-0.996-ko-0.9.2/doc/en/\n",
            "mecab-0.996-ko-0.9.2/doc/en/bindings.html\n",
            "mecab-0.996-ko-0.9.2/doc/dic-detail.html\n",
            "mecab-0.996-ko-0.9.2/doc/flow.png\n",
            "mecab-0.996-ko-0.9.2/doc/mecab.html\n",
            "mecab-0.996-ko-0.9.2/doc/index.html\n",
            "mecab-0.996-ko-0.9.2/doc/result.png\n",
            "mecab-0.996-ko-0.9.2/doc/doxygen/\n",
            "mecab-0.996-ko-0.9.2/doc/doxygen/tab_a.png\n",
            "mecab-0.996-ko-0.9.2/doc/doxygen/globals_eval.html\n",
            "mecab-0.996-ko-0.9.2/doc/doxygen/classMeCab_1_1Tagger-members.html\n",
            "mecab-0.996-ko-0.9.2/doc/doxygen/functions_vars.html\n",
            "mecab-0.996-ko-0.9.2/doc/doxygen/doxygen.css\n",
            "mecab-0.996-ko-0.9.2/doc/doxygen/tab_r.gif\n",
            "mecab-0.996-ko-0.9.2/doc/doxygen/classMeCab_1_1Lattice.html\n",
            "mecab-0.996-ko-0.9.2/doc/doxygen/functions.html\n",
            "mecab-0.996-ko-0.9.2/doc/doxygen/classMeCab_1_1Tagger.html\n",
            "mecab-0.996-ko-0.9.2/doc/doxygen/mecab_8h_source.html\n",
            "mecab-0.996-ko-0.9.2/doc/doxygen/tabs.css\n",
            "mecab-0.996-ko-0.9.2/doc/doxygen/nav_f.png\n",
            "mecab-0.996-ko-0.9.2/doc/doxygen/tab_b.png\n",
            "mecab-0.996-ko-0.9.2/doc/doxygen/globals.html\n",
            "mecab-0.996-ko-0.9.2/doc/doxygen/nav_h.png\n",
            "mecab-0.996-ko-0.9.2/doc/doxygen/tab_h.png\n",
            "mecab-0.996-ko-0.9.2/doc/doxygen/classMeCab_1_1Model.html\n",
            "mecab-0.996-ko-0.9.2/doc/doxygen/globals_func.html\n",
            "mecab-0.996-ko-0.9.2/doc/doxygen/closed.png\n",
            "mecab-0.996-ko-0.9.2/doc/doxygen/tab_l.gif\n",
            "mecab-0.996-ko-0.9.2/doc/doxygen/structmecab__path__t-members.html\n",
            "mecab-0.996-ko-0.9.2/doc/doxygen/functions_func.html\n",
            "mecab-0.996-ko-0.9.2/doc/doxygen/globals_type.html\n",
            "mecab-0.996-ko-0.9.2/doc/doxygen/classMeCab_1_1Lattice-members.html\n",
            "mecab-0.996-ko-0.9.2/doc/doxygen/structmecab__node__t.html\n",
            "mecab-0.996-ko-0.9.2/doc/doxygen/namespacemembers_func.html\n",
            "mecab-0.996-ko-0.9.2/doc/doxygen/tab_s.png\n",
            "mecab-0.996-ko-0.9.2/doc/doxygen/structmecab__dictionary__info__t-members.html\n",
            "mecab-0.996-ko-0.9.2/doc/doxygen/namespacemembers_type.html\n",
            "mecab-0.996-ko-0.9.2/doc/doxygen/classMeCab_1_1Model-members.html\n",
            "mecab-0.996-ko-0.9.2/doc/doxygen/structmecab__dictionary__info__t.html\n",
            "mecab-0.996-ko-0.9.2/doc/doxygen/namespaces.html\n",
            "mecab-0.996-ko-0.9.2/doc/doxygen/namespacemembers.html\n",
            "mecab-0.996-ko-0.9.2/doc/doxygen/namespaceMeCab.html\n",
            "mecab-0.996-ko-0.9.2/doc/doxygen/structmecab__path__t.html\n",
            "mecab-0.996-ko-0.9.2/doc/doxygen/files.html\n",
            "mecab-0.996-ko-0.9.2/doc/doxygen/structmecab__node__t-members.html\n",
            "mecab-0.996-ko-0.9.2/doc/doxygen/index.html\n",
            "mecab-0.996-ko-0.9.2/doc/doxygen/annotated.html\n",
            "mecab-0.996-ko-0.9.2/doc/doxygen/globals_defs.html\n",
            "mecab-0.996-ko-0.9.2/doc/doxygen/classes.html\n",
            "mecab-0.996-ko-0.9.2/doc/doxygen/mecab_8h-source.html\n",
            "mecab-0.996-ko-0.9.2/doc/doxygen/doxygen.png\n",
            "mecab-0.996-ko-0.9.2/doc/doxygen/tab_b.gif\n",
            "mecab-0.996-ko-0.9.2/doc/doxygen/bc_s.png\n",
            "mecab-0.996-ko-0.9.2/doc/doxygen/open.png\n",
            "mecab-0.996-ko-0.9.2/doc/doxygen/mecab_8h.html\n",
            "mecab-0.996-ko-0.9.2/doc/dic.html\n",
            "mecab-0.996-ko-0.9.2/doc/partial.html\n",
            "mecab-0.996-ko-0.9.2/doc/feature.png\n",
            "mecab-0.996-ko-0.9.2/doc/Makefile.in\n",
            "mecab-0.996-ko-0.9.2/missing\n",
            "mecab-0.996-ko-0.9.2/BSD\n",
            "mecab-0.996-ko-0.9.2/NEWS\n",
            "mecab-0.996-ko-0.9.2/mkinstalldirs\n",
            "mecab-0.996-ko-0.9.2/src/\n",
            "mecab-0.996-ko-0.9.2/src/dictionary.h\n",
            "mecab-0.996-ko-0.9.2/src/writer.h\n",
            "mecab-0.996-ko-0.9.2/src/utils.h\n",
            "mecab-0.996-ko-0.9.2/src/string_buffer.cpp\n",
            "mecab-0.996-ko-0.9.2/src/tokenizer.cpp\n",
            "mecab-0.996-ko-0.9.2/src/make.bat\n",
            "mecab-0.996-ko-0.9.2/src/mecab.h\n",
            "mecab-0.996-ko-0.9.2/src/freelist.h\n",
            "mecab-0.996-ko-0.9.2/src/string_buffer.h\n",
            "mecab-0.996-ko-0.9.2/src/learner_tagger.h\n",
            "mecab-0.996-ko-0.9.2/src/dictionary_compiler.cpp\n",
            "mecab-0.996-ko-0.9.2/src/eval.cpp\n",
            "mecab-0.996-ko-0.9.2/src/mecab-system-eval.cpp\n",
            "mecab-0.996-ko-0.9.2/src/darts.h\n",
            "mecab-0.996-ko-0.9.2/src/param.h\n",
            "mecab-0.996-ko-0.9.2/src/char_property.h\n",
            "mecab-0.996-ko-0.9.2/src/learner_node.h\n",
            "mecab-0.996-ko-0.9.2/src/mecab-dict-gen.cpp\n",
            "mecab-0.996-ko-0.9.2/src/mecab-dict-index.cpp\n",
            "mecab-0.996-ko-0.9.2/src/winmain.h\n",
            "mecab-0.996-ko-0.9.2/src/thread.h\n",
            "mecab-0.996-ko-0.9.2/src/context_id.cpp\n",
            "mecab-0.996-ko-0.9.2/src/Makefile.am\n",
            "mecab-0.996-ko-0.9.2/src/connector.h\n",
            "mecab-0.996-ko-0.9.2/src/common.h\n",
            "mecab-0.996-ko-0.9.2/src/dictionary_rewriter.cpp\n",
            "mecab-0.996-ko-0.9.2/src/Makefile.msvc.in\n",
            "mecab-0.996-ko-0.9.2/src/dictionary_rewriter.h\n",
            "mecab-0.996-ko-0.9.2/src/feature_index.h\n",
            "mecab-0.996-ko-0.9.2/src/iconv_utils.cpp\n",
            "mecab-0.996-ko-0.9.2/src/char_property.cpp\n",
            "mecab-0.996-ko-0.9.2/src/mecab-test-gen.cpp\n",
            "mecab-0.996-ko-0.9.2/src/tagger.cpp\n",
            "mecab-0.996-ko-0.9.2/src/mecab-cost-train.cpp\n",
            "mecab-0.996-ko-0.9.2/src/learner.cpp\n",
            "mecab-0.996-ko-0.9.2/src/dictionary.cpp\n",
            "mecab-0.996-ko-0.9.2/src/lbfgs.cpp\n",
            "mecab-0.996-ko-0.9.2/src/ucs.h\n",
            "mecab-0.996-ko-0.9.2/src/writer.cpp\n",
            "mecab-0.996-ko-0.9.2/src/learner_tagger.cpp\n",
            "mecab-0.996-ko-0.9.2/src/lbfgs.h\n",
            "mecab-0.996-ko-0.9.2/src/libmecab.cpp\n",
            "mecab-0.996-ko-0.9.2/src/tokenizer.h\n",
            "mecab-0.996-ko-0.9.2/src/mecab.cpp\n",
            "mecab-0.996-ko-0.9.2/src/utils.cpp\n",
            "mecab-0.996-ko-0.9.2/src/dictionary_generator.cpp\n",
            "mecab-0.996-ko-0.9.2/src/param.cpp\n",
            "mecab-0.996-ko-0.9.2/src/context_id.h\n",
            "mecab-0.996-ko-0.9.2/src/mmap.h\n",
            "mecab-0.996-ko-0.9.2/src/viterbi.h\n",
            "mecab-0.996-ko-0.9.2/src/viterbi.cpp\n",
            "mecab-0.996-ko-0.9.2/src/stream_wrapper.h\n",
            "mecab-0.996-ko-0.9.2/src/feature_index.cpp\n",
            "mecab-0.996-ko-0.9.2/src/nbest_generator.h\n",
            "mecab-0.996-ko-0.9.2/src/ucstable.h\n",
            "mecab-0.996-ko-0.9.2/src/nbest_generator.cpp\n",
            "mecab-0.996-ko-0.9.2/src/iconv_utils.h\n",
            "mecab-0.996-ko-0.9.2/src/connector.cpp\n",
            "mecab-0.996-ko-0.9.2/src/Makefile.in\n",
            "mecab-0.996-ko-0.9.2/src/scoped_ptr.h\n",
            "mecab-0.996-ko-0.9.2/Makefile.in\n",
            "checking for a BSD-compatible install... /usr/bin/install -c\n",
            "checking whether build environment is sane... yes\n",
            "checking for a thread-safe mkdir -p... /bin/mkdir -p\n",
            "checking for gawk... no\n",
            "checking for mawk... mawk\n",
            "checking whether make sets $(MAKE)... yes\n",
            "checking for gcc... gcc\n",
            "checking whether the C compiler works... yes\n",
            "checking for C compiler default output file name... a.out\n",
            "checking for suffix of executables... \n",
            "checking whether we are cross compiling... no\n",
            "checking for suffix of object files... o\n",
            "checking whether we are using the GNU C compiler... yes\n",
            "checking whether gcc accepts -g... yes\n",
            "checking for gcc option to accept ISO C89... none needed\n",
            "checking for style of include used by make... GNU\n",
            "checking dependency style of gcc... none\n",
            "checking for g++... g++\n",
            "checking whether we are using the GNU C++ compiler... yes\n",
            "checking whether g++ accepts -g... yes\n",
            "checking dependency style of g++... none\n",
            "checking how to run the C preprocessor... gcc -E\n",
            "checking for grep that handles long lines and -e... /bin/grep\n",
            "checking for egrep... /bin/grep -E\n",
            "checking whether gcc needs -traditional... no\n",
            "checking whether make sets $(MAKE)... (cached) yes\n",
            "checking build system type... x86_64-unknown-linux-gnu\n",
            "checking host system type... x86_64-unknown-linux-gnu\n",
            "checking how to print strings... printf\n",
            "checking for a sed that does not truncate output... /bin/sed\n",
            "checking for fgrep... /bin/grep -F\n",
            "checking for ld used by gcc... /usr/bin/ld\n",
            "checking if the linker (/usr/bin/ld) is GNU ld... yes\n",
            "checking for BSD- or MS-compatible name lister (nm)... /usr/bin/nm -B\n",
            "checking the name lister (/usr/bin/nm -B) interface... BSD nm\n",
            "checking whether ln -s works... yes\n",
            "checking the maximum length of command line arguments... 1572864\n",
            "checking whether the shell understands some XSI constructs... yes\n",
            "checking whether the shell understands \"+=\"... yes\n",
            "checking how to convert x86_64-unknown-linux-gnu file names to x86_64-unknown-linux-gnu format... func_convert_file_noop\n",
            "checking how to convert x86_64-unknown-linux-gnu file names to toolchain format... func_convert_file_noop\n",
            "checking for /usr/bin/ld option to reload object files... -r\n",
            "checking for objdump... objdump\n",
            "checking how to recognize dependent libraries... pass_all\n",
            "checking for dlltool... dlltool\n",
            "checking how to associate runtime and link libraries... printf %s\\n\n",
            "checking for ar... ar\n",
            "checking for archiver @FILE support... @\n",
            "checking for strip... strip\n",
            "checking for ranlib... ranlib\n",
            "checking command to parse /usr/bin/nm -B output from gcc object... ok\n",
            "checking for sysroot... no\n",
            "checking for mt... no\n",
            "checking if : is a manifest tool... no\n",
            "checking for ANSI C header files... yes\n",
            "checking for sys/types.h... yes\n",
            "checking for sys/stat.h... yes\n",
            "checking for stdlib.h... yes\n",
            "checking for string.h... yes\n",
            "checking for memory.h... yes\n",
            "checking for strings.h... yes\n",
            "checking for inttypes.h... yes\n",
            "checking for stdint.h... yes\n",
            "checking for unistd.h... yes\n",
            "checking for dlfcn.h... yes\n",
            "checking for objdir... .libs\n",
            "checking if gcc supports -fno-rtti -fno-exceptions... no\n",
            "checking for gcc option to produce PIC... -fPIC -DPIC\n",
            "checking if gcc PIC flag -fPIC -DPIC works... yes\n",
            "checking if gcc static flag -static works... yes\n",
            "checking if gcc supports -c -o file.o... yes\n",
            "checking if gcc supports -c -o file.o... (cached) yes\n",
            "checking whether the gcc linker (/usr/bin/ld) supports shared libraries... yes\n",
            "checking whether -lc should be explicitly linked in... no\n",
            "checking dynamic linker characteristics... GNU/Linux ld.so\n",
            "checking how to hardcode library paths into programs... immediate\n",
            "checking whether stripping libraries is possible... yes\n",
            "checking if libtool supports shared libraries... yes\n",
            "checking whether to build shared libraries... yes\n",
            "checking whether to build static libraries... yes\n",
            "checking how to run the C++ preprocessor... g++ -E\n",
            "checking for ld used by g++... /usr/bin/ld\n",
            "checking if the linker (/usr/bin/ld) is GNU ld... yes\n",
            "checking whether the g++ linker (/usr/bin/ld) supports shared libraries... yes\n",
            "checking for g++ option to produce PIC... -fPIC -DPIC\n",
            "checking if g++ PIC flag -fPIC -DPIC works... yes\n",
            "checking if g++ static flag -static works... yes\n",
            "checking if g++ supports -c -o file.o... yes\n",
            "checking if g++ supports -c -o file.o... (cached) yes\n",
            "checking whether the g++ linker (/usr/bin/ld) supports shared libraries... yes\n",
            "checking dynamic linker characteristics... (cached) GNU/Linux ld.so\n",
            "checking how to hardcode library paths into programs... immediate\n",
            "checking for library containing strerror... none required\n",
            "checking whether byte ordering is bigendian... no\n",
            "checking for ld used by GCC... /usr/bin/ld\n",
            "checking if the linker (/usr/bin/ld) is GNU ld... yes\n",
            "checking for shared library run path origin... done\n",
            "checking for iconv... yes\n",
            "checking for working iconv... yes\n",
            "checking for iconv declaration... \n",
            "         extern size_t iconv (iconv_t cd, char * *inbuf, size_t *inbytesleft, char * *outbuf, size_t *outbytesleft);\n",
            "checking for ANSI C header files... (cached) yes\n",
            "checking for an ANSI C-conforming const... yes\n",
            "checking whether byte ordering is bigendian... (cached) no\n",
            "checking for string.h... (cached) yes\n",
            "checking for stdlib.h... (cached) yes\n",
            "checking for unistd.h... (cached) yes\n",
            "checking fcntl.h usability... yes\n",
            "checking fcntl.h presence... yes\n",
            "checking for fcntl.h... yes\n",
            "checking for stdint.h... (cached) yes\n",
            "checking for sys/stat.h... (cached) yes\n",
            "checking sys/mman.h usability... yes\n",
            "checking sys/mman.h presence... yes\n",
            "checking for sys/mman.h... yes\n",
            "checking sys/times.h usability... yes\n",
            "checking sys/times.h presence... yes\n",
            "checking for sys/times.h... yes\n",
            "checking for sys/types.h... (cached) yes\n",
            "checking dirent.h usability... yes\n",
            "checking dirent.h presence... yes\n",
            "checking for dirent.h... yes\n",
            "checking ctype.h usability... yes\n",
            "checking ctype.h presence... yes\n",
            "checking for ctype.h... yes\n",
            "checking for sys/types.h... (cached) yes\n",
            "checking io.h usability... no\n",
            "checking io.h presence... no\n",
            "checking for io.h... no\n",
            "checking windows.h usability... no\n",
            "checking windows.h presence... no\n",
            "checking for windows.h... no\n",
            "checking pthread.h usability... yes\n",
            "checking pthread.h presence... yes\n",
            "checking for pthread.h... yes\n",
            "checking for off_t... yes\n",
            "checking for size_t... yes\n",
            "checking size of char... 1\n",
            "checking size of short... 2\n",
            "checking size of int... 4\n",
            "checking size of long... 8\n",
            "checking size of long long... 8\n",
            "checking size of size_t... 8\n",
            "checking for size_t... (cached) yes\n",
            "checking for unsigned long long int... yes\n",
            "checking for stdlib.h... (cached) yes\n",
            "checking for unistd.h... (cached) yes\n",
            "checking for sys/param.h... yes\n",
            "checking for getpagesize... yes\n",
            "checking for working mmap... yes\n",
            "checking for main in -lstdc++... yes\n",
            "checking for pthread_create in -lpthread... yes\n",
            "checking for pthread_join in -lpthread... yes\n",
            "checking for getenv... yes\n",
            "checking for opendir... yes\n",
            "checking whether make is GNU Make... yes\n",
            "checking if g++ supports stl <vector> (required)... yes\n",
            "checking if g++ supports stl <list> (required)... yes\n",
            "checking if g++ supports stl <map> (required)... yes\n",
            "checking if g++ supports stl <set> (required)... yes\n",
            "checking if g++ supports stl <queue> (required)... yes\n",
            "checking if g++ supports stl <functional> (required)... yes\n",
            "checking if g++ supports stl <algorithm> (required)... yes\n",
            "checking if g++ supports stl <string> (required)... yes\n",
            "checking if g++ supports stl <iostream> (required)... yes\n",
            "checking if g++ supports stl <sstream> (required)... yes\n",
            "checking if g++ supports stl <fstream> (required)... yes\n",
            "checking if g++ supports template <class T> (required)... yes\n",
            "checking if g++ supports const_cast<> (required)... yes\n",
            "checking if g++ supports static_cast<> (required)... yes\n",
            "checking if g++ supports reinterpret_cast<> (required)... yes\n",
            "checking if g++ supports namespaces (required) ... yes\n",
            "checking if g++ supports __thread (optional)... yes\n",
            "checking if g++ supports template <class T> (required)... yes\n",
            "checking if g++ supports GCC native atomic operations (optional)... yes\n",
            "checking if g++ supports OSX native atomic operations (optional)... no\n",
            "checking if g++ environment provides all required features... yes\n",
            "configure: creating ./config.status\n",
            "config.status: creating Makefile\n",
            "config.status: creating src/Makefile\n",
            "config.status: creating src/Makefile.msvc\n",
            "config.status: creating man/Makefile\n",
            "config.status: creating doc/Makefile\n",
            "config.status: creating tests/Makefile\n",
            "config.status: creating swig/version.h\n",
            "config.status: creating mecab.iss\n",
            "config.status: creating mecab-config\n",
            "config.status: creating mecabrc\n",
            "config.status: creating config.h\n",
            "config.status: executing depfiles commands\n",
            "config.status: executing libtool commands\n",
            "config.status: executing default commands\n",
            "make  all-recursive\n",
            "make[1]: Entering directory '/tmp/mecab-0.996-ko-0.9.2'\n",
            "Making all in src\n",
            "make[2]: Entering directory '/tmp/mecab-0.996-ko-0.9.2/src'\n",
            "/bin/bash ../libtool --tag=CXX   --mode=compile g++ -DHAVE_CONFIG_H -I. -I.. -DDIC_VERSION=102   -DMECAB_DEFAULT_RC=\"\\\"/usr/local/etc/mecabrc\\\"\"    -O3 -Wall  -c -o viterbi.lo viterbi.cpp\n",
            "libtool: compile:  g++ -DHAVE_CONFIG_H -I. -I.. -DDIC_VERSION=102 -DMECAB_DEFAULT_RC=\\\"/usr/local/etc/mecabrc\\\" -O3 -Wall -c viterbi.cpp  -fPIC -DPIC -o .libs/viterbi.o\n",
            "libtool: compile:  g++ -DHAVE_CONFIG_H -I. -I.. -DDIC_VERSION=102 -DMECAB_DEFAULT_RC=\\\"/usr/local/etc/mecabrc\\\" -O3 -Wall -c viterbi.cpp -o viterbi.o >/dev/null 2>&1\n",
            "/bin/bash ../libtool --tag=CXX   --mode=compile g++ -DHAVE_CONFIG_H -I. -I.. -DDIC_VERSION=102   -DMECAB_DEFAULT_RC=\"\\\"/usr/local/etc/mecabrc\\\"\"    -O3 -Wall  -c -o tagger.lo tagger.cpp\n",
            "libtool: compile:  g++ -DHAVE_CONFIG_H -I. -I.. -DDIC_VERSION=102 -DMECAB_DEFAULT_RC=\\\"/usr/local/etc/mecabrc\\\" -O3 -Wall -c tagger.cpp  -fPIC -DPIC -o .libs/tagger.o\n",
            "libtool: compile:  g++ -DHAVE_CONFIG_H -I. -I.. -DDIC_VERSION=102 -DMECAB_DEFAULT_RC=\\\"/usr/local/etc/mecabrc\\\" -O3 -Wall -c tagger.cpp -o tagger.o >/dev/null 2>&1\n",
            "/bin/bash ../libtool --tag=CXX   --mode=compile g++ -DHAVE_CONFIG_H -I. -I.. -DDIC_VERSION=102   -DMECAB_DEFAULT_RC=\"\\\"/usr/local/etc/mecabrc\\\"\"    -O3 -Wall  -c -o utils.lo utils.cpp\n",
            "libtool: compile:  g++ -DHAVE_CONFIG_H -I. -I.. -DDIC_VERSION=102 -DMECAB_DEFAULT_RC=\\\"/usr/local/etc/mecabrc\\\" -O3 -Wall -c utils.cpp  -fPIC -DPIC -o .libs/utils.o\n",
            "libtool: compile:  g++ -DHAVE_CONFIG_H -I. -I.. -DDIC_VERSION=102 -DMECAB_DEFAULT_RC=\\\"/usr/local/etc/mecabrc\\\" -O3 -Wall -c utils.cpp -o utils.o >/dev/null 2>&1\n",
            "/bin/bash ../libtool --tag=CXX   --mode=compile g++ -DHAVE_CONFIG_H -I. -I.. -DDIC_VERSION=102   -DMECAB_DEFAULT_RC=\"\\\"/usr/local/etc/mecabrc\\\"\"    -O3 -Wall  -c -o eval.lo eval.cpp\n",
            "libtool: compile:  g++ -DHAVE_CONFIG_H -I. -I.. -DDIC_VERSION=102 -DMECAB_DEFAULT_RC=\\\"/usr/local/etc/mecabrc\\\" -O3 -Wall -c eval.cpp  -fPIC -DPIC -o .libs/eval.o\n",
            "libtool: compile:  g++ -DHAVE_CONFIG_H -I. -I.. -DDIC_VERSION=102 -DMECAB_DEFAULT_RC=\\\"/usr/local/etc/mecabrc\\\" -O3 -Wall -c eval.cpp -o eval.o >/dev/null 2>&1\n",
            "/bin/bash ../libtool --tag=CXX   --mode=compile g++ -DHAVE_CONFIG_H -I. -I.. -DDIC_VERSION=102   -DMECAB_DEFAULT_RC=\"\\\"/usr/local/etc/mecabrc\\\"\"    -O3 -Wall  -c -o iconv_utils.lo iconv_utils.cpp\n",
            "libtool: compile:  g++ -DHAVE_CONFIG_H -I. -I.. -DDIC_VERSION=102 -DMECAB_DEFAULT_RC=\\\"/usr/local/etc/mecabrc\\\" -O3 -Wall -c iconv_utils.cpp  -fPIC -DPIC -o .libs/iconv_utils.o\n",
            "libtool: compile:  g++ -DHAVE_CONFIG_H -I. -I.. -DDIC_VERSION=102 -DMECAB_DEFAULT_RC=\\\"/usr/local/etc/mecabrc\\\" -O3 -Wall -c iconv_utils.cpp -o iconv_utils.o >/dev/null 2>&1\n",
            "/bin/bash ../libtool --tag=CXX   --mode=compile g++ -DHAVE_CONFIG_H -I. -I.. -DDIC_VERSION=102   -DMECAB_DEFAULT_RC=\"\\\"/usr/local/etc/mecabrc\\\"\"    -O3 -Wall  -c -o dictionary_rewriter.lo dictionary_rewriter.cpp\n",
            "libtool: compile:  g++ -DHAVE_CONFIG_H -I. -I.. -DDIC_VERSION=102 -DMECAB_DEFAULT_RC=\\\"/usr/local/etc/mecabrc\\\" -O3 -Wall -c dictionary_rewriter.cpp  -fPIC -DPIC -o .libs/dictionary_rewriter.o\n",
            "libtool: compile:  g++ -DHAVE_CONFIG_H -I. -I.. -DDIC_VERSION=102 -DMECAB_DEFAULT_RC=\\\"/usr/local/etc/mecabrc\\\" -O3 -Wall -c dictionary_rewriter.cpp -o dictionary_rewriter.o >/dev/null 2>&1\n",
            "/bin/bash ../libtool --tag=CXX   --mode=compile g++ -DHAVE_CONFIG_H -I. -I.. -DDIC_VERSION=102   -DMECAB_DEFAULT_RC=\"\\\"/usr/local/etc/mecabrc\\\"\"    -O3 -Wall  -c -o dictionary_generator.lo dictionary_generator.cpp\n",
            "libtool: compile:  g++ -DHAVE_CONFIG_H -I. -I.. -DDIC_VERSION=102 -DMECAB_DEFAULT_RC=\\\"/usr/local/etc/mecabrc\\\" -O3 -Wall -c dictionary_generator.cpp  -fPIC -DPIC -o .libs/dictionary_generator.o\n",
            "libtool: compile:  g++ -DHAVE_CONFIG_H -I. -I.. -DDIC_VERSION=102 -DMECAB_DEFAULT_RC=\\\"/usr/local/etc/mecabrc\\\" -O3 -Wall -c dictionary_generator.cpp -o dictionary_generator.o >/dev/null 2>&1\n",
            "/bin/bash ../libtool --tag=CXX   --mode=compile g++ -DHAVE_CONFIG_H -I. -I.. -DDIC_VERSION=102   -DMECAB_DEFAULT_RC=\"\\\"/usr/local/etc/mecabrc\\\"\"    -O3 -Wall  -c -o dictionary_compiler.lo dictionary_compiler.cpp\n",
            "libtool: compile:  g++ -DHAVE_CONFIG_H -I. -I.. -DDIC_VERSION=102 -DMECAB_DEFAULT_RC=\\\"/usr/local/etc/mecabrc\\\" -O3 -Wall -c dictionary_compiler.cpp  -fPIC -DPIC -o .libs/dictionary_compiler.o\n",
            "libtool: compile:  g++ -DHAVE_CONFIG_H -I. -I.. -DDIC_VERSION=102 -DMECAB_DEFAULT_RC=\\\"/usr/local/etc/mecabrc\\\" -O3 -Wall -c dictionary_compiler.cpp -o dictionary_compiler.o >/dev/null 2>&1\n",
            "/bin/bash ../libtool --tag=CXX   --mode=compile g++ -DHAVE_CONFIG_H -I. -I.. -DDIC_VERSION=102   -DMECAB_DEFAULT_RC=\"\\\"/usr/local/etc/mecabrc\\\"\"    -O3 -Wall  -c -o context_id.lo context_id.cpp\n",
            "libtool: compile:  g++ -DHAVE_CONFIG_H -I. -I.. -DDIC_VERSION=102 -DMECAB_DEFAULT_RC=\\\"/usr/local/etc/mecabrc\\\" -O3 -Wall -c context_id.cpp  -fPIC -DPIC -o .libs/context_id.o\n",
            "libtool: compile:  g++ -DHAVE_CONFIG_H -I. -I.. -DDIC_VERSION=102 -DMECAB_DEFAULT_RC=\\\"/usr/local/etc/mecabrc\\\" -O3 -Wall -c context_id.cpp -o context_id.o >/dev/null 2>&1\n",
            "/bin/bash ../libtool --tag=CXX   --mode=compile g++ -DHAVE_CONFIG_H -I. -I.. -DDIC_VERSION=102   -DMECAB_DEFAULT_RC=\"\\\"/usr/local/etc/mecabrc\\\"\"    -O3 -Wall  -c -o connector.lo connector.cpp\n",
            "libtool: compile:  g++ -DHAVE_CONFIG_H -I. -I.. -DDIC_VERSION=102 -DMECAB_DEFAULT_RC=\\\"/usr/local/etc/mecabrc\\\" -O3 -Wall -c connector.cpp  -fPIC -DPIC -o .libs/connector.o\n",
            "libtool: compile:  g++ -DHAVE_CONFIG_H -I. -I.. -DDIC_VERSION=102 -DMECAB_DEFAULT_RC=\\\"/usr/local/etc/mecabrc\\\" -O3 -Wall -c connector.cpp -o connector.o >/dev/null 2>&1\n",
            "/bin/bash ../libtool --tag=CXX   --mode=compile g++ -DHAVE_CONFIG_H -I. -I.. -DDIC_VERSION=102   -DMECAB_DEFAULT_RC=\"\\\"/usr/local/etc/mecabrc\\\"\"    -O3 -Wall  -c -o nbest_generator.lo nbest_generator.cpp\n",
            "libtool: compile:  g++ -DHAVE_CONFIG_H -I. -I.. -DDIC_VERSION=102 -DMECAB_DEFAULT_RC=\\\"/usr/local/etc/mecabrc\\\" -O3 -Wall -c nbest_generator.cpp  -fPIC -DPIC -o .libs/nbest_generator.o\n",
            "libtool: compile:  g++ -DHAVE_CONFIG_H -I. -I.. -DDIC_VERSION=102 -DMECAB_DEFAULT_RC=\\\"/usr/local/etc/mecabrc\\\" -O3 -Wall -c nbest_generator.cpp -o nbest_generator.o >/dev/null 2>&1\n",
            "/bin/bash ../libtool --tag=CXX   --mode=compile g++ -DHAVE_CONFIG_H -I. -I.. -DDIC_VERSION=102   -DMECAB_DEFAULT_RC=\"\\\"/usr/local/etc/mecabrc\\\"\"    -O3 -Wall  -c -o writer.lo writer.cpp\n",
            "libtool: compile:  g++ -DHAVE_CONFIG_H -I. -I.. -DDIC_VERSION=102 -DMECAB_DEFAULT_RC=\\\"/usr/local/etc/mecabrc\\\" -O3 -Wall -c writer.cpp  -fPIC -DPIC -o .libs/writer.o\n",
            "libtool: compile:  g++ -DHAVE_CONFIG_H -I. -I.. -DDIC_VERSION=102 -DMECAB_DEFAULT_RC=\\\"/usr/local/etc/mecabrc\\\" -O3 -Wall -c writer.cpp -o writer.o >/dev/null 2>&1\n",
            "/bin/bash ../libtool --tag=CXX   --mode=compile g++ -DHAVE_CONFIG_H -I. -I.. -DDIC_VERSION=102   -DMECAB_DEFAULT_RC=\"\\\"/usr/local/etc/mecabrc\\\"\"    -O3 -Wall  -c -o string_buffer.lo string_buffer.cpp\n",
            "libtool: compile:  g++ -DHAVE_CONFIG_H -I. -I.. -DDIC_VERSION=102 -DMECAB_DEFAULT_RC=\\\"/usr/local/etc/mecabrc\\\" -O3 -Wall -c string_buffer.cpp  -fPIC -DPIC -o .libs/string_buffer.o\n",
            "libtool: compile:  g++ -DHAVE_CONFIG_H -I. -I.. -DDIC_VERSION=102 -DMECAB_DEFAULT_RC=\\\"/usr/local/etc/mecabrc\\\" -O3 -Wall -c string_buffer.cpp -o string_buffer.o >/dev/null 2>&1\n",
            "/bin/bash ../libtool --tag=CXX   --mode=compile g++ -DHAVE_CONFIG_H -I. -I.. -DDIC_VERSION=102   -DMECAB_DEFAULT_RC=\"\\\"/usr/local/etc/mecabrc\\\"\"    -O3 -Wall  -c -o param.lo param.cpp\n",
            "libtool: compile:  g++ -DHAVE_CONFIG_H -I. -I.. -DDIC_VERSION=102 -DMECAB_DEFAULT_RC=\\\"/usr/local/etc/mecabrc\\\" -O3 -Wall -c param.cpp  -fPIC -DPIC -o .libs/param.o\n",
            "libtool: compile:  g++ -DHAVE_CONFIG_H -I. -I.. -DDIC_VERSION=102 -DMECAB_DEFAULT_RC=\\\"/usr/local/etc/mecabrc\\\" -O3 -Wall -c param.cpp -o param.o >/dev/null 2>&1\n",
            "/bin/bash ../libtool --tag=CXX   --mode=compile g++ -DHAVE_CONFIG_H -I. -I.. -DDIC_VERSION=102   -DMECAB_DEFAULT_RC=\"\\\"/usr/local/etc/mecabrc\\\"\"    -O3 -Wall  -c -o tokenizer.lo tokenizer.cpp\n",
            "libtool: compile:  g++ -DHAVE_CONFIG_H -I. -I.. -DDIC_VERSION=102 -DMECAB_DEFAULT_RC=\\\"/usr/local/etc/mecabrc\\\" -O3 -Wall -c tokenizer.cpp  -fPIC -DPIC -o .libs/tokenizer.o\n",
            "libtool: compile:  g++ -DHAVE_CONFIG_H -I. -I.. -DDIC_VERSION=102 -DMECAB_DEFAULT_RC=\\\"/usr/local/etc/mecabrc\\\" -O3 -Wall -c tokenizer.cpp -o tokenizer.o >/dev/null 2>&1\n",
            "/bin/bash ../libtool --tag=CXX   --mode=compile g++ -DHAVE_CONFIG_H -I. -I.. -DDIC_VERSION=102   -DMECAB_DEFAULT_RC=\"\\\"/usr/local/etc/mecabrc\\\"\"    -O3 -Wall  -c -o char_property.lo char_property.cpp\n",
            "libtool: compile:  g++ -DHAVE_CONFIG_H -I. -I.. -DDIC_VERSION=102 -DMECAB_DEFAULT_RC=\\\"/usr/local/etc/mecabrc\\\" -O3 -Wall -c char_property.cpp  -fPIC -DPIC -o .libs/char_property.o\n",
            "libtool: compile:  g++ -DHAVE_CONFIG_H -I. -I.. -DDIC_VERSION=102 -DMECAB_DEFAULT_RC=\\\"/usr/local/etc/mecabrc\\\" -O3 -Wall -c char_property.cpp -o char_property.o >/dev/null 2>&1\n",
            "/bin/bash ../libtool --tag=CXX   --mode=compile g++ -DHAVE_CONFIG_H -I. -I.. -DDIC_VERSION=102   -DMECAB_DEFAULT_RC=\"\\\"/usr/local/etc/mecabrc\\\"\"    -O3 -Wall  -c -o dictionary.lo dictionary.cpp\n",
            "libtool: compile:  g++ -DHAVE_CONFIG_H -I. -I.. -DDIC_VERSION=102 -DMECAB_DEFAULT_RC=\\\"/usr/local/etc/mecabrc\\\" -O3 -Wall -c dictionary.cpp  -fPIC -DPIC -o .libs/dictionary.o\n",
            "libtool: compile:  g++ -DHAVE_CONFIG_H -I. -I.. -DDIC_VERSION=102 -DMECAB_DEFAULT_RC=\\\"/usr/local/etc/mecabrc\\\" -O3 -Wall -c dictionary.cpp -o dictionary.o >/dev/null 2>&1\n",
            "/bin/bash ../libtool --tag=CXX   --mode=compile g++ -DHAVE_CONFIG_H -I. -I.. -DDIC_VERSION=102   -DMECAB_DEFAULT_RC=\"\\\"/usr/local/etc/mecabrc\\\"\"    -O3 -Wall  -c -o feature_index.lo feature_index.cpp\n",
            "libtool: compile:  g++ -DHAVE_CONFIG_H -I. -I.. -DDIC_VERSION=102 -DMECAB_DEFAULT_RC=\\\"/usr/local/etc/mecabrc\\\" -O3 -Wall -c feature_index.cpp  -fPIC -DPIC -o .libs/feature_index.o\n",
            "libtool: compile:  g++ -DHAVE_CONFIG_H -I. -I.. -DDIC_VERSION=102 -DMECAB_DEFAULT_RC=\\\"/usr/local/etc/mecabrc\\\" -O3 -Wall -c feature_index.cpp -o feature_index.o >/dev/null 2>&1\n",
            "/bin/bash ../libtool --tag=CXX   --mode=compile g++ -DHAVE_CONFIG_H -I. -I.. -DDIC_VERSION=102   -DMECAB_DEFAULT_RC=\"\\\"/usr/local/etc/mecabrc\\\"\"    -O3 -Wall  -c -o lbfgs.lo lbfgs.cpp\n",
            "libtool: compile:  g++ -DHAVE_CONFIG_H -I. -I.. -DDIC_VERSION=102 -DMECAB_DEFAULT_RC=\\\"/usr/local/etc/mecabrc\\\" -O3 -Wall -c lbfgs.cpp  -fPIC -DPIC -o .libs/lbfgs.o\n",
            "libtool: compile:  g++ -DHAVE_CONFIG_H -I. -I.. -DDIC_VERSION=102 -DMECAB_DEFAULT_RC=\\\"/usr/local/etc/mecabrc\\\" -O3 -Wall -c lbfgs.cpp -o lbfgs.o >/dev/null 2>&1\n",
            "/bin/bash ../libtool --tag=CXX   --mode=compile g++ -DHAVE_CONFIG_H -I. -I.. -DDIC_VERSION=102   -DMECAB_DEFAULT_RC=\"\\\"/usr/local/etc/mecabrc\\\"\"    -O3 -Wall  -c -o learner_tagger.lo learner_tagger.cpp\n",
            "libtool: compile:  g++ -DHAVE_CONFIG_H -I. -I.. -DDIC_VERSION=102 -DMECAB_DEFAULT_RC=\\\"/usr/local/etc/mecabrc\\\" -O3 -Wall -c learner_tagger.cpp  -fPIC -DPIC -o .libs/learner_tagger.o\n",
            "libtool: compile:  g++ -DHAVE_CONFIG_H -I. -I.. -DDIC_VERSION=102 -DMECAB_DEFAULT_RC=\\\"/usr/local/etc/mecabrc\\\" -O3 -Wall -c learner_tagger.cpp -o learner_tagger.o >/dev/null 2>&1\n",
            "/bin/bash ../libtool --tag=CXX   --mode=compile g++ -DHAVE_CONFIG_H -I. -I.. -DDIC_VERSION=102   -DMECAB_DEFAULT_RC=\"\\\"/usr/local/etc/mecabrc\\\"\"    -O3 -Wall  -c -o learner.lo learner.cpp\n",
            "libtool: compile:  g++ -DHAVE_CONFIG_H -I. -I.. -DDIC_VERSION=102 -DMECAB_DEFAULT_RC=\\\"/usr/local/etc/mecabrc\\\" -O3 -Wall -c learner.cpp  -fPIC -DPIC -o .libs/learner.o\n",
            "libtool: compile:  g++ -DHAVE_CONFIG_H -I. -I.. -DDIC_VERSION=102 -DMECAB_DEFAULT_RC=\\\"/usr/local/etc/mecabrc\\\" -O3 -Wall -c learner.cpp -o learner.o >/dev/null 2>&1\n",
            "/bin/bash ../libtool --tag=CXX   --mode=compile g++ -DHAVE_CONFIG_H -I. -I.. -DDIC_VERSION=102   -DMECAB_DEFAULT_RC=\"\\\"/usr/local/etc/mecabrc\\\"\"    -O3 -Wall  -c -o libmecab.lo libmecab.cpp\n",
            "libtool: compile:  g++ -DHAVE_CONFIG_H -I. -I.. -DDIC_VERSION=102 -DMECAB_DEFAULT_RC=\\\"/usr/local/etc/mecabrc\\\" -O3 -Wall -c libmecab.cpp  -fPIC -DPIC -o .libs/libmecab.o\n",
            "libtool: compile:  g++ -DHAVE_CONFIG_H -I. -I.. -DDIC_VERSION=102 -DMECAB_DEFAULT_RC=\\\"/usr/local/etc/mecabrc\\\" -O3 -Wall -c libmecab.cpp -o libmecab.o >/dev/null 2>&1\n",
            "/bin/bash ../libtool --tag=CXX   --mode=link g++  -O3 -Wall  -no-undefined -version-info 2:0:0  -o libmecab.la -rpath /usr/local/lib viterbi.lo tagger.lo utils.lo eval.lo iconv_utils.lo dictionary_rewriter.lo dictionary_generator.lo dictionary_compiler.lo context_id.lo connector.lo nbest_generator.lo writer.lo string_buffer.lo param.lo tokenizer.lo char_property.lo dictionary.lo feature_index.lo lbfgs.lo learner_tagger.lo learner.lo libmecab.lo  -lpthread -lpthread  -lstdc++ \n",
            "libtool: link: g++  -fPIC -DPIC -shared -nostdlib /usr/lib/gcc/x86_64-linux-gnu/7/../../../x86_64-linux-gnu/crti.o /usr/lib/gcc/x86_64-linux-gnu/7/crtbeginS.o  .libs/viterbi.o .libs/tagger.o .libs/utils.o .libs/eval.o .libs/iconv_utils.o .libs/dictionary_rewriter.o .libs/dictionary_generator.o .libs/dictionary_compiler.o .libs/context_id.o .libs/connector.o .libs/nbest_generator.o .libs/writer.o .libs/string_buffer.o .libs/param.o .libs/tokenizer.o .libs/char_property.o .libs/dictionary.o .libs/feature_index.o .libs/lbfgs.o .libs/learner_tagger.o .libs/learner.o .libs/libmecab.o   -lpthread -L/usr/lib/gcc/x86_64-linux-gnu/7 -L/usr/lib/gcc/x86_64-linux-gnu/7/../../../x86_64-linux-gnu -L/usr/lib/gcc/x86_64-linux-gnu/7/../../../../lib -L/lib/x86_64-linux-gnu -L/lib/../lib -L/usr/lib/x86_64-linux-gnu -L/usr/lib/../lib -L/usr/local/cuda/lib64/stubs -L/usr/lib/gcc/x86_64-linux-gnu/7/../../.. -lstdc++ -lm -lc -lgcc_s /usr/lib/gcc/x86_64-linux-gnu/7/crtendS.o /usr/lib/gcc/x86_64-linux-gnu/7/../../../x86_64-linux-gnu/crtn.o  -O3   -Wl,-soname -Wl,libmecab.so.2 -o .libs/libmecab.so.2.0.0\n",
            "libtool: link: (cd \".libs\" && rm -f \"libmecab.so.2\" && ln -s \"libmecab.so.2.0.0\" \"libmecab.so.2\")\n",
            "libtool: link: (cd \".libs\" && rm -f \"libmecab.so\" && ln -s \"libmecab.so.2.0.0\" \"libmecab.so\")\n",
            "libtool: link: ar cru .libs/libmecab.a  viterbi.o tagger.o utils.o eval.o iconv_utils.o dictionary_rewriter.o dictionary_generator.o dictionary_compiler.o context_id.o connector.o nbest_generator.o writer.o string_buffer.o param.o tokenizer.o char_property.o dictionary.o feature_index.o lbfgs.o learner_tagger.o learner.o libmecab.o\n",
            "libtool: link: ranlib .libs/libmecab.a\n",
            "libtool: link: ( cd \".libs\" && rm -f \"libmecab.la\" && ln -s \"../libmecab.la\" \"libmecab.la\" )\n",
            "g++ -DHAVE_CONFIG_H -I. -I.. -DDIC_VERSION=102   -DMECAB_DEFAULT_RC=\"\\\"/usr/local/etc/mecabrc\\\"\"    -O3 -Wall  -c -o mecab.o mecab.cpp\n",
            "/bin/bash ../libtool --tag=CXX   --mode=link g++  -O3 -Wall    -o mecab mecab.o libmecab.la -lpthread -lpthread  -lstdc++ \n",
            "libtool: link: g++ -O3 -Wall -o .libs/mecab mecab.o  ./.libs/libmecab.so -lpthread -lstdc++\n",
            "g++ -DHAVE_CONFIG_H -I. -I.. -DDIC_VERSION=102   -DMECAB_DEFAULT_RC=\"\\\"/usr/local/etc/mecabrc\\\"\"    -O3 -Wall  -c -o mecab-dict-index.o mecab-dict-index.cpp\n",
            "/bin/bash ../libtool --tag=CXX   --mode=link g++  -O3 -Wall    -o mecab-dict-index mecab-dict-index.o libmecab.la -lpthread -lpthread  -lstdc++ \n",
            "libtool: link: g++ -O3 -Wall -o .libs/mecab-dict-index mecab-dict-index.o  ./.libs/libmecab.so -lpthread -lstdc++\n",
            "g++ -DHAVE_CONFIG_H -I. -I.. -DDIC_VERSION=102   -DMECAB_DEFAULT_RC=\"\\\"/usr/local/etc/mecabrc\\\"\"    -O3 -Wall  -c -o mecab-dict-gen.o mecab-dict-gen.cpp\n",
            "/bin/bash ../libtool --tag=CXX   --mode=link g++  -O3 -Wall    -o mecab-dict-gen mecab-dict-gen.o libmecab.la -lpthread -lpthread  -lstdc++ \n",
            "libtool: link: g++ -O3 -Wall -o .libs/mecab-dict-gen mecab-dict-gen.o  ./.libs/libmecab.so -lpthread -lstdc++\n",
            "g++ -DHAVE_CONFIG_H -I. -I.. -DDIC_VERSION=102   -DMECAB_DEFAULT_RC=\"\\\"/usr/local/etc/mecabrc\\\"\"    -O3 -Wall  -c -o mecab-cost-train.o mecab-cost-train.cpp\n",
            "/bin/bash ../libtool --tag=CXX   --mode=link g++  -O3 -Wall    -o mecab-cost-train mecab-cost-train.o libmecab.la -lpthread -lpthread  -lstdc++ \n",
            "libtool: link: g++ -O3 -Wall -o .libs/mecab-cost-train mecab-cost-train.o  ./.libs/libmecab.so -lpthread -lstdc++\n",
            "g++ -DHAVE_CONFIG_H -I. -I.. -DDIC_VERSION=102   -DMECAB_DEFAULT_RC=\"\\\"/usr/local/etc/mecabrc\\\"\"    -O3 -Wall  -c -o mecab-system-eval.o mecab-system-eval.cpp\n",
            "/bin/bash ../libtool --tag=CXX   --mode=link g++  -O3 -Wall    -o mecab-system-eval mecab-system-eval.o libmecab.la -lpthread -lpthread  -lstdc++ \n",
            "libtool: link: g++ -O3 -Wall -o .libs/mecab-system-eval mecab-system-eval.o  ./.libs/libmecab.so -lpthread -lstdc++\n",
            "g++ -DHAVE_CONFIG_H -I. -I.. -DDIC_VERSION=102   -DMECAB_DEFAULT_RC=\"\\\"/usr/local/etc/mecabrc\\\"\"    -O3 -Wall  -c -o mecab-test-gen.o mecab-test-gen.cpp\n",
            "/bin/bash ../libtool --tag=CXX   --mode=link g++  -O3 -Wall    -o mecab-test-gen mecab-test-gen.o libmecab.la -lpthread -lpthread  -lstdc++ \n",
            "libtool: link: g++ -O3 -Wall -o .libs/mecab-test-gen mecab-test-gen.o  ./.libs/libmecab.so -lpthread -lstdc++\n",
            "make[2]: Leaving directory '/tmp/mecab-0.996-ko-0.9.2/src'\n",
            "Making all in man\n",
            "make[2]: Entering directory '/tmp/mecab-0.996-ko-0.9.2/man'\n",
            "make[2]: Nothing to be done for 'all'.\n",
            "make[2]: Leaving directory '/tmp/mecab-0.996-ko-0.9.2/man'\n",
            "Making all in doc\n",
            "make[2]: Entering directory '/tmp/mecab-0.996-ko-0.9.2/doc'\n",
            "make[2]: Nothing to be done for 'all'.\n",
            "make[2]: Leaving directory '/tmp/mecab-0.996-ko-0.9.2/doc'\n",
            "Making all in tests\n",
            "make[2]: Entering directory '/tmp/mecab-0.996-ko-0.9.2/tests'\n",
            "make[2]: Nothing to be done for 'all'.\n",
            "make[2]: Leaving directory '/tmp/mecab-0.996-ko-0.9.2/tests'\n",
            "make[2]: Entering directory '/tmp/mecab-0.996-ko-0.9.2'\n",
            "make[2]: Leaving directory '/tmp/mecab-0.996-ko-0.9.2'\n",
            "make[1]: Leaving directory '/tmp/mecab-0.996-ko-0.9.2'\n",
            "Making check in src\n",
            "make[1]: Entering directory '/tmp/mecab-0.996-ko-0.9.2/src'\n",
            "make[1]: Nothing to be done for 'check'.\n",
            "make[1]: Leaving directory '/tmp/mecab-0.996-ko-0.9.2/src'\n",
            "Making check in man\n",
            "make[1]: Entering directory '/tmp/mecab-0.996-ko-0.9.2/man'\n",
            "make[1]: Nothing to be done for 'check'.\n",
            "make[1]: Leaving directory '/tmp/mecab-0.996-ko-0.9.2/man'\n",
            "Making check in doc\n",
            "make[1]: Entering directory '/tmp/mecab-0.996-ko-0.9.2/doc'\n",
            "make[1]: Nothing to be done for 'check'.\n",
            "make[1]: Leaving directory '/tmp/mecab-0.996-ko-0.9.2/doc'\n",
            "Making check in tests\n",
            "make[1]: Entering directory '/tmp/mecab-0.996-ko-0.9.2/tests'\n",
            "make  check-TESTS\n",
            "make[2]: Entering directory '/tmp/mecab-0.996-ko-0.9.2/tests'\n",
            "reading ./unk.def ... 2\n",
            "emitting double-array:  50% |#####################                      | \remitting double-array: 100% |###########################################| \n",
            "./model.def is not found. skipped.\n",
            "reading ./dic.csv ... 177\n",
            "emitting double-array:   1% |                                           | \remitting double-array:   3% |#                                          | \remitting double-array:   5% |##                                         | \remitting double-array:   7% |###                                        | \remitting double-array:   9% |###                                        | \remitting double-array:  11% |####                                       | \remitting double-array:  12% |#####                                      | \remitting double-array:  14% |######                                     | \remitting double-array:  16% |#######                                    | \remitting double-array:  18% |#######                                    | \remitting double-array:  20% |########                                   | \remitting double-array:  22% |#########                                  | \remitting double-array:  24% |##########                                 | \remitting double-array:  25% |###########                                | \remitting double-array:  27% |###########                                | \remitting double-array:  29% |############                               | \remitting double-array:  31% |#############                              | \remitting double-array:  33% |##############                             | \remitting double-array:  35% |###############                            | \remitting double-array:  37% |###############                            | \remitting double-array:  38% |################                           | \remitting double-array:  40% |#################                          | \remitting double-array:  42% |##################                         | \remitting double-array:  44% |###################                        | \remitting double-array:  46% |###################                        | \remitting double-array:  48% |####################                       | \remitting double-array:  50% |#####################                      | \remitting double-array:  51% |######################                     | \remitting double-array:  53% |#######################                    | \remitting double-array:  55% |#######################                    | \remitting double-array:  57% |########################                   | \remitting double-array:  59% |#########################                  | \remitting double-array:  61% |##########################                 | \remitting double-array:  62% |###########################                | \remitting double-array:  64% |###########################                | \remitting double-array:  66% |############################               | \remitting double-array:  68% |#############################              | \remitting double-array:  70% |##############################             | \remitting double-array:  72% |###############################            | \remitting double-array:  74% |###############################            | \remitting double-array:  75% |################################           | \remitting double-array:  77% |#################################          | \remitting double-array:  79% |##################################         | \remitting double-array:  81% |###################################        | \remitting double-array:  83% |###################################        | \remitting double-array:  85% |####################################       | \remitting double-array:  87% |#####################################      | \remitting double-array:  88% |######################################     | \remitting double-array:  90% |#######################################    | \remitting double-array:  92% |#######################################    | \remitting double-array:  94% |########################################   | \remitting double-array:  96% |#########################################  | \remitting double-array:  98% |########################################## | \remitting double-array: 100% |###########################################| \n",
            "reading ./matrix.def ... 178x178\n",
            "emitting matrix      :   0% |                                           | \remitting matrix      :   1% |                                           | \remitting matrix      :   2% |                                           | \remitting matrix      :   3% |#                                          | \remitting matrix      :   4% |#                                          | \remitting matrix      :   5% |##                                         | \remitting matrix      :   6% |##                                         | \remitting matrix      :   7% |###                                        | \remitting matrix      :   8% |###                                        | \remitting matrix      :   9% |####                                       | \remitting matrix      :  10% |####                                       | \remitting matrix      :  11% |####                                       | \remitting matrix      :  12% |#####                                      | \remitting matrix      :  13% |#####                                      | \remitting matrix      :  14% |######                                     | \remitting matrix      :  15% |######                                     | \remitting matrix      :  16% |#######                                    | \remitting matrix      :  17% |#######                                    | \remitting matrix      :  18% |#######                                    | \remitting matrix      :  19% |########                                   | \remitting matrix      :  20% |########                                   | \remitting matrix      :  21% |#########                                  | \remitting matrix      :  22% |#########                                  | \remitting matrix      :  23% |#########                                  | \remitting matrix      :  24% |##########                                 | \remitting matrix      :  25% |##########                                 | \remitting matrix      :  26% |###########                                | \remitting matrix      :  27% |###########                                | \remitting matrix      :  28% |############                               | \remitting matrix      :  29% |############                               | \remitting matrix      :  30% |#############                              | \remitting matrix      :  31% |#############                              | \remitting matrix      :  32% |#############                              | \remitting matrix      :  33% |##############                             | \remitting matrix      :  34% |##############                             | \remitting matrix      :  35% |###############                            | \remitting matrix      :  36% |###############                            | \remitting matrix      :  37% |###############                            | \remitting matrix      :  38% |################                           | \remitting matrix      :  39% |################                           | \remitting matrix      :  40% |#################                          | \remitting matrix      :  41% |#################                          | \remitting matrix      :  42% |##################                         | \remitting matrix      :  43% |##################                         | \remitting matrix      :  44% |###################                        | \remitting matrix      :  45% |###################                        | \remitting matrix      :  46% |###################                        | \remitting matrix      :  47% |####################                       | \remitting matrix      :  48% |####################                       | \remitting matrix      :  49% |#####################                      | \remitting matrix      :  50% |#####################                      | \remitting matrix      :  51% |#####################                      | \remitting matrix      :  52% |######################                     | \remitting matrix      :  53% |######################                     | \remitting matrix      :  54% |#######################                    | \remitting matrix      :  55% |#######################                    | \remitting matrix      :  56% |########################                   | \remitting matrix      :  57% |########################                   | \remitting matrix      :  58% |#########################                  | \remitting matrix      :  59% |#########################                  | \remitting matrix      :  60% |#########################                  | \remitting matrix      :  61% |##########################                 | \remitting matrix      :  62% |##########################                 | \remitting matrix      :  63% |###########################                | \remitting matrix      :  64% |###########################                | \remitting matrix      :  65% |############################               | \remitting matrix      :  66% |############################               | \remitting matrix      :  67% |############################               | \remitting matrix      :  68% |#############################              | \remitting matrix      :  69% |#############################              | \remitting matrix      :  70% |##############################             | \remitting matrix      :  71% |##############################             | \remitting matrix      :  72% |###############################            | \remitting matrix      :  73% |###############################            | \remitting matrix      :  74% |###############################            | \remitting matrix      :  75% |################################           | \remitting matrix      :  76% |################################           | \remitting matrix      :  77% |#################################          | \remitting matrix      :  78% |#################################          | \remitting matrix      :  79% |##################################         | \remitting matrix      :  80% |##################################         | \remitting matrix      :  81% |###################################        | \remitting matrix      :  82% |###################################        | \remitting matrix      :  83% |###################################        | \remitting matrix      :  84% |####################################       | \remitting matrix      :  85% |####################################       | \remitting matrix      :  86% |#####################################      | \remitting matrix      :  87% |#####################################      | \remitting matrix      :  88% |#####################################      | \remitting matrix      :  89% |######################################     | \remitting matrix      :  90% |######################################     | \remitting matrix      :  91% |#######################################    | \remitting matrix      :  92% |#######################################    | \remitting matrix      :  93% |########################################   | \remitting matrix      :  94% |########################################   | \remitting matrix      :  95% |#########################################  | \remitting matrix      :  96% |#########################################  | \remitting matrix      :  97% |#########################################  | \remitting matrix      :  98% |########################################## | \remitting matrix      :  99% |########################################## | \remitting matrix      : 100% |###########################################| \n",
            "\n",
            "done!\n",
            "reading ./unk.def ... 2\n",
            "emitting double-array:  50% |#####################                      | \remitting double-array: 100% |###########################################| \n",
            "./model.def is not found. skipped.\n",
            "reading ./dic.csv ... 83\n",
            "emitting double-array:  10% |####                                       | \remitting double-array:  20% |########                                   | \remitting double-array:  30% |############                               | \remitting double-array:  40% |#################                          | \remitting double-array:  50% |#####################                      | \remitting double-array:  60% |#########################                  | \remitting double-array:  70% |##############################             | \remitting double-array:  80% |##################################         | \remitting double-array:  90% |######################################     | \remitting double-array: 100% |###########################################| \n",
            "reading ./matrix.def ... 84x84\n",
            "emitting matrix      :   1% |                                           | \remitting matrix      :   2% |#                                          | \remitting matrix      :   3% |#                                          | \remitting matrix      :   4% |##                                         | \remitting matrix      :   5% |##                                         | \remitting matrix      :   7% |###                                        | \remitting matrix      :   8% |###                                        | \remitting matrix      :   9% |####                                       | \remitting matrix      :  10% |####                                       | \remitting matrix      :  11% |#####                                      | \remitting matrix      :  13% |#####                                      | \remitting matrix      :  14% |######                                     | \remitting matrix      :  15% |######                                     | \remitting matrix      :  16% |#######                                    | \remitting matrix      :  17% |#######                                    | \remitting matrix      :  19% |########                                   | \remitting matrix      :  20% |########                                   | \remitting matrix      :  21% |#########                                  | \remitting matrix      :  22% |#########                                  | \remitting matrix      :  23% |##########                                 | \remitting matrix      :  25% |##########                                 | \remitting matrix      :  26% |###########                                | \remitting matrix      :  27% |###########                                | \remitting matrix      :  28% |############                               | \remitting matrix      :  29% |############                               | \remitting matrix      :  30% |#############                              | \remitting matrix      :  32% |#############                              | \remitting matrix      :  33% |##############                             | \remitting matrix      :  34% |##############                             | \remitting matrix      :  35% |###############                            | \remitting matrix      :  36% |###############                            | \remitting matrix      :  38% |################                           | \remitting matrix      :  39% |################                           | \remitting matrix      :  40% |#################                          | \remitting matrix      :  41% |#################                          | \remitting matrix      :  42% |##################                         | \remitting matrix      :  44% |##################                         | \remitting matrix      :  45% |###################                        | \remitting matrix      :  46% |###################                        | \remitting matrix      :  47% |####################                       | \remitting matrix      :  48% |####################                       | \remitting matrix      :  50% |#####################                      | \remitting matrix      :  51% |######################                     | \remitting matrix      :  52% |######################                     | \remitting matrix      :  53% |#######################                    | \remitting matrix      :  54% |#######################                    | \remitting matrix      :  55% |########################                   | \remitting matrix      :  57% |########################                   | \remitting matrix      :  58% |#########################                  | \remitting matrix      :  59% |#########################                  | \remitting matrix      :  60% |##########################                 | \remitting matrix      :  61% |##########################                 | \remitting matrix      :  63% |###########################                | \remitting matrix      :  64% |###########################                | \remitting matrix      :  65% |############################               | \remitting matrix      :  66% |############################               | \remitting matrix      :  67% |#############################              | \remitting matrix      :  69% |#############################              | \remitting matrix      :  70% |##############################             | \remitting matrix      :  71% |##############################             | \remitting matrix      :  72% |###############################            | \remitting matrix      :  73% |###############################            | \remitting matrix      :  75% |################################           | \remitting matrix      :  76% |################################           | \remitting matrix      :  77% |#################################          | \remitting matrix      :  78% |#################################          | \remitting matrix      :  79% |##################################         | \remitting matrix      :  80% |##################################         | \remitting matrix      :  82% |###################################        | \remitting matrix      :  83% |###################################        | \remitting matrix      :  84% |####################################       | \remitting matrix      :  85% |####################################       | \remitting matrix      :  86% |#####################################      | \remitting matrix      :  88% |#####################################      | \remitting matrix      :  89% |######################################     | \remitting matrix      :  90% |######################################     | \remitting matrix      :  91% |#######################################    | \remitting matrix      :  92% |#######################################    | \remitting matrix      :  94% |########################################   | \remitting matrix      :  95% |########################################   | \remitting matrix      :  96% |#########################################  | \remitting matrix      :  97% |#########################################  | \remitting matrix      :  98% |########################################## | \remitting matrix      : 100% |###########################################| \n",
            "\n",
            "done!\n",
            "reading ./unk.def ... 2\n",
            "emitting double-array:  50% |#####################                      | \remitting double-array: 100% |###########################################| \n",
            "./model.def is not found. skipped.\n",
            "reading ./dic.csv ... 450\n",
            "emitting double-array:   0% |                                           | \remitting double-array:   1% |                                           | \remitting double-array:   2% |                                           | \remitting double-array:   3% |#                                          | \remitting double-array:   4% |#                                          | \remitting double-array:   5% |##                                         | \remitting double-array:   6% |##                                         | \remitting double-array:   7% |###                                        | \remitting double-array:   8% |###                                        | \remitting double-array:   9% |###                                        | \remitting double-array:  10% |####                                       | \remitting double-array:  11% |####                                       | \remitting double-array:  12% |#####                                      | \remitting double-array:  13% |#####                                      | \remitting double-array:  14% |######                                     | \remitting double-array:  15% |######                                     | \remitting double-array:  16% |######                                     | \remitting double-array:  17% |#######                                    | \remitting double-array:  18% |#######                                    | \remitting double-array:  19% |########                                   | \remitting double-array:  20% |########                                   | \remitting double-array:  21% |#########                                  | \remitting double-array:  22% |#########                                  | \remitting double-array:  23% |#########                                  | \remitting double-array:  24% |##########                                 | \remitting double-array:  25% |##########                                 | \remitting double-array:  26% |###########                                | \remitting double-array:  27% |###########                                | \remitting double-array:  28% |############                               | \remitting double-array:  29% |############                               | \remitting double-array:  30% |############                               | \remitting double-array:  31% |#############                              | \remitting double-array:  32% |#############                              | \remitting double-array:  33% |##############                             | \remitting double-array:  34% |##############                             | \remitting double-array:  35% |###############                            | \remitting double-array:  36% |###############                            | \remitting double-array:  37% |###############                            | \remitting double-array:  38% |################                           | \remitting double-array:  39% |################                           | \remitting double-array:  40% |#################                          | \remitting double-array:  41% |#################                          | \remitting double-array:  42% |##################                         | \remitting double-array:  43% |##################                         | \remitting double-array:  44% |##################                         | \remitting double-array:  45% |###################                        | \remitting double-array:  46% |###################                        | \remitting double-array:  47% |####################                       | \remitting double-array:  48% |####################                       | \remitting double-array:  49% |#####################                      | \remitting double-array:  50% |#####################                      | \remitting double-array:  51% |#####################                      | \remitting double-array:  52% |######################                     | \remitting double-array:  53% |######################                     | \remitting double-array:  54% |#######################                    | \remitting double-array:  55% |#######################                    | \remitting double-array:  56% |########################                   | \remitting double-array:  57% |########################                   | \remitting double-array:  58% |#########################                  | \remitting double-array:  59% |#########################                  | \remitting double-array:  60% |#########################                  | \remitting double-array:  61% |##########################                 | \remitting double-array:  62% |##########################                 | \remitting double-array:  63% |###########################                | \remitting double-array:  64% |###########################                | \remitting double-array:  65% |###########################                | \remitting double-array:  66% |############################               | \remitting double-array:  67% |############################               | \remitting double-array:  68% |#############################              | \remitting double-array:  69% |#############################              | \remitting double-array:  70% |##############################             | \remitting double-array:  71% |##############################             | \remitting double-array:  72% |##############################             | \remitting double-array:  73% |###############################            | \remitting double-array:  74% |###############################            | \remitting double-array:  75% |################################           | \remitting double-array:  76% |################################           | \remitting double-array:  77% |#################################          | \remitting double-array:  78% |#################################          | \remitting double-array:  79% |##################################         | \remitting double-array:  80% |##################################         | \remitting double-array:  81% |##################################         | \remitting double-array:  82% |###################################        | \remitting double-array:  83% |###################################        | \remitting double-array:  84% |####################################       | \remitting double-array:  85% |####################################       | \remitting double-array:  86% |#####################################      | \remitting double-array:  87% |#####################################      | \remitting double-array:  88% |#####################################      | \remitting double-array:  89% |######################################     | \remitting double-array:  90% |######################################     | \remitting double-array:  91% |#######################################    | \remitting double-array:  92% |#######################################    | \remitting double-array:  93% |########################################   | \remitting double-array:  94% |########################################   | \remitting double-array:  95% |########################################   | \remitting double-array:  96% |#########################################  | \remitting double-array:  97% |#########################################  | \remitting double-array:  98% |########################################## | \remitting double-array:  99% |########################################## | \remitting double-array: 100% |###########################################| \n",
            "reading ./matrix.def ... 1x1\n",
            "\n",
            "done!\n",
            "reading ./unk.def ... 2\n",
            "emitting double-array:  50% |#####################                      | \remitting double-array: 100% |###########################################| \n",
            "./model.def is not found. skipped.\n",
            "reading ./dic.csv ... 162\n",
            "emitting double-array:   1% |                                           | \remitting double-array:   2% |#                                          | \remitting double-array:   3% |#                                          | \remitting double-array:   4% |##                                         | \remitting double-array:   6% |##                                         | \remitting double-array:   7% |###                                        | \remitting double-array:   8% |###                                        | \remitting double-array:   9% |####                                       | \remitting double-array:  11% |####                                       | \remitting double-array:  12% |#####                                      | \remitting double-array:  13% |#####                                      | \remitting double-array:  14% |######                                     | \remitting double-array:  16% |######                                     | \remitting double-array:  17% |#######                                    | \remitting double-array:  18% |#######                                    | \remitting double-array:  19% |########                                   | \remitting double-array:  20% |#########                                  | \remitting double-array:  22% |#########                                  | \remitting double-array:  23% |##########                                 | \remitting double-array:  24% |##########                                 | \remitting double-array:  25% |###########                                | \remitting double-array:  27% |###########                                | \remitting double-array:  28% |############                               | \remitting double-array:  29% |############                               | \remitting double-array:  30% |#############                              | \remitting double-array:  32% |#############                              | \remitting double-array:  33% |##############                             | \remitting double-array:  34% |##############                             | \remitting double-array:  35% |###############                            | \remitting double-array:  37% |###############                            | \remitting double-array:  38% |################                           | \remitting double-array:  39% |################                           | \remitting double-array:  40% |#################                          | \remitting double-array:  41% |##################                         | \remitting double-array:  43% |##################                         | \remitting double-array:  44% |###################                        | \remitting double-array:  45% |###################                        | \remitting double-array:  46% |####################                       | \remitting double-array:  48% |####################                       | \remitting double-array:  49% |#####################                      | \remitting double-array:  50% |#####################                      | \remitting double-array:  51% |######################                     | \remitting double-array:  53% |######################                     | \remitting double-array:  54% |#######################                    | \remitting double-array:  55% |#######################                    | \remitting double-array:  56% |########################                   | \remitting double-array:  58% |########################                   | \remitting double-array:  59% |#########################                  | \remitting double-array:  60% |##########################                 | \remitting double-array:  61% |##########################                 | \remitting double-array:  62% |###########################                | \remitting double-array:  64% |###########################                | \remitting double-array:  65% |############################               | \remitting double-array:  66% |############################               | \remitting double-array:  67% |#############################              | \remitting double-array:  69% |#############################              | \remitting double-array:  70% |##############################             | \remitting double-array:  71% |##############################             | \remitting double-array:  72% |###############################            | \remitting double-array:  74% |###############################            | \remitting double-array:  75% |################################           | \remitting double-array:  76% |################################           | \remitting double-array:  77% |#################################          | \remitting double-array:  79% |#################################          | \remitting double-array:  80% |##################################         | \remitting double-array:  81% |###################################        | \remitting double-array:  82% |###################################        | \remitting double-array:  83% |####################################       | \remitting double-array:  85% |####################################       | \remitting double-array:  86% |#####################################      | \remitting double-array:  87% |#####################################      | \remitting double-array:  88% |######################################     | \remitting double-array:  90% |######################################     | \remitting double-array:  91% |#######################################    | \remitting double-array:  92% |#######################################    | \remitting double-array:  93% |########################################   | \remitting double-array:  95% |########################################   | \remitting double-array:  96% |#########################################  | \remitting double-array:  97% |#########################################  | \remitting double-array:  98% |########################################## | \remitting double-array: 100% |###########################################| \n",
            "reading ./matrix.def ... 3x3\n",
            "emitting matrix      :  33% |##############                             | \remitting matrix      :  66% |############################               | \remitting matrix      : 100% |###########################################| \n",
            "\n",
            "done!\n",
            "reading ./unk.def ... 2\n",
            "emitting double-array:  50% |#####################                      | \remitting double-array: 100% |###########################################| \n",
            "./model.def is not found. skipped.\n",
            "reading ./dic.csv ... 4\n",
            "emitting double-array:  25% |##########                                 | \remitting double-array:  50% |#####################                      | \remitting double-array:  75% |################################           | \remitting double-array: 100% |###########################################| \n",
            "reading ./matrix.def ... 1x1\n",
            "\n",
            "done!\n",
            "reading ./unk.def ... 11\n",
            "emitting double-array:   9% |###                                        | \remitting double-array:  18% |#######                                    | \remitting double-array:  27% |###########                                | \remitting double-array:  36% |###############                            | \remitting double-array:  45% |###################                        | \remitting double-array:  54% |#######################                    | \remitting double-array:  63% |###########################                | \remitting double-array:  72% |###############################            | \remitting double-array:  81% |###################################        | \remitting double-array:  90% |#######################################    | \remitting double-array: 100% |###########################################| \n",
            "./model.def is not found. skipped.\n",
            "reading ./dic.csv ... 1\n",
            "reading ./matrix.def ... 1x1\n",
            "\n",
            "done!\n",
            "reading ./unk.def ... 2\n",
            "emitting double-array:  50% |#####################                      | \remitting double-array: 100% |###########################################| \n",
            "./model.def is not found. skipped.\n",
            "reading ./dic.csv ... 1\n",
            "reading ./matrix.def ... 1x1\n",
            "\n",
            "done!\n",
            "PASS: run-dics.sh\n",
            "PASS: run-eval.sh\n",
            "reading seed/unk.def ... 40\n",
            "emitting double-array:   9% |###                                        | \remitting double-array:  18% |#######                                    | \remitting double-array:  27% |###########                                | \remitting double-array:  36% |###############                            | \remitting double-array:  45% |###################                        | \remitting double-array:  54% |#######################                    | \remitting double-array:  63% |###########################                | \remitting double-array:  72% |###############################            | \remitting double-array:  81% |###################################        | \remitting double-array:  90% |#######################################    | \remitting double-array: 100% |###########################################| \n",
            "seed/model.def is not found. skipped.\n",
            "reading seed/dic.csv ... 4335\n",
            "emitting double-array:   0% |                                           | \remitting double-array:   1% |                                           | \remitting double-array:   2% |                                           | \remitting double-array:   3% |#                                          | \remitting double-array:   4% |#                                          | \remitting double-array:   5% |##                                         | \remitting double-array:   6% |##                                         | \remitting double-array:   7% |###                                        | \remitting double-array:   8% |###                                        | \remitting double-array:   9% |###                                        | \remitting double-array:  10% |####                                       | \remitting double-array:  11% |####                                       | \remitting double-array:  12% |#####                                      | \remitting double-array:  13% |#####                                      | \remitting double-array:  14% |######                                     | \remitting double-array:  15% |######                                     | \remitting double-array:  16% |######                                     | \remitting double-array:  17% |#######                                    | \remitting double-array:  18% |#######                                    | \remitting double-array:  19% |########                                   | \remitting double-array:  20% |########                                   | \remitting double-array:  21% |#########                                  | \remitting double-array:  22% |#########                                  | \remitting double-array:  23% |#########                                  | \remitting double-array:  24% |##########                                 | \remitting double-array:  25% |##########                                 | \remitting double-array:  26% |###########                                | \remitting double-array:  27% |###########                                | \remitting double-array:  28% |############                               | \remitting double-array:  29% |############                               | \remitting double-array:  30% |############                               | \remitting double-array:  31% |#############                              | \remitting double-array:  32% |#############                              | \remitting double-array:  33% |##############                             | \remitting double-array:  34% |##############                             | \remitting double-array:  35% |###############                            | \remitting double-array:  36% |###############                            | \remitting double-array:  37% |###############                            | \remitting double-array:  38% |################                           | \remitting double-array:  39% |################                           | \remitting double-array:  40% |#################                          | \remitting double-array:  41% |#################                          | \remitting double-array:  42% |##################                         | \remitting double-array:  43% |##################                         | \remitting double-array:  44% |##################                         | \remitting double-array:  45% |###################                        | \remitting double-array:  46% |###################                        | \remitting double-array:  47% |####################                       | \remitting double-array:  48% |####################                       | \remitting double-array:  49% |#####################                      | \remitting double-array:  50% |#####################                      | \remitting double-array:  51% |#####################                      | \remitting double-array:  52% |######################                     | \remitting double-array:  53% |######################                     | \remitting double-array:  54% |#######################                    | \remitting double-array:  55% |#######################                    | \remitting double-array:  56% |########################                   | \remitting double-array:  57% |########################                   | \remitting double-array:  58% |########################                   | \remitting double-array:  59% |#########################                  | \remitting double-array:  60% |#########################                  | \remitting double-array:  61% |##########################                 | \remitting double-array:  62% |##########################                 | \remitting double-array:  63% |###########################                | \remitting double-array:  64% |###########################                | \remitting double-array:  65% |###########################                | \remitting double-array:  66% |############################               | \remitting double-array:  67% |############################               | \remitting double-array:  68% |#############################              | \remitting double-array:  69% |#############################              | \remitting double-array:  70% |##############################             | \remitting double-array:  71% |##############################             | \remitting double-array:  72% |##############################             | \remitting double-array:  73% |###############################            | \remitting double-array:  74% |###############################            | \remitting double-array:  75% |################################           | \remitting double-array:  76% |################################           | \remitting double-array:  77% |#################################          | \remitting double-array:  78% |#################################          | \remitting double-array:  79% |#################################          | \remitting double-array:  80% |##################################         | \remitting double-array:  81% |##################################         | \remitting double-array:  82% |###################################        | \remitting double-array:  83% |###################################        | \remitting double-array:  84% |####################################       | \remitting double-array:  85% |####################################       | \remitting double-array:  86% |#####################################      | \remitting double-array:  87% |#####################################      | \remitting double-array:  88% |#####################################      | \remitting double-array:  89% |######################################     | \remitting double-array:  90% |######################################     | \remitting double-array:  91% |#######################################    | \remitting double-array:  92% |#######################################    | \remitting double-array:  93% |########################################   | \remitting double-array:  94% |########################################   | \remitting double-array:  95% |########################################   | \remitting double-array:  96% |#########################################  | \remitting double-array:  97% |#########################################  | \remitting double-array:  98% |########################################## | \remitting double-array:  99% |########################################## | \remitting double-array: 100% |###########################################| \n",
            "reading seed/matrix.def ... 1x1\n",
            "\n",
            "done!\n",
            "reading corpus ...\n",
            "Number of sentences: 34\n",
            "Number of features:  64108\n",
            "eta:                 0.00005\n",
            "freq:                1\n",
            "eval-size:           6\n",
            "unk-eval-size:       4\n",
            "threads:             1\n",
            "charset:             EUC-JP\n",
            "C(sigma^2):          1.00000\n",
            "\n",
            "iter=0 err=1.00000 F=0.35771 target=2406.28355 diff=1.00000\n",
            "iter=1 err=0.97059 F=0.65652 target=1484.25231 diff=0.38318\n",
            "iter=2 err=0.91176 F=0.79331 target=863.32765 diff=0.41834\n",
            "iter=3 err=0.85294 F=0.89213 target=596.72480 diff=0.30881\n",
            "iter=4 err=0.61765 F=0.95467 target=336.30744 diff=0.43641\n",
            "iter=5 err=0.50000 F=0.96702 target=246.53039 diff=0.26695\n",
            "iter=6 err=0.35294 F=0.95472 target=188.93963 diff=0.23361\n",
            "iter=7 err=0.20588 F=0.99106 target=168.62665 diff=0.10751\n",
            "iter=8 err=0.05882 F=0.99777 target=158.64865 diff=0.05917\n",
            "iter=9 err=0.08824 F=0.99665 target=154.14530 diff=0.02839\n",
            "iter=10 err=0.08824 F=0.99665 target=151.94257 diff=0.01429\n",
            "iter=11 err=0.02941 F=0.99888 target=147.20825 diff=0.03116\n",
            "iter=12 err=0.00000 F=1.00000 target=147.34956 diff=0.00096\n",
            "iter=13 err=0.02941 F=0.99888 target=146.32592 diff=0.00695\n",
            "iter=14 err=0.00000 F=1.00000 target=145.77299 diff=0.00378\n",
            "iter=15 err=0.02941 F=0.99888 target=145.24641 diff=0.00361\n",
            "iter=16 err=0.00000 F=1.00000 target=144.96490 diff=0.00194\n",
            "iter=17 err=0.02941 F=0.99888 target=144.90246 diff=0.00043\n",
            "iter=18 err=0.00000 F=1.00000 target=144.75959 diff=0.00099\n",
            "iter=19 err=0.00000 F=1.00000 target=144.71727 diff=0.00029\n",
            "iter=20 err=0.00000 F=1.00000 target=144.66337 diff=0.00037\n",
            "iter=21 err=0.00000 F=1.00000 target=144.61349 diff=0.00034\n",
            "iter=22 err=0.00000 F=1.00000 target=144.62987 diff=0.00011\n",
            "iter=23 err=0.00000 F=1.00000 target=144.60060 diff=0.00020\n",
            "iter=24 err=0.00000 F=1.00000 target=144.59125 diff=0.00006\n",
            "iter=25 err=0.00000 F=1.00000 target=144.58619 diff=0.00004\n",
            "iter=26 err=0.00000 F=1.00000 target=144.58219 diff=0.00003\n",
            "iter=27 err=0.00000 F=1.00000 target=144.58059 diff=0.00001\n",
            "\n",
            "Done! writing model file ... \n",
            "model-ipadic.c1.0.f1.model is not a binary model. reopen it as text mode...\n",
            "reading seed/unk.def ... 40\n",
            "reading seed/dic.csv ... 4335\n",
            "emitting model-ipadic.c1.0.f1.dic/left-id.def/ model-ipadic.c1.0.f1.dic/right-id.def\n",
            "emitting model-ipadic.c1.0.f1.dic/unk.def ... 40\n",
            "emitting model-ipadic.c1.0.f1.dic/dic.csv ... 4335\n",
            "emitting matrix      :   1% |                                           | \remitting matrix      :   2% |                                           | \remitting matrix      :   3% |#                                          | \remitting matrix      :   4% |#                                          | \remitting matrix      :   5% |##                                         | \remitting matrix      :   6% |##                                         | \remitting matrix      :   7% |###                                        | \remitting matrix      :   8% |###                                        | \remitting matrix      :   9% |###                                        | \remitting matrix      :  10% |####                                       | \remitting matrix      :  11% |####                                       | \remitting matrix      :  12% |#####                                      | \remitting matrix      :  13% |#####                                      | \remitting matrix      :  14% |######                                     | \remitting matrix      :  15% |######                                     | \remitting matrix      :  16% |######                                     | \remitting matrix      :  17% |#######                                    | \remitting matrix      :  18% |#######                                    | \remitting matrix      :  19% |########                                   | \remitting matrix      :  20% |########                                   | \remitting matrix      :  21% |#########                                  | \remitting matrix      :  22% |#########                                  | \remitting matrix      :  23% |#########                                  | \remitting matrix      :  24% |##########                                 | \remitting matrix      :  25% |##########                                 | \remitting matrix      :  26% |###########                                | \remitting matrix      :  27% |###########                                | \remitting matrix      :  28% |############                               | \remitting matrix      :  29% |############                               | \remitting matrix      :  30% |############                               | \remitting matrix      :  31% |#############                              | \remitting matrix      :  32% |#############                              | \remitting matrix      :  33% |##############                             | \remitting matrix      :  34% |##############                             | \remitting matrix      :  35% |###############                            | \remitting matrix      :  36% |###############                            | \remitting matrix      :  37% |################                           | \remitting matrix      :  38% |################                           | \remitting matrix      :  39% |################                           | \remitting matrix      :  40% |#################                          | \remitting matrix      :  41% |#################                          | \remitting matrix      :  42% |##################                         | \remitting matrix      :  43% |##################                         | \remitting matrix      :  44% |###################                        | \remitting matrix      :  45% |###################                        | \remitting matrix      :  46% |###################                        | \remitting matrix      :  47% |####################                       | \remitting matrix      :  48% |####################                       | \remitting matrix      :  49% |#####################                      | \remitting matrix      :  50% |#####################                      | \remitting matrix      :  51% |#####################                      | \remitting matrix      :  52% |######################                     | \remitting matrix      :  53% |######################                     | \remitting matrix      :  54% |#######################                    | \remitting matrix      :  55% |#######################                    | \remitting matrix      :  56% |########################                   | \remitting matrix      :  57% |########################                   | \remitting matrix      :  58% |########################                   | \remitting matrix      :  59% |#########################                  | \remitting matrix      :  60% |#########################                  | \remitting matrix      :  61% |##########################                 | \remitting matrix      :  62% |##########################                 | \remitting matrix      :  63% |###########################                | \remitting matrix      :  64% |###########################                | \remitting matrix      :  65% |###########################                | \remitting matrix      :  66% |############################               | \remitting matrix      :  67% |############################               | \remitting matrix      :  68% |#############################              | \remitting matrix      :  69% |#############################              | \remitting matrix      :  70% |##############################             | \remitting matrix      :  71% |##############################             | \remitting matrix      :  72% |###############################            | \remitting matrix      :  73% |###############################            | \remitting matrix      :  74% |###############################            | \remitting matrix      :  75% |################################           | \remitting matrix      :  76% |################################           | \remitting matrix      :  77% |#################################          | \remitting matrix      :  78% |#################################          | \remitting matrix      :  79% |##################################         | \remitting matrix      :  80% |##################################         | \remitting matrix      :  81% |##################################         | \remitting matrix      :  82% |###################################        | \remitting matrix      :  83% |###################################        | \remitting matrix      :  84% |####################################       | \remitting matrix      :  85% |####################################       | \remitting matrix      :  86% |#####################################      | \remitting matrix      :  87% |#####################################      | \remitting matrix      :  88% |#####################################      | \remitting matrix      :  89% |######################################     | \remitting matrix      :  90% |######################################     | \remitting matrix      :  91% |#######################################    | \remitting matrix      :  92% |#######################################    | \remitting matrix      :  93% |########################################   | \remitting matrix      :  94% |########################################   | \remitting matrix      :  95% |########################################   | \remitting matrix      :  96% |#########################################  | \remitting matrix      :  97% |#########################################  | \remitting matrix      :  98% |########################################## | \remitting matrix      :  99% |########################################## | \remitting matrix      : 100% |###########################################| \n",
            "copying seed/char.def to model-ipadic.c1.0.f1.dic/char.def\n",
            "copying seed/rewrite.def to model-ipadic.c1.0.f1.dic/rewrite.def\n",
            "copying seed/dicrc to model-ipadic.c1.0.f1.dic/dicrc\n",
            "copying seed/feature.def to model-ipadic.c1.0.f1.dic/feature.def\n",
            "copying model-ipadic.c1.0.f1.model to model-ipadic.c1.0.f1.dic/model.def\n",
            "\n",
            "done!\n",
            "reading model-ipadic.c1.0.f1.dic/unk.def ... 40\n",
            "emitting double-array:   9% |###                                        | \remitting double-array:  18% |#######                                    | \remitting double-array:  27% |###########                                | \remitting double-array:  36% |###############                            | \remitting double-array:  45% |###################                        | \remitting double-array:  54% |#######################                    | \remitting double-array:  63% |###########################                | \remitting double-array:  72% |###############################            | \remitting double-array:  81% |###################################        | \remitting double-array:  90% |#######################################    | \remitting double-array: 100% |###########################################| \n",
            "reading model-ipadic.c1.0.f1.dic/dic.csv ... 4335\n",
            "emitting double-array:   0% |                                           | \remitting double-array:   1% |                                           | \remitting double-array:   2% |                                           | \remitting double-array:   3% |#                                          | \remitting double-array:   4% |#                                          | \remitting double-array:   5% |##                                         | \remitting double-array:   6% |##                                         | \remitting double-array:   7% |###                                        | \remitting double-array:   8% |###                                        | \remitting double-array:   9% |###                                        | \remitting double-array:  10% |####                                       | \remitting double-array:  11% |####                                       | \remitting double-array:  12% |#####                                      | \remitting double-array:  13% |#####                                      | \remitting double-array:  14% |######                                     | \remitting double-array:  15% |######                                     | \remitting double-array:  16% |######                                     | \remitting double-array:  17% |#######                                    | \remitting double-array:  18% |#######                                    | \remitting double-array:  19% |########                                   | \remitting double-array:  20% |########                                   | \remitting double-array:  21% |#########                                  | \remitting double-array:  22% |#########                                  | \remitting double-array:  23% |#########                                  | \remitting double-array:  24% |##########                                 | \remitting double-array:  25% |##########                                 | \remitting double-array:  26% |###########                                | \remitting double-array:  27% |###########                                | \remitting double-array:  28% |############                               | \remitting double-array:  29% |############                               | \remitting double-array:  30% |############                               | \remitting double-array:  31% |#############                              | \remitting double-array:  32% |#############                              | \remitting double-array:  33% |##############                             | \remitting double-array:  34% |##############                             | \remitting double-array:  35% |###############                            | \remitting double-array:  36% |###############                            | \remitting double-array:  37% |###############                            | \remitting double-array:  38% |################                           | \remitting double-array:  39% |################                           | \remitting double-array:  40% |#################                          | \remitting double-array:  41% |#################                          | \remitting double-array:  42% |##################                         | \remitting double-array:  43% |##################                         | \remitting double-array:  44% |##################                         | \remitting double-array:  45% |###################                        | \remitting double-array:  46% |###################                        | \remitting double-array:  47% |####################                       | \remitting double-array:  48% |####################                       | \remitting double-array:  49% |#####################                      | \remitting double-array:  50% |#####################                      | \remitting double-array:  51% |#####################                      | \remitting double-array:  52% |######################                     | \remitting double-array:  53% |######################                     | \remitting double-array:  54% |#######################                    | \remitting double-array:  55% |#######################                    | \remitting double-array:  56% |########################                   | \remitting double-array:  57% |########################                   | \remitting double-array:  58% |########################                   | \remitting double-array:  59% |#########################                  | \remitting double-array:  60% |#########################                  | \remitting double-array:  61% |##########################                 | \remitting double-array:  62% |##########################                 | \remitting double-array:  63% |###########################                | \remitting double-array:  64% |###########################                | \remitting double-array:  65% |###########################                | \remitting double-array:  66% |############################               | \remitting double-array:  67% |############################               | \remitting double-array:  68% |#############################              | \remitting double-array:  69% |#############################              | \remitting double-array:  70% |##############################             | \remitting double-array:  71% |##############################             | \remitting double-array:  72% |##############################             | \remitting double-array:  73% |###############################            | \remitting double-array:  74% |###############################            | \remitting double-array:  75% |################################           | \remitting double-array:  76% |################################           | \remitting double-array:  77% |#################################          | \remitting double-array:  78% |#################################          | \remitting double-array:  79% |#################################          | \remitting double-array:  80% |##################################         | \remitting double-array:  81% |##################################         | \remitting double-array:  82% |###################################        | \remitting double-array:  83% |###################################        | \remitting double-array:  84% |####################################       | \remitting double-array:  85% |####################################       | \remitting double-array:  86% |#####################################      | \remitting double-array:  87% |#####################################      | \remitting double-array:  88% |#####################################      | \remitting double-array:  89% |######################################     | \remitting double-array:  90% |######################################     | \remitting double-array:  91% |#######################################    | \remitting double-array:  92% |#######################################    | \remitting double-array:  93% |########################################   | \remitting double-array:  94% |########################################   | \remitting double-array:  95% |########################################   | \remitting double-array:  96% |#########################################  | \remitting double-array:  97% |#########################################  | \remitting double-array:  98% |########################################## | \remitting double-array:  99% |########################################## | \remitting double-array: 100% |###########################################| \n",
            "reading model-ipadic.c1.0.f1.dic/matrix.def ... 346x346\n",
            "emitting matrix      :   0% |                                           | \remitting matrix      :   1% |                                           | \remitting matrix      :   2% |                                           | \remitting matrix      :   3% |#                                          | \remitting matrix      :   4% |#                                          | \remitting matrix      :   5% |##                                         | \remitting matrix      :   6% |##                                         | \remitting matrix      :   7% |###                                        | \remitting matrix      :   8% |###                                        | \remitting matrix      :   9% |###                                        | \remitting matrix      :  10% |####                                       | \remitting matrix      :  11% |####                                       | \remitting matrix      :  12% |#####                                      | \remitting matrix      :  13% |#####                                      | \remitting matrix      :  14% |######                                     | \remitting matrix      :  15% |######                                     | \remitting matrix      :  16% |######                                     | \remitting matrix      :  17% |#######                                    | \remitting matrix      :  18% |#######                                    | \remitting matrix      :  19% |########                                   | \remitting matrix      :  20% |########                                   | \remitting matrix      :  21% |#########                                  | \remitting matrix      :  22% |#########                                  | \remitting matrix      :  23% |#########                                  | \remitting matrix      :  24% |##########                                 | \remitting matrix      :  25% |##########                                 | \remitting matrix      :  26% |###########                                | \remitting matrix      :  27% |###########                                | \remitting matrix      :  28% |############                               | \remitting matrix      :  29% |############                               | \remitting matrix      :  30% |############                               | \remitting matrix      :  31% |#############                              | \remitting matrix      :  32% |#############                              | \remitting matrix      :  33% |##############                             | \remitting matrix      :  34% |##############                             | \remitting matrix      :  35% |###############                            | \remitting matrix      :  36% |###############                            | \remitting matrix      :  37% |################                           | \remitting matrix      :  38% |################                           | \remitting matrix      :  39% |################                           | \remitting matrix      :  40% |#################                          | \remitting matrix      :  41% |#################                          | \remitting matrix      :  42% |##################                         | \remitting matrix      :  43% |##################                         | \remitting matrix      :  44% |###################                        | \remitting matrix      :  45% |###################                        | \remitting matrix      :  46% |###################                        | \remitting matrix      :  47% |####################                       | \remitting matrix      :  48% |####################                       | \remitting matrix      :  49% |#####################                      | \remitting matrix      :  50% |#####################                      | \remitting matrix      :  51% |#####################                      | \remitting matrix      :  52% |######################                     | \remitting matrix      :  53% |######################                     | \remitting matrix      :  54% |#######################                    | \remitting matrix      :  55% |#######################                    | \remitting matrix      :  56% |########################                   | \remitting matrix      :  57% |########################                   | \remitting matrix      :  58% |########################                   | \remitting matrix      :  59% |#########################                  | \remitting matrix      :  60% |#########################                  | \remitting matrix      :  61% |##########################                 | \remitting matrix      :  62% |##########################                 | \remitting matrix      :  63% |###########################                | \remitting matrix      :  64% |###########################                | \remitting matrix      :  65% |###########################                | \remitting matrix      :  66% |############################               | \remitting matrix      :  67% |############################               | \remitting matrix      :  68% |#############################              | \remitting matrix      :  69% |#############################              | \remitting matrix      :  70% |##############################             | \remitting matrix      :  71% |##############################             | \remitting matrix      :  72% |###############################            | \remitting matrix      :  73% |###############################            | \remitting matrix      :  74% |###############################            | \remitting matrix      :  75% |################################           | \remitting matrix      :  76% |################################           | \remitting matrix      :  77% |#################################          | \remitting matrix      :  78% |#################################          | \remitting matrix      :  79% |##################################         | \remitting matrix      :  80% |##################################         | \remitting matrix      :  81% |##################################         | \remitting matrix      :  82% |###################################        | \remitting matrix      :  83% |###################################        | \remitting matrix      :  84% |####################################       | \remitting matrix      :  85% |####################################       | \remitting matrix      :  86% |#####################################      | \remitting matrix      :  87% |#####################################      | \remitting matrix      :  88% |#####################################      | \remitting matrix      :  89% |######################################     | \remitting matrix      :  90% |######################################     | \remitting matrix      :  91% |#######################################    | \remitting matrix      :  92% |#######################################    | \remitting matrix      :  93% |########################################   | \remitting matrix      :  94% |########################################   | \remitting matrix      :  95% |########################################   | \remitting matrix      :  96% |#########################################  | \remitting matrix      :  97% |#########################################  | \remitting matrix      :  98% |########################################## | \remitting matrix      :  99% |########################################## | \remitting matrix      : 100% |###########################################| \n",
            "\n",
            "done!\n",
            "              precision          recall         F\n",
            "LEVEL 0:    12.8959(57/442) 11.8998(57/479) 12.3779\n",
            "LEVEL 1:    12.2172(54/442) 11.2735(54/479) 11.7264\n",
            "LEVEL 2:    11.7647(52/442) 10.8559(52/479) 11.2921\n",
            "LEVEL 4:    11.7647(52/442) 10.8559(52/479) 11.2921\n",
            "PASS: run-cost-train.sh\n",
            "==================\n",
            "All 3 tests passed\n",
            "==================\n",
            "make[2]: Leaving directory '/tmp/mecab-0.996-ko-0.9.2/tests'\n",
            "make[1]: Leaving directory '/tmp/mecab-0.996-ko-0.9.2/tests'\n",
            "make[1]: Entering directory '/tmp/mecab-0.996-ko-0.9.2'\n",
            "make[1]: Leaving directory '/tmp/mecab-0.996-ko-0.9.2'\n",
            "Making install in src\n",
            "make[1]: Entering directory '/tmp/mecab-0.996-ko-0.9.2/src'\n",
            "make[2]: Entering directory '/tmp/mecab-0.996-ko-0.9.2/src'\n",
            "test -z \"/usr/local/lib\" || /bin/mkdir -p \"/usr/local/lib\"\n",
            " /bin/bash ../libtool   --mode=install /usr/bin/install -c   libmecab.la '/usr/local/lib'\n",
            "libtool: install: /usr/bin/install -c .libs/libmecab.so.2.0.0 /usr/local/lib/libmecab.so.2.0.0\n",
            "libtool: install: (cd /usr/local/lib && { ln -s -f libmecab.so.2.0.0 libmecab.so.2 || { rm -f libmecab.so.2 && ln -s libmecab.so.2.0.0 libmecab.so.2; }; })\n",
            "libtool: install: (cd /usr/local/lib && { ln -s -f libmecab.so.2.0.0 libmecab.so || { rm -f libmecab.so && ln -s libmecab.so.2.0.0 libmecab.so; }; })\n",
            "libtool: install: /usr/bin/install -c .libs/libmecab.lai /usr/local/lib/libmecab.la\n",
            "libtool: install: /usr/bin/install -c .libs/libmecab.a /usr/local/lib/libmecab.a\n",
            "libtool: install: chmod 644 /usr/local/lib/libmecab.a\n",
            "libtool: install: ranlib /usr/local/lib/libmecab.a\n",
            "libtool: finish: PATH=\"/usr/local/sbin:/usr/local/bin:/usr/sbin:/usr/bin:/sbin:/bin:/snap/bin:/sbin\" ldconfig -n /usr/local/lib\n",
            "----------------------------------------------------------------------\n",
            "Libraries have been installed in:\n",
            "   /usr/local/lib\n",
            "\n",
            "If you ever happen to want to link against installed libraries\n",
            "in a given directory, LIBDIR, you must either use libtool, and\n",
            "specify the full pathname of the library, or use the `-LLIBDIR'\n",
            "flag during linking and do at least one of the following:\n",
            "   - add LIBDIR to the `LD_LIBRARY_PATH' environment variable\n",
            "     during execution\n",
            "   - add LIBDIR to the `LD_RUN_PATH' environment variable\n",
            "     during linking\n",
            "   - use the `-Wl,-rpath -Wl,LIBDIR' linker flag\n",
            "   - have your system administrator add LIBDIR to `/etc/ld.so.conf'\n",
            "\n",
            "See any operating system documentation about shared libraries for\n",
            "more information, such as the ld(1) and ld.so(8) manual pages.\n",
            "----------------------------------------------------------------------\n",
            "test -z \"/usr/local/bin\" || /bin/mkdir -p \"/usr/local/bin\"\n",
            "  /bin/bash ../libtool   --mode=install /usr/bin/install -c mecab '/usr/local/bin'\n",
            "libtool: install: /usr/bin/install -c .libs/mecab /usr/local/bin/mecab\n",
            "test -z \"/usr/local/libexec/mecab\" || /bin/mkdir -p \"/usr/local/libexec/mecab\"\n",
            "  /bin/bash ../libtool   --mode=install /usr/bin/install -c mecab-dict-index mecab-dict-gen mecab-cost-train mecab-system-eval mecab-test-gen '/usr/local/libexec/mecab'\n",
            "libtool: install: /usr/bin/install -c .libs/mecab-dict-index /usr/local/libexec/mecab/mecab-dict-index\n",
            "libtool: install: /usr/bin/install -c .libs/mecab-dict-gen /usr/local/libexec/mecab/mecab-dict-gen\n",
            "libtool: install: /usr/bin/install -c .libs/mecab-cost-train /usr/local/libexec/mecab/mecab-cost-train\n",
            "libtool: install: /usr/bin/install -c .libs/mecab-system-eval /usr/local/libexec/mecab/mecab-system-eval\n",
            "libtool: install: /usr/bin/install -c .libs/mecab-test-gen /usr/local/libexec/mecab/mecab-test-gen\n",
            "test -z \"/usr/local/include\" || /bin/mkdir -p \"/usr/local/include\"\n",
            " /usr/bin/install -c -m 644 mecab.h '/usr/local/include'\n",
            "make[2]: Leaving directory '/tmp/mecab-0.996-ko-0.9.2/src'\n",
            "make[1]: Leaving directory '/tmp/mecab-0.996-ko-0.9.2/src'\n",
            "Making install in man\n",
            "make[1]: Entering directory '/tmp/mecab-0.996-ko-0.9.2/man'\n",
            "make[2]: Entering directory '/tmp/mecab-0.996-ko-0.9.2/man'\n",
            "make[2]: Nothing to be done for 'install-exec-am'.\n",
            "test -z \"/usr/local/share/man/man1\" || /bin/mkdir -p \"/usr/local/share/man/man1\"\n",
            " /usr/bin/install -c -m 644 mecab.1 '/usr/local/share/man/man1'\n",
            "make[2]: Leaving directory '/tmp/mecab-0.996-ko-0.9.2/man'\n",
            "make[1]: Leaving directory '/tmp/mecab-0.996-ko-0.9.2/man'\n",
            "Making install in doc\n",
            "make[1]: Entering directory '/tmp/mecab-0.996-ko-0.9.2/doc'\n",
            "make[2]: Entering directory '/tmp/mecab-0.996-ko-0.9.2/doc'\n",
            "make[2]: Nothing to be done for 'install-exec-am'.\n",
            "make[2]: Nothing to be done for 'install-data-am'.\n",
            "make[2]: Leaving directory '/tmp/mecab-0.996-ko-0.9.2/doc'\n",
            "make[1]: Leaving directory '/tmp/mecab-0.996-ko-0.9.2/doc'\n",
            "Making install in tests\n",
            "make[1]: Entering directory '/tmp/mecab-0.996-ko-0.9.2/tests'\n",
            "make[2]: Entering directory '/tmp/mecab-0.996-ko-0.9.2/tests'\n",
            "make[2]: Nothing to be done for 'install-exec-am'.\n",
            "make[2]: Nothing to be done for 'install-data-am'.\n",
            "make[2]: Leaving directory '/tmp/mecab-0.996-ko-0.9.2/tests'\n",
            "make[1]: Leaving directory '/tmp/mecab-0.996-ko-0.9.2/tests'\n",
            "make[1]: Entering directory '/tmp/mecab-0.996-ko-0.9.2'\n",
            "make[2]: Entering directory '/tmp/mecab-0.996-ko-0.9.2'\n",
            "test -z \"/usr/local/bin\" || /bin/mkdir -p \"/usr/local/bin\"\n",
            " /usr/bin/install -c mecab-config '/usr/local/bin'\n",
            "test -z \"/usr/local/etc\" || /bin/mkdir -p \"/usr/local/etc\"\n",
            " /usr/bin/install -c -m 644 mecabrc '/usr/local/etc'\n",
            "make[2]: Leaving directory '/tmp/mecab-0.996-ko-0.9.2'\n",
            "make[1]: Leaving directory '/tmp/mecab-0.996-ko-0.9.2'\n",
            "Install mecab-ko-dic\n",
            "Install mecab-ko-dic\n",
            "mecab-ko-dic-2.1.1-20180720/\n",
            "mecab-ko-dic-2.1.1-20180720/configure\n",
            "mecab-ko-dic-2.1.1-20180720/COPYING\n",
            "mecab-ko-dic-2.1.1-20180720/autogen.sh\n",
            "mecab-ko-dic-2.1.1-20180720/Place-station.csv\n",
            "mecab-ko-dic-2.1.1-20180720/NNG.csv\n",
            "mecab-ko-dic-2.1.1-20180720/README\n",
            "mecab-ko-dic-2.1.1-20180720/EF.csv\n",
            "mecab-ko-dic-2.1.1-20180720/MAG.csv\n",
            "mecab-ko-dic-2.1.1-20180720/Preanalysis.csv\n",
            "mecab-ko-dic-2.1.1-20180720/NNB.csv\n",
            "mecab-ko-dic-2.1.1-20180720/Person-actor.csv\n",
            "mecab-ko-dic-2.1.1-20180720/VV.csv\n",
            "mecab-ko-dic-2.1.1-20180720/Makefile.in\n",
            "mecab-ko-dic-2.1.1-20180720/matrix.def\n",
            "mecab-ko-dic-2.1.1-20180720/EC.csv\n",
            "mecab-ko-dic-2.1.1-20180720/NNBC.csv\n",
            "mecab-ko-dic-2.1.1-20180720/clean\n",
            "mecab-ko-dic-2.1.1-20180720/ChangeLog\n",
            "mecab-ko-dic-2.1.1-20180720/J.csv\n",
            "mecab-ko-dic-2.1.1-20180720/.keep\n",
            "mecab-ko-dic-2.1.1-20180720/feature.def\n",
            "mecab-ko-dic-2.1.1-20180720/Foreign.csv\n",
            "mecab-ko-dic-2.1.1-20180720/XPN.csv\n",
            "mecab-ko-dic-2.1.1-20180720/EP.csv\n",
            "mecab-ko-dic-2.1.1-20180720/NR.csv\n",
            "mecab-ko-dic-2.1.1-20180720/left-id.def\n",
            "mecab-ko-dic-2.1.1-20180720/Place.csv\n",
            "mecab-ko-dic-2.1.1-20180720/Symbol.csv\n",
            "mecab-ko-dic-2.1.1-20180720/dicrc\n",
            "mecab-ko-dic-2.1.1-20180720/NP.csv\n",
            "mecab-ko-dic-2.1.1-20180720/ETM.csv\n",
            "mecab-ko-dic-2.1.1-20180720/IC.csv\n",
            "mecab-ko-dic-2.1.1-20180720/Place-address.csv\n",
            "mecab-ko-dic-2.1.1-20180720/Group.csv\n",
            "mecab-ko-dic-2.1.1-20180720/model.def\n",
            "mecab-ko-dic-2.1.1-20180720/XSN.csv\n",
            "mecab-ko-dic-2.1.1-20180720/INSTALL\n",
            "mecab-ko-dic-2.1.1-20180720/rewrite.def\n",
            "mecab-ko-dic-2.1.1-20180720/Inflect.csv\n",
            "mecab-ko-dic-2.1.1-20180720/configure.ac\n",
            "mecab-ko-dic-2.1.1-20180720/NNP.csv\n",
            "mecab-ko-dic-2.1.1-20180720/CoinedWord.csv\n",
            "mecab-ko-dic-2.1.1-20180720/XSV.csv\n",
            "mecab-ko-dic-2.1.1-20180720/pos-id.def\n",
            "mecab-ko-dic-2.1.1-20180720/Makefile.am\n",
            "mecab-ko-dic-2.1.1-20180720/unk.def\n",
            "mecab-ko-dic-2.1.1-20180720/missing\n",
            "mecab-ko-dic-2.1.1-20180720/VCP.csv\n",
            "mecab-ko-dic-2.1.1-20180720/install-sh\n",
            "mecab-ko-dic-2.1.1-20180720/Hanja.csv\n",
            "mecab-ko-dic-2.1.1-20180720/MAJ.csv\n",
            "mecab-ko-dic-2.1.1-20180720/XSA.csv\n",
            "mecab-ko-dic-2.1.1-20180720/Wikipedia.csv\n",
            "mecab-ko-dic-2.1.1-20180720/tools/\n",
            "mecab-ko-dic-2.1.1-20180720/tools/add-userdic.sh\n",
            "mecab-ko-dic-2.1.1-20180720/tools/mecab-bestn.sh\n",
            "mecab-ko-dic-2.1.1-20180720/tools/convert_for_using_store.sh\n",
            "mecab-ko-dic-2.1.1-20180720/user-dic/\n",
            "mecab-ko-dic-2.1.1-20180720/user-dic/nnp.csv\n",
            "mecab-ko-dic-2.1.1-20180720/user-dic/place.csv\n",
            "mecab-ko-dic-2.1.1-20180720/user-dic/person.csv\n",
            "mecab-ko-dic-2.1.1-20180720/user-dic/README.md\n",
            "mecab-ko-dic-2.1.1-20180720/NorthKorea.csv\n",
            "mecab-ko-dic-2.1.1-20180720/VX.csv\n",
            "mecab-ko-dic-2.1.1-20180720/right-id.def\n",
            "mecab-ko-dic-2.1.1-20180720/VA.csv\n",
            "mecab-ko-dic-2.1.1-20180720/char.def\n",
            "mecab-ko-dic-2.1.1-20180720/NEWS\n",
            "mecab-ko-dic-2.1.1-20180720/MM.csv\n",
            "mecab-ko-dic-2.1.1-20180720/ETN.csv\n",
            "mecab-ko-dic-2.1.1-20180720/AUTHORS\n",
            "mecab-ko-dic-2.1.1-20180720/Person.csv\n",
            "mecab-ko-dic-2.1.1-20180720/XR.csv\n",
            "mecab-ko-dic-2.1.1-20180720/VCN.csv\n",
            "Looking in current directory for macros.\n",
            "checking for a BSD-compatible install... /usr/bin/install -c\n",
            "checking whether build environment is sane... yes\n",
            "checking for a thread-safe mkdir -p... /bin/mkdir -p\n",
            "checking for gawk... no\n",
            "checking for mawk... mawk\n",
            "checking whether make sets $(MAKE)... yes\n",
            "checking whether make supports nested variables... yes\n",
            "checking for mecab-config... /usr/local/bin/mecab-config\n",
            "checking that generated files are newer than configure... done\n",
            "configure: creating ./config.status\n",
            "config.status: creating Makefile\n",
            "/usr/local/lib\n",
            "/usr/local/libexec/mecab/mecab-dict-index -d . -o . -f UTF-8 -t UTF-8\n",
            "reading ./unk.def ... 13\n",
            "emitting double-array:   7% |###                                        | \remitting double-array:  15% |######                                     | \remitting double-array:  23% |#########                                  | \remitting double-array:  30% |#############                              | \remitting double-array:  38% |################                           | \remitting double-array:  46% |###################                        | \remitting double-array:  53% |#######################                    | \remitting double-array:  61% |##########################                 | \remitting double-array:  69% |#############################              | \remitting double-array:  76% |#################################          | \remitting double-array:  84% |####################################       | \remitting double-array:  92% |#######################################    | \remitting double-array: 100% |###########################################| \n",
            "reading ./NorthKorea.csv ... 3\n",
            "reading ./NP.csv ... 342\n",
            "reading ./XPN.csv ... 83\n",
            "reading ./Place-address.csv ... 19301\n",
            "reading ./Inflect.csv ... 44820\n",
            "reading ./NNP.csv ... 2371\n",
            "reading ./Symbol.csv ... 16\n",
            "reading ./VCP.csv ... 9\n",
            "reading ./MAG.csv ... 14242\n",
            "reading ./NR.csv ... 482\n",
            "reading ./Preanalysis.csv ... 5\n",
            "reading ./EF.csv ... 1820\n",
            "reading ./J.csv ... 416\n",
            "reading ./ETM.csv ... 133\n",
            "reading ./VX.csv ... 125\n",
            "reading ./Place-station.csv ... 1145\n",
            "reading ./Person-actor.csv ... 99230\n",
            "reading ./Hanja.csv ... 125750\n",
            "reading ./Foreign.csv ... 11690\n",
            "reading ./XR.csv ... 3637\n",
            "reading ./XSA.csv ... 19\n",
            "reading ./XSN.csv ... 124\n",
            "reading ./MAJ.csv ... 240\n",
            "reading ./EP.csv ... 51\n",
            "reading ./VCN.csv ... 7\n",
            "reading ./VA.csv ... 2360\n",
            "reading ./NNG.csv ... 208524\n",
            "reading ./Person.csv ... 196459\n",
            "reading ./ETN.csv ... 14\n",
            "reading ./EC.csv ... 2547\n",
            "reading ./XSV.csv ... 23\n",
            "reading ./CoinedWord.csv ... 148\n",
            "reading ./NNB.csv ... 140\n",
            "reading ./IC.csv ... 1305\n",
            "reading ./NNBC.csv ... 677\n",
            "reading ./MM.csv ... 453\n",
            "reading ./Group.csv ... 3176\n",
            "reading ./VV.csv ... 7331\n",
            "reading ./Wikipedia.csv ... 36762\n",
            "reading ./Place.csv ... 30303\n",
            "emitting double-array:   0% |                                           | \remitting double-array:   1% |                                           | \remitting double-array:   2% |                                           | \remitting double-array:   3% |#                                          | \remitting double-array:   4% |#                                          | \remitting double-array:   5% |##                                         | \remitting double-array:   6% |##                                         | \remitting double-array:   7% |###                                        | \remitting double-array:   8% |###                                        | \remitting double-array:   9% |###                                        | \remitting double-array:  10% |####                                       | \remitting double-array:  11% |####                                       | \remitting double-array:  12% |#####                                      | \remitting double-array:  13% |#####                                      | \remitting double-array:  14% |######                                     | \remitting double-array:  15% |######                                     | \remitting double-array:  16% |######                                     | \remitting double-array:  17% |#######                                    | \remitting double-array:  18% |#######                                    | \remitting double-array:  19% |########                                   | \remitting double-array:  20% |########                                   | \remitting double-array:  21% |#########                                  | \remitting double-array:  22% |#########                                  | \remitting double-array:  23% |#########                                  | \remitting double-array:  24% |##########                                 | \remitting double-array:  25% |##########                                 | \remitting double-array:  26% |###########                                | \remitting double-array:  27% |###########                                | \remitting double-array:  28% |############                               | \remitting double-array:  29% |############                               | \remitting double-array:  30% |############                               | \remitting double-array:  31% |#############                              | \remitting double-array:  32% |#############                              | \remitting double-array:  33% |##############                             | \remitting double-array:  34% |##############                             | \remitting double-array:  35% |###############                            | \remitting double-array:  36% |###############                            | \remitting double-array:  37% |###############                            | \remitting double-array:  38% |################                           | \remitting double-array:  39% |################                           | \remitting double-array:  40% |#################                          | \remitting double-array:  41% |#################                          | \remitting double-array:  42% |##################                         | \remitting double-array:  43% |##################                         | \remitting double-array:  44% |##################                         | \remitting double-array:  45% |###################                        | \remitting double-array:  46% |###################                        | \remitting double-array:  47% |####################                       | \remitting double-array:  48% |####################                       | \remitting double-array:  49% |#####################                      | \remitting double-array:  50% |#####################                      | \remitting double-array:  51% |#####################                      | \remitting double-array:  52% |######################                     | \remitting double-array:  53% |######################                     | \remitting double-array:  54% |#######################                    | \remitting double-array:  55% |#######################                    | \remitting double-array:  56% |########################                   | \remitting double-array:  57% |########################                   | \remitting double-array:  58% |########################                   | \remitting double-array:  59% |#########################                  | \remitting double-array:  60% |#########################                  | \remitting double-array:  61% |##########################                 | \remitting double-array:  62% |##########################                 | \remitting double-array:  63% |###########################                | \remitting double-array:  64% |###########################                | \remitting double-array:  65% |###########################                | \remitting double-array:  66% |############################               | \remitting double-array:  67% |############################               | \remitting double-array:  68% |#############################              | \remitting double-array:  69% |#############################              | \remitting double-array:  70% |##############################             | \remitting double-array:  71% |##############################             | \remitting double-array:  72% |##############################             | \remitting double-array:  73% |###############################            | \remitting double-array:  74% |###############################            | \remitting double-array:  75% |################################           | \remitting double-array:  76% |################################           | \remitting double-array:  77% |#################################          | \remitting double-array:  78% |#################################          | \remitting double-array:  79% |#################################          | \remitting double-array:  80% |##################################         | \remitting double-array:  81% |##################################         | \remitting double-array:  82% |###################################        | \remitting double-array:  83% |###################################        | \remitting double-array:  84% |####################################       | \remitting double-array:  85% |####################################       | \remitting double-array:  86% |####################################       | \remitting double-array:  87% |#####################################      | \remitting double-array:  88% |#####################################      | \remitting double-array:  89% |######################################     | \remitting double-array:  90% |######################################     | \remitting double-array:  91% |#######################################    | \remitting double-array:  92% |#######################################    | \remitting double-array:  93% |#######################################    | \remitting double-array:  94% |########################################   | \remitting double-array:  95% |########################################   | \remitting double-array:  96% |#########################################  | \remitting double-array:  97% |#########################################  | \remitting double-array:  98% |########################################## | \remitting double-array:  99% |########################################## | \remitting double-array: 100% |###########################################| \n",
            "reading ./matrix.def ... 3822x2693\n",
            "emitting matrix      :   0% |                                           | \remitting matrix      :   1% |                                           | \remitting matrix      :   2% |                                           | \remitting matrix      :   3% |#                                          | \remitting matrix      :   4% |#                                          | \remitting matrix      :   5% |##                                         | \remitting matrix      :   6% |##                                         | \remitting matrix      :   7% |###                                        | \remitting matrix      :   8% |###                                        | \remitting matrix      :   9% |###                                        | \remitting matrix      :  10% |####                                       | \remitting matrix      :  11% |####                                       | \remitting matrix      :  12% |#####                                      | \remitting matrix      :  13% |#####                                      | \remitting matrix      :  14% |######                                     | \remitting matrix      :  15% |######                                     | \remitting matrix      :  16% |######                                     | \remitting matrix      :  17% |#######                                    | \remitting matrix      :  18% |#######                                    | \remitting matrix      :  19% |########                                   | \remitting matrix      :  20% |########                                   | \remitting matrix      :  21% |#########                                  | \remitting matrix      :  22% |#########                                  | \remitting matrix      :  23% |#########                                  | \remitting matrix      :  24% |##########                                 | \remitting matrix      :  25% |##########                                 | \remitting matrix      :  26% |###########                                | \remitting matrix      :  27% |###########                                | \remitting matrix      :  28% |############                               | \remitting matrix      :  29% |############                               | \remitting matrix      :  30% |############                               | \remitting matrix      :  31% |#############                              | \remitting matrix      :  32% |#############                              | \remitting matrix      :  33% |##############                             | \remitting matrix      :  34% |##############                             | \remitting matrix      :  35% |###############                            | \remitting matrix      :  36% |###############                            | \remitting matrix      :  37% |###############                            | \remitting matrix      :  38% |################                           | \remitting matrix      :  39% |################                           | \remitting matrix      :  40% |#################                          | \remitting matrix      :  41% |#################                          | \remitting matrix      :  42% |##################                         | \remitting matrix      :  43% |##################                         | \remitting matrix      :  44% |##################                         | \remitting matrix      :  45% |###################                        | \remitting matrix      :  46% |###################                        | \remitting matrix      :  47% |####################                       | \remitting matrix      :  48% |####################                       | \remitting matrix      :  49% |#####################                      | \remitting matrix      :  50% |#####################                      | \remitting matrix      :  51% |#####################                      | \remitting matrix      :  52% |######################                     | \remitting matrix      :  53% |######################                     | \remitting matrix      :  54% |#######################                    | \remitting matrix      :  55% |#######################                    | \remitting matrix      :  56% |########################                   | \remitting matrix      :  57% |########################                   | \remitting matrix      :  58% |########################                   | \remitting matrix      :  59% |#########################                  | \remitting matrix      :  60% |#########################                  | \remitting matrix      :  61% |##########################                 | \remitting matrix      :  62% |##########################                 | \remitting matrix      :  63% |###########################                | \remitting matrix      :  64% |###########################                | \remitting matrix      :  65% |###########################                | \remitting matrix      :  66% |############################               | \remitting matrix      :  67% |############################               | \remitting matrix      :  68% |#############################              | \remitting matrix      :  69% |#############################              | \remitting matrix      :  70% |##############################             | \remitting matrix      :  71% |##############################             | \remitting matrix      :  72% |##############################             | \remitting matrix      :  73% |###############################            | \remitting matrix      :  74% |###############################            | \remitting matrix      :  75% |################################           | \remitting matrix      :  76% |################################           | \remitting matrix      :  77% |#################################          | \remitting matrix      :  78% |#################################          | \remitting matrix      :  79% |#################################          | \remitting matrix      :  80% |##################################         | \remitting matrix      :  81% |##################################         | \remitting matrix      :  82% |###################################        | \remitting matrix      :  83% |###################################        | \remitting matrix      :  84% |####################################       | \remitting matrix      :  85% |####################################       | \remitting matrix      :  86% |####################################       | \remitting matrix      :  87% |#####################################      | \remitting matrix      :  88% |#####################################      | \remitting matrix      :  89% |######################################     | \remitting matrix      :  90% |######################################     | \remitting matrix      :  91% |#######################################    | \remitting matrix      :  92% |#######################################    | \remitting matrix      :  93% |#######################################    | \remitting matrix      :  94% |########################################   | \remitting matrix      :  95% |########################################   | \remitting matrix      :  96% |#########################################  | \remitting matrix      :  97% |#########################################  | \remitting matrix      :  98% |########################################## | \remitting matrix      :  99% |########################################## | \remitting matrix      : 100% |###########################################| \n",
            "\n",
            "done!\n",
            "echo To enable dictionary, rewrite /usr/local/etc/mecabrc as \\\"dicdir = /usr/local/lib/mecab/dic/mecab-ko-dic\\\"\n",
            "To enable dictionary, rewrite /usr/local/etc/mecabrc as \"dicdir = /usr/local/lib/mecab/dic/mecab-ko-dic\"\n",
            "make[1]: Entering directory '/tmp/mecab-ko-dic-2.1.1-20180720'\n",
            "make[1]: Nothing to be done for 'install-exec-am'.\n",
            " /bin/mkdir -p '/usr/local/lib/mecab/dic/mecab-ko-dic'\n",
            " /usr/bin/install -c -m 644 model.bin matrix.bin char.bin sys.dic unk.dic left-id.def right-id.def rewrite.def pos-id.def dicrc '/usr/local/lib/mecab/dic/mecab-ko-dic'\n",
            "make[1]: Leaving directory '/tmp/mecab-ko-dic-2.1.1-20180720'\n",
            "Install mecab-python\n",
            "/tmp /tmp/mecab-ko-dic-2.1.1-20180720\n",
            "/tmp/mecab-ko-dic-2.1.1-20180720\n",
            "Processing /tmp/mecab-python-0.996\n",
            "Building wheels for collected packages: mecab-python\n",
            "  Building wheel for mecab-python (setup.py): started\n",
            "  Building wheel for mecab-python (setup.py): finished with status 'done'\n",
            "  Created wheel for mecab-python: filename=mecab_python-0.996_ko_0.9.2-cp37-cp37m-linux_x86_64.whl size=141821 sha256=ee35c10ad399cead8b3663c83692880a664bc5ce0b87e56bda4e70c50d0edae9\n",
            "  Stored in directory: /root/.cache/pip/wheels/40/7b/9f/2922869bef86c3354ae7034f7a3647c573ee1997c2dad0290a\n",
            "Failed to build mecab-python\n",
            "Installing collected packages: mecab-python\n",
            "    Running setup.py install for mecab-python: started\n",
            "    Running setup.py install for mecab-python: finished with status 'done'\n",
            "Successfully installed mecab-python-0.996-ko-0.9.2\n",
            "Done.\n",
            "Processing /tmp/mecab-python-0.996\n",
            "Building wheels for collected packages: mecab-python\n",
            "  Building wheel for mecab-python (setup.py): started\n",
            "  Building wheel for mecab-python (setup.py): finished with status 'done'\n",
            "  Created wheel for mecab-python: filename=mecab_python-0.996_ko_0.9.2-cp37-cp37m-linux_x86_64.whl size=141808 sha256=36bf0c1468f3269adc9396a2ce241d7ac637901af2e8405e32d6dfb8c3d42270\n",
            "  Stored in directory: /root/.cache/pip/wheels/40/7b/9f/2922869bef86c3354ae7034f7a3647c573ee1997c2dad0290a\n",
            "Failed to build mecab-python\n",
            "Installing collected packages: mecab-python\n",
            "  Attempting uninstall: mecab-python\n",
            "    Found existing installation: mecab-python 0.996-ko-0.9.2\n",
            "    Uninstalling mecab-python-0.996-ko-0.9.2:\n",
            "      Successfully uninstalled mecab-python-0.996-ko-0.9.2\n",
            "    Running setup.py install for mecab-python: started\n",
            "    Running setup.py install for mecab-python: finished with status 'done'\n",
            "Successfully installed mecab-python-0.996-ko-0.9.2\n"
          ]
        }
      ]
    },
    {
      "cell_type": "markdown",
      "source": [
        "## 스팀 리뷰 데이터에 대한 이해와 전처리"
      ],
      "metadata": {
        "id": "eRcYWiypcxxa"
      }
    },
    {
      "cell_type": "code",
      "source": [
        "import pandas as pd\n",
        "import numpy as np\n",
        "import matplotlib.pyplot as plt\n",
        "import urllib.request\n",
        "from collections import Counter\n",
        "from konlpy.tag import Mecab\n",
        "from sklearn.model_selection import train_test_split\n",
        "from tensorflow.keras.preprocessing.text import Tokenizer\n",
        "from tensorflow.keras.preprocessing.sequence import pad_sequences"
      ],
      "metadata": {
        "id": "Ns4wNve_cwJm"
      },
      "execution_count": 4,
      "outputs": []
    },
    {
      "cell_type": "code",
      "source": [
        "urllib.request.urlretrieve(\"https://raw.githubusercontent.com/bab2min/corpus/master/sentiment/steam.txt\", filename=\"steam.txt\")"
      ],
      "metadata": {
        "colab": {
          "base_uri": "https://localhost:8080/"
        },
        "id": "tjDYZlI8dfkI",
        "outputId": "a72ac546-8765-4755-f07e-0f66d53e5338"
      },
      "execution_count": 5,
      "outputs": [
        {
          "output_type": "execute_result",
          "data": {
            "text/plain": [
              "('steam.txt', <http.client.HTTPMessage at 0x7f7f6456b890>)"
            ]
          },
          "metadata": {},
          "execution_count": 5
        }
      ]
    },
    {
      "cell_type": "code",
      "source": [
        "total_data = pd.read_table('steam.txt', names=['label', 'reviews'])\n",
        "print('전체 리뷰 개수 :',len(total_data)) # 전체 리뷰 개수 출력"
      ],
      "metadata": {
        "colab": {
          "base_uri": "https://localhost:8080/"
        },
        "id": "Jo7m3ED7dgWE",
        "outputId": "c32b8821-ff33-44f1-dc2b-98477b80be23"
      },
      "execution_count": 6,
      "outputs": [
        {
          "output_type": "stream",
          "name": "stdout",
          "text": [
            "전체 리뷰 개수 : 100000\n"
          ]
        }
      ]
    },
    {
      "cell_type": "code",
      "source": [
        "total_data[:5]"
      ],
      "metadata": {
        "colab": {
          "base_uri": "https://localhost:8080/",
          "height": 206
        },
        "id": "rBj5l474dhvw",
        "outputId": "b027acf7-cdf2-4457-9670-2e6fafe3765d"
      },
      "execution_count": 7,
      "outputs": [
        {
          "output_type": "execute_result",
          "data": {
            "text/html": [
              "\n",
              "  <div id=\"df-68891643-ab75-4931-ab15-bb89b778b785\">\n",
              "    <div class=\"colab-df-container\">\n",
              "      <div>\n",
              "<style scoped>\n",
              "    .dataframe tbody tr th:only-of-type {\n",
              "        vertical-align: middle;\n",
              "    }\n",
              "\n",
              "    .dataframe tbody tr th {\n",
              "        vertical-align: top;\n",
              "    }\n",
              "\n",
              "    .dataframe thead th {\n",
              "        text-align: right;\n",
              "    }\n",
              "</style>\n",
              "<table border=\"1\" class=\"dataframe\">\n",
              "  <thead>\n",
              "    <tr style=\"text-align: right;\">\n",
              "      <th></th>\n",
              "      <th>label</th>\n",
              "      <th>reviews</th>\n",
              "    </tr>\n",
              "  </thead>\n",
              "  <tbody>\n",
              "    <tr>\n",
              "      <th>0</th>\n",
              "      <td>0</td>\n",
              "      <td>노래가 너무 적음</td>\n",
              "    </tr>\n",
              "    <tr>\n",
              "      <th>1</th>\n",
              "      <td>0</td>\n",
              "      <td>돌겠네 진짜. 황숙아, 어크 공장 그만 돌려라. 죽는다.</td>\n",
              "    </tr>\n",
              "    <tr>\n",
              "      <th>2</th>\n",
              "      <td>1</td>\n",
              "      <td>막노동 체험판 막노동 하는사람인데 장비를 내가 사야돼 뭐지</td>\n",
              "    </tr>\n",
              "    <tr>\n",
              "      <th>3</th>\n",
              "      <td>1</td>\n",
              "      <td>차악!차악!!차악!!! 정말 이래서 왕국을 되찾을 수 있는거야??</td>\n",
              "    </tr>\n",
              "    <tr>\n",
              "      <th>4</th>\n",
              "      <td>1</td>\n",
              "      <td>시간 때우기에 좋음.. 도전과제는 50시간이면 다 깰 수 있어요</td>\n",
              "    </tr>\n",
              "  </tbody>\n",
              "</table>\n",
              "</div>\n",
              "      <button class=\"colab-df-convert\" onclick=\"convertToInteractive('df-68891643-ab75-4931-ab15-bb89b778b785')\"\n",
              "              title=\"Convert this dataframe to an interactive table.\"\n",
              "              style=\"display:none;\">\n",
              "        \n",
              "  <svg xmlns=\"http://www.w3.org/2000/svg\" height=\"24px\"viewBox=\"0 0 24 24\"\n",
              "       width=\"24px\">\n",
              "    <path d=\"M0 0h24v24H0V0z\" fill=\"none\"/>\n",
              "    <path d=\"M18.56 5.44l.94 2.06.94-2.06 2.06-.94-2.06-.94-.94-2.06-.94 2.06-2.06.94zm-11 1L8.5 8.5l.94-2.06 2.06-.94-2.06-.94L8.5 2.5l-.94 2.06-2.06.94zm10 10l.94 2.06.94-2.06 2.06-.94-2.06-.94-.94-2.06-.94 2.06-2.06.94z\"/><path d=\"M17.41 7.96l-1.37-1.37c-.4-.4-.92-.59-1.43-.59-.52 0-1.04.2-1.43.59L10.3 9.45l-7.72 7.72c-.78.78-.78 2.05 0 2.83L4 21.41c.39.39.9.59 1.41.59.51 0 1.02-.2 1.41-.59l7.78-7.78 2.81-2.81c.8-.78.8-2.07 0-2.86zM5.41 20L4 18.59l7.72-7.72 1.47 1.35L5.41 20z\"/>\n",
              "  </svg>\n",
              "      </button>\n",
              "      \n",
              "  <style>\n",
              "    .colab-df-container {\n",
              "      display:flex;\n",
              "      flex-wrap:wrap;\n",
              "      gap: 12px;\n",
              "    }\n",
              "\n",
              "    .colab-df-convert {\n",
              "      background-color: #E8F0FE;\n",
              "      border: none;\n",
              "      border-radius: 50%;\n",
              "      cursor: pointer;\n",
              "      display: none;\n",
              "      fill: #1967D2;\n",
              "      height: 32px;\n",
              "      padding: 0 0 0 0;\n",
              "      width: 32px;\n",
              "    }\n",
              "\n",
              "    .colab-df-convert:hover {\n",
              "      background-color: #E2EBFA;\n",
              "      box-shadow: 0px 1px 2px rgba(60, 64, 67, 0.3), 0px 1px 3px 1px rgba(60, 64, 67, 0.15);\n",
              "      fill: #174EA6;\n",
              "    }\n",
              "\n",
              "    [theme=dark] .colab-df-convert {\n",
              "      background-color: #3B4455;\n",
              "      fill: #D2E3FC;\n",
              "    }\n",
              "\n",
              "    [theme=dark] .colab-df-convert:hover {\n",
              "      background-color: #434B5C;\n",
              "      box-shadow: 0px 1px 3px 1px rgba(0, 0, 0, 0.15);\n",
              "      filter: drop-shadow(0px 1px 2px rgba(0, 0, 0, 0.3));\n",
              "      fill: #FFFFFF;\n",
              "    }\n",
              "  </style>\n",
              "\n",
              "      <script>\n",
              "        const buttonEl =\n",
              "          document.querySelector('#df-68891643-ab75-4931-ab15-bb89b778b785 button.colab-df-convert');\n",
              "        buttonEl.style.display =\n",
              "          google.colab.kernel.accessAllowed ? 'block' : 'none';\n",
              "\n",
              "        async function convertToInteractive(key) {\n",
              "          const element = document.querySelector('#df-68891643-ab75-4931-ab15-bb89b778b785');\n",
              "          const dataTable =\n",
              "            await google.colab.kernel.invokeFunction('convertToInteractive',\n",
              "                                                     [key], {});\n",
              "          if (!dataTable) return;\n",
              "\n",
              "          const docLinkHtml = 'Like what you see? Visit the ' +\n",
              "            '<a target=\"_blank\" href=https://colab.research.google.com/notebooks/data_table.ipynb>data table notebook</a>'\n",
              "            + ' to learn more about interactive tables.';\n",
              "          element.innerHTML = '';\n",
              "          dataTable['output_type'] = 'display_data';\n",
              "          await google.colab.output.renderOutput(dataTable, element);\n",
              "          const docLink = document.createElement('div');\n",
              "          docLink.innerHTML = docLinkHtml;\n",
              "          element.appendChild(docLink);\n",
              "        }\n",
              "      </script>\n",
              "    </div>\n",
              "  </div>\n",
              "  "
            ],
            "text/plain": [
              "   label                               reviews\n",
              "0      0                             노래가 너무 적음\n",
              "1      0       돌겠네 진짜. 황숙아, 어크 공장 그만 돌려라. 죽는다.\n",
              "2      1      막노동 체험판 막노동 하는사람인데 장비를 내가 사야돼 뭐지\n",
              "3      1  차악!차악!!차악!!! 정말 이래서 왕국을 되찾을 수 있는거야??\n",
              "4      1   시간 때우기에 좋음.. 도전과제는 50시간이면 다 깰 수 있어요"
            ]
          },
          "metadata": {},
          "execution_count": 7
        }
      ]
    },
    {
      "cell_type": "code",
      "source": [
        "total_data['reviews'].nunique(), total_data['label'].nunique()"
      ],
      "metadata": {
        "colab": {
          "base_uri": "https://localhost:8080/"
        },
        "id": "GMhf_kIwdkcg",
        "outputId": "4193a41c-4c55-4a78-a565-622cc4f46f52"
      },
      "execution_count": 8,
      "outputs": [
        {
          "output_type": "execute_result",
          "data": {
            "text/plain": [
              "(99892, 2)"
            ]
          },
          "metadata": {},
          "execution_count": 8
        }
      ]
    },
    {
      "cell_type": "code",
      "source": [
        "total_data.drop_duplicates(subset=['reviews'], inplace=True) # reviews 열에서 중복인 내용이 있다면 중복 제거\n",
        "print('총 샘플의 수 :',len(total_data))"
      ],
      "metadata": {
        "colab": {
          "base_uri": "https://localhost:8080/"
        },
        "id": "EmwX253AdnDZ",
        "outputId": "a09aff25-7741-466e-ae73-3172b855f0d3"
      },
      "execution_count": 9,
      "outputs": [
        {
          "output_type": "stream",
          "name": "stdout",
          "text": [
            "총 샘플의 수 : 99892\n"
          ]
        }
      ]
    },
    {
      "cell_type": "code",
      "source": [
        "print(total_data.isnull().values.any())"
      ],
      "metadata": {
        "colab": {
          "base_uri": "https://localhost:8080/"
        },
        "id": "yU8oGtJbeDNF",
        "outputId": "faad48ff-cd3c-4230-8861-13d5e7d79174"
      },
      "execution_count": 10,
      "outputs": [
        {
          "output_type": "stream",
          "name": "stdout",
          "text": [
            "False\n"
          ]
        }
      ]
    },
    {
      "cell_type": "code",
      "source": [
        "# 훈련 데이터와 테스트 데이터 분리하기\n",
        "train_data, test_data = train_test_split(total_data, test_size = 0.25, random_state = 42)\n",
        "print('훈련용 리뷰의 개수 :', len(train_data))\n",
        "print('테스트용 리뷰의 개수 :', len(test_data))"
      ],
      "metadata": {
        "colab": {
          "base_uri": "https://localhost:8080/"
        },
        "id": "AOtvePU0eD_l",
        "outputId": "6fa04b7c-fc0e-4b6d-cab2-587f4cbb7b0b"
      },
      "execution_count": 11,
      "outputs": [
        {
          "output_type": "stream",
          "name": "stdout",
          "text": [
            "훈련용 리뷰의 개수 : 74919\n",
            "테스트용 리뷰의 개수 : 24973\n"
          ]
        }
      ]
    },
    {
      "cell_type": "code",
      "source": [
        "# 레이블의 분포 확인\n",
        "train_data['label'].value_counts().plot(kind = 'bar')"
      ],
      "metadata": {
        "colab": {
          "base_uri": "https://localhost:8080/",
          "height": 280
        },
        "id": "RBfJ6IEyeHo0",
        "outputId": "9fc5c01f-6375-4ead-bc4d-fa8d4f882a24"
      },
      "execution_count": 12,
      "outputs": [
        {
          "output_type": "execute_result",
          "data": {
            "text/plain": [
              "<matplotlib.axes._subplots.AxesSubplot at 0x7f7f6160ead0>"
            ]
          },
          "metadata": {},
          "execution_count": 12
        },
        {
          "output_type": "display_data",
          "data": {
            "image/png": "[encoded data removed]",
            "text/plain": [
              "<Figure size 432x288 with 1 Axes>"
            ]
          },
          "metadata": {
            "needs_background": "light"
          }
        }
      ]
    },
    {
      "cell_type": "code",
      "source": [
        "print(train_data.groupby('label').size().reset_index(name = 'count'))"
      ],
      "metadata": {
        "colab": {
          "base_uri": "https://localhost:8080/"
        },
        "id": "cJuEaobyeKLW",
        "outputId": "726b6399-9c94-4d69-e95f-c553f44e3c35"
      },
      "execution_count": 13,
      "outputs": [
        {
          "output_type": "stream",
          "name": "stdout",
          "text": [
            "   label  count\n",
            "0      0  37376\n",
            "1      1  37543\n"
          ]
        }
      ]
    },
    {
      "cell_type": "code",
      "source": [
        "# 데이터 정제하기\n",
        "# 한글과 공백을 제외하고 모두 제거\n",
        "train_data['reviews'] = train_data['reviews'].str.replace(\"[^ㄱ-ㅎㅏ-ㅣ가-힣 ]\",\"\")\n",
        "train_data['reviews'].replace('', np.nan, inplace=True)\n",
        "print(train_data.isnull().sum())"
      ],
      "metadata": {
        "colab": {
          "base_uri": "https://localhost:8080/"
        },
        "id": "2gyOTga6eLP_",
        "outputId": "89db5e06-a0d6-4202-de15-28a1d4915553"
      },
      "execution_count": 14,
      "outputs": [
        {
          "output_type": "stream",
          "name": "stderr",
          "text": [
            "/usr/local/lib/python3.7/dist-packages/ipykernel_launcher.py:3: FutureWarning: The default value of regex will change from True to False in a future version.\n",
            "  This is separate from the ipykernel package so we can avoid doing imports until\n"
          ]
        },
        {
          "output_type": "stream",
          "name": "stdout",
          "text": [
            "label      0\n",
            "reviews    0\n",
            "dtype: int64\n"
          ]
        }
      ]
    },
    {
      "cell_type": "code",
      "source": [
        "test_data.drop_duplicates(subset = ['reviews'], inplace=True) # 중복 제거\n",
        "test_data['reviews'] = test_data['reviews'].str.replace(\"[^ㄱ-ㅎㅏ-ㅣ가-힣 ]\",\"\") # 정규 표현식 수행\n",
        "test_data['reviews'].replace('', np.nan, inplace=True) # 공백은 Null 값으로 변경\n",
        "test_data = test_data.dropna(how='any') # Null 값 제거\n",
        "print('전처리 후 테스트용 샘플의 개수 :',len(test_data))"
      ],
      "metadata": {
        "colab": {
          "base_uri": "https://localhost:8080/"
        },
        "id": "IFdSH4oCeOhU",
        "outputId": "febc5362-fcf8-46fe-a456-7824df66ce22"
      },
      "execution_count": 15,
      "outputs": [
        {
          "output_type": "stream",
          "name": "stderr",
          "text": [
            "/usr/local/lib/python3.7/dist-packages/ipykernel_launcher.py:2: FutureWarning: The default value of regex will change from True to False in a future version.\n",
            "  \n"
          ]
        },
        {
          "output_type": "stream",
          "name": "stdout",
          "text": [
            "전처리 후 테스트용 샘플의 개수 : 24973\n"
          ]
        }
      ]
    },
    {
      "cell_type": "code",
      "source": [
        "stopwords = ['도', '는', '다', '의', '가', '이', '은', '한', '에', '하', '고', '을', '를', '인', '듯', '과', '와', '네', '들', '듯', '지', '임', '게', '만', '게임', '겜', '되', '음', '면']"
      ],
      "metadata": {
        "id": "L0bLWtfmeQ6r"
      },
      "execution_count": 16,
      "outputs": []
    },
    {
      "cell_type": "code",
      "source": [
        "mecab = Mecab() \n",
        "\n",
        "train_data['tokenized'] = train_data['reviews'].apply(mecab.morphs)\n",
        "train_data['tokenized'] = train_data['tokenized'].apply(lambda x: [item for item in x if item not in stopwords])\n",
        "test_data['tokenized'] = test_data['reviews'].apply(mecab.morphs)\n",
        "test_data['tokenized'] = test_data['tokenized'].apply(lambda x: [item for item in x if item not in stopwords])"
      ],
      "metadata": {
        "id": "ZHB8SmM6eSf1"
      },
      "execution_count": 17,
      "outputs": []
    },
    {
      "cell_type": "code",
      "source": [
        "negative_words = np.hstack(train_data[train_data.label == 0]['tokenized'].values)\n",
        "positive_words = np.hstack(train_data[train_data.label == 1]['tokenized'].values)"
      ],
      "metadata": {
        "id": "XarTI46aeUJD"
      },
      "execution_count": 18,
      "outputs": []
    },
    {
      "cell_type": "code",
      "source": [
        "negative_word_count = Counter(negative_words)\n",
        "print(negative_word_count.most_common(20))"
      ],
      "metadata": {
        "colab": {
          "base_uri": "https://localhost:8080/"
        },
        "id": "LxQZ3nireXIk",
        "outputId": "b809edfa-ba11-4458-ccf5-3017710a08b6"
      },
      "execution_count": 19,
      "outputs": [
        {
          "output_type": "stream",
          "name": "stdout",
          "text": [
            "[('안', 8129), ('없', 7141), ('는데', 5786), ('있', 5692), ('같', 4247), ('로', 4083), ('할', 3920), ('거', 3902), ('나', 3805), ('해', 3653), ('너무', 3522), ('으로', 3351), ('기', 3348), ('했', 3265), ('어', 3143), ('보', 2987), ('습니다', 2962), ('것', 2935), ('지만', 2911), ('좋', 2899)]\n"
          ]
        }
      ]
    },
    {
      "cell_type": "code",
      "source": [
        "positive_word_count = Counter(positive_words)\n",
        "print(positive_word_count.most_common(20))"
      ],
      "metadata": {
        "colab": {
          "base_uri": "https://localhost:8080/"
        },
        "id": "cykN_6_gfVQG",
        "outputId": "038cba52-0a8d-4663-d2db-37b39fe9316b"
      },
      "execution_count": 20,
      "outputs": [
        {
          "output_type": "stream",
          "name": "stdout",
          "text": [
            "[('있', 9987), ('좋', 6542), ('습니다', 5179), ('재밌', 4997), ('할', 4838), ('지만', 4809), ('해', 4354), ('없', 4145), ('보', 3907), ('으로', 3900), ('로', 3879), ('수', 3835), ('는데', 3825), ('기', 3592), ('안', 3368), ('것', 3362), ('같', 3356), ('네요', 3189), ('어', 3112), ('나', 3055)]\n"
          ]
        }
      ]
    },
    {
      "cell_type": "code",
      "source": [
        "fig,(ax1,ax2) = plt.subplots(1,2,figsize=(10,5))\n",
        "text_len = train_data[train_data['label']==1]['tokenized'].map(lambda x: len(x))\n",
        "ax1.hist(text_len, color='red')\n",
        "ax1.set_title('Positive Reviews')\n",
        "ax1.set_xlabel('length of samples')\n",
        "ax1.set_ylabel('number of samples')\n",
        "print('긍정 리뷰의 평균 길이 :', np.mean(text_len))\n",
        "\n",
        "text_len = train_data[train_data['label']==0]['tokenized'].map(lambda x: len(x))\n",
        "ax2.hist(text_len, color='blue')\n",
        "ax2.set_title('Negative Reviews')\n",
        "fig.suptitle('Words in texts')\n",
        "ax2.set_xlabel('length of samples')\n",
        "ax2.set_ylabel('number of samples')\n",
        "print('부정 리뷰의 평균 길이 :', np.mean(text_len))\n",
        "plt.show()"
      ],
      "metadata": {
        "colab": {
          "base_uri": "https://localhost:8080/",
          "height": 407
        },
        "id": "hqoQfRlTfWMu",
        "outputId": "8f0bf465-b596-4c5e-911e-ec6e431613e7"
      },
      "execution_count": 21,
      "outputs": [
        {
          "output_type": "stream",
          "name": "stdout",
          "text": [
            "긍정 리뷰의 평균 길이 : 14.948459100231734\n",
            "부정 리뷰의 평균 길이 : 15.284193065068493\n"
          ]
        },
        {
          "output_type": "display_data",
          "data": {
            "image/png": "[encoded data removed]",
            "text/plain": [
              "<Figure size 720x360 with 2 Axes>"
            ]
          },
          "metadata": {
            "needs_background": "light"
          }
        }
      ]
    },
    {
      "cell_type": "code",
      "source": [
        "X_train = train_data['tokenized'].values\n",
        "y_train = train_data['label'].values\n",
        "X_test= test_data['tokenized'].values\n",
        "y_test = test_data['label'].values"
      ],
      "metadata": {
        "id": "atN9KWKbfXrW"
      },
      "execution_count": 22,
      "outputs": []
    },
    {
      "cell_type": "code",
      "source": [
        "# 정수 인코딩\n",
        "tokenizer = Tokenizer()\n",
        "tokenizer.fit_on_texts(X_train)"
      ],
      "metadata": {
        "id": "kKZ-NaqzfZK-"
      },
      "execution_count": 23,
      "outputs": []
    },
    {
      "cell_type": "code",
      "source": [
        "threshold = 2\n",
        "total_cnt = len(tokenizer.word_index) # 단어의 수\n",
        "rare_cnt = 0 # 등장 빈도수가 threshold보다 작은 단어의 개수를 카운트\n",
        "total_freq = 0 # 훈련 데이터의 전체 단어 빈도수 총 합\n",
        "rare_freq = 0 # 등장 빈도수가 threshold보다 작은 단어의 등장 빈도수의 총 합\n",
        "\n",
        "# 단어와 빈도수의 쌍(pair)을 key와 value로 받는다.\n",
        "for key, value in tokenizer.word_counts.items():\n",
        "    total_freq = total_freq + value\n",
        "\n",
        "    # 단어의 등장 빈도수가 threshold보다 작으면\n",
        "    if(value < threshold):\n",
        "        rare_cnt = rare_cnt + 1\n",
        "        rare_freq = rare_freq + value\n",
        "\n",
        "print('단어 집합(vocabulary)의 크기 :',total_cnt)\n",
        "print('등장 빈도가 %s번 이하인 희귀 단어의 수: %s'%(threshold - 1, rare_cnt))\n",
        "print(\"단어 집합에서 희귀 단어의 비율:\", (rare_cnt / total_cnt)*100)\n",
        "print(\"전체 등장 빈도에서 희귀 단어 등장 빈도 비율:\", (rare_freq / total_freq)*100)"
      ],
      "metadata": {
        "colab": {
          "base_uri": "https://localhost:8080/"
        },
        "id": "iRSk5zzbfcB8",
        "outputId": "465b3312-2c3d-42bf-f7fc-5f5a6a73fccf"
      },
      "execution_count": 24,
      "outputs": [
        {
          "output_type": "stream",
          "name": "stdout",
          "text": [
            "단어 집합(vocabulary)의 크기 : 32817\n",
            "등장 빈도가 1번 이하인 희귀 단어의 수: 13878\n",
            "단어 집합에서 희귀 단어의 비율: 42.28905750068562\n",
            "전체 등장 빈도에서 희귀 단어 등장 빈도 비율: 1.2254607619437832\n"
          ]
        }
      ]
    },
    {
      "cell_type": "code",
      "source": [
        "# 전체 단어 개수 중 빈도수 2이하인 단어 개수는 제거.\n",
        "# 0번 패딩 토큰과 1번 OOV 토큰을 고려하여 +2\n",
        "vocab_size = total_cnt - rare_cnt + 2\n",
        "print('단어 집합의 크기 :',vocab_size)"
      ],
      "metadata": {
        "colab": {
          "base_uri": "https://localhost:8080/"
        },
        "id": "r-AYP5dffdux",
        "outputId": "78d9273c-efc9-41e4-9a8b-546f2d1de462"
      },
      "execution_count": 25,
      "outputs": [
        {
          "output_type": "stream",
          "name": "stdout",
          "text": [
            "단어 집합의 크기 : 18941\n"
          ]
        }
      ]
    },
    {
      "cell_type": "code",
      "source": [
        "tokenizer = Tokenizer(vocab_size, oov_token = 'OOV') \n",
        "tokenizer.fit_on_texts(X_train)\n",
        "X_train = tokenizer.texts_to_sequences(X_train)\n",
        "X_test = tokenizer.texts_to_sequences(X_test)"
      ],
      "metadata": {
        "id": "PbhnkmJVfibv"
      },
      "execution_count": 26,
      "outputs": []
    },
    {
      "cell_type": "code",
      "source": [
        "print(X_train[:3])"
      ],
      "metadata": {
        "colab": {
          "base_uri": "https://localhost:8080/"
        },
        "id": "N5k4gaQOftxs",
        "outputId": "263f7100-5e45-444a-dae6-88593bc7df03"
      },
      "execution_count": 27,
      "outputs": [
        {
          "output_type": "stream",
          "name": "stdout",
          "text": [
            "[[495, 7, 35, 87, 149, 2429, 599, 26, 8, 70, 47, 235, 111, 38, 44, 52], [161, 300, 18, 20, 63, 3582, 985, 6, 56], [7, 17, 1476, 4]]\n"
          ]
        }
      ]
    },
    {
      "cell_type": "code",
      "source": [
        "print(X_test[:3])"
      ],
      "metadata": {
        "colab": {
          "base_uri": "https://localhost:8080/"
        },
        "id": "7QlhV6w8fuqt",
        "outputId": "bfa2502e-ed9c-46d1-d417-92d2c18e0744"
      },
      "execution_count": 28,
      "outputs": [
        {
          "output_type": "stream",
          "name": "stdout",
          "text": [
            "[[728, 34, 16, 431, 52, 106, 132, 99, 6461, 453], [4527, 687, 835, 712, 792, 108, 4, 1779, 95, 370, 3519, 81, 558, 1904, 4189, 262, 169, 61, 25, 363, 35, 87, 974, 19, 6294, 6422], [1792, 806, 685, 49, 23, 349]]\n"
          ]
        }
      ]
    },
    {
      "cell_type": "code",
      "source": [
        "# 패딩\n",
        "print('리뷰의 최대 길이 :',max(len(review) for review in X_train))\n",
        "print('리뷰의 평균 길이 :',sum(map(len, X_train))/len(X_train))\n",
        "plt.hist([len(review) for review in X_train], bins=50)\n",
        "plt.xlabel('length of samples')\n",
        "plt.ylabel('number of samples')\n",
        "plt.show()"
      ],
      "metadata": {
        "colab": {
          "base_uri": "https://localhost:8080/",
          "height": 316
        },
        "id": "XkQVAryrfvYF",
        "outputId": "343f4f4c-cd80-40d9-aac8-57a54d2d05f1"
      },
      "execution_count": 29,
      "outputs": [
        {
          "output_type": "stream",
          "name": "stdout",
          "text": [
            "리뷰의 최대 길이 : 64\n",
            "리뷰의 평균 길이 : 15.115951894712957\n"
          ]
        },
        {
          "output_type": "display_data",
          "data": {
            "image/png": "[encoded data removed]",
            "text/plain": [
              "<Figure size 432x288 with 1 Axes>"
            ]
          },
          "metadata": {
            "needs_background": "light"
          }
        }
      ]
    },
    {
      "cell_type": "code",
      "source": [
        "def below_threshold_len(max_len, nested_list):\n",
        "  count = 0\n",
        "  for sentence in nested_list:\n",
        "    if(len(sentence) <= max_len):\n",
        "        count = count + 1\n",
        "  print('전체 샘플 중 길이가 %s 이하인 샘플의 비율: %s'%(max_len, (count / len(nested_list))*100))"
      ],
      "metadata": {
        "id": "-SDIONvNfyS1"
      },
      "execution_count": 30,
      "outputs": []
    },
    {
      "cell_type": "code",
      "source": [
        "max_len = 60\n",
        "below_threshold_len(max_len, X_train)"
      ],
      "metadata": {
        "colab": {
          "base_uri": "https://localhost:8080/"
        },
        "id": "hgiGSmJAf2C2",
        "outputId": "d7450e4a-62de-4515-8dd9-c7fb5779eb1b"
      },
      "execution_count": 31,
      "outputs": [
        {
          "output_type": "stream",
          "name": "stdout",
          "text": [
            "전체 샘플 중 길이가 60 이하인 샘플의 비율: 99.99599567532935\n"
          ]
        }
      ]
    },
    {
      "cell_type": "code",
      "source": [
        "X_train = pad_sequences(X_train, maxlen=max_len)\n",
        "X_test = pad_sequences(X_test, maxlen=max_len)"
      ],
      "metadata": {
        "id": "2GjN4PD9f4cT"
      },
      "execution_count": 32,
      "outputs": []
    },
    {
      "cell_type": "markdown",
      "source": [
        "## BiLSTM으로 스팀 리뷰 감성 분류하기"
      ],
      "metadata": {
        "id": "bjjzuHoIf-HS"
      }
    },
    {
      "cell_type": "code",
      "source": [
        "import re\n",
        "from tensorflow.keras.layers import Embedding, Dense, LSTM, Bidirectional\n",
        "from tensorflow.keras.models import Sequential\n",
        "from tensorflow.keras.models import load_model\n",
        "from tensorflow.keras.callbacks import EarlyStopping, ModelCheckpoint\n",
        "\n",
        "embedding_dim = 100\n",
        "hidden_units = 128\n",
        "\n",
        "model = Sequential()\n",
        "model.add(Embedding(vocab_size, embedding_dim))\n",
        "model.add(Bidirectional(LSTM(hidden_units))) # Bidirectional LSTM을 사용\n",
        "model.add(Dense(1, activation='sigmoid'))\n",
        "\n",
        "es = EarlyStopping(monitor='val_loss', mode='min', verbose=1, patience=4)\n",
        "mc = ModelCheckpoint('best_model.h5', monitor='val_acc', mode='max', verbose=1, save_best_only=True)\n",
        "\n",
        "model.compile(optimizer='rmsprop', loss='binary_crossentropy', metrics=['acc'])\n",
        "history = model.fit(X_train, y_train, epochs=15, callbacks=[es, mc], batch_size=256, validation_split=0.2)"
      ],
      "metadata": {
        "colab": {
          "base_uri": "https://localhost:8080/"
        },
        "id": "dq5wjalIf5cL",
        "outputId": "567d2cf2-4b4c-4ece-806e-6dddbef52999"
      },
      "execution_count": 33,
      "outputs": [
        {
          "output_type": "stream",
          "name": "stdout",
          "text": [
            "Epoch 1/15\n",
            "235/235 [==============================] - ETA: 0s - loss: 0.5225 - acc: 0.7463\n",
            "Epoch 1: val_acc improved from -inf to 0.78497, saving model to best_model.h5\n",
            "235/235 [==============================] - 203s 835ms/step - loss: 0.5225 - acc: 0.7463 - val_loss: 0.4655 - val_acc: 0.7850\n",
            "Epoch 2/15\n",
            "235/235 [==============================] - ETA: 0s - loss: 0.4324 - acc: 0.8033\n",
            "Epoch 2: val_acc did not improve from 0.78497\n",
            "235/235 [==============================] - 184s 781ms/step - loss: 0.4324 - acc: 0.8033 - val_loss: 0.4788 - val_acc: 0.7772\n",
            "Epoch 3/15\n",
            "235/235 [==============================] - ETA: 0s - loss: 0.4065 - acc: 0.8189\n",
            "Epoch 3: val_acc improved from 0.78497 to 0.78784, saving model to best_model.h5\n",
            "235/235 [==============================] - 181s 772ms/step - loss: 0.4065 - acc: 0.8189 - val_loss: 0.4621 - val_acc: 0.7878\n",
            "Epoch 4/15\n",
            "235/235 [==============================] - ETA: 0s - loss: 0.3858 - acc: 0.8297\n",
            "Epoch 4: val_acc improved from 0.78784 to 0.78958, saving model to best_model.h5\n",
            "235/235 [==============================] - 182s 773ms/step - loss: 0.3858 - acc: 0.8297 - val_loss: 0.4668 - val_acc: 0.7896\n",
            "Epoch 5/15\n",
            "235/235 [==============================] - ETA: 0s - loss: 0.3644 - acc: 0.8404\n",
            "Epoch 5: val_acc did not improve from 0.78958\n",
            "235/235 [==============================] - 180s 767ms/step - loss: 0.3644 - acc: 0.8404 - val_loss: 0.4875 - val_acc: 0.7837\n",
            "Epoch 6/15\n",
            "235/235 [==============================] - ETA: 0s - loss: 0.3436 - acc: 0.8515\n",
            "Epoch 6: val_acc did not improve from 0.78958\n",
            "235/235 [==============================] - 179s 762ms/step - loss: 0.3436 - acc: 0.8515 - val_loss: 0.4869 - val_acc: 0.7860\n",
            "Epoch 7/15\n",
            "235/235 [==============================] - ETA: 0s - loss: 0.3218 - acc: 0.8623\n",
            "Epoch 7: val_acc did not improve from 0.78958\n",
            "235/235 [==============================] - 177s 754ms/step - loss: 0.3218 - acc: 0.8623 - val_loss: 0.5063 - val_acc: 0.7829\n",
            "Epoch 7: early stopping\n"
          ]
        }
      ]
    },
    {
      "cell_type": "code",
      "source": [
        "loaded_model = load_model('best_model.h5')\n",
        "print(\"테스트 정확도: %.4f\" % (loaded_model.evaluate(X_test, y_test)[1]))"
      ],
      "metadata": {
        "colab": {
          "base_uri": "https://localhost:8080/"
        },
        "id": "1EO1hYC2gBph",
        "outputId": "803c9d22-8a94-4d88-b405-c14b42554b99"
      },
      "execution_count": 34,
      "outputs": [
        {
          "output_type": "stream",
          "name": "stdout",
          "text": [
            "781/781 [==============================] - 27s 33ms/step - loss: 0.4668 - acc: 0.7891\n",
            "테스트 정확도: 0.7891\n"
          ]
        }
      ]
    },
    {
      "cell_type": "markdown",
      "source": [
        "## 리뷰 예측하기"
      ],
      "metadata": {
        "id": "ak7ZKrd1gD1y"
      }
    },
    {
      "cell_type": "code",
      "source": [
        "def sentiment_predict(new_sentence):\n",
        "  new_sentence = re.sub(r'[^ㄱ-ㅎㅏ-ㅣ가-힣 ]','', new_sentence)\n",
        "  new_sentence = mecab.morphs(new_sentence) # 토큰화\n",
        "  new_sentence = [word for word in new_sentence if not word in stopwords] # 불용어 제거\n",
        "  encoded = tokenizer.texts_to_sequences([new_sentence]) # 정수 인코딩\n",
        "  pad_new = pad_sequences(encoded, maxlen = max_len) # 패딩\n",
        "  score = float(loaded_model.predict(pad_new)) # 예측\n",
        "  if(score > 0.5):\n",
        "    print(\"{:.2f}% 확률로 긍정 리뷰입니다.\".format(score * 100))\n",
        "  else:\n",
        "    print(\"{:.2f}% 확률로 부정 리뷰입니다.\".format((1 - score) * 100))"
      ],
      "metadata": {
        "id": "LmlYbYolgCpB"
      },
      "execution_count": 35,
      "outputs": []
    },
    {
      "cell_type": "code",
      "source": [
        "sentiment_predict('노잼 ..완전 재미 없음 ㅉㅉ')"
      ],
      "metadata": {
        "colab": {
          "base_uri": "https://localhost:8080/"
        },
        "id": "LEJKYA18gO2K",
        "outputId": "f02f54be-59a9-42c6-c560-14c538a0b71a"
      },
      "execution_count": 36,
      "outputs": [
        {
          "output_type": "stream",
          "name": "stdout",
          "text": [
            "96.44% 확률로 부정 리뷰입니다.\n"
          ]
        }
      ]
    },
    {
      "cell_type": "code",
      "source": [
        "sentiment_predict('조금 어렵지만 재밌음ㅋㅋ')"
      ],
      "metadata": {
        "colab": {
          "base_uri": "https://localhost:8080/"
        },
        "id": "I8lOaU2WgPoR",
        "outputId": "62c50613-018d-4f54-af7f-947ae0b36f70"
      },
      "execution_count": 37,
      "outputs": [
        {
          "output_type": "stream",
          "name": "stdout",
          "text": [
            "98.07% 확률로 긍정 리뷰입니다.\n"
          ]
        }
      ]
    },
    {
      "cell_type": "code",
      "source": [
        "sentiment_predict('케릭터가 예뻐서 좋아요')"
      ],
      "metadata": {
        "colab": {
          "base_uri": "https://localhost:8080/"
        },
        "id": "LuACNBFhgQcp",
        "outputId": "8741e2da-1302-4b54-824d-76b274ff3ba6"
      },
      "execution_count": 38,
      "outputs": [
        {
          "output_type": "stream",
          "name": "stdout",
          "text": [
            "92.11% 확률로 긍정 리뷰입니다.\n"
          ]
        }
      ]
    }
  ]
}