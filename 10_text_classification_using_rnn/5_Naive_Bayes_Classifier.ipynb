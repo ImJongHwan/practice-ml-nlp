{
  "nbformat": 4,
  "nbformat_minor": 0,
  "metadata": {
    "colab": {
      "name": "5_Naive_Bayes_Classifier.ipynb",
      "provenance": [],
      "authorship_tag": "ABX9TyPyW6GxRZaihTYQLvFhN8Pe",
      "include_colab_link": true
    },
    "kernelspec": {
      "name": "python3",
      "display_name": "Python 3"
    },
    "language_info": {
      "name": "python"
    }
  },
  "cells": [
    {
      "cell_type": "markdown",
      "metadata": {
        "id": "view-in-github",
        "colab_type": "text"
      },
      "source": [
        "<a href=\"https://colab.research.google.com/github/ImJongHwan/practice-ml-nlp/blob/main/10_text_classification_using_rnn/5_Naive_Bayes_Classifier.ipynb\" target=\"_parent\"><img src=\"https://colab.research.google.com/assets/colab-badge.svg\" alt=\"Open In Colab\"/></a>"
      ]
    },
    {
      "cell_type": "markdown",
      "source": [
        "# 나이브 베이즈 분류기(Naive Bayes Classifier)\n",
        "\n",
        "https://wikidocs.net/22892"
      ],
      "metadata": {
        "id": "grRePufkmAya"
      }
    },
    {
      "cell_type": "markdown",
      "source": [
        "## 뉴스그룹 데이터 분류하기(Classification of 20 News Group with Naive Bayes Classifier)"
      ],
      "metadata": {
        "id": "VZWVi444mCyH"
      }
    },
    {
      "cell_type": "code",
      "execution_count": 1,
      "metadata": {
        "colab": {
          "base_uri": "https://localhost:8080/"
        },
        "id": "nuqnSF2JlLKi",
        "outputId": "3eaef31f-1305-4ddb-c27b-e643e87847a3"
      },
      "outputs": [
        {
          "output_type": "stream",
          "name": "stdout",
          "text": [
            "dict_keys(['data', 'filenames', 'target_names', 'target', 'DESCR'])\n"
          ]
        }
      ],
      "source": [
        "from sklearn.datasets import fetch_20newsgroups\n",
        "newsdata=fetch_20newsgroups(subset='train')\n",
        "print(newsdata.keys())"
      ]
    },
    {
      "cell_type": "code",
      "source": [
        "print (len(newsdata.data), len(newsdata.filenames), len(newsdata.target_names), len(newsdata.target))"
      ],
      "metadata": {
        "colab": {
          "base_uri": "https://localhost:8080/"
        },
        "id": "8ww0V_JemHQp",
        "outputId": "8c59b4b6-1ad0-4226-c79d-c87fe5c367aa"
      },
      "execution_count": 9,
      "outputs": [
        {
          "output_type": "stream",
          "name": "stdout",
          "text": [
            "11314 11314 20 11314\n"
          ]
        }
      ]
    },
    {
      "cell_type": "code",
      "source": [
        "print(newsdata.target_names)"
      ],
      "metadata": {
        "colab": {
          "base_uri": "https://localhost:8080/"
        },
        "id": "NoHL9ZFMmUt3",
        "outputId": "d8461355-3780-4661-bc34-35291b664dde"
      },
      "execution_count": 10,
      "outputs": [
        {
          "output_type": "stream",
          "name": "stdout",
          "text": [
            "['alt.atheism', 'comp.graphics', 'comp.os.ms-windows.misc', 'comp.sys.ibm.pc.hardware', 'comp.sys.mac.hardware', 'comp.windows.x', 'misc.forsale', 'rec.autos', 'rec.motorcycles', 'rec.sport.baseball', 'rec.sport.hockey', 'sci.crypt', 'sci.electronics', 'sci.med', 'sci.space', 'soc.religion.christian', 'talk.politics.guns', 'talk.politics.mideast', 'talk.politics.misc', 'talk.religion.misc']\n"
          ]
        }
      ]
    },
    {
      "cell_type": "code",
      "source": [
        "print(newsdata.target[0])"
      ],
      "metadata": {
        "colab": {
          "base_uri": "https://localhost:8080/"
        },
        "id": "ImmAWvVemptO",
        "outputId": "ab5af2e1-a09a-4da6-a56d-60fb1621ac15"
      },
      "execution_count": 11,
      "outputs": [
        {
          "output_type": "stream",
          "name": "stdout",
          "text": [
            "7\n"
          ]
        }
      ]
    },
    {
      "cell_type": "code",
      "source": [
        "print(newsdata.target_names[7])"
      ],
      "metadata": {
        "colab": {
          "base_uri": "https://localhost:8080/"
        },
        "id": "hERfFvCZm8j9",
        "outputId": "6497a46a-5d02-4fcd-d82c-d58ef41aa3e3"
      },
      "execution_count": 12,
      "outputs": [
        {
          "output_type": "stream",
          "name": "stdout",
          "text": [
            "rec.autos\n"
          ]
        }
      ]
    },
    {
      "cell_type": "code",
      "source": [
        "print(newsdata.data[0])"
      ],
      "metadata": {
        "colab": {
          "base_uri": "https://localhost:8080/"
        },
        "id": "g5BM_347m-P8",
        "outputId": "0b353b45-feca-4ed7-88ee-4c438a9c322f"
      },
      "execution_count": 13,
      "outputs": [
        {
          "output_type": "stream",
          "name": "stdout",
          "text": [
            "From: lerxst@wam.umd.edu (where's my thing)\n",
            "Subject: WHAT car is this!?\n",
            "Nntp-Posting-Host: rac3.wam.umd.edu\n",
            "Organization: University of Maryland, College Park\n",
            "Lines: 15\n",
            "\n",
            " I was wondering if anyone out there could enlighten me on this car I saw\n",
            "the other day. It was a 2-door sports car, looked to be from the late 60s/\n",
            "early 70s. It was called a Bricklin. The doors were really small. In addition,\n",
            "the front bumper was separate from the rest of the body. This is \n",
            "all I know. If anyone can tellme a model name, engine specs, years\n",
            "of production, where this car is made, history, or whatever info you\n",
            "have on this funky looking car, please e-mail.\n",
            "\n",
            "Thanks,\n",
            "- IL\n",
            "   ---- brought to you by your neighborhood Lerxst ----\n",
            "\n",
            "\n",
            "\n",
            "\n",
            "\n"
          ]
        }
      ]
    },
    {
      "cell_type": "code",
      "source": [
        "## 나이브 베이즈 분류\n",
        "from sklearn.feature_extraction.text import CountVectorizer\n",
        "from sklearn.feature_extraction.text import TfidfTransformer\n",
        "from sklearn.naive_bayes import MultinomialNB # 다항분포 나이브 베이즈 모델\n",
        "from sklearn.metrics import accuracy_score #정확도 계산"
      ],
      "metadata": {
        "id": "A8T0KiDxm_EL"
      },
      "execution_count": 14,
      "outputs": []
    },
    {
      "cell_type": "code",
      "source": [
        "dtmvector = CountVectorizer()\n",
        "X_train_dtm = dtmvector.fit_transform(newsdata.data)\n",
        "print(X_train_dtm)"
      ],
      "metadata": {
        "colab": {
          "base_uri": "https://localhost:8080/"
        },
        "id": "kgbATfYInKSz",
        "outputId": "e9820d56-b613-4279-cd66-01ff153be43f"
      },
      "execution_count": 15,
      "outputs": [
        {
          "output_type": "stream",
          "name": "stdout",
          "text": [
            "  (0, 56979)\t3\n",
            "  (0, 75358)\t2\n",
            "  (0, 123162)\t2\n",
            "  (0, 118280)\t2\n",
            "  (0, 50527)\t2\n",
            "  (0, 124031)\t2\n",
            "  (0, 85354)\t1\n",
            "  (0, 114688)\t1\n",
            "  (0, 111322)\t1\n",
            "  (0, 123984)\t1\n",
            "  (0, 37780)\t5\n",
            "  (0, 68532)\t3\n",
            "  (0, 114731)\t5\n",
            "  (0, 87620)\t1\n",
            "  (0, 95162)\t1\n",
            "  (0, 64095)\t1\n",
            "  (0, 98949)\t1\n",
            "  (0, 90379)\t1\n",
            "  (0, 118983)\t1\n",
            "  (0, 89362)\t3\n",
            "  (0, 79666)\t1\n",
            "  (0, 40998)\t1\n",
            "  (0, 92081)\t1\n",
            "  (0, 76032)\t1\n",
            "  (0, 4605)\t1\n",
            "  :\t:\n",
            "  (11313, 110796)\t2\n",
            "  (11313, 106209)\t1\n",
            "  (11313, 31386)\t1\n",
            "  (11313, 124103)\t1\n",
            "  (11313, 116027)\t1\n",
            "  (11313, 33941)\t1\n",
            "  (11313, 107339)\t1\n",
            "  (11313, 101950)\t1\n",
            "  (11313, 109661)\t1\n",
            "  (11313, 82480)\t1\n",
            "  (11313, 38329)\t2\n",
            "  (11313, 94524)\t1\n",
            "  (11313, 27696)\t1\n",
            "  (11313, 113435)\t1\n",
            "  (11313, 82355)\t1\n",
            "  (11313, 38325)\t1\n",
            "  (11313, 94291)\t1\n",
            "  (11313, 115621)\t1\n",
            "  (11313, 75884)\t1\n",
            "  (11313, 60910)\t2\n",
            "  (11313, 72419)\t1\n",
            "  (11313, 72881)\t1\n",
            "  (11313, 70020)\t1\n",
            "  (11313, 8653)\t1\n",
            "  (11313, 124370)\t1\n"
          ]
        }
      ]
    },
    {
      "cell_type": "code",
      "source": [
        "tfidf_transformer = TfidfTransformer()\n",
        "tfidfv = tfidf_transformer.fit_transform(X_train_dtm)\n",
        "print(tfidfv.shape)"
      ],
      "metadata": {
        "colab": {
          "base_uri": "https://localhost:8080/"
        },
        "id": "gb7t6r-fnRnK",
        "outputId": "b4b6675d-2ae9-4a51-ef36-6e085ea98963"
      },
      "execution_count": 16,
      "outputs": [
        {
          "output_type": "stream",
          "name": "stdout",
          "text": [
            "(11314, 130107)\n"
          ]
        }
      ]
    },
    {
      "cell_type": "code",
      "source": [
        "mod = MultinomialNB()\n",
        "mod.fit(tfidfv, newsdata.target)"
      ],
      "metadata": {
        "colab": {
          "base_uri": "https://localhost:8080/"
        },
        "id": "zWfKEB8UnkgC",
        "outputId": "1c2654ca-8ea8-464d-ade7-63173eee900a"
      },
      "execution_count": 17,
      "outputs": [
        {
          "output_type": "execute_result",
          "data": {
            "text/plain": [
              "MultinomialNB()"
            ]
          },
          "metadata": {},
          "execution_count": 17
        }
      ]
    },
    {
      "cell_type": "code",
      "source": [
        "MultinomialNB(alpha=1.0, class_prior=None, fit_prior=True)"
      ],
      "metadata": {
        "colab": {
          "base_uri": "https://localhost:8080/"
        },
        "id": "APi5a5Vsnr6v",
        "outputId": "111d22bc-e4a7-4362-c622-aa8b54463223"
      },
      "execution_count": 18,
      "outputs": [
        {
          "output_type": "execute_result",
          "data": {
            "text/plain": [
              "MultinomialNB()"
            ]
          },
          "metadata": {},
          "execution_count": 18
        }
      ]
    },
    {
      "cell_type": "code",
      "source": [
        "newsdata_test = fetch_20newsgroups(subset='test', shuffle=True)\n",
        "X_test_dtm = dtmvector.transform(newsdata_test.data)\n",
        "tfidfv_test = tfidf_transformer.transform(X_test_dtm)\n",
        "\n",
        "predicted = mod.predict(tfidfv_test)\n",
        "print('정확도: ', accuracy_score(newsdata_test.target, predicted))"
      ],
      "metadata": {
        "colab": {
          "base_uri": "https://localhost:8080/"
        },
        "id": "7k7vwO5ynyzw",
        "outputId": "3cf06469-6f33-4338-dacf-701b5d4d387d"
      },
      "execution_count": 20,
      "outputs": [
        {
          "output_type": "stream",
          "name": "stdout",
          "text": [
            "정확도:  0.7738980350504514\n"
          ]
        }
      ]
    }
  ]
}