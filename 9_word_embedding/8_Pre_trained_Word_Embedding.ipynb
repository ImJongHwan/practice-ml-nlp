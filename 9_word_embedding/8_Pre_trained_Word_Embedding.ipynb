{
  "nbformat": 4,
  "nbformat_minor": 0,
  "metadata": {
    "colab": {
      "name": "8_Pre-trained_Word_Embedding.ipynb",
      "provenance": [],
      "authorship_tag": "ABX9TyPSBJZkgGk7SichJiT62KQC",
      "include_colab_link": true
    },
    "kernelspec": {
      "name": "python3",
      "display_name": "Python 3"
    },
    "language_info": {
      "name": "python"
    }
  },
  "cells": [
    {
      "cell_type": "markdown",
      "metadata": {
        "id": "view-in-github",
        "colab_type": "text"
      },
      "source": [
        "<a href=\"https://colab.research.google.com/github/ImJongHwan/practice-ml-nlp/blob/main/9_word_embedding/8_Pre_trained_Word_Embedding.ipynb\" target=\"_parent\"><img src=\"https://colab.research.google.com/assets/colab-badge.svg\" alt=\"Open In Colab\"/></a>"
      ]
    },
    {
      "cell_type": "markdown",
      "source": [
        "# 사전 훈련된 워드 임베딩(Pre-trained Word Embedding)\n",
        "\n",
        "https://wikidocs.net/33793"
      ],
      "metadata": {
        "id": "qYkOfRHvTogV"
      }
    },
    {
      "cell_type": "markdown",
      "source": [
        "## 케라스 임베딩 층(Keras Embedding layer)"
      ],
      "metadata": {
        "id": "IHKlPVreTtVN"
      }
    },
    {
      "cell_type": "code",
      "execution_count": 1,
      "metadata": {
        "id": "nekop6hhTjUY"
      },
      "outputs": [],
      "source": [
        "# 임베딩 층 사용하기\n",
        "\n",
        "import numpy as np\n",
        "from tensorflow.keras.preprocessing.text import Tokenizer\n",
        "from tensorflow.keras.preprocessing.sequence import pad_sequences"
      ]
    },
    {
      "cell_type": "code",
      "source": [
        "sentences = ['nice great best amazing', 'stop lies', 'pitiful nerd', 'excellent work', 'supreme quality', 'bad', 'highly respectable']\n",
        "y_train = [1, 0, 0, 1, 1, 0, 1]"
      ],
      "metadata": {
        "id": "LZALmmK2T5ch"
      },
      "execution_count": 3,
      "outputs": []
    },
    {
      "cell_type": "code",
      "source": [
        "tokenizer = Tokenizer()\n",
        "tokenizer.fit_on_texts(sentences)\n",
        "vocab_size = len(tokenizer.word_index) + 1\n",
        "print('단어 집합: ', vocab_size)"
      ],
      "metadata": {
        "colab": {
          "base_uri": "https://localhost:8080/"
        },
        "id": "w6MxdtyXT9YZ",
        "outputId": "4827354a-1c17-4930-854d-3d0d46f74cd5"
      },
      "execution_count": 4,
      "outputs": [
        {
          "output_type": "stream",
          "name": "stdout",
          "text": [
            "단어 집합:  16\n"
          ]
        }
      ]
    },
    {
      "cell_type": "code",
      "source": [
        "X_encoded = tokenizer.texts_to_sequences(sentences)\n",
        "print('정수 인코딩 결과: ', X_encoded)"
      ],
      "metadata": {
        "colab": {
          "base_uri": "https://localhost:8080/"
        },
        "id": "yIbI5y87UGlP",
        "outputId": "b714f160-049d-435a-9620-1055780a89a0"
      },
      "execution_count": 5,
      "outputs": [
        {
          "output_type": "stream",
          "name": "stdout",
          "text": [
            "정수 인코딩 결과:  [[1, 2, 3, 4], [5, 6], [7, 8], [9, 10], [11, 12], [13], [14, 15]]\n"
          ]
        }
      ]
    },
    {
      "cell_type": "code",
      "source": [
        "max_len = max(len(l) for l in X_encoded)\n",
        "print('최대 길이: ', max_len)"
      ],
      "metadata": {
        "colab": {
          "base_uri": "https://localhost:8080/"
        },
        "id": "kulT01ZJUNKl",
        "outputId": "cf750ba6-6b4a-4c28-f83e-1a612e2bec71"
      },
      "execution_count": 6,
      "outputs": [
        {
          "output_type": "stream",
          "name": "stdout",
          "text": [
            "최대 길이:  4\n"
          ]
        }
      ]
    },
    {
      "cell_type": "code",
      "source": [
        "X_train = pad_sequences(X_encoded, maxlen=max_len, padding='post')\n",
        "y_train = np.array(y_train)\n",
        "print('패딩 결과: ')\n",
        "print(X_train)"
      ],
      "metadata": {
        "colab": {
          "base_uri": "https://localhost:8080/"
        },
        "id": "BAY0F7NCUSjO",
        "outputId": "9a94bdc8-d777-4ef2-ded4-c9e2acf2f084"
      },
      "execution_count": 8,
      "outputs": [
        {
          "output_type": "stream",
          "name": "stdout",
          "text": [
            "패딩 결과: \n",
            "[[ 1  2  3  4]\n",
            " [ 5  6  0  0]\n",
            " [ 7  8  0  0]\n",
            " [ 9 10  0  0]\n",
            " [11 12  0  0]\n",
            " [13  0  0  0]\n",
            " [14 15  0  0]]\n"
          ]
        }
      ]
    },
    {
      "cell_type": "code",
      "source": [
        "from tensorflow.keras.models import Sequential\n",
        "from tensorflow.keras.layers import Dense, Embedding, Flatten\n",
        "\n",
        "embedding_dim = 4\n",
        "\n",
        "model = Sequential()\n",
        "model.add(Embedding(vocab_size, embedding_dim, input_length=max_len))\n",
        "model.add(Flatten())\n",
        "model.add(Dense(1, activation='sigmoid'))\n",
        "\n",
        "model.compile(optimizer='adam', loss='binary_crossentropy', metrics=['acc'])\n",
        "model.fit(X_train, y_train, epochs=100, verbose=2)"
      ],
      "metadata": {
        "colab": {
          "base_uri": "https://localhost:8080/"
        },
        "id": "ZPfEtHxsVT5R",
        "outputId": "9233f852-f879-453d-9ac7-50482d2856c5"
      },
      "execution_count": 12,
      "outputs": [
        {
          "output_type": "stream",
          "name": "stdout",
          "text": [
            "Epoch 1/100\n",
            "1/1 - 1s - loss: 0.6785 - acc: 0.7143 - 731ms/epoch - 731ms/step\n",
            "Epoch 2/100\n",
            "1/1 - 0s - loss: 0.6772 - acc: 0.8571 - 7ms/epoch - 7ms/step\n",
            "Epoch 3/100\n",
            "1/1 - 0s - loss: 0.6759 - acc: 0.8571 - 7ms/epoch - 7ms/step\n",
            "Epoch 4/100\n",
            "1/1 - 0s - loss: 0.6746 - acc: 0.8571 - 6ms/epoch - 6ms/step\n",
            "Epoch 5/100\n",
            "1/1 - 0s - loss: 0.6733 - acc: 0.8571 - 6ms/epoch - 6ms/step\n",
            "Epoch 6/100\n",
            "1/1 - 0s - loss: 0.6720 - acc: 0.8571 - 7ms/epoch - 7ms/step\n",
            "Epoch 7/100\n",
            "1/1 - 0s - loss: 0.6707 - acc: 0.8571 - 6ms/epoch - 6ms/step\n",
            "Epoch 8/100\n",
            "1/1 - 0s - loss: 0.6694 - acc: 0.8571 - 7ms/epoch - 7ms/step\n",
            "Epoch 9/100\n",
            "1/1 - 0s - loss: 0.6680 - acc: 0.8571 - 7ms/epoch - 7ms/step\n",
            "Epoch 10/100\n",
            "1/1 - 0s - loss: 0.6667 - acc: 0.8571 - 10ms/epoch - 10ms/step\n",
            "Epoch 11/100\n",
            "1/1 - 0s - loss: 0.6654 - acc: 1.0000 - 6ms/epoch - 6ms/step\n",
            "Epoch 12/100\n",
            "1/1 - 0s - loss: 0.6640 - acc: 1.0000 - 5ms/epoch - 5ms/step\n",
            "Epoch 13/100\n",
            "1/1 - 0s - loss: 0.6627 - acc: 1.0000 - 4ms/epoch - 4ms/step\n",
            "Epoch 14/100\n",
            "1/1 - 0s - loss: 0.6613 - acc: 1.0000 - 8ms/epoch - 8ms/step\n",
            "Epoch 15/100\n",
            "1/1 - 0s - loss: 0.6600 - acc: 1.0000 - 5ms/epoch - 5ms/step\n",
            "Epoch 16/100\n",
            "1/1 - 0s - loss: 0.6586 - acc: 1.0000 - 4ms/epoch - 4ms/step\n",
            "Epoch 17/100\n",
            "1/1 - 0s - loss: 0.6573 - acc: 1.0000 - 7ms/epoch - 7ms/step\n",
            "Epoch 18/100\n",
            "1/1 - 0s - loss: 0.6559 - acc: 1.0000 - 6ms/epoch - 6ms/step\n",
            "Epoch 19/100\n",
            "1/1 - 0s - loss: 0.6545 - acc: 1.0000 - 6ms/epoch - 6ms/step\n",
            "Epoch 20/100\n",
            "1/1 - 0s - loss: 0.6531 - acc: 1.0000 - 7ms/epoch - 7ms/step\n",
            "Epoch 21/100\n",
            "1/1 - 0s - loss: 0.6518 - acc: 1.0000 - 5ms/epoch - 5ms/step\n",
            "Epoch 22/100\n",
            "1/1 - 0s - loss: 0.6504 - acc: 1.0000 - 6ms/epoch - 6ms/step\n",
            "Epoch 23/100\n",
            "1/1 - 0s - loss: 0.6490 - acc: 1.0000 - 7ms/epoch - 7ms/step\n",
            "Epoch 24/100\n",
            "1/1 - 0s - loss: 0.6475 - acc: 1.0000 - 5ms/epoch - 5ms/step\n",
            "Epoch 25/100\n",
            "1/1 - 0s - loss: 0.6461 - acc: 1.0000 - 7ms/epoch - 7ms/step\n",
            "Epoch 26/100\n",
            "1/1 - 0s - loss: 0.6447 - acc: 1.0000 - 6ms/epoch - 6ms/step\n",
            "Epoch 27/100\n",
            "1/1 - 0s - loss: 0.6433 - acc: 1.0000 - 5ms/epoch - 5ms/step\n",
            "Epoch 28/100\n",
            "1/1 - 0s - loss: 0.6418 - acc: 1.0000 - 5ms/epoch - 5ms/step\n",
            "Epoch 29/100\n",
            "1/1 - 0s - loss: 0.6404 - acc: 1.0000 - 5ms/epoch - 5ms/step\n",
            "Epoch 30/100\n",
            "1/1 - 0s - loss: 0.6389 - acc: 1.0000 - 5ms/epoch - 5ms/step\n",
            "Epoch 31/100\n",
            "1/1 - 0s - loss: 0.6375 - acc: 1.0000 - 5ms/epoch - 5ms/step\n",
            "Epoch 32/100\n",
            "1/1 - 0s - loss: 0.6360 - acc: 1.0000 - 5ms/epoch - 5ms/step\n",
            "Epoch 33/100\n",
            "1/1 - 0s - loss: 0.6345 - acc: 1.0000 - 6ms/epoch - 6ms/step\n",
            "Epoch 34/100\n",
            "1/1 - 0s - loss: 0.6330 - acc: 1.0000 - 6ms/epoch - 6ms/step\n",
            "Epoch 35/100\n",
            "1/1 - 0s - loss: 0.6315 - acc: 1.0000 - 8ms/epoch - 8ms/step\n",
            "Epoch 36/100\n",
            "1/1 - 0s - loss: 0.6300 - acc: 1.0000 - 5ms/epoch - 5ms/step\n",
            "Epoch 37/100\n",
            "1/1 - 0s - loss: 0.6285 - acc: 1.0000 - 6ms/epoch - 6ms/step\n",
            "Epoch 38/100\n",
            "1/1 - 0s - loss: 0.6270 - acc: 1.0000 - 5ms/epoch - 5ms/step\n",
            "Epoch 39/100\n",
            "1/1 - 0s - loss: 0.6254 - acc: 1.0000 - 5ms/epoch - 5ms/step\n",
            "Epoch 40/100\n",
            "1/1 - 0s - loss: 0.6239 - acc: 1.0000 - 5ms/epoch - 5ms/step\n",
            "Epoch 41/100\n",
            "1/1 - 0s - loss: 0.6223 - acc: 1.0000 - 5ms/epoch - 5ms/step\n",
            "Epoch 42/100\n",
            "1/1 - 0s - loss: 0.6208 - acc: 1.0000 - 5ms/epoch - 5ms/step\n",
            "Epoch 43/100\n",
            "1/1 - 0s - loss: 0.6192 - acc: 1.0000 - 5ms/epoch - 5ms/step\n",
            "Epoch 44/100\n",
            "1/1 - 0s - loss: 0.6176 - acc: 1.0000 - 5ms/epoch - 5ms/step\n",
            "Epoch 45/100\n",
            "1/1 - 0s - loss: 0.6160 - acc: 1.0000 - 7ms/epoch - 7ms/step\n",
            "Epoch 46/100\n",
            "1/1 - 0s - loss: 0.6144 - acc: 1.0000 - 8ms/epoch - 8ms/step\n",
            "Epoch 47/100\n",
            "1/1 - 0s - loss: 0.6128 - acc: 1.0000 - 7ms/epoch - 7ms/step\n",
            "Epoch 48/100\n",
            "1/1 - 0s - loss: 0.6112 - acc: 1.0000 - 7ms/epoch - 7ms/step\n",
            "Epoch 49/100\n",
            "1/1 - 0s - loss: 0.6096 - acc: 1.0000 - 8ms/epoch - 8ms/step\n",
            "Epoch 50/100\n",
            "1/1 - 0s - loss: 0.6079 - acc: 1.0000 - 8ms/epoch - 8ms/step\n",
            "Epoch 51/100\n",
            "1/1 - 0s - loss: 0.6063 - acc: 1.0000 - 8ms/epoch - 8ms/step\n",
            "Epoch 52/100\n",
            "1/1 - 0s - loss: 0.6046 - acc: 1.0000 - 7ms/epoch - 7ms/step\n",
            "Epoch 53/100\n",
            "1/1 - 0s - loss: 0.6030 - acc: 1.0000 - 6ms/epoch - 6ms/step\n",
            "Epoch 54/100\n",
            "1/1 - 0s - loss: 0.6013 - acc: 1.0000 - 8ms/epoch - 8ms/step\n",
            "Epoch 55/100\n",
            "1/1 - 0s - loss: 0.5996 - acc: 1.0000 - 6ms/epoch - 6ms/step\n",
            "Epoch 56/100\n",
            "1/1 - 0s - loss: 0.5979 - acc: 1.0000 - 6ms/epoch - 6ms/step\n",
            "Epoch 57/100\n",
            "1/1 - 0s - loss: 0.5962 - acc: 1.0000 - 5ms/epoch - 5ms/step\n",
            "Epoch 58/100\n",
            "1/1 - 0s - loss: 0.5945 - acc: 1.0000 - 5ms/epoch - 5ms/step\n",
            "Epoch 59/100\n",
            "1/1 - 0s - loss: 0.5928 - acc: 1.0000 - 5ms/epoch - 5ms/step\n",
            "Epoch 60/100\n",
            "1/1 - 0s - loss: 0.5911 - acc: 1.0000 - 6ms/epoch - 6ms/step\n",
            "Epoch 61/100\n",
            "1/1 - 0s - loss: 0.5893 - acc: 1.0000 - 5ms/epoch - 5ms/step\n",
            "Epoch 62/100\n",
            "1/1 - 0s - loss: 0.5876 - acc: 1.0000 - 5ms/epoch - 5ms/step\n",
            "Epoch 63/100\n",
            "1/1 - 0s - loss: 0.5858 - acc: 1.0000 - 4ms/epoch - 4ms/step\n",
            "Epoch 64/100\n",
            "1/1 - 0s - loss: 0.5840 - acc: 1.0000 - 8ms/epoch - 8ms/step\n",
            "Epoch 65/100\n",
            "1/1 - 0s - loss: 0.5823 - acc: 1.0000 - 4ms/epoch - 4ms/step\n",
            "Epoch 66/100\n",
            "1/1 - 0s - loss: 0.5805 - acc: 1.0000 - 5ms/epoch - 5ms/step\n",
            "Epoch 67/100\n",
            "1/1 - 0s - loss: 0.5787 - acc: 1.0000 - 8ms/epoch - 8ms/step\n",
            "Epoch 68/100\n",
            "1/1 - 0s - loss: 0.5769 - acc: 1.0000 - 7ms/epoch - 7ms/step\n",
            "Epoch 69/100\n",
            "1/1 - 0s - loss: 0.5751 - acc: 1.0000 - 6ms/epoch - 6ms/step\n",
            "Epoch 70/100\n",
            "1/1 - 0s - loss: 0.5733 - acc: 1.0000 - 6ms/epoch - 6ms/step\n",
            "Epoch 71/100\n",
            "1/1 - 0s - loss: 0.5714 - acc: 1.0000 - 6ms/epoch - 6ms/step\n",
            "Epoch 72/100\n",
            "1/1 - 0s - loss: 0.5696 - acc: 1.0000 - 6ms/epoch - 6ms/step\n",
            "Epoch 73/100\n",
            "1/1 - 0s - loss: 0.5678 - acc: 1.0000 - 8ms/epoch - 8ms/step\n",
            "Epoch 74/100\n",
            "1/1 - 0s - loss: 0.5659 - acc: 1.0000 - 8ms/epoch - 8ms/step\n",
            "Epoch 75/100\n",
            "1/1 - 0s - loss: 0.5640 - acc: 1.0000 - 7ms/epoch - 7ms/step\n",
            "Epoch 76/100\n",
            "1/1 - 0s - loss: 0.5622 - acc: 1.0000 - 8ms/epoch - 8ms/step\n",
            "Epoch 77/100\n",
            "1/1 - 0s - loss: 0.5603 - acc: 1.0000 - 9ms/epoch - 9ms/step\n",
            "Epoch 78/100\n",
            "1/1 - 0s - loss: 0.5584 - acc: 1.0000 - 7ms/epoch - 7ms/step\n",
            "Epoch 79/100\n",
            "1/1 - 0s - loss: 0.5565 - acc: 1.0000 - 7ms/epoch - 7ms/step\n",
            "Epoch 80/100\n",
            "1/1 - 0s - loss: 0.5546 - acc: 1.0000 - 6ms/epoch - 6ms/step\n",
            "Epoch 81/100\n",
            "1/1 - 0s - loss: 0.5527 - acc: 1.0000 - 6ms/epoch - 6ms/step\n",
            "Epoch 82/100\n",
            "1/1 - 0s - loss: 0.5508 - acc: 1.0000 - 8ms/epoch - 8ms/step\n",
            "Epoch 83/100\n",
            "1/1 - 0s - loss: 0.5489 - acc: 1.0000 - 6ms/epoch - 6ms/step\n",
            "Epoch 84/100\n",
            "1/1 - 0s - loss: 0.5470 - acc: 1.0000 - 6ms/epoch - 6ms/step\n",
            "Epoch 85/100\n",
            "1/1 - 0s - loss: 0.5450 - acc: 1.0000 - 6ms/epoch - 6ms/step\n",
            "Epoch 86/100\n",
            "1/1 - 0s - loss: 0.5431 - acc: 1.0000 - 6ms/epoch - 6ms/step\n",
            "Epoch 87/100\n",
            "1/1 - 0s - loss: 0.5411 - acc: 1.0000 - 8ms/epoch - 8ms/step\n",
            "Epoch 88/100\n",
            "1/1 - 0s - loss: 0.5392 - acc: 1.0000 - 8ms/epoch - 8ms/step\n",
            "Epoch 89/100\n",
            "1/1 - 0s - loss: 0.5372 - acc: 1.0000 - 10ms/epoch - 10ms/step\n",
            "Epoch 90/100\n",
            "1/1 - 0s - loss: 0.5353 - acc: 1.0000 - 6ms/epoch - 6ms/step\n",
            "Epoch 91/100\n",
            "1/1 - 0s - loss: 0.5333 - acc: 1.0000 - 7ms/epoch - 7ms/step\n",
            "Epoch 92/100\n",
            "1/1 - 0s - loss: 0.5313 - acc: 1.0000 - 9ms/epoch - 9ms/step\n",
            "Epoch 93/100\n",
            "1/1 - 0s - loss: 0.5293 - acc: 1.0000 - 8ms/epoch - 8ms/step\n",
            "Epoch 94/100\n",
            "1/1 - 0s - loss: 0.5273 - acc: 1.0000 - 5ms/epoch - 5ms/step\n",
            "Epoch 95/100\n",
            "1/1 - 0s - loss: 0.5253 - acc: 1.0000 - 7ms/epoch - 7ms/step\n",
            "Epoch 96/100\n",
            "1/1 - 0s - loss: 0.5233 - acc: 1.0000 - 9ms/epoch - 9ms/step\n",
            "Epoch 97/100\n",
            "1/1 - 0s - loss: 0.5213 - acc: 1.0000 - 9ms/epoch - 9ms/step\n",
            "Epoch 98/100\n",
            "1/1 - 0s - loss: 0.5193 - acc: 1.0000 - 9ms/epoch - 9ms/step\n",
            "Epoch 99/100\n",
            "1/1 - 0s - loss: 0.5173 - acc: 1.0000 - 5ms/epoch - 5ms/step\n",
            "Epoch 100/100\n",
            "1/1 - 0s - loss: 0.5153 - acc: 1.0000 - 6ms/epoch - 6ms/step\n"
          ]
        },
        {
          "output_type": "execute_result",
          "data": {
            "text/plain": [
              "<keras.callbacks.History at 0x7fb1b6282890>"
            ]
          },
          "metadata": {},
          "execution_count": 12
        }
      ]
    },
    {
      "cell_type": "markdown",
      "source": [
        "# 사전 훈련된 워드 임베딩(Pre-Trained Word Embedding) 사용하기"
      ],
      "metadata": {
        "id": "5PlhfBGyWleJ"
      }
    },
    {
      "cell_type": "code",
      "source": [
        "# 사전 훈련된 GloVe 사용하기\n",
        "\n",
        "from urllib.request import urlretrieve, urlopen\n",
        "import gzip\n",
        "import zipfile\n",
        "\n",
        "urlretrieve(\"http://nlp.stanford.edu/data/glove.6B.zip\", filename=\"glove.6B.zip\")\n",
        "zf = zipfile.ZipFile('glove.6B.zip')\n",
        "zf.extractall()\n",
        "zf.close()"
      ],
      "metadata": {
        "id": "SH4mTILAVwTe"
      },
      "execution_count": 15,
      "outputs": []
    },
    {
      "cell_type": "code",
      "source": [
        "embedding_dict = dict()\n",
        "\n",
        "f = open('glove.6B.100d.txt', encoding='utf8')\n",
        "\n",
        "for line in f:\n",
        "  word_vector = line.split()\n",
        "  word = word_vector[0]\n",
        "\n",
        "  word_vector_arr = np.asarray(word_vector[1:], dtype='float32')\n",
        "  embedding_dict[word] = word_vector_arr\n",
        "f.close()\n",
        "\n",
        "print('%s개의 Embedding vector가 있습니다.' % len(embedding_dict))"
      ],
      "metadata": {
        "colab": {
          "base_uri": "https://localhost:8080/"
        },
        "id": "1zXAK5BsW1ef",
        "outputId": "21df07be-c6f8-4992-87b9-1a1ac598b1f5"
      },
      "execution_count": 16,
      "outputs": [
        {
          "output_type": "stream",
          "name": "stdout",
          "text": [
            "400000개의 Embedding vector가 있습니다.\n"
          ]
        }
      ]
    },
    {
      "cell_type": "code",
      "source": [
        "print(embedding_dict['respectable'])\n",
        "print('벡터의 차원 수: ', len(embedding_dict['respectable']))"
      ],
      "metadata": {
        "colab": {
          "base_uri": "https://localhost:8080/"
        },
        "id": "lMdDeDdJX44q",
        "outputId": "866c0927-40a8-4cc5-bb7d-dd64195fbb6f"
      },
      "execution_count": 18,
      "outputs": [
        {
          "output_type": "stream",
          "name": "stdout",
          "text": [
            "[-0.049773   0.19903    0.10585    0.1391    -0.32395    0.44053\n",
            "  0.3947    -0.22805   -0.25793    0.49768    0.15384   -0.08831\n",
            "  0.0782    -0.8299    -0.037788   0.16772   -0.45197   -0.17085\n",
            "  0.74756    0.98256    0.81872    0.28507    0.16178   -0.48626\n",
            " -0.006265  -0.92469   -0.30625   -0.067318  -0.046762  -0.76291\n",
            " -0.0025264 -0.018795   0.12882   -0.52457    0.3586     0.43119\n",
            " -0.89477   -0.057421  -0.53724    0.25587    0.55195    0.44698\n",
            " -0.24252    0.29946    0.25776   -0.8717     0.68426   -0.05688\n",
            " -0.1848    -0.59352   -0.11227   -0.57692   -0.013593   0.18488\n",
            " -0.32507   -0.90171    0.17672    0.075601   0.54896   -0.21488\n",
            " -0.54018   -0.45882   -0.79536    0.26331    0.18879   -0.16363\n",
            "  0.3975     0.1099     0.1164    -0.083499   0.50159    0.35802\n",
            "  0.25677    0.088546   0.42108    0.28674   -0.71285   -0.82915\n",
            "  0.15297   -0.82712    0.022112   1.067     -0.31776    0.1211\n",
            " -0.069755  -0.61327    0.27308   -0.42638   -0.085084  -0.17694\n",
            " -0.0090944  0.1109     0.62543   -0.23682   -0.44928   -0.3667\n",
            " -0.21616   -0.19187   -0.032502   0.38025  ]\n",
            "벡터의 차원 수:  100\n"
          ]
        }
      ]
    },
    {
      "cell_type": "code",
      "source": [
        "embedding_matrix = np.zeros((vocab_size, 100))\n",
        "print('임베딩 행렬의 크기(shape): ', np.shape(embedding_matrix))"
      ],
      "metadata": {
        "colab": {
          "base_uri": "https://localhost:8080/"
        },
        "id": "ctf2PRmgX_IH",
        "outputId": "e2480102-a88b-41cf-93c0-c38ff5d96eb9"
      },
      "execution_count": 19,
      "outputs": [
        {
          "output_type": "stream",
          "name": "stdout",
          "text": [
            "임베딩 행렬의 크기(shape):  (16, 100)\n"
          ]
        }
      ]
    },
    {
      "cell_type": "code",
      "source": [
        "print(tokenizer.word_index.items())"
      ],
      "metadata": {
        "colab": {
          "base_uri": "https://localhost:8080/"
        },
        "id": "jds-RFgrYJyB",
        "outputId": "b4187c66-bf1f-453e-a6d6-94a16171474e"
      },
      "execution_count": 20,
      "outputs": [
        {
          "output_type": "stream",
          "name": "stdout",
          "text": [
            "dict_items([('nice', 1), ('great', 2), ('best', 3), ('amazing', 4), ('stop', 5), ('lies', 6), ('pitiful', 7), ('nerd', 8), ('excellent', 9), ('work', 10), ('supreme', 11), ('quality', 12), ('bad', 13), ('highly', 14), ('respectable', 15)])\n"
          ]
        }
      ]
    },
    {
      "cell_type": "code",
      "source": [
        "print('단어 great의 맵핑된 정수: ', tokenizer.word_index['great'])"
      ],
      "metadata": {
        "colab": {
          "base_uri": "https://localhost:8080/"
        },
        "id": "jX_fQ4RSYM5p",
        "outputId": "811b4086-d5f4-4039-b118-3d0b1e7fbae4"
      },
      "execution_count": 21,
      "outputs": [
        {
          "output_type": "stream",
          "name": "stdout",
          "text": [
            "단어 great의 맵핑된 정수:  2\n"
          ]
        }
      ]
    },
    {
      "cell_type": "code",
      "source": [
        "print(embedding_dict['great'])"
      ],
      "metadata": {
        "colab": {
          "base_uri": "https://localhost:8080/"
        },
        "id": "LfmdoLAwYwhH",
        "outputId": "6b3610bc-7ade-44e3-d6b7-bd2130f081cf"
      },
      "execution_count": 22,
      "outputs": [
        {
          "output_type": "stream",
          "name": "stdout",
          "text": [
            "[-0.013786   0.38216    0.53236    0.15261   -0.29694   -0.20558\n",
            " -0.41846   -0.58437   -0.77355   -0.87866   -0.37858   -0.18516\n",
            " -0.128     -0.20584   -0.22925   -0.42599    0.3725     0.26077\n",
            " -1.0702     0.62916   -0.091469   0.70348   -0.4973    -0.77691\n",
            "  0.66045    0.09465   -0.44893    0.018917   0.33146   -0.35022\n",
            " -0.35789    0.030313   0.22253   -0.23236   -0.19719   -0.0053125\n",
            " -0.25848    0.58081   -0.10705   -0.17845   -0.16206    0.087086\n",
            "  0.63029   -0.76649    0.51619    0.14073    1.019     -0.43136\n",
            "  0.46138   -0.43585   -0.47568    0.19226    0.36065    0.78987\n",
            "  0.088945  -2.7814    -0.15366    0.01015    1.1798     0.15168\n",
            " -0.050112   1.2626    -0.77527    0.36031    0.95761   -0.11385\n",
            "  0.28035   -0.02591    0.31246   -0.15424    0.3778    -0.13599\n",
            "  0.2946    -0.31579    0.42943    0.086969   0.019169  -0.27242\n",
            " -0.31696    0.37327    0.61997    0.13889    0.17188    0.30363\n",
            " -1.2776     0.044423  -0.52736   -0.88536   -0.19428   -0.61947\n",
            " -0.10146   -0.26301   -0.061707   0.36627   -0.95223   -0.39346\n",
            " -0.69183   -1.0426     0.28855    0.63056  ]\n"
          ]
        }
      ]
    },
    {
      "cell_type": "code",
      "source": [
        "for word, index in tokenizer.word_index.items():\n",
        "  vector_value = embedding_dict.get(word)\n",
        "  if vector_value is not None:\n",
        "    embedding_matrix[index] = vector_value"
      ],
      "metadata": {
        "id": "_QPdH3VlZAOs"
      },
      "execution_count": 23,
      "outputs": []
    },
    {
      "cell_type": "code",
      "source": [
        "embedding_matrix[2]"
      ],
      "metadata": {
        "colab": {
          "base_uri": "https://localhost:8080/"
        },
        "id": "hJXN1VimZJU0",
        "outputId": "e1f7cb25-cb5e-42c5-c4da-636ca0fad221"
      },
      "execution_count": 24,
      "outputs": [
        {
          "output_type": "execute_result",
          "data": {
            "text/plain": [
              "array([-0.013786  ,  0.38216001,  0.53236002,  0.15261   , -0.29694   ,\n",
              "       -0.20558   , -0.41846001, -0.58437002, -0.77354997, -0.87866002,\n",
              "       -0.37858   , -0.18516   , -0.12800001, -0.20584001, -0.22925   ,\n",
              "       -0.42598999,  0.3725    ,  0.26076999, -1.07019997,  0.62915999,\n",
              "       -0.091469  ,  0.70348001, -0.4973    , -0.77691001,  0.66044998,\n",
              "        0.09465   , -0.44893   ,  0.018917  ,  0.33146   , -0.35021999,\n",
              "       -0.35789001,  0.030313  ,  0.22253001, -0.23236001, -0.19719   ,\n",
              "       -0.0053125 , -0.25848001,  0.58081001, -0.10705   , -0.17845   ,\n",
              "       -0.16205999,  0.087086  ,  0.63028997, -0.76648998,  0.51618999,\n",
              "        0.14072999,  1.01900005, -0.43136001,  0.46138   , -0.43584999,\n",
              "       -0.47567999,  0.19226   ,  0.36065   ,  0.78987002,  0.088945  ,\n",
              "       -2.78139997, -0.15366   ,  0.01015   ,  1.17980003,  0.15167999,\n",
              "       -0.050112  ,  1.26259995, -0.77526999,  0.36030999,  0.95761001,\n",
              "       -0.11385   ,  0.28035   , -0.02591   ,  0.31246001, -0.15424   ,\n",
              "        0.37779999, -0.13598999,  0.29460001, -0.31579   ,  0.42943001,\n",
              "        0.086969  ,  0.019169  , -0.27241999, -0.31696001,  0.37327   ,\n",
              "        0.61997002,  0.13889   ,  0.17188001,  0.30362999, -1.27760005,\n",
              "        0.044423  , -0.52736002, -0.88536   , -0.19428   , -0.61947   ,\n",
              "       -0.10146   , -0.26301   , -0.061707  ,  0.36627001, -0.95222998,\n",
              "       -0.39346001, -0.69182998, -1.04260004,  0.28854999,  0.63055998])"
            ]
          },
          "metadata": {},
          "execution_count": 24
        }
      ]
    },
    {
      "cell_type": "code",
      "source": [
        "from tensorflow.keras.models import Sequential\n",
        "from tensorflow.keras.layers import Dense, Embedding, Flatten\n",
        "\n",
        "output_dim = 100\n",
        "model = Sequential()\n",
        "e = Embedding(vocab_size, output_dim, weights=[embedding_matrix], input_length=max_len, trainable=False)\n",
        "model.add(e)\n",
        "model.add(Flatten())\n",
        "model.add(Dense(1, activation='sigmoid'))\n",
        "model.compile(optimizer='adam', loss='binary_crossentropy', metrics=['acc'])\n",
        "model.fit(X_train, y_train, epochs=100, verbose=2)"
      ],
      "metadata": {
        "colab": {
          "base_uri": "https://localhost:8080/"
        },
        "id": "-g6TeSUwZLOU",
        "outputId": "6e8eaacb-3806-41bc-d572-b5ac38220ed1"
      },
      "execution_count": 25,
      "outputs": [
        {
          "output_type": "stream",
          "name": "stdout",
          "text": [
            "Epoch 1/100\n",
            "1/1 - 0s - loss: 0.7526 - acc: 0.4286 - 471ms/epoch - 471ms/step\n",
            "Epoch 2/100\n",
            "1/1 - 0s - loss: 0.7304 - acc: 0.4286 - 8ms/epoch - 8ms/step\n",
            "Epoch 3/100\n",
            "1/1 - 0s - loss: 0.7090 - acc: 0.4286 - 6ms/epoch - 6ms/step\n",
            "Epoch 4/100\n",
            "1/1 - 0s - loss: 0.6885 - acc: 0.5714 - 6ms/epoch - 6ms/step\n",
            "Epoch 5/100\n",
            "1/1 - 0s - loss: 0.6689 - acc: 0.5714 - 8ms/epoch - 8ms/step\n",
            "Epoch 6/100\n",
            "1/1 - 0s - loss: 0.6501 - acc: 0.7143 - 4ms/epoch - 4ms/step\n",
            "Epoch 7/100\n",
            "1/1 - 0s - loss: 0.6320 - acc: 0.7143 - 5ms/epoch - 5ms/step\n",
            "Epoch 8/100\n",
            "1/1 - 0s - loss: 0.6147 - acc: 0.7143 - 4ms/epoch - 4ms/step\n",
            "Epoch 9/100\n",
            "1/1 - 0s - loss: 0.5982 - acc: 0.7143 - 7ms/epoch - 7ms/step\n",
            "Epoch 10/100\n",
            "1/1 - 0s - loss: 0.5823 - acc: 0.8571 - 5ms/epoch - 5ms/step\n",
            "Epoch 11/100\n",
            "1/1 - 0s - loss: 0.5670 - acc: 0.8571 - 8ms/epoch - 8ms/step\n",
            "Epoch 12/100\n",
            "1/1 - 0s - loss: 0.5524 - acc: 0.8571 - 8ms/epoch - 8ms/step\n",
            "Epoch 13/100\n",
            "1/1 - 0s - loss: 0.5383 - acc: 0.8571 - 8ms/epoch - 8ms/step\n",
            "Epoch 14/100\n",
            "1/1 - 0s - loss: 0.5247 - acc: 0.8571 - 7ms/epoch - 7ms/step\n",
            "Epoch 15/100\n",
            "1/1 - 0s - loss: 0.5116 - acc: 0.8571 - 6ms/epoch - 6ms/step\n",
            "Epoch 16/100\n",
            "1/1 - 0s - loss: 0.4990 - acc: 0.8571 - 6ms/epoch - 6ms/step\n",
            "Epoch 17/100\n",
            "1/1 - 0s - loss: 0.4868 - acc: 0.8571 - 5ms/epoch - 5ms/step\n",
            "Epoch 18/100\n",
            "1/1 - 0s - loss: 0.4750 - acc: 0.8571 - 8ms/epoch - 8ms/step\n",
            "Epoch 19/100\n",
            "1/1 - 0s - loss: 0.4636 - acc: 0.8571 - 5ms/epoch - 5ms/step\n",
            "Epoch 20/100\n",
            "1/1 - 0s - loss: 0.4526 - acc: 0.8571 - 6ms/epoch - 6ms/step\n",
            "Epoch 21/100\n",
            "1/1 - 0s - loss: 0.4419 - acc: 0.8571 - 6ms/epoch - 6ms/step\n",
            "Epoch 22/100\n",
            "1/1 - 0s - loss: 0.4315 - acc: 0.8571 - 7ms/epoch - 7ms/step\n",
            "Epoch 23/100\n",
            "1/1 - 0s - loss: 0.4214 - acc: 0.8571 - 7ms/epoch - 7ms/step\n",
            "Epoch 24/100\n",
            "1/1 - 0s - loss: 0.4117 - acc: 0.8571 - 10ms/epoch - 10ms/step\n",
            "Epoch 25/100\n",
            "1/1 - 0s - loss: 0.4022 - acc: 0.8571 - 5ms/epoch - 5ms/step\n",
            "Epoch 26/100\n",
            "1/1 - 0s - loss: 0.3930 - acc: 1.0000 - 5ms/epoch - 5ms/step\n",
            "Epoch 27/100\n",
            "1/1 - 0s - loss: 0.3841 - acc: 1.0000 - 6ms/epoch - 6ms/step\n",
            "Epoch 28/100\n",
            "1/1 - 0s - loss: 0.3754 - acc: 1.0000 - 7ms/epoch - 7ms/step\n",
            "Epoch 29/100\n",
            "1/1 - 0s - loss: 0.3669 - acc: 1.0000 - 5ms/epoch - 5ms/step\n",
            "Epoch 30/100\n",
            "1/1 - 0s - loss: 0.3587 - acc: 1.0000 - 5ms/epoch - 5ms/step\n",
            "Epoch 31/100\n",
            "1/1 - 0s - loss: 0.3508 - acc: 1.0000 - 7ms/epoch - 7ms/step\n",
            "Epoch 32/100\n",
            "1/1 - 0s - loss: 0.3430 - acc: 1.0000 - 8ms/epoch - 8ms/step\n",
            "Epoch 33/100\n",
            "1/1 - 0s - loss: 0.3355 - acc: 1.0000 - 8ms/epoch - 8ms/step\n",
            "Epoch 34/100\n",
            "1/1 - 0s - loss: 0.3282 - acc: 1.0000 - 7ms/epoch - 7ms/step\n",
            "Epoch 35/100\n",
            "1/1 - 0s - loss: 0.3211 - acc: 1.0000 - 8ms/epoch - 8ms/step\n",
            "Epoch 36/100\n",
            "1/1 - 0s - loss: 0.3142 - acc: 1.0000 - 5ms/epoch - 5ms/step\n",
            "Epoch 37/100\n",
            "1/1 - 0s - loss: 0.3075 - acc: 1.0000 - 6ms/epoch - 6ms/step\n",
            "Epoch 38/100\n",
            "1/1 - 0s - loss: 0.3009 - acc: 1.0000 - 5ms/epoch - 5ms/step\n",
            "Epoch 39/100\n",
            "1/1 - 0s - loss: 0.2946 - acc: 1.0000 - 8ms/epoch - 8ms/step\n",
            "Epoch 40/100\n",
            "1/1 - 0s - loss: 0.2884 - acc: 1.0000 - 5ms/epoch - 5ms/step\n",
            "Epoch 41/100\n",
            "1/1 - 0s - loss: 0.2824 - acc: 1.0000 - 6ms/epoch - 6ms/step\n",
            "Epoch 42/100\n",
            "1/1 - 0s - loss: 0.2766 - acc: 1.0000 - 7ms/epoch - 7ms/step\n",
            "Epoch 43/100\n",
            "1/1 - 0s - loss: 0.2710 - acc: 1.0000 - 8ms/epoch - 8ms/step\n",
            "Epoch 44/100\n",
            "1/1 - 0s - loss: 0.2655 - acc: 1.0000 - 7ms/epoch - 7ms/step\n",
            "Epoch 45/100\n",
            "1/1 - 0s - loss: 0.2601 - acc: 1.0000 - 5ms/epoch - 5ms/step\n",
            "Epoch 46/100\n",
            "1/1 - 0s - loss: 0.2549 - acc: 1.0000 - 5ms/epoch - 5ms/step\n",
            "Epoch 47/100\n",
            "1/1 - 0s - loss: 0.2499 - acc: 1.0000 - 5ms/epoch - 5ms/step\n",
            "Epoch 48/100\n",
            "1/1 - 0s - loss: 0.2450 - acc: 1.0000 - 4ms/epoch - 4ms/step\n",
            "Epoch 49/100\n",
            "1/1 - 0s - loss: 0.2402 - acc: 1.0000 - 8ms/epoch - 8ms/step\n",
            "Epoch 50/100\n",
            "1/1 - 0s - loss: 0.2356 - acc: 1.0000 - 7ms/epoch - 7ms/step\n",
            "Epoch 51/100\n",
            "1/1 - 0s - loss: 0.2311 - acc: 1.0000 - 5ms/epoch - 5ms/step\n",
            "Epoch 52/100\n",
            "1/1 - 0s - loss: 0.2267 - acc: 1.0000 - 5ms/epoch - 5ms/step\n",
            "Epoch 53/100\n",
            "1/1 - 0s - loss: 0.2225 - acc: 1.0000 - 5ms/epoch - 5ms/step\n",
            "Epoch 54/100\n",
            "1/1 - 0s - loss: 0.2183 - acc: 1.0000 - 5ms/epoch - 5ms/step\n",
            "Epoch 55/100\n",
            "1/1 - 0s - loss: 0.2143 - acc: 1.0000 - 6ms/epoch - 6ms/step\n",
            "Epoch 56/100\n",
            "1/1 - 0s - loss: 0.2104 - acc: 1.0000 - 6ms/epoch - 6ms/step\n",
            "Epoch 57/100\n",
            "1/1 - 0s - loss: 0.2065 - acc: 1.0000 - 6ms/epoch - 6ms/step\n",
            "Epoch 58/100\n",
            "1/1 - 0s - loss: 0.2028 - acc: 1.0000 - 5ms/epoch - 5ms/step\n",
            "Epoch 59/100\n",
            "1/1 - 0s - loss: 0.1992 - acc: 1.0000 - 7ms/epoch - 7ms/step\n",
            "Epoch 60/100\n",
            "1/1 - 0s - loss: 0.1957 - acc: 1.0000 - 5ms/epoch - 5ms/step\n",
            "Epoch 61/100\n",
            "1/1 - 0s - loss: 0.1923 - acc: 1.0000 - 4ms/epoch - 4ms/step\n",
            "Epoch 62/100\n",
            "1/1 - 0s - loss: 0.1890 - acc: 1.0000 - 6ms/epoch - 6ms/step\n",
            "Epoch 63/100\n",
            "1/1 - 0s - loss: 0.1857 - acc: 1.0000 - 5ms/epoch - 5ms/step\n",
            "Epoch 64/100\n",
            "1/1 - 0s - loss: 0.1826 - acc: 1.0000 - 8ms/epoch - 8ms/step\n",
            "Epoch 65/100\n",
            "1/1 - 0s - loss: 0.1795 - acc: 1.0000 - 6ms/epoch - 6ms/step\n",
            "Epoch 66/100\n",
            "1/1 - 0s - loss: 0.1765 - acc: 1.0000 - 5ms/epoch - 5ms/step\n",
            "Epoch 67/100\n",
            "1/1 - 0s - loss: 0.1735 - acc: 1.0000 - 6ms/epoch - 6ms/step\n",
            "Epoch 68/100\n",
            "1/1 - 0s - loss: 0.1707 - acc: 1.0000 - 6ms/epoch - 6ms/step\n",
            "Epoch 69/100\n",
            "1/1 - 0s - loss: 0.1679 - acc: 1.0000 - 6ms/epoch - 6ms/step\n",
            "Epoch 70/100\n",
            "1/1 - 0s - loss: 0.1652 - acc: 1.0000 - 7ms/epoch - 7ms/step\n",
            "Epoch 71/100\n",
            "1/1 - 0s - loss: 0.1626 - acc: 1.0000 - 8ms/epoch - 8ms/step\n",
            "Epoch 72/100\n",
            "1/1 - 0s - loss: 0.1600 - acc: 1.0000 - 4ms/epoch - 4ms/step\n",
            "Epoch 73/100\n",
            "1/1 - 0s - loss: 0.1575 - acc: 1.0000 - 7ms/epoch - 7ms/step\n",
            "Epoch 74/100\n",
            "1/1 - 0s - loss: 0.1550 - acc: 1.0000 - 5ms/epoch - 5ms/step\n",
            "Epoch 75/100\n",
            "1/1 - 0s - loss: 0.1526 - acc: 1.0000 - 6ms/epoch - 6ms/step\n",
            "Epoch 76/100\n",
            "1/1 - 0s - loss: 0.1503 - acc: 1.0000 - 5ms/epoch - 5ms/step\n",
            "Epoch 77/100\n",
            "1/1 - 0s - loss: 0.1480 - acc: 1.0000 - 5ms/epoch - 5ms/step\n",
            "Epoch 78/100\n",
            "1/1 - 0s - loss: 0.1458 - acc: 1.0000 - 5ms/epoch - 5ms/step\n",
            "Epoch 79/100\n",
            "1/1 - 0s - loss: 0.1436 - acc: 1.0000 - 6ms/epoch - 6ms/step\n",
            "Epoch 80/100\n",
            "1/1 - 0s - loss: 0.1415 - acc: 1.0000 - 6ms/epoch - 6ms/step\n",
            "Epoch 81/100\n",
            "1/1 - 0s - loss: 0.1394 - acc: 1.0000 - 5ms/epoch - 5ms/step\n",
            "Epoch 82/100\n",
            "1/1 - 0s - loss: 0.1374 - acc: 1.0000 - 5ms/epoch - 5ms/step\n",
            "Epoch 83/100\n",
            "1/1 - 0s - loss: 0.1354 - acc: 1.0000 - 7ms/epoch - 7ms/step\n",
            "Epoch 84/100\n",
            "1/1 - 0s - loss: 0.1334 - acc: 1.0000 - 6ms/epoch - 6ms/step\n",
            "Epoch 85/100\n",
            "1/1 - 0s - loss: 0.1315 - acc: 1.0000 - 7ms/epoch - 7ms/step\n",
            "Epoch 86/100\n",
            "1/1 - 0s - loss: 0.1297 - acc: 1.0000 - 6ms/epoch - 6ms/step\n",
            "Epoch 87/100\n",
            "1/1 - 0s - loss: 0.1279 - acc: 1.0000 - 7ms/epoch - 7ms/step\n",
            "Epoch 88/100\n",
            "1/1 - 0s - loss: 0.1261 - acc: 1.0000 - 5ms/epoch - 5ms/step\n",
            "Epoch 89/100\n",
            "1/1 - 0s - loss: 0.1244 - acc: 1.0000 - 7ms/epoch - 7ms/step\n",
            "Epoch 90/100\n",
            "1/1 - 0s - loss: 0.1227 - acc: 1.0000 - 5ms/epoch - 5ms/step\n",
            "Epoch 91/100\n",
            "1/1 - 0s - loss: 0.1210 - acc: 1.0000 - 8ms/epoch - 8ms/step\n",
            "Epoch 92/100\n",
            "1/1 - 0s - loss: 0.1194 - acc: 1.0000 - 7ms/epoch - 7ms/step\n",
            "Epoch 93/100\n",
            "1/1 - 0s - loss: 0.1178 - acc: 1.0000 - 7ms/epoch - 7ms/step\n",
            "Epoch 94/100\n",
            "1/1 - 0s - loss: 0.1162 - acc: 1.0000 - 7ms/epoch - 7ms/step\n",
            "Epoch 95/100\n",
            "1/1 - 0s - loss: 0.1147 - acc: 1.0000 - 7ms/epoch - 7ms/step\n",
            "Epoch 96/100\n",
            "1/1 - 0s - loss: 0.1132 - acc: 1.0000 - 6ms/epoch - 6ms/step\n",
            "Epoch 97/100\n",
            "1/1 - 0s - loss: 0.1118 - acc: 1.0000 - 6ms/epoch - 6ms/step\n",
            "Epoch 98/100\n",
            "1/1 - 0s - loss: 0.1103 - acc: 1.0000 - 5ms/epoch - 5ms/step\n",
            "Epoch 99/100\n",
            "1/1 - 0s - loss: 0.1089 - acc: 1.0000 - 5ms/epoch - 5ms/step\n",
            "Epoch 100/100\n",
            "1/1 - 0s - loss: 0.1075 - acc: 1.0000 - 6ms/epoch - 6ms/step\n"
          ]
        },
        {
          "output_type": "execute_result",
          "data": {
            "text/plain": [
              "<keras.callbacks.History at 0x7fb1aa1d7990>"
            ]
          },
          "metadata": {},
          "execution_count": 25
        }
      ]
    },
    {
      "cell_type": "code",
      "source": [
        "# 사전 훈련된 Word2Vec 사용하기\n",
        "import gensim\n",
        "\n",
        "urlretrieve(\"https://s3.amazonaws.com/dl4j-distribution/GoogleNews-vectors-negative300.bin.gz\", \\\n",
        "                           filename=\"GoogleNews-vectors-negative300.bin.gz\")\n",
        "word2vec_model = gensim.models.KeyedVectors.load_word2vec_format('GoogleNews-vectors-negative300.bin.gz', binary=True)\n",
        "\n",
        "print('모델의 크기(shape) :',word2vec_model.vectors.shape) # 모델의 크기 확인"
      ],
      "metadata": {
        "colab": {
          "base_uri": "https://localhost:8080/"
        },
        "id": "gcmSZCEeaVNV",
        "outputId": "7ccf40db-77e1-4b99-d35c-2449fb39c512"
      },
      "execution_count": 26,
      "outputs": [
        {
          "output_type": "stream",
          "name": "stdout",
          "text": [
            "모델의 크기(shape) : (3000000, 300)\n"
          ]
        }
      ]
    },
    {
      "cell_type": "code",
      "source": [
        "embedding_matrix = np.zeros((vocab_size, 300))\n",
        "print('임베딩 행렬의 크기(shape) :',np.shape(embedding_matrix)"
      ],
      "metadata": {
        "colab": {
          "base_uri": "https://localhost:8080/",
          "height": 137
        },
        "id": "zjTSJ6QNbtJv",
        "outputId": "15a4ec72-a6ab-4686-e79d-99d6061bc1ac"
      },
      "execution_count": 27,
      "outputs": [
        {
          "output_type": "error",
          "ename": "SyntaxError",
          "evalue": "ignored",
          "traceback": [
            "\u001b[0;36m  File \u001b[0;32m\"<ipython-input-27-1523012fda6d>\"\u001b[0;36m, line \u001b[0;32m2\u001b[0m\n\u001b[0;31m    print('임베딩 행렬의 크기(shape) :',np.shape(embedding_matrix)\u001b[0m\n\u001b[0m                                                          ^\u001b[0m\n\u001b[0;31mSyntaxError\u001b[0m\u001b[0;31m:\u001b[0m unexpected EOF while parsing\n"
          ]
        }
      ]
    },
    {
      "cell_type": "code",
      "source": [
        "def get_vector(word):\n",
        "    if word in word2vec_model:\n",
        "        return word2vec_model[word]\n",
        "    else:\n",
        "        return None"
      ],
      "metadata": {
        "id": "f-a5UZMObuGx"
      },
      "execution_count": null,
      "outputs": []
    },
    {
      "cell_type": "code",
      "source": [
        "for word, index in tokenizer.word_index.items():\n",
        "    # 단어와 맵핑되는 사전 훈련된 임베딩 벡터값\n",
        "    vector_value = get_vector(word)\n",
        "    if vector_value is not None:\n",
        "        embedding_matrix[index] = vector_value"
      ],
      "metadata": {
        "id": "HFl5P5C4bwS9"
      },
      "execution_count": null,
      "outputs": []
    },
    {
      "cell_type": "code",
      "source": [
        "print(word2vec_model['nice'])"
      ],
      "metadata": {
        "id": "s5F-TGsIbzmm"
      },
      "execution_count": null,
      "outputs": []
    },
    {
      "cell_type": "code",
      "source": [
        "print('단어 nice의 맵핑된 정수 :', tokenizer.word_index['nice'])"
      ],
      "metadata": {
        "id": "9e0MG8BSb1Ad"
      },
      "execution_count": null,
      "outputs": []
    },
    {
      "cell_type": "code",
      "source": [
        "print(embedding_matrix[1])"
      ],
      "metadata": {
        "id": "GUZ2Rj9kb2Ks"
      },
      "execution_count": null,
      "outputs": []
    }
  ]
}