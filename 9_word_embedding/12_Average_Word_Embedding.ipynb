{
  "nbformat": 4,
  "nbformat_minor": 0,
  "metadata": {
    "colab": {
      "name": "12_Average_Word_Embedding.ipynb",
      "provenance": [],
      "authorship_tag": "ABX9TyObQHtMhtfrlsL103EWIG+j",
      "include_colab_link": true
    },
    "kernelspec": {
      "name": "python3",
      "display_name": "Python 3"
    },
    "language_info": {
      "name": "python"
    }
  },
  "cells": [
    {
      "cell_type": "markdown",
      "metadata": {
        "id": "view-in-github",
        "colab_type": "text"
      },
      "source": [
        "<a href=\"https://colab.research.google.com/github/ImJongHwan/practice-ml-nlp/blob/main/9_word_embedding/12_Average_Word_Embedding.ipynb\" target=\"_parent\"><img src=\"https://colab.research.google.com/assets/colab-badge.svg\" alt=\"Open In Colab\"/></a>"
      ]
    },
    {
      "cell_type": "markdown",
      "source": [
        "# 문서 임베딩 : 워드 임베딩의 평균(Average Word Embedding)\n",
        "\n",
        "https://wikidocs.net/103496"
      ],
      "metadata": {
        "id": "ex0n9s-6cfRI"
      }
    },
    {
      "cell_type": "markdown",
      "source": [
        "## 데이터 로드와 전처리"
      ],
      "metadata": {
        "id": "QwEX-PtBckL3"
      }
    },
    {
      "cell_type": "code",
      "execution_count": 2,
      "metadata": {
        "id": "KQfJnmI4cbGx"
      },
      "outputs": [],
      "source": [
        "import numpy as np\n",
        "from tensorflow.keras.datasets import imdb\n",
        "from tensorflow.keras.preprocessing.sequence import pad_sequences"
      ]
    },
    {
      "cell_type": "code",
      "source": [
        "vocab_size = 20000\n",
        "\n",
        "(X_train, y_train), (X_test, y_test) = imdb.load_data(num_words=vocab_size)\n",
        "print('훈련용 리뷰 개수: ', len(X_train))\n",
        "print('테스트용 리뷰 개수: ', len(X_test))"
      ],
      "metadata": {
        "colab": {
          "base_uri": "https://localhost:8080/"
        },
        "id": "XAOm_jsgcuSQ",
        "outputId": "c002c899-6650-4398-e282-6b0460fef5e2"
      },
      "execution_count": 3,
      "outputs": [
        {
          "output_type": "stream",
          "name": "stdout",
          "text": [
            "Downloading data from https://storage.googleapis.com/tensorflow/tf-keras-datasets/imdb.npz\n",
            "17465344/17464789 [==============================] - 0s 0us/step\n",
            "17473536/17464789 [==============================] - 0s 0us/step\n",
            "훈련용 리뷰 개수:  25000\n",
            "테스트용 리뷰 개수:  25000\n"
          ]
        }
      ]
    },
    {
      "cell_type": "code",
      "source": [
        "print('훈련 데이터의 첫번째 샘플: ', X_train[0])\n",
        "print('훈련 데이터의 첫번째 샘플의 레이블 :', y_train[0])"
      ],
      "metadata": {
        "colab": {
          "base_uri": "https://localhost:8080/"
        },
        "id": "tmb067xcdEQj",
        "outputId": "c77d19ca-a3f1-4555-b435-76237aa903ad"
      },
      "execution_count": 4,
      "outputs": [
        {
          "output_type": "stream",
          "name": "stdout",
          "text": [
            "훈련 데이터의 첫번째 샘플:  [1, 14, 22, 16, 43, 530, 973, 1622, 1385, 65, 458, 4468, 66, 3941, 4, 173, 36, 256, 5, 25, 100, 43, 838, 112, 50, 670, 2, 9, 35, 480, 284, 5, 150, 4, 172, 112, 167, 2, 336, 385, 39, 4, 172, 4536, 1111, 17, 546, 38, 13, 447, 4, 192, 50, 16, 6, 147, 2025, 19, 14, 22, 4, 1920, 4613, 469, 4, 22, 71, 87, 12, 16, 43, 530, 38, 76, 15, 13, 1247, 4, 22, 17, 515, 17, 12, 16, 626, 18, 19193, 5, 62, 386, 12, 8, 316, 8, 106, 5, 4, 2223, 5244, 16, 480, 66, 3785, 33, 4, 130, 12, 16, 38, 619, 5, 25, 124, 51, 36, 135, 48, 25, 1415, 33, 6, 22, 12, 215, 28, 77, 52, 5, 14, 407, 16, 82, 10311, 8, 4, 107, 117, 5952, 15, 256, 4, 2, 7, 3766, 5, 723, 36, 71, 43, 530, 476, 26, 400, 317, 46, 7, 4, 12118, 1029, 13, 104, 88, 4, 381, 15, 297, 98, 32, 2071, 56, 26, 141, 6, 194, 7486, 18, 4, 226, 22, 21, 134, 476, 26, 480, 5, 144, 30, 5535, 18, 51, 36, 28, 224, 92, 25, 104, 4, 226, 65, 16, 38, 1334, 88, 12, 16, 283, 5, 16, 4472, 113, 103, 32, 15, 16, 5345, 19, 178, 32]\n",
            "훈련 데이터의 첫번째 샘플의 레이블 : 1\n"
          ]
        }
      ]
    },
    {
      "cell_type": "code",
      "source": [
        "print(f'훈련용 리뷰의 평균 길이: {np.mean(list(map(len, X_train)), dtype=int)}')\n",
        "print(f'테스트용 리뷰의 평균 길이: {np.mean(list(map(len, X_test)), dtype=int)}')"
      ],
      "metadata": {
        "colab": {
          "base_uri": "https://localhost:8080/"
        },
        "id": "fBo4nvG_dMD7",
        "outputId": "caa98504-14ef-4c4e-df52-0b022fbf6382"
      },
      "execution_count": 5,
      "outputs": [
        {
          "output_type": "stream",
          "name": "stdout",
          "text": [
            "훈련용 리뷰의 평균 길이: 238\n",
            "테스트용 리뷰의 평균 길이: 230\n"
          ]
        }
      ]
    },
    {
      "cell_type": "code",
      "source": [
        "max_len = 400\n",
        "\n",
        "X_train = pad_sequences(X_train, maxlen=max_len)\n",
        "X_test = pad_sequences(X_test, maxlen=max_len)\n",
        "print('X_train의 크기(shape): ', X_train.shape)\n",
        "print('X_test의 크기(shape): ', X_test.shape)"
      ],
      "metadata": {
        "colab": {
          "base_uri": "https://localhost:8080/"
        },
        "id": "8f2zWGjVddWU",
        "outputId": "f1591618-e243-4ea8-85f5-c4f91a2f2643"
      },
      "execution_count": 6,
      "outputs": [
        {
          "output_type": "stream",
          "name": "stdout",
          "text": [
            "X_train의 크기(shape):  (25000, 400)\n",
            "X_test의 크기(shape):  (25000, 400)\n"
          ]
        }
      ]
    },
    {
      "cell_type": "markdown",
      "source": [
        "## 모델 설계하기"
      ],
      "metadata": {
        "id": "UOUTGd5ceqfs"
      }
    },
    {
      "cell_type": "code",
      "source": [
        "from tensorflow.keras.models import Sequential, load_model\n",
        "from tensorflow.keras.layers import Dense, Embedding, GlobalAveragePooling1D\n",
        "from tensorflow.keras.callbacks import EarlyStopping, ModelCheckpoint\n",
        "\n",
        "embedding_dim = 64\n",
        "\n",
        "model = Sequential()\n",
        "model.add(Embedding(vocab_size, embedding_dim))\n",
        "\n",
        "model.add(GlobalAveragePooling1D())\n",
        "model.add(Dense(1, activation='sigmoid'))\n",
        "\n",
        "es = EarlyStopping(monitor='val_loss', mode='min', verbose=1, patience=4)\n",
        "mc = ModelCheckpoint('embedding_average_model.h5', monitor='val_acc', mode='max', verbose=1, save_bset_only=True)\n",
        "\n",
        "model.compile(loss='binary_crossentropy', optimizer='adam', metrics=['acc'])\n",
        "model.fit(X_train, y_train, batch_size=32, epochs=10, callbacks=[es, mc], validation_split=0.2)"
      ],
      "metadata": {
        "colab": {
          "base_uri": "https://localhost:8080/"
        },
        "id": "7RxlP78beeak",
        "outputId": "407ca815-bd94-4546-d71c-f2c85a5f7208"
      },
      "execution_count": 9,
      "outputs": [
        {
          "output_type": "stream",
          "name": "stdout",
          "text": [
            "Epoch 1/10\n",
            "624/625 [============================>.] - ETA: 0s - loss: 0.6268 - acc: 0.7225\n",
            "Epoch 1: saving model to embedding_average_model.h5\n",
            "625/625 [==============================] - 11s 16ms/step - loss: 0.6266 - acc: 0.7228 - val_loss: 0.5176 - val_acc: 0.8194\n",
            "Epoch 2/10\n",
            "625/625 [==============================] - ETA: 0s - loss: 0.4264 - acc: 0.8572\n",
            "Epoch 2: saving model to embedding_average_model.h5\n",
            "625/625 [==============================] - 11s 17ms/step - loss: 0.4264 - acc: 0.8572 - val_loss: 0.3828 - val_acc: 0.8546\n",
            "Epoch 3/10\n",
            "623/625 [============================>.] - ETA: 0s - loss: 0.3167 - acc: 0.8913\n",
            "Epoch 3: saving model to embedding_average_model.h5\n",
            "625/625 [==============================] - 11s 18ms/step - loss: 0.3168 - acc: 0.8911 - val_loss: 0.3221 - val_acc: 0.8806\n",
            "Epoch 4/10\n",
            "622/625 [============================>.] - ETA: 0s - loss: 0.2605 - acc: 0.9097\n",
            "Epoch 4: saving model to embedding_average_model.h5\n",
            "625/625 [==============================] - 11s 17ms/step - loss: 0.2605 - acc: 0.9097 - val_loss: 0.2966 - val_acc: 0.8860\n",
            "Epoch 5/10\n",
            "624/625 [============================>.] - ETA: 0s - loss: 0.2224 - acc: 0.9243\n",
            "Epoch 5: saving model to embedding_average_model.h5\n",
            "625/625 [==============================] - 11s 18ms/step - loss: 0.2224 - acc: 0.9244 - val_loss: 0.2852 - val_acc: 0.8864\n",
            "Epoch 6/10\n",
            "623/625 [============================>.] - ETA: 0s - loss: 0.1945 - acc: 0.9348\n",
            "Epoch 6: saving model to embedding_average_model.h5\n",
            "625/625 [==============================] - 12s 19ms/step - loss: 0.1946 - acc: 0.9348 - val_loss: 0.2773 - val_acc: 0.8920\n",
            "Epoch 7/10\n",
            "622/625 [============================>.] - ETA: 0s - loss: 0.1709 - acc: 0.9434\n",
            "Epoch 7: saving model to embedding_average_model.h5\n",
            "625/625 [==============================] - 10s 16ms/step - loss: 0.1707 - acc: 0.9434 - val_loss: 0.2713 - val_acc: 0.8944\n",
            "Epoch 8/10\n",
            "623/625 [============================>.] - ETA: 0s - loss: 0.1509 - acc: 0.9526\n",
            "Epoch 8: saving model to embedding_average_model.h5\n",
            "625/625 [==============================] - 10s 16ms/step - loss: 0.1508 - acc: 0.9527 - val_loss: 0.2752 - val_acc: 0.8952\n",
            "Epoch 9/10\n",
            "623/625 [============================>.] - ETA: 0s - loss: 0.1334 - acc: 0.9569\n",
            "Epoch 9: saving model to embedding_average_model.h5\n",
            "625/625 [==============================] - 10s 16ms/step - loss: 0.1335 - acc: 0.9568 - val_loss: 0.2883 - val_acc: 0.8868\n",
            "Epoch 10/10\n",
            "622/625 [============================>.] - ETA: 0s - loss: 0.1186 - acc: 0.9637\n",
            "Epoch 10: saving model to embedding_average_model.h5\n",
            "625/625 [==============================] - 10s 16ms/step - loss: 0.1186 - acc: 0.9638 - val_loss: 0.2807 - val_acc: 0.8934\n"
          ]
        },
        {
          "output_type": "execute_result",
          "data": {
            "text/plain": [
              "<keras.callbacks.History at 0x7f2df89a9990>"
            ]
          },
          "metadata": {},
          "execution_count": 9
        }
      ]
    },
    {
      "cell_type": "code",
      "source": [
        "loaded_model = load_model('embedding_average_model.h5')\n",
        "print('\\n테스트 정확도: %.4f' % (loaded_model.evaluate(X_test, y_test)[1]))"
      ],
      "metadata": {
        "colab": {
          "base_uri": "https://localhost:8080/"
        },
        "id": "yYZNSIEAgEte",
        "outputId": "64f33422-41f0-4718-ab27-a7a8292d836f"
      },
      "execution_count": 11,
      "outputs": [
        {
          "output_type": "stream",
          "name": "stdout",
          "text": [
            "782/782 [==============================] - 2s 2ms/step - loss: 0.2963 - acc: 0.8852\n",
            "\n",
            "테스트 정확도: 0.8852\n"
          ]
        }
      ]
    }
  ]
}