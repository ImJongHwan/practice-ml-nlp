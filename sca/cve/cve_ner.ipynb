{
  "nbformat": 4,
  "nbformat_minor": 0,
  "metadata": {
    "colab": {
      "name": "cve_ner.ipynb",
      "provenance": [],
      "authorship_tag": "ABX9TyODF4t8hIuvRTR4ma1B+vzS",
      "include_colab_link": true
    },
    "kernelspec": {
      "name": "python3",
      "display_name": "Python 3"
    },
    "language_info": {
      "name": "python"
    }
  },
  "cells": [
    {
      "cell_type": "markdown",
      "metadata": {
        "id": "view-in-github",
        "colab_type": "text"
      },
      "source": [
        "<a href=\"https://colab.research.google.com/github/ImJongHwan/practice-ml-nlp/blob/main/sca/cve/cve_ner.ipynb\" target=\"_parent\"><img src=\"https://colab.research.google.com/assets/colab-badge.svg\" alt=\"Open In Colab\"/></a>"
      ]
    },
    {
      "cell_type": "code",
      "execution_count": 98,
      "metadata": {
        "id": "3A414gdTSvoc"
      },
      "outputs": [],
      "source": [
        "import re\n",
        "import numpy as np\n",
        "import matplotlib.pyplot as plt\n",
        "import urllib.request\n",
        "from tensorflow.keras.preprocessing.text import Tokenizer\n",
        "from tensorflow.keras.preprocessing.sequence import pad_sequences\n",
        "from tensorflow.keras.utils import to_categorical\n",
        "from sklearn.model_selection import train_test_split"
      ]
    },
    {
      "cell_type": "code",
      "source": [
        "def read_data(url, filename):\n",
        "  urllib.request.urlretrieve(url, filename=filename)\n",
        "\n",
        "  f = open(filename, 'r')\n",
        "  tagged_sentences = []\n",
        "  sentence = []\n",
        "\n",
        "  for line in f:\n",
        "    try :\n",
        "      strip_line = line.strip()\n",
        "      if len(strip_line) == 0 or strip_line[0] == '\\n':\n",
        "        if len(sentence) > 0:\n",
        "          tagged_sentences.append(sentence)\n",
        "          sentence = []\n",
        "        continue\n",
        "      splits = strip_line.split()\n",
        "      splits[-1] = re.sub(r'\\n', '', splits[-1])\n",
        "      word = splits[0].lower()\n",
        "      sentence.append([word, splits[-1]])\n",
        "    except IndexError:\n",
        "      print('Index Error: ' + line)\n",
        "  return tagged_sentences"
      ],
      "metadata": {
        "id": "MyqXkQUQWN6S"
      },
      "execution_count": 137,
      "outputs": []
    },
    {
      "cell_type": "code",
      "source": [
        "def merge_without_dup(sentences1, sentences2):\n",
        "  merged = sentences2\n",
        "  for sen in sentences1:\n",
        "    if sen not in sentences2:\n",
        "      merged.append(sen)\n",
        "\n",
        "  return merged"
      ],
      "metadata": {
        "id": "Gf4YabJQWtpR"
      },
      "execution_count": 138,
      "outputs": []
    },
    {
      "cell_type": "code",
      "source": [
        "base_url = 'https://raw.githubusercontent.com/pinkymm/inconsistency_detection/master/dataset/ner_data/'\n",
        "url_names = ['bypass', 'csrf', 'dirtra', 'dos', 'execution', 'fileinc', 'gainpre', 'httprs', 'infor', 'memc', 'overflow' ,'sqli', 'xss']\n",
        "\n",
        "merged = []\n",
        "\n",
        "for url_name in url_names:\n",
        "  filename_test = url_name + \"_test.txt\"\n",
        "  filename_train = url_name + \"_train.txt\"\n",
        "  merged = merge_without_dup(merged, read_data(base_url + filename_test, filename_test))\n",
        "  merged = merge_without_dup(merged, read_data(base_url + filename_train, filename_train))"
      ],
      "metadata": {
        "id": "3eYjvsoEZOHA"
      },
      "execution_count": 143,
      "outputs": []
    },
    {
      "cell_type": "code",
      "source": [
        "print(f'전체 샘플 개수: {len(merged)}')"
      ],
      "metadata": {
        "colab": {
          "base_uri": "https://localhost:8080/"
        },
        "id": "g5bfCIzxZgD-",
        "outputId": "eaea8da5-a7a3-4760-eaee-901a2e80a703"
      },
      "execution_count": 145,
      "outputs": [
        {
          "output_type": "stream",
          "name": "stdout",
          "text": [
            "전체 샘플 개수: 18737\n"
          ]
        }
      ]
    },
    {
      "cell_type": "code",
      "source": [
        "print('첫번째 샘플: ', merged[0])"
      ],
      "metadata": {
        "colab": {
          "base_uri": "https://localhost:8080/"
        },
        "id": "bMesIzhTV5Ax",
        "outputId": "4a949416-1ac3-4a20-9c58-d5e599caea1c"
      },
      "execution_count": 146,
      "outputs": [
        {
          "output_type": "stream",
          "name": "stdout",
          "text": [
            "첫번째 샘플:  [['yab', 'SN'], ['quarx', 'SN'], ['through', 'SV'], ['2.4.3', 'SV'], ['is', 'O'], ['prone', 'O'], ['to', 'O'], ['multiple', 'O'], ['persistent', 'O'], ['cross-site', 'O'], ['scripting', 'O'], ['vulnerabilities', 'O'], [':', 'O'], ['blog', 'O'], ['(', 'O'], ['title', 'O'], [')', 'O'], [',', 'O'], ['faq', 'O'], ['(', 'O'], ['question', 'O'], [')', 'O'], [',', 'O'], ['pages', 'O'], ['(', 'O'], ['title', 'O'], [')', 'O'], [',', 'O'], ['widgets', 'O'], ['(', 'O'], ['name', 'O'], [')', 'O'], [',', 'O'], ['and', 'O'], ['menus', 'O'], ['(', 'O'], ['name', 'O'], [')', 'O'], ['.', 'O']]\n"
          ]
        }
      ]
    },
    {
      "cell_type": "code",
      "source": [
        "sentences, ner_tags = [], []\n",
        "for tagged_sentence in merged:\n",
        "  sentence, tag_info =  zip(*tagged_sentence)\n",
        "  sentences.append(list(sentence))\n",
        "  ner_tags.append(list(tag_info))"
      ],
      "metadata": {
        "id": "lzN6vb1rV-Cg"
      },
      "execution_count": 147,
      "outputs": []
    },
    {
      "cell_type": "code",
      "source": [
        "print('첫번째 샘플의 문장: ', sentences[0])\n",
        "print('첫번째 샘플의 레이블: ', ner_tags[0])"
      ],
      "metadata": {
        "colab": {
          "base_uri": "https://localhost:8080/"
        },
        "id": "WZV3virGWnk2",
        "outputId": "f1e016ff-bf76-4c9f-a52f-df994e450615"
      },
      "execution_count": 148,
      "outputs": [
        {
          "output_type": "stream",
          "name": "stdout",
          "text": [
            "첫번째 샘플의 문장:  ['yab', 'quarx', 'through', '2.4.3', 'is', 'prone', 'to', 'multiple', 'persistent', 'cross-site', 'scripting', 'vulnerabilities', ':', 'blog', '(', 'title', ')', ',', 'faq', '(', 'question', ')', ',', 'pages', '(', 'title', ')', ',', 'widgets', '(', 'name', ')', ',', 'and', 'menus', '(', 'name', ')', '.']\n",
            "첫번째 샘플의 레이블:  ['SN', 'SN', 'SV', 'SV', 'O', 'O', 'O', 'O', 'O', 'O', 'O', 'O', 'O', 'O', 'O', 'O', 'O', 'O', 'O', 'O', 'O', 'O', 'O', 'O', 'O', 'O', 'O', 'O', 'O', 'O', 'O', 'O', 'O', 'O', 'O', 'O', 'O', 'O', 'O']\n"
          ]
        }
      ]
    },
    {
      "cell_type": "code",
      "source": [
        "print('샘플의 최대 길이: %d' % max(len(sentence) for sentence in sentences))\n",
        "print('샘플의 평균 길이: %d' % (sum(map(len, sentences)) / len(sentences)))\n",
        "plt.hist([len(sentence) for sentence in sentences], bins=50)\n",
        "plt.xlabel('length of samples')\n",
        "plt.ylabel('number of samples')\n",
        "plt.show()"
      ],
      "metadata": {
        "colab": {
          "base_uri": "https://localhost:8080/",
          "height": 315
        },
        "id": "wW14dgk4WuIE",
        "outputId": "005ec85e-f4f3-4a51-dc88-f88b52b999ac"
      },
      "execution_count": 149,
      "outputs": [
        {
          "output_type": "stream",
          "name": "stdout",
          "text": [
            "샘플의 최대 길이: 198\n",
            "샘플의 평균 길이: 32\n"
          ]
        },
        {
          "output_type": "display_data",
          "data": {
            "text/plain": [
              "<Figure size 432x288 with 1 Axes>"
            ],
            "image/png": "[encoded data removed]"
          },
          "metadata": {
            "needs_background": "light"
          }
        }
      ]
    },
    {
      "cell_type": "code",
      "source": [
        "vocab_size = 12000\n",
        "src_tokenizer = Tokenizer(num_words=vocab_size, oov_token='OOV')\n",
        "src_tokenizer.fit_on_texts(sentences)\n",
        "\n",
        "tar_tokenizer = Tokenizer()\n",
        "tar_tokenizer.fit_on_texts(ner_tags)"
      ],
      "metadata": {
        "id": "QgqSEoxYY1Ea"
      },
      "execution_count": 150,
      "outputs": []
    },
    {
      "cell_type": "code",
      "source": [
        "tag_size = len(tar_tokenizer.word_index) + 1\n",
        "print(f'단어 집합의 크기: {vocab_size}')\n",
        "print(f'개체명 태깅 정보 집합의 크기: {tag_size}')"
      ],
      "metadata": {
        "colab": {
          "base_uri": "https://localhost:8080/"
        },
        "id": "LM52lRm4iHWZ",
        "outputId": "d50ce3e4-bd08-46f3-d351-1f7d0b85027c"
      },
      "execution_count": 151,
      "outputs": [
        {
          "output_type": "stream",
          "name": "stdout",
          "text": [
            "단어 집합의 크기: 12000\n",
            "개체명 태깅 정보 집합의 크기: 4\n"
          ]
        }
      ]
    },
    {
      "cell_type": "code",
      "source": [
        "X_train = src_tokenizer.texts_to_sequences(sentences)\n",
        "y_train = tar_tokenizer.texts_to_sequences(ner_tags)"
      ],
      "metadata": {
        "id": "EUgWL0T_idqw"
      },
      "execution_count": 152,
      "outputs": []
    },
    {
      "cell_type": "code",
      "source": [
        "print('첫번째 샘플의 문장: ', X_train[0])\n",
        "print('첫번째 샘플의 레이블: ', y_train[0])"
      ],
      "metadata": {
        "colab": {
          "base_uri": "https://localhost:8080/"
        },
        "id": "N6zMzmu6iqo2",
        "outputId": "7a90bbb7-9dd4-41d8-affa-5b8aba4f6931"
      },
      "execution_count": 153,
      "outputs": [
        {
          "output_type": "stream",
          "name": "stdout",
          "text": [
            "첫번째 샘플의 문장:  [1, 1, 88, 4884, 32, 2071, 10, 94, 2152, 155, 138, 92, 6, 1278, 3, 316, 4, 2, 4411, 3, 2699, 4, 2, 889, 3, 316, 4, 2, 1, 3, 183, 4, 2, 9, 9198, 3, 183, 4, 5]\n",
            "첫번째 샘플의 레이블:  [3, 3, 2, 2, 1, 1, 1, 1, 1, 1, 1, 1, 1, 1, 1, 1, 1, 1, 1, 1, 1, 1, 1, 1, 1, 1, 1, 1, 1, 1, 1, 1, 1, 1, 1, 1, 1, 1, 1]\n"
          ]
        }
      ]
    },
    {
      "cell_type": "code",
      "source": [
        "index_to_word = src_tokenizer.index_word\n",
        "index_to_ner = tar_tokenizer.index_word"
      ],
      "metadata": {
        "id": "Fiv8_Xv0ivbM"
      },
      "execution_count": 154,
      "outputs": []
    },
    {
      "cell_type": "code",
      "source": [
        "decoded = []\n",
        "for index in X_train[0]:\n",
        "  decoded.append(index_to_word[index])\n",
        "\n",
        "print(f'기존 문장: {sentences[0]}')\n",
        "print(f'빈도수가 낮은 단어가 OOV 처리된 문장: {decoded}')"
      ],
      "metadata": {
        "colab": {
          "base_uri": "https://localhost:8080/"
        },
        "id": "Jh-9y-tmkU90",
        "outputId": "6b681028-ffa0-4812-f3d0-71651b48eb92"
      },
      "execution_count": 155,
      "outputs": [
        {
          "output_type": "stream",
          "name": "stdout",
          "text": [
            "기존 문장: ['yab', 'quarx', 'through', '2.4.3', 'is', 'prone', 'to', 'multiple', 'persistent', 'cross-site', 'scripting', 'vulnerabilities', ':', 'blog', '(', 'title', ')', ',', 'faq', '(', 'question', ')', ',', 'pages', '(', 'title', ')', ',', 'widgets', '(', 'name', ')', ',', 'and', 'menus', '(', 'name', ')', '.']\n",
            "빈도수가 낮은 단어가 OOV 처리된 문장: ['OOV', 'OOV', 'through', '2.4.3', 'is', 'prone', 'to', 'multiple', 'persistent', 'cross-site', 'scripting', 'vulnerabilities', ':', 'blog', '(', 'title', ')', ',', 'faq', '(', 'question', ')', ',', 'pages', '(', 'title', ')', ',', 'OOV', '(', 'name', ')', ',', 'and', 'menus', '(', 'name', ')', '.']\n"
          ]
        }
      ]
    },
    {
      "cell_type": "code",
      "source": [
        "max_len = 200\n",
        "X_train = pad_sequences(X_train, padding='post', maxlen=max_len)\n",
        "y_train = pad_sequences(y_train, padding='post', maxlen=max_len)"
      ],
      "metadata": {
        "id": "ZB_G0FY3kj9o"
      },
      "execution_count": 156,
      "outputs": []
    },
    {
      "cell_type": "code",
      "source": [
        "y_train[0]"
      ],
      "metadata": {
        "colab": {
          "base_uri": "https://localhost:8080/"
        },
        "id": "8crAQMnJK28b",
        "outputId": "e6a55ba4-bc63-4285-c453-9d85945bd980"
      },
      "execution_count": 112,
      "outputs": [
        {
          "output_type": "execute_result",
          "data": {
            "text/plain": [
              "array([3, 3, 3, 2, 1, 1, 1, 1, 1, 1, 1, 1, 1, 0, 0, 0, 0, 0, 0, 0, 0, 0,\n",
              "       0, 0, 0, 0, 0, 0, 0, 0, 0, 0, 0, 0, 0, 0, 0, 0, 0, 0, 0, 0, 0, 0,\n",
              "       0, 0, 0, 0, 0, 0, 0, 0, 0, 0, 0, 0, 0, 0, 0, 0, 0, 0, 0, 0, 0, 0,\n",
              "       0, 0, 0, 0, 0, 0, 0, 0, 0, 0, 0, 0, 0, 0, 0, 0, 0, 0, 0, 0, 0, 0,\n",
              "       0, 0, 0, 0, 0, 0, 0, 0, 0, 0, 0, 0, 0, 0, 0, 0, 0, 0, 0, 0, 0, 0,\n",
              "       0, 0, 0, 0, 0, 0, 0, 0, 0, 0, 0, 0, 0, 0, 0, 0, 0, 0, 0, 0, 0, 0,\n",
              "       0, 0, 0, 0, 0, 0, 0, 0, 0, 0, 0, 0, 0, 0, 0, 0, 0, 0, 0, 0, 0, 0,\n",
              "       0, 0, 0, 0, 0, 0, 0, 0, 0, 0, 0, 0, 0, 0, 0, 0], dtype=int32)"
            ]
          },
          "metadata": {},
          "execution_count": 112
        }
      ]
    },
    {
      "cell_type": "code",
      "source": [
        "X_train, X_test, y_train, y_test = train_test_split(X_train, y_train, test_size=.2, random_state=777)"
      ],
      "metadata": {
        "id": "sYJ2SvYrlwqJ"
      },
      "execution_count": 157,
      "outputs": []
    },
    {
      "cell_type": "code",
      "source": [
        "y_train = to_categorical(y_train, num_classes=tag_size)\n",
        "y_test = to_categorical(y_test, num_classes=tag_size)"
      ],
      "metadata": {
        "id": "wjsU6oJfDRFh"
      },
      "execution_count": 158,
      "outputs": []
    },
    {
      "cell_type": "code",
      "source": [
        "print('훈련 샘플 문장의 크기 : {}'.format(X_train.shape))\n",
        "print('훈련 샘플 레이블의 크기 : {}'.format(y_train.shape))\n",
        "print('테스트 샘플 문장의 크기 : {}'.format(X_test.shape))\n",
        "print('테스트 샘플 레이블의 크기 : {}'.format(y_test.shape))"
      ],
      "metadata": {
        "colab": {
          "base_uri": "https://localhost:8080/"
        },
        "id": "6eUBuCC3DYNQ",
        "outputId": "e43799a4-82d3-43f1-b63b-7c34195e8f29"
      },
      "execution_count": 159,
      "outputs": [
        {
          "output_type": "stream",
          "name": "stdout",
          "text": [
            "훈련 샘플 문장의 크기 : (14989, 200)\n",
            "훈련 샘플 레이블의 크기 : (14989, 200, 4)\n",
            "테스트 샘플 문장의 크기 : (3748, 200)\n",
            "테스트 샘플 레이블의 크기 : (3748, 200, 4)\n"
          ]
        }
      ]
    },
    {
      "cell_type": "code",
      "source": [
        "from tensorflow.keras.models import Sequential\n",
        "from tensorflow.keras.layers import Dense, Embedding, LSTM, Bidirectional, TimeDistributed\n",
        "from tensorflow.keras.optimizers import Adam"
      ],
      "metadata": {
        "id": "mYCQb1JwDZZO"
      },
      "execution_count": 160,
      "outputs": []
    },
    {
      "cell_type": "code",
      "source": [
        "embedding_dim = 128\n",
        "hidden_units = 128\n",
        "\n",
        "model = Sequential()\n",
        "model.add(Embedding(input_dim=vocab_size, output_dim=embedding_dim, input_length=max_len, mask_zero=True))\n",
        "model.add(Bidirectional(LSTM(hidden_units, return_sequences=True)))\n",
        "model.add(TimeDistributed(Dense(tag_size, activation='softmax')))\n",
        "\n",
        "model.compile(loss='categorical_crossentropy', optimizer=Adam(0.001), metrics=['accuracy'])\n",
        "model.fit(X_train, y_train, batch_size=128, epochs=8, validation_data=(X_test, y_test))"
      ],
      "metadata": {
        "colab": {
          "base_uri": "https://localhost:8080/"
        },
        "id": "M4e5GHzsG8RS",
        "outputId": "b993abd7-5efc-4749-cc95-3633634f6123"
      },
      "execution_count": 161,
      "outputs": [
        {
          "output_type": "stream",
          "name": "stdout",
          "text": [
            "Epoch 1/8\n",
            "118/118 [==============================] - 251s 2s/step - loss: 0.0529 - accuracy: 0.9216 - val_loss: 0.0186 - val_accuracy: 0.9618\n",
            "Epoch 2/8\n",
            "118/118 [==============================] - 238s 2s/step - loss: 0.0118 - accuracy: 0.9776 - val_loss: 0.0082 - val_accuracy: 0.9854\n",
            "Epoch 3/8\n",
            "118/118 [==============================] - 234s 2s/step - loss: 0.0057 - accuracy: 0.9893 - val_loss: 0.0062 - val_accuracy: 0.9888\n",
            "Epoch 4/8\n",
            "118/118 [==============================] - 234s 2s/step - loss: 0.0040 - accuracy: 0.9927 - val_loss: 0.0058 - val_accuracy: 0.9897\n",
            "Epoch 5/8\n",
            "118/118 [==============================] - 233s 2s/step - loss: 0.0031 - accuracy: 0.9943 - val_loss: 0.0058 - val_accuracy: 0.9903\n",
            "Epoch 6/8\n",
            "118/118 [==============================] - 233s 2s/step - loss: 0.0025 - accuracy: 0.9954 - val_loss: 0.0059 - val_accuracy: 0.9905\n",
            "Epoch 7/8\n",
            "118/118 [==============================] - 231s 2s/step - loss: 0.0021 - accuracy: 0.9961 - val_loss: 0.0059 - val_accuracy: 0.9910\n",
            "Epoch 8/8\n",
            "118/118 [==============================] - 230s 2s/step - loss: 0.0019 - accuracy: 0.9965 - val_loss: 0.0057 - val_accuracy: 0.9908\n"
          ]
        },
        {
          "output_type": "execute_result",
          "data": {
            "text/plain": [
              "<keras.callbacks.History at 0x7f64a77c76d0>"
            ]
          },
          "metadata": {},
          "execution_count": 161
        }
      ]
    },
    {
      "cell_type": "code",
      "source": [
        "print(\"\\n 테스트 정확도: %.4f\" % (model.evaluate(X_test, y_test)[1]))"
      ],
      "metadata": {
        "colab": {
          "base_uri": "https://localhost:8080/"
        },
        "id": "skGLMAa5HU23",
        "outputId": "7c80ba39-0e3b-4c6d-a624-c30164b79a6b"
      },
      "execution_count": 162,
      "outputs": [
        {
          "output_type": "stream",
          "name": "stdout",
          "text": [
            "118/118 [==============================] - 17s 146ms/step - loss: 0.0057 - accuracy: 0.9908\n",
            "\n",
            " 테스트 정확도: 0.9908\n"
          ]
        }
      ]
    },
    {
      "cell_type": "code",
      "source": [
        "i = 110 # 확인하고 싶은 테스트용 샘플의 인덱스.\n",
        "\n",
        "# 입력한 테스트용 샘플에 대해서 예측 y를 리턴\n",
        "y_predicted = model.predict(np.array([X_test[i]]))\n",
        "\n",
        "# 확률 벡터를 정수 레이블로 변경.\n",
        "y_predicted = np.argmax(y_predicted, axis=-1)\n",
        "\n",
        "# 원-핫 벡터를 정수 인코딩으로 변경.\n",
        "labels = np.argmax(y_test[i], -1)\n",
        "\n",
        "print(\"{:15}|{:5}|{}\".format(\"단어\", \"실제값\", \"예측값\"))\n",
        "print(35 * \"-\")\n",
        "\n",
        "for word, tag, pred in zip(X_test[i], labels, y_predicted[0]):\n",
        "    if word != 0: # PAD값은 제외함.\n",
        "        print(\"{:17}: {:7} {}\".format(index_to_word[word], index_to_ner[tag].upper(), index_to_ner[pred].upper()))"
      ],
      "metadata": {
        "colab": {
          "base_uri": "https://localhost:8080/"
        },
        "id": "e-rm_UbGL2V6",
        "outputId": "21df04df-42f0-419b-be79-58e2a4e9d1a7"
      },
      "execution_count": 165,
      "outputs": [
        {
          "output_type": "stream",
          "name": "stdout",
          "text": [
            "단어             |실제값  |예측값\n",
            "-----------------------------------\n",
            "the              : O       O\n",
            "(                : O       O\n",
            "1                : O       O\n",
            ")                : O       O\n",
            "strip_tags       : O       O\n",
            ",                : O       O\n",
            "(                : O       O\n",
            "2                : O       O\n",
            ")                : O       O\n",
            "setcookie        : O       O\n",
            ",                : O       O\n",
            "(                : O       O\n",
            "3                : O       O\n",
            ")                : O       O\n",
            "OOV              : O       O\n",
            ",                : O       O\n",
            "(                : O       O\n",
            "4                : O       O\n",
            ")                : O       O\n",
            "OOV              : O       O\n",
            ",                : O       O\n",
            "(                : O       O\n",
            "5                : O       O\n",
            ")                : O       O\n",
            "OOV              : O       O\n",
            ",                : O       O\n",
            "and              : O       O\n",
            "(                : O       O\n",
            "6                : O       O\n",
            ")                : O       O\n",
            "OOV              : O       O\n",
            "functions        : O       O\n",
            "in               : O       O\n",
            "php              : SN      SN\n",
            "5.2              : SV      SV\n",
            "through          : SV      SV\n",
            "5.2.13           : SV      SV\n",
            "and              : SV      SV\n",
            "5.3              : SV      SV\n",
            "through          : SV      SV\n",
            "5.3.2            : SV      SV\n",
            "allow            : O       O\n",
            "context-dependent: O       O\n",
            "attackers        : O       O\n",
            "to               : O       O\n",
            "obtain           : O       O\n",
            "sensitive        : O       O\n",
            "information      : O       O\n",
            "(                : O       O\n",
            "memory           : O       O\n",
            "contents         : O       O\n",
            ")                : O       O\n",
            "by               : O       O\n",
            "causing          : O       O\n",
            "a                : O       O\n",
            "userspace        : O       O\n",
            "interruption     : O       O\n",
            "of               : O       O\n",
            "an               : O       O\n",
            "internal         : O       O\n",
            "function         : O       O\n",
            ",                : O       O\n",
            "related          : O       O\n",
            "to               : O       O\n",
            "the              : O       O\n",
            "call             : O       O\n",
            "time             : O       O\n",
            "pass             : O       O\n",
            "by               : O       O\n",
            "reference        : O       O\n",
            "feature          : O       O\n",
            ".                : O       O\n"
          ]
        }
      ]
    }
  ]
}