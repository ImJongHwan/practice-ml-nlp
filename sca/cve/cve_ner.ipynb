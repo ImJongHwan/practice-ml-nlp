{
  "nbformat": 4,
  "nbformat_minor": 0,
  "metadata": {
    "colab": {
      "name": "cve_ner.ipynb",
      "provenance": [],
      "authorship_tag": "ABX9TyMIkais6Q719uf9kj5liY2i",
      "include_colab_link": true
    },
    "kernelspec": {
      "name": "python3",
      "display_name": "Python 3"
    },
    "language_info": {
      "name": "python"
    }
  },
  "cells": [
    {
      "cell_type": "markdown",
      "metadata": {
        "id": "view-in-github",
        "colab_type": "text"
      },
      "source": [
        "<a href=\"https://colab.research.google.com/github/ImJongHwan/practice-ml-nlp/blob/main/sca/cve/cve_ner.ipynb\" target=\"_parent\"><img src=\"https://colab.research.google.com/assets/colab-badge.svg\" alt=\"Open In Colab\"/></a>"
      ]
    },
    {
      "cell_type": "code",
      "execution_count": 7,
      "metadata": {
        "id": "3A414gdTSvoc"
      },
      "outputs": [],
      "source": [
        "import re\n",
        "import numpy as np\n",
        "import matplotlib.pyplot as plt\n",
        "import urllib.request\n",
        "from tensorflow.keras.preprocessing.text import Tokenizer\n",
        "from tensorflow.keras.preprocessing.sequence import pad_sequences\n",
        "from tensorflow.keras.utils import to_categorical\n",
        "from sklearn.model_selection import train_test_split"
      ]
    },
    {
      "cell_type": "code",
      "source": [
        "def read_data(url, filename):\n",
        "  urllib.request.urlretrieve(url, filename=filename)\n",
        "\n",
        "  f = open(filename, 'r')\n",
        "  tagged_sentences = []\n",
        "  sentence = []\n",
        "\n",
        "  for line in f:\n",
        "    try :\n",
        "      strip_line = line.strip()\n",
        "      if len(strip_line) == 0 or strip_line[0] == '\\n':\n",
        "        if len(sentence) > 0:\n",
        "          tagged_sentences.append(sentence)\n",
        "          sentence = []\n",
        "        continue\n",
        "      splits = strip_line.split()\n",
        "      splits[-1] = re.sub(r'\\n', '', splits[-1])\n",
        "      word = splits[0].lower()\n",
        "      sentence.append([word, splits[-1]])\n",
        "    except IndexError:\n",
        "      print('Index Error: ' + line)\n",
        "  return tagged_sentences"
      ],
      "metadata": {
        "id": "MyqXkQUQWN6S"
      },
      "execution_count": 8,
      "outputs": []
    },
    {
      "cell_type": "code",
      "source": [
        "def merge_without_dup(sentences1, sentences2):\n",
        "  merged = sentences2\n",
        "  for sen in sentences1:\n",
        "    if sen not in sentences2:\n",
        "      merged.append(sen)\n",
        "\n",
        "  return merged"
      ],
      "metadata": {
        "id": "Gf4YabJQWtpR"
      },
      "execution_count": 9,
      "outputs": []
    },
    {
      "cell_type": "code",
      "source": [
        "base_url = 'https://raw.githubusercontent.com/pinkymm/inconsistency_detection/master/dataset/ner_data/'\n",
        "url_names = ['bypass', 'csrf', 'dirtra', 'dos', 'execution', 'fileinc', 'gainpre', 'httprs', 'infor', 'memc', 'overflow' ,'sqli', 'xss']\n",
        "\n",
        "merged = []\n",
        "\n",
        "for url_name in url_names:\n",
        "  filename_test = url_name + \"_test.txt\"\n",
        "  filename_train = url_name + \"_train.txt\"\n",
        "  merged = merge_without_dup(merged, read_data(base_url + filename_test, filename_test))\n",
        "  merged = merge_without_dup(merged, read_data(base_url + filename_train, filename_train))"
      ],
      "metadata": {
        "id": "3eYjvsoEZOHA"
      },
      "execution_count": 10,
      "outputs": []
    },
    {
      "cell_type": "code",
      "source": [
        "def read_file(filename):\n",
        "  f = open(filename, 'r')\n",
        "  tagged_sentences = []\n",
        "  sentence = []\n",
        "  sen_length = 100\n",
        "  i = 0\n",
        "\n",
        "  for line in f:\n",
        "    strip_line = line.strip()\n",
        "    if i >= sen_length:\n",
        "      tagged_sentences.append(sentence)\n",
        "      i = 0\n",
        "      sentence = []\n",
        "      continue\n",
        "    splits = strip_line.split()\n",
        "    splits[-1] = re.sub(r'\\n', '', splits[-1])\n",
        "    word = splits[0].lower()\n",
        "    sentence.append([word, splits[-1]])\n",
        "    i += 1\n",
        "  return tagged_sentences"
      ],
      "metadata": {
        "id": "xP9GEnRFy7kL"
      },
      "execution_count": 11,
      "outputs": []
    },
    {
      "cell_type": "code",
      "source": [
        "merged = merge_without_dup(merged, read_file('cve_product_bio.txt'))\n",
        "merged = merge_without_dup(merged, read_file('cve_vendor_bio.txt'))"
      ],
      "metadata": {
        "id": "w2t2mDNg1Dkc"
      },
      "execution_count": 12,
      "outputs": []
    },
    {
      "cell_type": "code",
      "source": [
        "print(f'전체 샘플 개수: {len(merged)}')"
      ],
      "metadata": {
        "colab": {
          "base_uri": "https://localhost:8080/"
        },
        "id": "g5bfCIzxZgD-",
        "outputId": "308f6117-33a2-45f7-dff8-9fab69886943"
      },
      "execution_count": 13,
      "outputs": [
        {
          "output_type": "stream",
          "name": "stdout",
          "text": [
            "전체 샘플 개수: 22015\n"
          ]
        }
      ]
    },
    {
      "cell_type": "code",
      "source": [
        "print('첫번째 샘플: ', merged[0])"
      ],
      "metadata": {
        "colab": {
          "base_uri": "https://localhost:8080/"
        },
        "id": "bMesIzhTV5Ax",
        "outputId": "5ed6443d-a0ab-4f46-942e-9d303237725b"
      },
      "execution_count": 14,
      "outputs": [
        {
          "output_type": "stream",
          "name": "stdout",
          "text": [
            "첫번째 샘플:  [['0verkill', 'VN'], ['1-script', 'VN'], ['10-4', 'VN'], ['aps', 'VN'], ['10-strike', 'VN'], ['1000guess', 'VN'], ['101', 'VN'], ['project', 'VN'], ['1024', 'VN'], ['cms', 'VN'], ['1024cms', 'VN'], ['1024tools', 'VN'], ['10web', 'VN'], ['111webcalendar', 'VN'], ['11in1', 'VN'], ['11xiaoli', 'VN'], ['project', 'VN'], ['1234n', 'VN'], ['123flashchat', 'VN'], ['129zou', 'VN'], ['12net', 'VN'], ['12planet', 'VN'], ['133', 'VN'], ['13enforme', 'VN'], ['13thmonkey', 'VN'], ['163', 'VN'], ['1800contacts', 'VN'], ['180solutions', 'VN'], ['1byte', 'VN'], ['1c', 'VN'], ['1cdn', 'VN'], ['project', 'VN'], ['1crm', 'VN'], ['1e', 'VN'], ['1kxun', 'VN'], ['1password', 'VN'], ['1scripts', 'VN'], ['1st', 'VN'], ['choice', 'VN'], ['software', 'VN'], ['1st', 'VN'], ['class', 'VN'], ['internet', 'VN'], ['solutions', 'VN'], ['1st', 'VN'], ['news', 'VN'], ['1two', 'VN'], ['1und1', 'VN'], ['1up', 'VN'], ['20', 'VN'], ['20', 'VN'], ['applications', 'VN'], ['21-6', 'VN'], ['productions', 'VN'], ['212cafe', 'VN'], ['21degrees', 'VN'], ['21st', 'VN'], ['century', 'VN'], ['insurance', 'VN'], ['2200net', 'VN'], ['22lixian', 'VN'], ['project', 'VN'], ['2345', 'VN'], ['security', 'VN'], ['guard', 'VN'], ['project', 'VN'], ['2345.cc', 'VN'], ['23andme', 'VN'], ['23systems', 'VN'], ['24link', 'VN'], ['2500mhz', 'VN'], ['2532gigs', 'VN'], ['26thavenue', 'VN'], ['29o3', 'VN'], ['cms', 'VN'], ['2bits', 'VN'], ['2brightsparks', 'VN'], ['2checkout', 'VN'], ['2coolcode', 'VN'], ['2daybiz', 'VN'], ['2enetworx', 'VN'], ['2fax', 'VN'], ['2fly', 'VN'], ['2g', 'VN'], ['live', 'VN'], ['tv', 'VN'], ['project', 'VN'], ['2glux', 'VN'], ['2kblater', 'VN'], ['2kgames', 'VN'], ['2n', 'VN'], ['2ndquadrant', 'VN'], ['2pisoftware', 'VN'], ['2rv', 'VN'], ['2sic', 'VN'], ['2wire', 'VN'], ['2wire', 'VN'], ['inc', 'VN'], ['2x', 'VN'], ['2z', 'VN']]\n"
          ]
        }
      ]
    },
    {
      "cell_type": "code",
      "source": [
        "sentences, ner_tags = [], []\n",
        "for tagged_sentence in merged:\n",
        "  try:\n",
        "    sentence, tag_info =  zip(*tagged_sentence)\n",
        "    sentences.append(list(sentence))\n",
        "    ner_tags.append(list(tag_info))\n",
        "  except ValueError:\n",
        "    print(tagged_sentence)"
      ],
      "metadata": {
        "id": "lzN6vb1rV-Cg"
      },
      "execution_count": 15,
      "outputs": []
    },
    {
      "cell_type": "code",
      "source": [
        "print('첫번째 샘플의 문장: ', sentences[0])\n",
        "print('첫번째 샘플의 레이블: ', ner_tags[0])"
      ],
      "metadata": {
        "colab": {
          "base_uri": "https://localhost:8080/"
        },
        "id": "WZV3virGWnk2",
        "outputId": "49adfb8e-fc23-4a96-b942-c32982f050e7"
      },
      "execution_count": 16,
      "outputs": [
        {
          "output_type": "stream",
          "name": "stdout",
          "text": [
            "첫번째 샘플의 문장:  ['0verkill', '1-script', '10-4', 'aps', '10-strike', '1000guess', '101', 'project', '1024', 'cms', '1024cms', '1024tools', '10web', '111webcalendar', '11in1', '11xiaoli', 'project', '1234n', '123flashchat', '129zou', '12net', '12planet', '133', '13enforme', '13thmonkey', '163', '1800contacts', '180solutions', '1byte', '1c', '1cdn', 'project', '1crm', '1e', '1kxun', '1password', '1scripts', '1st', 'choice', 'software', '1st', 'class', 'internet', 'solutions', '1st', 'news', '1two', '1und1', '1up', '20', '20', 'applications', '21-6', 'productions', '212cafe', '21degrees', '21st', 'century', 'insurance', '2200net', '22lixian', 'project', '2345', 'security', 'guard', 'project', '2345.cc', '23andme', '23systems', '24link', '2500mhz', '2532gigs', '26thavenue', '29o3', 'cms', '2bits', '2brightsparks', '2checkout', '2coolcode', '2daybiz', '2enetworx', '2fax', '2fly', '2g', 'live', 'tv', 'project', '2glux', '2kblater', '2kgames', '2n', '2ndquadrant', '2pisoftware', '2rv', '2sic', '2wire', '2wire', 'inc', '2x', '2z']\n",
            "첫번째 샘플의 레이블:  ['VN', 'VN', 'VN', 'VN', 'VN', 'VN', 'VN', 'VN', 'VN', 'VN', 'VN', 'VN', 'VN', 'VN', 'VN', 'VN', 'VN', 'VN', 'VN', 'VN', 'VN', 'VN', 'VN', 'VN', 'VN', 'VN', 'VN', 'VN', 'VN', 'VN', 'VN', 'VN', 'VN', 'VN', 'VN', 'VN', 'VN', 'VN', 'VN', 'VN', 'VN', 'VN', 'VN', 'VN', 'VN', 'VN', 'VN', 'VN', 'VN', 'VN', 'VN', 'VN', 'VN', 'VN', 'VN', 'VN', 'VN', 'VN', 'VN', 'VN', 'VN', 'VN', 'VN', 'VN', 'VN', 'VN', 'VN', 'VN', 'VN', 'VN', 'VN', 'VN', 'VN', 'VN', 'VN', 'VN', 'VN', 'VN', 'VN', 'VN', 'VN', 'VN', 'VN', 'VN', 'VN', 'VN', 'VN', 'VN', 'VN', 'VN', 'VN', 'VN', 'VN', 'VN', 'VN', 'VN', 'VN', 'VN', 'VN', 'VN']\n"
          ]
        }
      ]
    },
    {
      "cell_type": "code",
      "source": [
        "print('샘플의 최대 길이: %d' % max(len(sentence) for sentence in sentences))\n",
        "print('샘플의 평균 길이: %d' % (sum(map(len, sentences)) / len(sentences)))\n",
        "plt.hist([len(sentence) for sentence in sentences], bins=50)\n",
        "plt.xlabel('length of samples')\n",
        "plt.ylabel('number of samples')\n",
        "plt.show()"
      ],
      "metadata": {
        "colab": {
          "base_uri": "https://localhost:8080/",
          "height": 315
        },
        "id": "wW14dgk4WuIE",
        "outputId": "d1396b9a-0a23-4807-b822-26b5bc942f46"
      },
      "execution_count": 17,
      "outputs": [
        {
          "output_type": "stream",
          "name": "stdout",
          "text": [
            "샘플의 최대 길이: 198\n",
            "샘플의 평균 길이: 42\n"
          ]
        },
        {
          "output_type": "display_data",
          "data": {
            "text/plain": [
              "<Figure size 432x288 with 1 Axes>"
            ],
            "image/png": "[encoded data removed]"
          },
          "metadata": {
            "needs_background": "light"
          }
        }
      ]
    },
    {
      "cell_type": "code",
      "source": [
        "vocab_size = 22000\n",
        "src_tokenizer = Tokenizer(num_words=vocab_size, oov_token='OOV')\n",
        "src_tokenizer.fit_on_texts(sentences)\n",
        "\n",
        "tar_tokenizer = Tokenizer()\n",
        "tar_tokenizer.fit_on_texts(ner_tags)"
      ],
      "metadata": {
        "id": "QgqSEoxYY1Ea"
      },
      "execution_count": 18,
      "outputs": []
    },
    {
      "cell_type": "code",
      "source": [
        "tag_size = len(tar_tokenizer.word_index) + 1\n",
        "print(f'단어 집합의 크기: {vocab_size}')\n",
        "print(f'개체명 태깅 정보 집합의 크기: {tag_size}')"
      ],
      "metadata": {
        "colab": {
          "base_uri": "https://localhost:8080/"
        },
        "id": "LM52lRm4iHWZ",
        "outputId": "acd9a62f-c3c6-4884-f161-2ffa9709f924"
      },
      "execution_count": 19,
      "outputs": [
        {
          "output_type": "stream",
          "name": "stdout",
          "text": [
            "단어 집합의 크기: 22000\n",
            "개체명 태깅 정보 집합의 크기: 5\n"
          ]
        }
      ]
    },
    {
      "cell_type": "code",
      "source": [
        "X_train = src_tokenizer.texts_to_sequences(sentences)\n",
        "y_train = tar_tokenizer.texts_to_sequences(ner_tags)"
      ],
      "metadata": {
        "id": "EUgWL0T_idqw"
      },
      "execution_count": 20,
      "outputs": []
    },
    {
      "cell_type": "code",
      "source": [
        "print('첫번째 샘플의 문장: ', X_train[0])\n",
        "print('첫번째 샘플의 레이블: ', y_train[0])"
      ],
      "metadata": {
        "colab": {
          "base_uri": "https://localhost:8080/"
        },
        "id": "N6zMzmu6iqo2",
        "outputId": "c42f90cc-c264-4468-bf2c-037fad1d6e6f"
      },
      "execution_count": 21,
      "outputs": [
        {
          "output_type": "stream",
          "name": "stdout",
          "text": [
            "첫번째 샘플의 문장:  [1, 1, 1, 19055, 1, 1, 8333, 15, 3623, 99, 1, 1, 1, 1, 1, 1, 15, 1, 1, 1, 1, 1, 9456, 1, 1, 19056, 1, 1, 1, 1, 1, 15, 19057, 1, 1, 19058, 1, 3624, 4127, 86, 3624, 575, 77, 632, 3624, 366, 19059, 1, 1, 686, 686, 769, 1, 9457, 1, 1, 1, 11921, 3775, 1, 1, 15, 1, 47, 2924, 15, 1, 1, 1, 1, 1, 1, 1, 6117, 99, 1, 1, 1, 1, 1, 1, 1, 1, 14089, 612, 1046, 15, 19060, 1, 1, 19061, 1, 1, 1, 1, 1, 1, 1303, 6654, 19062]\n",
            "첫번째 샘플의 레이블:  [3, 3, 3, 3, 3, 3, 3, 3, 3, 3, 3, 3, 3, 3, 3, 3, 3, 3, 3, 3, 3, 3, 3, 3, 3, 3, 3, 3, 3, 3, 3, 3, 3, 3, 3, 3, 3, 3, 3, 3, 3, 3, 3, 3, 3, 3, 3, 3, 3, 3, 3, 3, 3, 3, 3, 3, 3, 3, 3, 3, 3, 3, 3, 3, 3, 3, 3, 3, 3, 3, 3, 3, 3, 3, 3, 3, 3, 3, 3, 3, 3, 3, 3, 3, 3, 3, 3, 3, 3, 3, 3, 3, 3, 3, 3, 3, 3, 3, 3, 3]\n"
          ]
        }
      ]
    },
    {
      "cell_type": "code",
      "source": [
        "index_to_word = src_tokenizer.index_word\n",
        "index_to_ner = tar_tokenizer.index_word"
      ],
      "metadata": {
        "id": "Fiv8_Xv0ivbM"
      },
      "execution_count": 22,
      "outputs": []
    },
    {
      "cell_type": "code",
      "source": [
        "decoded = []\n",
        "for index in X_train[0]:\n",
        "  decoded.append(index_to_word[index])\n",
        "\n",
        "print(f'기존 문장: {sentences[0]}')\n",
        "print(f'빈도수가 낮은 단어가 OOV 처리된 문장: {decoded}')"
      ],
      "metadata": {
        "colab": {
          "base_uri": "https://localhost:8080/"
        },
        "id": "Jh-9y-tmkU90",
        "outputId": "bd7e05b7-bc6e-4bb9-8525-ee30b7865a7b"
      },
      "execution_count": 23,
      "outputs": [
        {
          "output_type": "stream",
          "name": "stdout",
          "text": [
            "기존 문장: ['0verkill', '1-script', '10-4', 'aps', '10-strike', '1000guess', '101', 'project', '1024', 'cms', '1024cms', '1024tools', '10web', '111webcalendar', '11in1', '11xiaoli', 'project', '1234n', '123flashchat', '129zou', '12net', '12planet', '133', '13enforme', '13thmonkey', '163', '1800contacts', '180solutions', '1byte', '1c', '1cdn', 'project', '1crm', '1e', '1kxun', '1password', '1scripts', '1st', 'choice', 'software', '1st', 'class', 'internet', 'solutions', '1st', 'news', '1two', '1und1', '1up', '20', '20', 'applications', '21-6', 'productions', '212cafe', '21degrees', '21st', 'century', 'insurance', '2200net', '22lixian', 'project', '2345', 'security', 'guard', 'project', '2345.cc', '23andme', '23systems', '24link', '2500mhz', '2532gigs', '26thavenue', '29o3', 'cms', '2bits', '2brightsparks', '2checkout', '2coolcode', '2daybiz', '2enetworx', '2fax', '2fly', '2g', 'live', 'tv', 'project', '2glux', '2kblater', '2kgames', '2n', '2ndquadrant', '2pisoftware', '2rv', '2sic', '2wire', '2wire', 'inc', '2x', '2z']\n",
            "빈도수가 낮은 단어가 OOV 처리된 문장: ['OOV', 'OOV', 'OOV', 'aps', 'OOV', 'OOV', '101', 'project', '1024', 'cms', 'OOV', 'OOV', 'OOV', 'OOV', 'OOV', 'OOV', 'project', 'OOV', 'OOV', 'OOV', 'OOV', 'OOV', '133', 'OOV', 'OOV', '163', 'OOV', 'OOV', 'OOV', 'OOV', 'OOV', 'project', '1crm', 'OOV', 'OOV', '1password', 'OOV', '1st', 'choice', 'software', '1st', 'class', 'internet', 'solutions', '1st', 'news', '1two', 'OOV', 'OOV', '20', '20', 'applications', 'OOV', 'productions', 'OOV', 'OOV', 'OOV', 'century', 'insurance', 'OOV', 'OOV', 'project', 'OOV', 'security', 'guard', 'project', 'OOV', 'OOV', 'OOV', 'OOV', 'OOV', 'OOV', 'OOV', '29o3', 'cms', 'OOV', 'OOV', 'OOV', 'OOV', 'OOV', 'OOV', 'OOV', 'OOV', '2g', 'live', 'tv', 'project', '2glux', 'OOV', 'OOV', '2n', 'OOV', 'OOV', 'OOV', 'OOV', 'OOV', 'OOV', 'inc', '2x', '2z']\n"
          ]
        }
      ]
    },
    {
      "cell_type": "code",
      "source": [
        "max_len = 200\n",
        "X_train = pad_sequences(X_train, padding='post', maxlen=max_len)\n",
        "y_train = pad_sequences(y_train, padding='post', maxlen=max_len)"
      ],
      "metadata": {
        "id": "ZB_G0FY3kj9o"
      },
      "execution_count": 24,
      "outputs": []
    },
    {
      "cell_type": "code",
      "source": [
        "y_train[1]"
      ],
      "metadata": {
        "colab": {
          "base_uri": "https://localhost:8080/"
        },
        "id": "8crAQMnJK28b",
        "outputId": "12dc044a-efc2-475b-f198-fef7b6e40473"
      },
      "execution_count": 25,
      "outputs": [
        {
          "output_type": "execute_result",
          "data": {
            "text/plain": [
              "array([3, 3, 3, 3, 3, 3, 3, 3, 3, 3, 3, 3, 3, 3, 3, 3, 3, 3, 3, 3, 3, 3,\n",
              "       3, 3, 3, 3, 3, 3, 3, 3, 3, 3, 3, 3, 3, 3, 3, 3, 3, 3, 3, 3, 3, 3,\n",
              "       3, 3, 3, 3, 3, 3, 3, 3, 3, 3, 3, 3, 3, 3, 3, 3, 3, 3, 3, 3, 3, 3,\n",
              "       3, 3, 3, 3, 3, 3, 3, 3, 3, 3, 3, 3, 3, 3, 3, 3, 3, 3, 3, 3, 3, 3,\n",
              "       3, 3, 3, 3, 3, 3, 3, 3, 3, 3, 3, 3, 0, 0, 0, 0, 0, 0, 0, 0, 0, 0,\n",
              "       0, 0, 0, 0, 0, 0, 0, 0, 0, 0, 0, 0, 0, 0, 0, 0, 0, 0, 0, 0, 0, 0,\n",
              "       0, 0, 0, 0, 0, 0, 0, 0, 0, 0, 0, 0, 0, 0, 0, 0, 0, 0, 0, 0, 0, 0,\n",
              "       0, 0, 0, 0, 0, 0, 0, 0, 0, 0, 0, 0, 0, 0, 0, 0, 0, 0, 0, 0, 0, 0,\n",
              "       0, 0, 0, 0, 0, 0, 0, 0, 0, 0, 0, 0, 0, 0, 0, 0, 0, 0, 0, 0, 0, 0,\n",
              "       0, 0], dtype=int32)"
            ]
          },
          "metadata": {},
          "execution_count": 25
        }
      ]
    },
    {
      "cell_type": "code",
      "source": [
        "X_train, X_test, y_train, y_test = train_test_split(X_train, y_train, test_size=.2, random_state=777)"
      ],
      "metadata": {
        "id": "sYJ2SvYrlwqJ"
      },
      "execution_count": 26,
      "outputs": []
    },
    {
      "cell_type": "code",
      "source": [
        "y_train = to_categorical(y_train, num_classes=tag_size)\n",
        "y_test = to_categorical(y_test, num_classes=tag_size)"
      ],
      "metadata": {
        "id": "wjsU6oJfDRFh"
      },
      "execution_count": 27,
      "outputs": []
    },
    {
      "cell_type": "code",
      "source": [
        "print('훈련 샘플 문장의 크기 : {}'.format(X_train.shape))\n",
        "print('훈련 샘플 레이블의 크기 : {}'.format(y_train.shape))\n",
        "print('테스트 샘플 문장의 크기 : {}'.format(X_test.shape))\n",
        "print('테스트 샘플 레이블의 크기 : {}'.format(y_test.shape))"
      ],
      "metadata": {
        "colab": {
          "base_uri": "https://localhost:8080/"
        },
        "id": "6eUBuCC3DYNQ",
        "outputId": "4888edce-505c-49de-a832-040aa08901aa"
      },
      "execution_count": 28,
      "outputs": [
        {
          "output_type": "stream",
          "name": "stdout",
          "text": [
            "훈련 샘플 문장의 크기 : (17612, 200)\n",
            "훈련 샘플 레이블의 크기 : (17612, 200, 5)\n",
            "테스트 샘플 문장의 크기 : (4403, 200)\n",
            "테스트 샘플 레이블의 크기 : (4403, 200, 5)\n"
          ]
        }
      ]
    },
    {
      "cell_type": "code",
      "source": [
        "from tensorflow.keras.models import Sequential\n",
        "from tensorflow.keras.layers import Dense, Embedding, LSTM, Bidirectional, TimeDistributed\n",
        "from tensorflow.keras.optimizers import Adam"
      ],
      "metadata": {
        "id": "mYCQb1JwDZZO"
      },
      "execution_count": 29,
      "outputs": []
    },
    {
      "cell_type": "code",
      "source": [
        "embedding_dim = 128\n",
        "hidden_units = 128\n",
        "\n",
        "model = Sequential()\n",
        "model.add(Embedding(input_dim=vocab_size, output_dim=embedding_dim, input_length=max_len, mask_zero=True))\n",
        "model.add(Bidirectional(LSTM(hidden_units, return_sequences=True)))\n",
        "model.add(TimeDistributed(Dense(tag_size, activation='softmax')))\n",
        "\n",
        "model.compile(loss='categorical_crossentropy', optimizer=Adam(0.001), metrics=['accuracy'])\n",
        "model.fit(X_train, y_train, batch_size=128, epochs=8, validation_data=(X_test, y_test))"
      ],
      "metadata": {
        "colab": {
          "base_uri": "https://localhost:8080/"
        },
        "id": "M4e5GHzsG8RS",
        "outputId": "438872f1-80d3-49bd-b642-baaa320eddce"
      },
      "execution_count": 30,
      "outputs": [
        {
          "output_type": "stream",
          "name": "stdout",
          "text": [
            "Epoch 1/8\n",
            "138/138 [==============================] - 280s 2s/step - loss: 0.0824 - accuracy: 0.8881 - val_loss: 0.0266 - val_accuracy: 0.9625\n",
            "Epoch 2/8\n",
            "138/138 [==============================] - 265s 2s/step - loss: 0.0176 - accuracy: 0.9745 - val_loss: 0.0154 - val_accuracy: 0.9779\n",
            "Epoch 3/8\n",
            "138/138 [==============================] - 263s 2s/step - loss: 0.0084 - accuracy: 0.9884 - val_loss: 0.0137 - val_accuracy: 0.9821\n",
            "Epoch 4/8\n",
            "138/138 [==============================] - 263s 2s/step - loss: 0.0059 - accuracy: 0.9919 - val_loss: 0.0119 - val_accuracy: 0.9851\n",
            "Epoch 5/8\n",
            "138/138 [==============================] - 265s 2s/step - loss: 0.0043 - accuracy: 0.9941 - val_loss: 0.0110 - val_accuracy: 0.9867\n",
            "Epoch 6/8\n",
            "138/138 [==============================] - 263s 2s/step - loss: 0.0055 - accuracy: 0.9920 - val_loss: 0.0120 - val_accuracy: 0.9858\n",
            "Epoch 7/8\n",
            "138/138 [==============================] - 264s 2s/step - loss: 0.0037 - accuracy: 0.9950 - val_loss: 0.0146 - val_accuracy: 0.9855\n",
            "Epoch 8/8\n",
            "138/138 [==============================] - 265s 2s/step - loss: 0.0038 - accuracy: 0.9953 - val_loss: 0.0233 - val_accuracy: 0.9803\n"
          ]
        },
        {
          "output_type": "execute_result",
          "data": {
            "text/plain": [
              "<keras.callbacks.History at 0x7efbf935cc10>"
            ]
          },
          "metadata": {},
          "execution_count": 30
        }
      ]
    },
    {
      "cell_type": "code",
      "source": [
        "print(\"\\n 테스트 정확도: %.4f\" % (model.evaluate(X_test, y_test)[1]))"
      ],
      "metadata": {
        "colab": {
          "base_uri": "https://localhost:8080/"
        },
        "id": "skGLMAa5HU23",
        "outputId": "a2d2f0e5-1e83-4e5b-8761-e4a8a6e39a43"
      },
      "execution_count": 31,
      "outputs": [
        {
          "output_type": "stream",
          "name": "stdout",
          "text": [
            "138/138 [==============================] - 18s 132ms/step - loss: 0.0233 - accuracy: 0.9803\n",
            "\n",
            " 테스트 정확도: 0.9803\n"
          ]
        }
      ]
    },
    {
      "cell_type": "code",
      "source": [
        "i = 10 # 확인하고 싶은 테스트용 샘플의 인덱스.\n",
        "\n",
        "# 입력한 테스트용 샘플에 대해서 예측 y를 리턴\n",
        "y_predicted = model.predict(np.array([X_test[i]]))\n",
        "\n",
        "# 확률 벡터를 정수 레이블로 변경.\n",
        "y_predicted = np.argmax(y_predicted, axis=-1)\n",
        "\n",
        "# 원-핫 벡터를 정수 인코딩으로 변경.\n",
        "labels = np.argmax(y_test[i], -1)\n",
        "\n",
        "print(\"{:15}|{:5}|{}\".format(\"단어\", \"실제값\", \"예측값\"))\n",
        "print(35 * \"-\")\n",
        "\n",
        "for word, tag, pred in zip(X_test[i], labels, y_predicted[0]):\n",
        "    if word != 0: # PAD값은 제외함.\n",
        "        print(\"{:17}: {:7} {}\".format(index_to_word[word], index_to_ner[tag].upper(), index_to_ner[pred].upper()))"
      ],
      "metadata": {
        "colab": {
          "base_uri": "https://localhost:8080/"
        },
        "id": "e-rm_UbGL2V6",
        "outputId": "0b3c3ed1-164b-45c9-f3d2-cd5198c1c379"
      },
      "execution_count": 32,
      "outputs": [
        {
          "output_type": "stream",
          "name": "stdout",
          "text": [
            "단어             |실제값  |예측값\n",
            "-----------------------------------\n",
            "a                : O       O\n",
            "remote           : O       O\n",
            "code             : O       O\n",
            "execution        : O       O\n",
            "vulnerability    : O       O\n",
            "in               : O       O\n",
            "libstagefright   : O       O\n",
            "in               : O       O\n",
            "mediaserver      : O       O\n",
            "in               : O       O\n",
            "android          : SN      SN\n",
            "7.0              : SV      SV\n",
            "before           : SV      SV\n",
            "OOV              : SV      SV\n",
            "could            : O       O\n",
            "enable           : O       O\n",
            "an               : O       O\n",
            "attacker         : O       O\n",
            "using            : O       O\n",
            "a                : O       O\n",
            "specially        : O       O\n",
            "crafted          : O       O\n",
            "file             : O       O\n",
            "to               : O       O\n",
            "cause            : O       O\n",
            "memory           : O       O\n",
            "corruption       : O       O\n",
            "during           : O       O\n",
            "media            : O       O\n",
            "file             : O       O\n",
            "and              : O       O\n",
            "data             : O       O\n",
            "processing       : O       O\n",
            ".                : O       O\n"
          ]
        }
      ]
    },
    {
      "cell_type": "code",
      "source": [
        "import csv\n",
        "import sys"
      ],
      "metadata": {
        "id": "xgdQ0y0WBvG6"
      },
      "execution_count": 33,
      "outputs": []
    },
    {
      "cell_type": "code",
      "source": [
        "csv_file = open('cve_contents.csv', 'r')\n",
        "rdr = csv.reader(csv_file)\n",
        "\n",
        "max_int = sys.maxsize\n",
        "while True:\n",
        "  try:\n",
        "    csv.field_size_limit(max_int)\n",
        "    break;\n",
        "  except OverflowError:\n",
        "    max_int = int(max_int/10)\n",
        "\n",
        "contents = []\n",
        "for line in rdr:\n",
        "  contents.append(line[1])\n",
        "\n",
        "print(len(contents))"
      ],
      "metadata": {
        "id": "--Ld9p10Bypt",
        "outputId": "b29c22ea-b0e6-44e0-8275-611ef7c2a81d",
        "colab": {
          "base_uri": "https://localhost:8080/"
        }
      },
      "execution_count": 34,
      "outputs": [
        {
          "output_type": "stream",
          "name": "stdout",
          "text": [
            "99300\n"
          ]
        }
      ]
    },
    {
      "cell_type": "code",
      "source": [
        "from nltk.tokenize import sent_tokenize\n",
        "from nltk.tokenize import word_tokenize\n",
        "\n",
        "import nltk\n",
        "\n",
        "nltk.download('punkt')"
      ],
      "metadata": {
        "id": "UV52a1AKKyBf",
        "outputId": "67e86670-eb0b-4532-f7a3-7a462163de10",
        "colab": {
          "base_uri": "https://localhost:8080/"
        }
      },
      "execution_count": 35,
      "outputs": [
        {
          "output_type": "stream",
          "name": "stdout",
          "text": [
            "[nltk_data] Downloading package punkt to /root/nltk_data...\n",
            "[nltk_data]   Unzipping tokenizers/punkt.zip.\n"
          ]
        },
        {
          "output_type": "execute_result",
          "data": {
            "text/plain": [
              "True"
            ]
          },
          "metadata": {},
          "execution_count": 35
        }
      ]
    },
    {
      "cell_type": "code",
      "source": [
        "preprocess = []\n",
        "for content in contents:\n",
        "  tokenized_sentences = sent_tokenize(content)\n",
        "  for tokenized_sentence in tokenized_sentences:\n",
        "    tokenized_words = word_tokenize(tokenized_sentence)\n",
        "    preprocessed_words = []\n",
        "    for tokenized_word in tokenized_words:\n",
        "      preprocessed_words.append(tokenized_word.lower())\n",
        "    preprocess.append(preprocessed_words)\n",
        "\n",
        "len(preprocess)"
      ],
      "metadata": {
        "id": "QZbyDgqFOccv",
        "outputId": "091fd95b-95b3-4a66-ea6e-d10034daa61d",
        "colab": {
          "base_uri": "https://localhost:8080/"
        }
      },
      "execution_count": 36,
      "outputs": [
        {
          "output_type": "execute_result",
          "data": {
            "text/plain": [
              "210471"
            ]
          },
          "metadata": {},
          "execution_count": 36
        }
      ]
    },
    {
      "cell_type": "code",
      "source": [
        "preprocess[0]"
      ],
      "metadata": {
        "id": "xxmVmcPYUfwu",
        "outputId": "65967ea7-a45f-4a22-d6a4-ec7a31179948",
        "colab": {
          "base_uri": "https://localhost:8080/"
        }
      },
      "execution_count": 37,
      "outputs": [
        {
          "output_type": "execute_result",
          "data": {
            "text/plain": [
              "['a',\n",
              " 'flaw',\n",
              " 'was',\n",
              " 'found',\n",
              " 'in',\n",
              " 'the',\n",
              " 'virtio-net',\n",
              " 'device',\n",
              " 'of',\n",
              " 'qemu',\n",
              " '.']"
            ]
          },
          "metadata": {},
          "execution_count": 37
        }
      ]
    },
    {
      "cell_type": "code",
      "source": [
        "print('샘플의 최대 길이: %d' % max(len(pre) for pre in preprocess))\n",
        "print('샘플의 평균 길이: %d' % (sum(map(len, preprocess)) / len(preprocess)))\n",
        "plt.hist([len(sentence) for sentence in preprocess], bins=50)\n",
        "plt.xlabel('length of samples')\n",
        "plt.ylabel('number of samples')\n",
        "plt.show()"
      ],
      "metadata": {
        "id": "AaqYzGSuWl-i",
        "outputId": "1070e0f0-3e1b-4fb3-e6a1-7968b5e522a7",
        "colab": {
          "base_uri": "https://localhost:8080/",
          "height": 315
        }
      },
      "execution_count": 38,
      "outputs": [
        {
          "output_type": "stream",
          "name": "stdout",
          "text": [
            "샘플의 최대 길이: 966\n",
            "샘플의 평균 길이: 24\n"
          ]
        },
        {
          "output_type": "display_data",
          "data": {
            "text/plain": [
              "<Figure size 432x288 with 1 Axes>"
            ],
            "image/png": "[encoded data removed]"
          },
          "metadata": {
            "needs_background": "light"
          }
        }
      ]
    },
    {
      "cell_type": "code",
      "source": [
        "target_vocab_size = 22000\n",
        "target_tokenizer = Tokenizer(num_words=target_vocab_size, oov_token='OOV')\n",
        "target_tokenizer.fit_on_texts(preprocess)"
      ],
      "metadata": {
        "id": "6jH4vHJwX6g7"
      },
      "execution_count": 39,
      "outputs": []
    },
    {
      "cell_type": "code",
      "source": [
        "z_test = target_tokenizer.texts_to_sequences(preprocess)"
      ],
      "metadata": {
        "id": "MOxE_WHMYMJf"
      },
      "execution_count": 40,
      "outputs": []
    },
    {
      "cell_type": "code",
      "source": [
        "target_index_to_word = target_tokenizer.index_word"
      ],
      "metadata": {
        "id": "_V3iju0PYwys"
      },
      "execution_count": 41,
      "outputs": []
    },
    {
      "cell_type": "code",
      "source": [
        "decoded_target = []\n",
        "for index in z_test[0]:\n",
        "  decoded_target.append(target_index_to_word[index])\n",
        "\n",
        "print(f'기존 문장: {preprocess[0]}')\n",
        "print(f'빈도수가 낮은 단어가 OOV 처리된 문장: {decoded_target}')"
      ],
      "metadata": {
        "id": "SUKcg27NY7pM",
        "outputId": "17c08b0a-f5fa-452a-d07d-daf2fc77ae7f",
        "colab": {
          "base_uri": "https://localhost:8080/"
        }
      },
      "execution_count": 42,
      "outputs": [
        {
          "output_type": "stream",
          "name": "stdout",
          "text": [
            "기존 문장: ['a', 'flaw', 'was', 'found', 'in', 'the', 'virtio-net', 'device', 'of', 'qemu', '.']\n",
            "빈도수가 낮은 단어가 OOV 처리된 문장: ['a', 'flaw', 'was', 'found', 'in', 'the', 'OOV', 'device', 'of', 'qemu', '.']\n"
          ]
        }
      ]
    },
    {
      "cell_type": "code",
      "source": [
        "max_len = 200\n",
        "z_test = pad_sequences(z_test, padding='post', maxlen=max_len)"
      ],
      "metadata": {
        "id": "kOl8Y4faZHJq"
      },
      "execution_count": 43,
      "outputs": []
    },
    {
      "cell_type": "code",
      "source": [
        "z_test[1]"
      ],
      "metadata": {
        "id": "zbwQuzcic6R7",
        "outputId": "b676ec22-ed66-4732-d48f-0ff4db9f5991",
        "colab": {
          "base_uri": "https://localhost:8080/"
        }
      },
      "execution_count": 44,
      "outputs": [
        {
          "output_type": "execute_result",
          "data": {
            "text/plain": [
              "array([   17,   205,    50,  3974,  1979,    25,     4,   528,    26,\n",
              "           1,     2,    44,  5938,     5, 11566,     4,  2381, 21212,\n",
              "         955,    32,   273,     2,   235,     5,    59,  1514,     8,\n",
              "         104,  1132,   366,     3,     0,     0,     0,     0,     0,\n",
              "           0,     0,     0,     0,     0,     0,     0,     0,     0,\n",
              "           0,     0,     0,     0,     0,     0,     0,     0,     0,\n",
              "           0,     0,     0,     0,     0,     0,     0,     0,     0,\n",
              "           0,     0,     0,     0,     0,     0,     0,     0,     0,\n",
              "           0,     0,     0,     0,     0,     0,     0,     0,     0,\n",
              "           0,     0,     0,     0,     0,     0,     0,     0,     0,\n",
              "           0,     0,     0,     0,     0,     0,     0,     0,     0,\n",
              "           0,     0,     0,     0,     0,     0,     0,     0,     0,\n",
              "           0,     0,     0,     0,     0,     0,     0,     0,     0,\n",
              "           0,     0,     0,     0,     0,     0,     0,     0,     0,\n",
              "           0,     0,     0,     0,     0,     0,     0,     0,     0,\n",
              "           0,     0,     0,     0,     0,     0,     0,     0,     0,\n",
              "           0,     0,     0,     0,     0,     0,     0,     0,     0,\n",
              "           0,     0,     0,     0,     0,     0,     0,     0,     0,\n",
              "           0,     0,     0,     0,     0,     0,     0,     0,     0,\n",
              "           0,     0,     0,     0,     0,     0,     0,     0,     0,\n",
              "           0,     0,     0,     0,     0,     0,     0,     0,     0,\n",
              "           0,     0,     0,     0,     0,     0,     0,     0,     0,\n",
              "           0,     0], dtype=int32)"
            ]
          },
          "metadata": {},
          "execution_count": 44
        }
      ]
    },
    {
      "cell_type": "code",
      "source": [
        "print(f'타겟 샘플 문장의 크기: ', z_test.shape)"
      ],
      "metadata": {
        "id": "jZ1E4S6SayIA",
        "outputId": "4d7d1891-e1a0-474d-8695-cca1bfd14c5a",
        "colab": {
          "base_uri": "https://localhost:8080/"
        }
      },
      "execution_count": 45,
      "outputs": [
        {
          "output_type": "stream",
          "name": "stdout",
          "text": [
            "타겟 샘플 문장의 크기:  (210471, 200)\n"
          ]
        }
      ]
    },
    {
      "cell_type": "code",
      "source": [
        "i = 90 # 확인하고 싶은 테스트용 샘플의 인덱스.\n",
        "\n",
        "print(z_test[i])\n",
        "# 입력한 테스트용 샘플에 대해서 예측 y를 리턴\n",
        "z_predicted = model.predict(np.array([z_test[i]]))\n",
        "\n",
        "# 확률 벡터를 정수 레이블로 변경.\n",
        "z_predicted = np.argmax(z_predicted, axis=-1)\n",
        "\n",
        "print(\"{:15}|{}\".format(\"단어\", \"예측값\"))\n",
        "print(30 * \"-\")\n",
        "\n",
        "for word, pred in zip(z_test[i], z_predicted[0]):\n",
        "    if word != 0: # PAD값은 제외함.\n",
        "        print(\"{:17}: {}\".format(index_to_word[word], index_to_ner[pred].upper()))"
      ],
      "metadata": {
        "id": "bnwpITrba4X3",
        "outputId": "2be29205-d903-4bfe-a55f-f5963344c9ff",
        "colab": {
          "base_uri": "https://localhost:8080/"
        }
      },
      "execution_count": 55,
      "outputs": [
        {
          "output_type": "stream",
          "name": "stdout",
          "text": [
            "[ 40  29  17  12  16   4   1 221 822   3   0   0   0   0   0   0   0   0\n",
            "   0   0   0   0   0   0   0   0   0   0   0   0   0   0   0   0   0   0\n",
            "   0   0   0   0   0   0   0   0   0   0   0   0   0   0   0   0   0   0\n",
            "   0   0   0   0   0   0   0   0   0   0   0   0   0   0   0   0   0   0\n",
            "   0   0   0   0   0   0   0   0   0   0   0   0   0   0   0   0   0   0\n",
            "   0   0   0   0   0   0   0   0   0   0   0   0   0   0   0   0   0   0\n",
            "   0   0   0   0   0   0   0   0   0   0   0   0   0   0   0   0   0   0\n",
            "   0   0   0   0   0   0   0   0   0   0   0   0   0   0   0   0   0   0\n",
            "   0   0   0   0   0   0   0   0   0   0   0   0   0   0   0   0   0   0\n",
            "   0   0   0   0   0   0   0   0   0   0   0   0   0   0   0   0   0   0\n",
            "   0   0   0   0   0   0   0   0   0   0   0   0   0   0   0   0   0   0\n",
            "   0   0]\n",
            "단어             |예측값\n",
            "------------------------------\n",
            "file             : O\n",
            "service          : O\n",
            "remote           : O\n",
            "in               : O\n",
            "vulnerability    : O\n",
            "(                : SN\n",
            "OOV              : SN\n",
            "dc               : SN\n",
            "max              : SN\n",
            "firmware         : SN\n"
          ]
        }
      ]
    },
    {
      "cell_type": "code",
      "source": [
        ""
      ],
      "metadata": {
        "id": "yeiY3M1bepfj"
      },
      "execution_count": null,
      "outputs": []
    }
  ]
}