{
  "nbformat": 4,
  "nbformat_minor": 0,
  "metadata": {
    "colab": {
      "name": "2_Part-of-speech_Tagging_using_Bi-LSTM.ipynb",
      "provenance": [],
      "authorship_tag": "ABX9TyPkutOZKhLkgRFVUWn5c1Hk",
      "include_colab_link": true
    },
    "kernelspec": {
      "name": "python3",
      "display_name": "Python 3"
    },
    "language_info": {
      "name": "python"
    }
  },
  "cells": [
    {
      "cell_type": "markdown",
      "metadata": {
        "id": "view-in-github",
        "colab_type": "text"
      },
      "source": [
        "<a href=\"https://colab.research.google.com/github/ImJongHwan/practice-ml-nlp/blob/main/12_tagging_task/2_Part_of_speech_Tagging_using_Bi_LSTM.ipynb\" target=\"_parent\"><img src=\"https://colab.research.google.com/assets/colab-badge.svg\" alt=\"Open In Colab\"/></a>"
      ]
    },
    {
      "cell_type": "markdown",
      "source": [
        "# 양방향 LSTM를 이용한 품사 태깅(Part-of-speech Tagging using Bi-LSTM)\n",
        "\n",
        "https://wikidocs.net/33532"
      ],
      "metadata": {
        "id": "nHuoQFWqpSFT"
      }
    },
    {
      "cell_type": "markdown",
      "source": [
        "## 품사 태깅 데이터에 대한 이해와 전처리"
      ],
      "metadata": {
        "id": "pjOz1wBTpVM7"
      }
    },
    {
      "cell_type": "code",
      "execution_count": 4,
      "metadata": {
        "colab": {
          "base_uri": "https://localhost:8080/"
        },
        "id": "8ISuiwfbpIu6",
        "outputId": "e171c2f3-40c6-4c50-ed3e-6c7e0bbb9914"
      },
      "outputs": [
        {
          "output_type": "stream",
          "name": "stdout",
          "text": [
            "[nltk_data] Downloading package treebank to /root/nltk_data...\n",
            "[nltk_data]   Unzipping corpora/treebank.zip.\n"
          ]
        },
        {
          "output_type": "execute_result",
          "data": {
            "text/plain": [
              "True"
            ]
          },
          "metadata": {},
          "execution_count": 4
        }
      ],
      "source": [
        "import nltk\n",
        "import numpy as np\n",
        "import matplotlib.pyplot as plt\n",
        "from tensorflow.keras.preprocessing.text import Tokenizer\n",
        "from tensorflow.keras.preprocessing.sequence import pad_sequences\n",
        "from tensorflow.keras.utils import to_categorical\n",
        "from sklearn.model_selection import train_test_split\n",
        "\n",
        "import nltk\n",
        "nltk.download('treebank')"
      ]
    },
    {
      "cell_type": "code",
      "source": [
        "tagged_sentences = nltk.corpus.treebank.tagged_sents()\n",
        "print('품사 태깅이 된 문장 개수: ', len(tagged_sentences))"
      ],
      "metadata": {
        "colab": {
          "base_uri": "https://localhost:8080/"
        },
        "id": "tViEmgLKzXzU",
        "outputId": "54e57250-9ebd-4835-b261-83480316ddad"
      },
      "execution_count": 5,
      "outputs": [
        {
          "output_type": "stream",
          "name": "stdout",
          "text": [
            "품사 태깅이 된 문장 개수:  3914\n"
          ]
        }
      ]
    },
    {
      "cell_type": "code",
      "source": [
        "print(tagged_sentences[0])"
      ],
      "metadata": {
        "colab": {
          "base_uri": "https://localhost:8080/"
        },
        "id": "MwVahoJ4zkET",
        "outputId": "83557a10-9d8c-4247-ee8f-6707027516cf"
      },
      "execution_count": 6,
      "outputs": [
        {
          "output_type": "stream",
          "name": "stdout",
          "text": [
            "[('Pierre', 'NNP'), ('Vinken', 'NNP'), (',', ','), ('61', 'CD'), ('years', 'NNS'), ('old', 'JJ'), (',', ','), ('will', 'MD'), ('join', 'VB'), ('the', 'DT'), ('board', 'NN'), ('as', 'IN'), ('a', 'DT'), ('nonexecutive', 'JJ'), ('director', 'NN'), ('Nov.', 'NNP'), ('29', 'CD'), ('.', '.')]\n"
          ]
        }
      ]
    },
    {
      "cell_type": "code",
      "source": [
        "sentences, pos_tags = [], []\n",
        "for tagged_sentence in tagged_sentences:\n",
        "  sentence, tag_info = zip(*tagged_sentence)\n",
        "  sentences.append(list(sentence))\n",
        "  pos_tags.append(list(tag_info))"
      ],
      "metadata": {
        "id": "97MVPoYgzp_9"
      },
      "execution_count": 8,
      "outputs": []
    },
    {
      "cell_type": "code",
      "source": [
        "print(sentences[0])\n",
        "print(pos_tags[0])"
      ],
      "metadata": {
        "colab": {
          "base_uri": "https://localhost:8080/"
        },
        "id": "LwfxVaCL1Lq7",
        "outputId": "702bec82-a7f2-46b9-bc54-89e12b5da295"
      },
      "execution_count": 9,
      "outputs": [
        {
          "output_type": "stream",
          "name": "stdout",
          "text": [
            "['Pierre', 'Vinken', ',', '61', 'years', 'old', ',', 'will', 'join', 'the', 'board', 'as', 'a', 'nonexecutive', 'director', 'Nov.', '29', '.']\n",
            "['NNP', 'NNP', ',', 'CD', 'NNS', 'JJ', ',', 'MD', 'VB', 'DT', 'NN', 'IN', 'DT', 'JJ', 'NN', 'NNP', 'CD', '.']\n"
          ]
        }
      ]
    },
    {
      "cell_type": "code",
      "source": [
        "print(sentences[8])\n",
        "print(pos_tags[8])"
      ],
      "metadata": {
        "colab": {
          "base_uri": "https://localhost:8080/"
        },
        "id": "FSzNFGkl1Q66",
        "outputId": "7909d4af-214e-44c4-8ed3-3dbcbe4f7304"
      },
      "execution_count": 10,
      "outputs": [
        {
          "output_type": "stream",
          "name": "stdout",
          "text": [
            "['We', \"'re\", 'talking', 'about', 'years', 'ago', 'before', 'anyone', 'heard', 'of', 'asbestos', 'having', 'any', 'questionable', 'properties', '.']\n",
            "['PRP', 'VBP', 'VBG', 'IN', 'NNS', 'IN', 'IN', 'NN', 'VBD', 'IN', 'NN', 'VBG', 'DT', 'JJ', 'NNS', '.']\n"
          ]
        }
      ]
    },
    {
      "cell_type": "code",
      "source": [
        "print('샘플의 최대 길이: %d' % max(len(l) for l in sentences))\n",
        "print('샘플의 평균 길이: %f' % (sum(map(len, sentences))/len(sentences)))\n",
        "plt.hist([len(s) for s in sentences], bins=50)\n",
        "plt.xlabel('length of samples')\n",
        "plt.ylabel('number of samples')\n",
        "plt.show()"
      ],
      "metadata": {
        "colab": {
          "base_uri": "https://localhost:8080/",
          "height": 320
        },
        "id": "ngb2cIdB2igM",
        "outputId": "31c9bf2c-5717-400d-95a3-c1dcc74dedcb"
      },
      "execution_count": 11,
      "outputs": [
        {
          "output_type": "stream",
          "name": "stdout",
          "text": [
            "샘플의 최대 길이: 271\n",
            "샘플의 평균 길이: 25.722024\n"
          ]
        },
        {
          "output_type": "display_data",
          "data": {
            "image/png": "[encoded data removed]",
            "text/plain": [
              "<Figure size 432x288 with 1 Axes>"
            ]
          },
          "metadata": {
            "needs_background": "light"
          }
        }
      ]
    },
    {
      "cell_type": "code",
      "source": [
        "def tokenize(samples):\n",
        "  tokenizer = Tokenizer()\n",
        "  tokenizer.fit_on_texts(samples)\n",
        "  return tokenizer"
      ],
      "metadata": {
        "id": "CcScOpuZ257i"
      },
      "execution_count": 12,
      "outputs": []
    },
    {
      "cell_type": "code",
      "source": [
        "src_tokenizer = tokenize(sentences)\n",
        "tar_tokenizer = tokenize(pos_tags)"
      ],
      "metadata": {
        "id": "WRwgVolG3Cgz"
      },
      "execution_count": 13,
      "outputs": []
    },
    {
      "cell_type": "code",
      "source": [
        "vocab_size = len(src_tokenizer.word_index) + 1\n",
        "tag_size = len(tar_tokenizer.word_index) + 1\n",
        "print(f'단어 집합의 크기: {vocab_size}')\n",
        "print(f'태깅 정보 집합의 크기: {tag_size}')"
      ],
      "metadata": {
        "colab": {
          "base_uri": "https://localhost:8080/"
        },
        "id": "iUow4DDS3J64",
        "outputId": "4644c41d-f555-40c4-dd66-9fd7c6b4d654"
      },
      "execution_count": 14,
      "outputs": [
        {
          "output_type": "stream",
          "name": "stdout",
          "text": [
            "단어 집합의 크기: 11388\n",
            "태깅 정보 집합의 크기: 47\n"
          ]
        }
      ]
    },
    {
      "cell_type": "code",
      "source": [
        "X_train = src_tokenizer.texts_to_sequences(sentences)\n",
        "y_train = tar_tokenizer.texts_to_sequences(pos_tags)"
      ],
      "metadata": {
        "id": "nXMlwLFT3WJX"
      },
      "execution_count": 16,
      "outputs": []
    },
    {
      "cell_type": "code",
      "source": [
        "print(X_train[:2])\n",
        "print(y_train[:2])"
      ],
      "metadata": {
        "colab": {
          "base_uri": "https://localhost:8080/"
        },
        "id": "kudODs_J3c5P",
        "outputId": "e15c7461-6309-4619-a541-7e1400be1e30"
      },
      "execution_count": 17,
      "outputs": [
        {
          "output_type": "stream",
          "name": "stdout",
          "text": [
            "[[5601, 3746, 1, 2024, 86, 331, 1, 46, 2405, 2, 131, 27, 6, 2025, 332, 459, 2026, 3], [31, 3746, 20, 177, 4, 5602, 2915, 1, 2, 2916, 637, 147, 3]]\n",
            "[[3, 3, 8, 10, 6, 7, 8, 21, 13, 4, 1, 2, 4, 7, 1, 3, 10, 9], [3, 3, 17, 1, 2, 3, 3, 8, 4, 3, 19, 1, 9]]\n"
          ]
        }
      ]
    },
    {
      "cell_type": "code",
      "source": [
        "max_len = 150\n",
        "X_train = pad_sequences(X_train, padding='post', maxlen=max_len)\n",
        "y_train = pad_sequences(y_train, padding='post', maxlen=max_len)"
      ],
      "metadata": {
        "id": "3RDJhuJq3gEG"
      },
      "execution_count": 18,
      "outputs": []
    },
    {
      "cell_type": "code",
      "source": [
        "X_train, X_test, y_train, y_test = train_test_split(X_train, y_train, test_size=.2, random_state=777)"
      ],
      "metadata": {
        "id": "bJ5I8joB4-KG"
      },
      "execution_count": 19,
      "outputs": []
    },
    {
      "cell_type": "code",
      "source": [
        "print('훈련 샘플 문장의 크기 : {}'.format(X_train.shape))\n",
        "print('훈련 샘플 레이블의 크기 : {}'.format(y_train.shape))\n",
        "print('테스트 샘플 문장의 크기 : {}'.format(X_test.shape))\n",
        "print('테스트 샘플 레이블의 크기 : {}'.format(y_test.shape))"
      ],
      "metadata": {
        "colab": {
          "base_uri": "https://localhost:8080/"
        },
        "id": "JJYgZpIv5AIX",
        "outputId": "7d0657ef-481b-4c1a-b7d4-0bb49a651db6"
      },
      "execution_count": 20,
      "outputs": [
        {
          "output_type": "stream",
          "name": "stdout",
          "text": [
            "훈련 샘플 문장의 크기 : (3131, 150)\n",
            "훈련 샘플 레이블의 크기 : (3131, 150)\n",
            "테스트 샘플 문장의 크기 : (783, 150)\n",
            "테스트 샘플 레이블의 크기 : (783, 150)\n"
          ]
        }
      ]
    },
    {
      "cell_type": "markdown",
      "source": [
        "## 양방향 LSTM(Bi-directional LSTM)으로 POS Tagger 만들기"
      ],
      "metadata": {
        "id": "wjIfSn_L5C-n"
      }
    },
    {
      "cell_type": "code",
      "source": [
        "from tensorflow.keras.models import Sequential\n",
        "from tensorflow.keras.layers import Dense, LSTM, InputLayer, Bidirectional, TimeDistributed, Embedding\n",
        "from tensorflow.keras.optimizers import Adam\n",
        "\n",
        "embedding_dim = 128\n",
        "hidden_units = 128\n",
        "\n",
        "model = Sequential()\n",
        "model.add(Embedding(vocab_size, embedding_dim, mask_zero=True))\n",
        "model.add(Bidirectional(LSTM(hidden_units, return_sequences=True)))\n",
        "model.add(TimeDistributed(Dense(tag_size, activation=('softmax'))))\n",
        "\n",
        "model.compile(loss='sparse_categorical_crossentropy', optimizer=Adam(0.001), metrics=['accuracy'])\n",
        "model.fit(X_train, y_train, batch_size=128, epochs=7, validation_data=(X_test, y_test))"
      ],
      "metadata": {
        "colab": {
          "base_uri": "https://localhost:8080/"
        },
        "id": "An7udnYR5CU_",
        "outputId": "8aed9f81-51ca-43a4-ee25-f69c02352681"
      },
      "execution_count": 22,
      "outputs": [
        {
          "output_type": "stream",
          "name": "stdout",
          "text": [
            "Epoch 1/7\n",
            "25/25 [==============================] - 58s 2s/step - loss: 0.5923 - accuracy: 0.1406 - val_loss: 0.5170 - val_accuracy: 0.1725\n",
            "Epoch 2/7\n",
            "25/25 [==============================] - 35s 1s/step - loss: 0.5041 - accuracy: 0.1862 - val_loss: 0.4814 - val_accuracy: 0.2273\n",
            "Epoch 3/7\n",
            "25/25 [==============================] - 33s 1s/step - loss: 0.4559 - accuracy: 0.3584 - val_loss: 0.4080 - val_accuracy: 0.4400\n",
            "Epoch 4/7\n",
            "25/25 [==============================] - 33s 1s/step - loss: 0.3506 - accuracy: 0.5020 - val_loss: 0.2848 - val_accuracy: 0.5773\n",
            "Epoch 5/7\n",
            "25/25 [==============================] - 33s 1s/step - loss: 0.2303 - accuracy: 0.6815 - val_loss: 0.1797 - val_accuracy: 0.7606\n",
            "Epoch 6/7\n",
            "25/25 [==============================] - 32s 1s/step - loss: 0.1345 - accuracy: 0.8389 - val_loss: 0.1087 - val_accuracy: 0.8727\n",
            "Epoch 7/7\n",
            "25/25 [==============================] - 34s 1s/step - loss: 0.0772 - accuracy: 0.9146 - val_loss: 0.0752 - val_accuracy: 0.8988\n"
          ]
        },
        {
          "output_type": "execute_result",
          "data": {
            "text/plain": [
              "<keras.callbacks.History at 0x7f6a30bfae90>"
            ]
          },
          "metadata": {},
          "execution_count": 22
        }
      ]
    },
    {
      "cell_type": "code",
      "source": [
        "print('\\n테스트 정확도: %.4f' % (model.evaluate(X_test, y_test)[1]))"
      ],
      "metadata": {
        "colab": {
          "base_uri": "https://localhost:8080/"
        },
        "id": "ClDqgueK7B-W",
        "outputId": "44ff4b3e-09f3-4f02-8438-e0db1758d11d"
      },
      "execution_count": 23,
      "outputs": [
        {
          "output_type": "stream",
          "name": "stdout",
          "text": [
            "25/25 [==============================] - 4s 170ms/step - loss: 0.0752 - accuracy: 0.8988\n",
            "\n",
            "테스트 정확도: 0.8988\n"
          ]
        }
      ]
    },
    {
      "cell_type": "code",
      "source": [
        "index_to_word = src_tokenizer.index_word\n",
        "index_to_tag = tar_tokenizer.index_word\n",
        "\n",
        "i = 10\n",
        "y_predicated = model.predict(np.array([X_test[i]]))\n",
        "y_predicated = np.argmax(y_predicated, axis=-1)\n",
        "\n",
        "print(f'{\"단어\":15}|{\"실제값\":5}|{\"예측값\"}')\n",
        "print(35 * \"-\")\n",
        "\n",
        "for word, tag, pred in zip(X_test[i], y_test[i], y_predicated[0]):\n",
        "  if word != 0:\n",
        "    print(f'{index_to_word[word]:17} {index_to_tag[tag].upper():7} {index_to_tag[pred].upper()}')"
      ],
      "metadata": {
        "colab": {
          "base_uri": "https://localhost:8080/"
        },
        "id": "rJwEkHtN7WRw",
        "outputId": "159a23f2-602b-4ad3-b9ad-9c8480359115"
      },
      "execution_count": 25,
      "outputs": [
        {
          "output_type": "stream",
          "name": "stdout",
          "text": [
            "단어             |실제값  |예측값\n",
            "-----------------------------------\n",
            "in                IN      IN\n",
            "addition          NN      NN\n",
            ",                 ,       ,\n",
            "buick             NNP     NNP\n",
            "is                VBZ     VBZ\n",
            "a                 DT      DT\n",
            "relatively        RB      RB\n",
            "respected         VBN     VBN\n",
            "nameplate         NN      NN\n",
            "among             IN      IN\n",
            "american          NNP     NNP\n",
            "express           NNP     NNP\n",
            "card              NN      NN\n",
            "holders           NNS     NNS\n",
            ",                 ,       ,\n",
            "says              VBZ     VBZ\n",
            "0                 -NONE-  -NONE-\n",
            "*t*-1             -NONE-  -NONE-\n",
            "an                DT      DT\n",
            "american          NNP     NNP\n",
            "express           NNP     NNP\n",
            "spokeswoman       NN      NN\n",
            ".                 .       .\n"
          ]
        }
      ]
    }
  ]
}